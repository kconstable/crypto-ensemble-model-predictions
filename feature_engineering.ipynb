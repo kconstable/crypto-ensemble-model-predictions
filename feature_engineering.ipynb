{
  "nbformat": 4,
  "nbformat_minor": 0,
  "metadata": {
    "colab": {
      "name": "feature_engineering.ipynb",
      "provenance": [],
      "collapsed_sections": [],
      "toc_visible": true,
      "authorship_tag": "ABX9TyN83sn+fiqyVdfImAPom8Ay",
      "include_colab_link": true
    },
    "kernelspec": {
      "name": "python3",
      "display_name": "Python 3"
    },
    "language_info": {
      "name": "python"
    }
  },
  "cells": [
    {
      "cell_type": "markdown",
      "metadata": {
        "id": "view-in-github",
        "colab_type": "text"
      },
      "source": [
        "<a href=\"https://colab.research.google.com/github/kconstable/crypto-ensemble-model-predictions/blob/main/feature_engineering.ipynb\" target=\"_parent\"><img src=\"https://colab.research.google.com/assets/colab-badge.svg\" alt=\"Open In Colab\"/></a>"
      ]
    },
    {
      "cell_type": "markdown",
      "metadata": {
        "id": "_ysluZIEbcmb"
      },
      "source": [
        "# Import Libraries"
      ]
    },
    {
      "cell_type": "code",
      "metadata": {
        "colab": {
          "base_uri": "https://localhost:8080/"
        },
        "id": "im2-MD4caSpY",
        "outputId": "3de04803-5710-4662-8d31-b92ecb0af459"
      },
      "source": [
        "import pandas as pd\n",
        "import numpy as np\n",
        "import requests\n",
        "import time\n",
        "import pickle\n",
        "\n",
        "from datetime import date, timedelta,datetime\n",
        "\n",
        "import plotly.graph_objects as go\n",
        "from plotly.subplots import make_subplots\n",
        "\n",
        "from sklearn.ensemble import RandomForestRegressor\n",
        "from sklearn.feature_selection import RFE\n",
        "\n",
        "from google.colab import files\n",
        "from google.colab import drive\n",
        "drive.mount('/content/drive')"
      ],
      "execution_count": 1,
      "outputs": [
        {
          "output_type": "stream",
          "name": "stdout",
          "text": [
            "Mounted at /content/drive\n"
          ]
        }
      ]
    },
    {
      "cell_type": "code",
      "metadata": {
        "colab": {
          "base_uri": "https://localhost:8080/"
        },
        "id": "F2eAgNDWbGrc",
        "outputId": "1c6e85ce-dead-47c3-8b45-8c5331553697"
      },
      "source": [
        "# load saved market data\n",
        "ticker = 'BTC'\n",
        "df = pd.read_pickle(f'/content/drive/MyDrive/Colab Notebooks/capstone2/data/{ticker}_market_data.pickle')\n",
        "print(f\"\\n{ticker}\")\n",
        "print(\"=\"*60)\n",
        "print(f\"{ticker}-all features: \",df.shape)"
      ],
      "execution_count": 4,
      "outputs": [
        {
          "output_type": "stream",
          "name": "stdout",
          "text": [
            "\n",
            "BTC\n",
            "============================================================\n",
            "BTC-all features:  (2125, 66)\n"
          ]
        }
      ]
    },
    {
      "cell_type": "markdown",
      "metadata": {
        "id": "fJKagHS4bbAl"
      },
      "source": [
        "# Create Lag Features\n",
        "The features may have more influence if they are lagged vs current.  For example, the unemployment rate from 40 days ago may influence the price to a greater extent than the current unemployment rate.  \n",
        "\n",
        "To explore this possibility, the correlation between closing prices and current/lagged features are calculated and compared.  The number of days lagged was determined iteratively until the correlation with the largest magnitude was found.\n",
        "\n",
        "The calc_optimal_feature_lags function calculates the correlation between each feature and the closing price. It loops over lags from zero days to 60 days and returns a list of features with higher higher correlations when lagged. \n",
        "\n",
        "The shift_features function adds a lagged version of the input features to the features data frame.\n",
        "\n",
        "RFE is then used to select from all availble features (current and lagged) to find the most influential features to be included in the LSTM model."
      ]
    },
    {
      "cell_type": "code",
      "metadata": {
        "id": "iiGnKdf_blpf"
      },
      "source": [
        "def calc_optimal_feature_lags(df,features_to_lag,lags):\n",
        "  \"\"\"\n",
        "  Calculates the correlation between each feature and the closing price over a series of lags\n",
        "  Inputs:\n",
        "    df: A data frame of feartures.  Expects 'close' price to be included\n",
        "    features_to_lag: A list of features to shift by each lag in lags\n",
        "    lags: A list of lags (in days)\n",
        "  Outputs:\n",
        "    A dictionary of {feature name:lag (in days)}. Only returns features with \n",
        "    higher correlations with lags\n",
        "  \"\"\"\n",
        "  # get a copy of the df\n",
        "  dff = df.copy()\n",
        "\n",
        "  # dict to store the optimal lag for each feature\n",
        "  d = {}\n",
        "  \n",
        "  # loop each feature, each lag\n",
        "  for feature in features_to_lag:\n",
        "    # maximum abs correlation with close price, and the associated lag\n",
        "    # reset after each feature\n",
        "    max_corr = 0\n",
        "    max_lag = 0\n",
        "    for lag in lags:\n",
        "      if feature != 'close':\n",
        "        # name of shifted column: feature_shift_lag\n",
        "        shift = f\"_shift_{str(lag)}\"\n",
        "\n",
        "        # shift the feature by the lag,join with dff\n",
        "        tshift=dff[feature].shift(lag)\n",
        "        dff =dff.join(tshift,how='left',rsuffix=shift)\n",
        "\n",
        "        # calc the corr with the close price\n",
        "        corr = dff[['close',feature+shift]].corr()[feature+shift]['close']\n",
        "\n",
        "        # update the max abs corr and associated lag\n",
        "        if abs(corr)>max_corr:\n",
        "          max_corr = corr\n",
        "          max_lag = lag\n",
        "    # save the max abs corr and associated lag\n",
        "    if max_lag <0:\n",
        "      d[feature] = max_lag\n",
        "\n",
        "  return d"
      ],
      "execution_count": 5,
      "outputs": []
    },
    {
      "cell_type": "code",
      "metadata": {
        "id": "LjONek7Wbowj"
      },
      "source": [
        "def shift_features(df,features_shift):\n",
        "  \"\"\"\n",
        "  Shifts features by time periods to convert them to lagged indicators\n",
        "  Input:\n",
        "    df: dataframe of features\n",
        "    features_shift: dictionary  of {feature:period shift}\n",
        "  Output:\n",
        "    df: original dataframe + the shifted features\n",
        "  \"\"\"\n",
        "  dff = df.copy()\n",
        "  for feature,shift in features_shift.items():\n",
        "    t_shift = pd.DataFrame(dff[feature].shift(periods=shift))\n",
        "    dff =dff.join(t_shift,how='left',rsuffix='_shift')\n",
        "\n",
        "  # remove nan introducted with lag features\n",
        "  dff.dropna(how='any',inplace=True)\n",
        "\n",
        "  return dff"
      ],
      "execution_count": 6,
      "outputs": []
    },
    {
      "cell_type": "code",
      "metadata": {
        "id": "C0ihTBCjbwzI"
      },
      "source": [
        "def plot_corr(df,features,title):\n",
        "  \"\"\"\n",
        "  Plots correlations in a heatmap\n",
        "  Input: \n",
        "    df: a dataframe of features to plot\n",
        "  \"\"\"\n",
        "    \n",
        "  # calculate correlations\n",
        "  cm =df[features].corr()\n",
        "\n",
        "  # plot a heatmap of correlations\n",
        "  fig = go.Figure()\n",
        "  fig.add_trace(go.Heatmap(\n",
        "        z = cm,\n",
        "        x = cm.columns.values,\n",
        "        y = cm.columns.values,\n",
        "        # colorscale = 'Bluyl'\n",
        "        colorscale = 'YlOrRd'\n",
        "      )\n",
        "  )\n",
        "  fig.update_layout(\n",
        "      title_text=f\"Feature Correlations:{title}\", \n",
        "      title_x=0.5, \n",
        "      width=600, \n",
        "      height=600,\n",
        "      yaxis_autorange='reversed',\n",
        "      template = 'plotly_white'\n",
        "  )\n",
        "\n",
        "  fig.show()"
      ],
      "execution_count": 18,
      "outputs": []
    },
    {
      "cell_type": "markdown",
      "metadata": {
        "id": "_6gd8CJEg6BZ"
      },
      "source": [
        "## Economic Indicators"
      ]
    },
    {
      "cell_type": "code",
      "metadata": {
        "colab": {
          "base_uri": "https://localhost:8080/",
          "height": 634
        },
        "id": "t-5jLxcmg8Xj",
        "outputId": "bde7588e-fe54-4eec-c9ad-cb484d052e17"
      },
      "source": [
        "# economic indicators\n",
        "features_to_lag = ['gdp','nfp','unemployment','cs','infl','ir','yield3m','yield5y','yield10y','yield30y']\n",
        "\n",
        "# try shifting from zero to -60 days prior\n",
        "lags = list(range(0,-70,-10))\n",
        "\n",
        "feature_shifts =calc_optimal_feature_lags(df,features_to_lag,lags)\n",
        "print(feature_shifts)\n",
        "\n",
        "# add the optimal feature lags\n",
        "features_to_lag.insert(0,'close')\n",
        "dff = shift_features(df[features_to_lag],feature_shifts)\n",
        "\n",
        "# plot corr\n",
        "plot_corr(dff,dff.columns,'Economic Indicators')\n"
      ],
      "execution_count": 39,
      "outputs": [
        {
          "output_type": "stream",
          "name": "stdout",
          "text": [
            "{'gdp': -60, 'nfp': -60, 'cs': -60, 'infl': -60, 'ir': -60, 'yield3m': -60, 'yield5y': -60, 'yield10y': -60, 'yield30y': -60}\n"
          ]
        },
        {
          "output_type": "display_data",
          "data": {
            "text/html": [
              "<html>\n",
              "<head><meta charset=\"utf-8\" /></head>\n",
              "<body>\n",
              "    <div>\n",
              "            <script src=\"https://cdnjs.cloudflare.com/ajax/libs/mathjax/2.7.5/MathJax.js?config=TeX-AMS-MML_SVG\"></script><script type=\"text/javascript\">if (window.MathJax) {MathJax.Hub.Config({SVG: {font: \"STIX-Web\"}});}</script>\n",
              "                <script type=\"text/javascript\">window.PlotlyConfig = {MathJaxConfig: 'local'};</script>\n",
              "        <script src=\"https://cdn.plot.ly/plotly-latest.min.js\"></script>    \n",
              "            <div id=\"704254df-7722-49f0-9431-15a24c7f8d8a\" class=\"plotly-graph-div\" style=\"height:600px; width:600px;\"></div>\n",
              "            <script type=\"text/javascript\">\n",
              "                \n",
              "                    window.PLOTLYENV=window.PLOTLYENV || {};\n",
              "                    \n",
              "                if (document.getElementById(\"704254df-7722-49f0-9431-15a24c7f8d8a\")) {\n",
              "                    Plotly.newPlot(\n",
              "                        '704254df-7722-49f0-9431-15a24c7f8d8a',\n",
              "                        [{\"colorscale\": [[0.0, \"rgb(255,255,204)\"], [0.125, \"rgb(255,237,160)\"], [0.25, \"rgb(254,217,118)\"], [0.375, \"rgb(254,178,76)\"], [0.5, \"rgb(253,141,60)\"], [0.625, \"rgb(252,78,42)\"], [0.75, \"rgb(227,26,28)\"], [0.875, \"rgb(189,0,38)\"], [1.0, \"rgb(128,0,38)\"]], \"type\": \"heatmap\", \"x\": [\"close\", \"gdp\", \"nfp\", \"unemployment\", \"cs\", \"infl\", \"ir\", \"yield3m\", \"yield5y\", \"yield10y\", \"yield30y\", \"gdp_shift\", \"nfp_shift\", \"cs_shift\", \"infl_shift\", \"ir_shift\", \"yield3m_shift\", \"yield5y_shift\", \"yield10y_shift\", \"yield30y_shift\"], \"y\": [\"close\", \"gdp\", \"nfp\", \"unemployment\", \"cs\", \"infl\", \"ir\", \"yield3m\", \"yield5y\", \"yield10y\", \"yield30y\", \"gdp_shift\", \"nfp_shift\", \"cs_shift\", \"infl_shift\", \"ir_shift\", \"yield3m_shift\", \"yield5y_shift\", \"yield10y_shift\", \"yield30y_shift\"], \"z\": [[1.0, 0.4594434916741927, -0.13035182868792777, 0.19192722132317053, -0.47335682753035285, 0.7163163826853816, -0.34461429878924327, -0.3337196687149298, -0.40001392281294007, -0.32554850243715583, -0.34395932750111835, 0.5231775438895856, -0.055359361239603735, -0.4839190673893934, 0.8470970435129399, -0.3618951760628068, -0.34973704022813196, -0.35157137054346976, -0.2808206621431427, -0.31356864051904093], [0.4594434916741927, 1.0, 0.5951900827771734, -0.2955195285579944, 0.017131499809410644, 0.3550113508285528, 0.33342072039693094, 0.3320978902488951, 0.05697905402979096, 0.008013812268416711, -0.1102643262767345, 0.6819979854629529, 0.40345132357354585, -0.06299436425412723, 0.31599240784797317, 0.27859741927314746, 0.27741819016826874, 0.03261446570254273, -0.017550608358625618, -0.13952520203117103], [-0.13035182868792777, 0.5951900827771734, 1.0, -0.8767619702524503, 0.729057352880805, -0.08740956129300398, 0.7620646884249459, 0.7345845871220698, 0.6363657778273537, 0.5881788881745689, 0.5117431752106278, 0.27137224937638504, 0.5959572767125582, 0.49686309256842864, -0.1862780699383946, 0.6861261862496916, 0.6665100806770691, 0.5443621144812223, 0.46659239584775464, 0.3655744211084291], [0.19192722132317053, -0.2955195285579944, -0.8767619702524503, 1.0, -0.8077818496178405, 0.14874207412126111, -0.6194265783917845, -0.5841270613104939, -0.679082889893112, -0.6976266208087338, -0.6992383601652536, -0.04878072120917774, -0.5571508152038048, -0.6281111106950069, 0.23555180405302653, -0.5831011262224439, -0.5586299207356288, -0.6299752620356226, -0.6172290348260991, -0.589271110074451], [-0.47335682753035285, 0.017131499809410644, 0.729057352880805, -0.8077818496178405, 1.0, -0.43853776271971684, 0.7103869719081854, 0.6963774185723277, 0.835599431862743, 0.8283349907610842, 0.8144657921677567, -0.16994281706838207, 0.48428311503580873, 0.7505813407967996, -0.45245339604503176, 0.6974092657978014, 0.6814842801640592, 0.7343493467179468, 0.6807422664301132, 0.6359248178099203], [0.7163163826853816, 0.3550113508285528, -0.08740956129300398, 0.14874207412126111, -0.43853776271971684, 1.0, -0.2677209380099515, -0.24898968635695984, -0.23750903696952064, -0.1749946205013063, -0.19392538428133058, 0.5324025007930641, 0.09245516055373201, -0.4648461212614947, 0.8131279641922438, -0.23469525169505764, -0.22437906328317955, -0.19280490420601273, -0.15890354255061445, -0.2005454356091543], [-0.34461429878924327, 0.33342072039693094, 0.7620646884249459, -0.6194265783917845, 0.7103869719081854, -0.2677209380099515, 1.0, 0.9900967847960033, 0.8095175132852446, 0.7077059442189798, 0.5851335827228832, 0.24434012784509504, 0.642170534821025, 0.6202744341579275, -0.38449506650177795, 0.94062291398005, 0.9306062732634373, 0.6819359854141623, 0.5594598335262936, 0.4378877875775189], [-0.3337196687149298, 0.3320978902488951, 0.7345845871220698, -0.5841270613104939, 0.6963774185723277, -0.24898968635695984, 0.9900967847960033, 1.0, 0.8338624515383583, 0.7310478930562724, 0.5992522808881081, 0.25376343198289153, 0.6417245870868182, 0.6190819690882425, -0.3691082581876873, 0.9539151377882684, 0.9496218552837846, 0.7114696125322838, 0.5903621042127206, 0.46133611721845497], [-0.40001392281294007, 0.05697905402979096, 0.6363657778273537, -0.679082889893112, 0.835599431862743, -0.23750903696952064, 0.8095175132852446, 0.8338624515383583, 1.0, 0.9781285992648033, 0.9106944579440983, -0.012411847001411189, 0.6127683475555944, 0.7785807232336325, -0.32068575708408315, 0.8805628531063721, 0.8895403945657282, 0.9371678828194574, 0.8820139807836566, 0.8044179033552202], [-0.32554850243715583, 0.008013812268416711, 0.5881788881745689, -0.6976266208087338, 0.8283349907610842, -0.1749946205013063, 0.7077059442189798, 0.7310478930562724, 0.9781285992648033, 1.0, 0.9709656625921917, -0.04088546091958951, 0.5994912061308639, 0.7786722549268904, -0.2306355410096468, 0.805956310094365, 0.8100697186588626, 0.9326364994794445, 0.9125089903304344, 0.8639411628100693], [-0.34395932750111835, -0.1102643262767345, 0.5117431752106278, -0.6992383601652536, 0.8144657921677567, -0.19392538428133058, 0.5851335827228832, 0.5992522808881081, 0.9106944579440983, 0.9709656625921917, 1.0, -0.13279198072049128, 0.554897570477228, 0.7845173690367545, -0.23333701173665258, 0.7017446317715254, 0.6930092523881399, 0.8786695342500751, 0.8907056080955627, 0.8885596641474326], [0.5231775438895856, 0.6819979854629529, 0.27137224937638504, -0.04878072120917774, -0.16994281706838207, 0.5324025007930641, 0.24434012784509504, 0.25376343198289153, -0.012411847001411189, -0.04088546091958951, -0.13279198072049128, 1.0, 0.5676988375991135, -0.06943650774633038, 0.40263565697594117, 0.2512286635803994, 0.24796915288436058, 0.013916973439518972, -0.018983059791753607, -0.11990671358107209], [-0.055359361239603735, 0.40345132357354585, 0.5959572767125582, -0.5571508152038048, 0.48428311503580873, 0.09245516055373201, 0.642170534821025, 0.6417245870868182, 0.6127683475555944, 0.5994912061308639, 0.554897570477228, 0.5676988375991135, 1.0, 0.6670510866608872, -0.06892385283674982, 0.7328868702358264, 0.7046027437885546, 0.6293751483345897, 0.5904642873001055, 0.5272898240898668], [-0.4839190673893934, -0.06299436425412723, 0.49686309256842864, -0.6281111106950069, 0.7505813407967996, -0.4648461212614947, 0.6202744341579275, 0.6190819690882425, 0.7785807232336325, 0.7786722549268904, 0.7845173690367545, -0.06943650774633038, 0.6670510866608872, 1.0, -0.5501390397365739, 0.7241451706477421, 0.711767990510126, 0.8151660097360415, 0.802870351358581, 0.7996160868694285], [0.8470970435129399, 0.31599240784797317, -0.1862780699383946, 0.23555180405302653, -0.45245339604503176, 0.8131279641922438, -0.38449506650177795, -0.3691082581876873, -0.32068575708408315, -0.2306355410096468, -0.23333701173665258, 0.40263565697594117, -0.06892385283674982, -0.5501390397365739, 1.0, -0.3396196769009069, -0.3238874484387082, -0.27500387625549066, -0.21025600329494074, -0.2336229689237939], [-0.3618951760628068, 0.27859741927314746, 0.6861261862496916, -0.5831011262224439, 0.6974092657978014, -0.23469525169505764, 0.94062291398005, 0.9539151377882684, 0.8805628531063721, 0.805956310094365, 0.7017446317715254, 0.2512286635803994, 0.7328868702358264, 0.7241451706477421, -0.3396196769009069, 1.0, 0.9903435683572149, 0.8157351921587602, 0.7189791654531171, 0.6138032153523242], [-0.34973704022813196, 0.27741819016826874, 0.6665100806770691, -0.5586299207356288, 0.6814842801640592, -0.22437906328317955, 0.9306062732634373, 0.9496218552837846, 0.8895403945657282, 0.8100697186588626, 0.6930092523881399, 0.24796915288436058, 0.7046027437885546, 0.711767990510126, -0.3238874484387082, 0.9903435683572149, 1.0, 0.8405093303096173, 0.7430251357392592, 0.6291699107196229], [-0.35157137054346976, 0.03261446570254273, 0.5443621144812223, -0.6299752620356226, 0.7343493467179468, -0.19280490420601273, 0.6819359854141623, 0.7114696125322838, 0.9371678828194574, 0.9326364994794445, 0.8786695342500751, 0.013916973439518972, 0.6293751483345897, 0.8151660097360415, -0.27500387625549066, 0.8157351921587602, 0.8405093303096173, 1.0, 0.9791375757899394, 0.9188535042412326], [-0.2808206621431427, -0.017550608358625618, 0.46659239584775464, -0.6172290348260991, 0.6807422664301132, -0.15890354255061445, 0.5594598335262936, 0.5903621042127206, 0.8820139807836566, 0.9125089903304344, 0.8907056080955627, -0.018983059791753607, 0.5904642873001055, 0.802870351358581, -0.21025600329494074, 0.7189791654531171, 0.7430251357392592, 0.9791375757899394, 1.0, 0.973993186533652], [-0.31356864051904093, -0.13952520203117103, 0.3655744211084291, -0.589271110074451, 0.6359248178099203, -0.2005454356091543, 0.4378877875775189, 0.46133611721845497, 0.8044179033552202, 0.8639411628100693, 0.8885596641474326, -0.11990671358107209, 0.5272898240898668, 0.7996160868694285, -0.2336229689237939, 0.6138032153523242, 0.6291699107196229, 0.9188535042412326, 0.973993186533652, 1.0]]}],\n",
              "                        {\"height\": 600, \"template\": {\"data\": {\"bar\": [{\"error_x\": {\"color\": \"#2a3f5f\"}, \"error_y\": {\"color\": \"#2a3f5f\"}, \"marker\": {\"line\": {\"color\": \"white\", \"width\": 0.5}}, \"type\": \"bar\"}], \"barpolar\": [{\"marker\": {\"line\": {\"color\": \"white\", \"width\": 0.5}}, \"type\": \"barpolar\"}], \"carpet\": [{\"aaxis\": {\"endlinecolor\": \"#2a3f5f\", \"gridcolor\": \"#C8D4E3\", \"linecolor\": \"#C8D4E3\", \"minorgridcolor\": \"#C8D4E3\", \"startlinecolor\": \"#2a3f5f\"}, \"baxis\": {\"endlinecolor\": \"#2a3f5f\", \"gridcolor\": \"#C8D4E3\", \"linecolor\": \"#C8D4E3\", \"minorgridcolor\": \"#C8D4E3\", \"startlinecolor\": \"#2a3f5f\"}, \"type\": \"carpet\"}], \"choropleth\": [{\"colorbar\": {\"outlinewidth\": 0, \"ticks\": \"\"}, \"type\": \"choropleth\"}], \"contour\": [{\"colorbar\": {\"outlinewidth\": 0, \"ticks\": \"\"}, \"colorscale\": [[0.0, \"#0d0887\"], [0.1111111111111111, \"#46039f\"], [0.2222222222222222, \"#7201a8\"], [0.3333333333333333, \"#9c179e\"], [0.4444444444444444, \"#bd3786\"], [0.5555555555555556, \"#d8576b\"], [0.6666666666666666, \"#ed7953\"], [0.7777777777777778, \"#fb9f3a\"], [0.8888888888888888, \"#fdca26\"], [1.0, \"#f0f921\"]], \"type\": \"contour\"}], \"contourcarpet\": [{\"colorbar\": {\"outlinewidth\": 0, \"ticks\": \"\"}, \"type\": \"contourcarpet\"}], \"heatmap\": [{\"colorbar\": {\"outlinewidth\": 0, \"ticks\": \"\"}, \"colorscale\": [[0.0, \"#0d0887\"], [0.1111111111111111, \"#46039f\"], [0.2222222222222222, \"#7201a8\"], [0.3333333333333333, \"#9c179e\"], [0.4444444444444444, \"#bd3786\"], [0.5555555555555556, \"#d8576b\"], [0.6666666666666666, \"#ed7953\"], [0.7777777777777778, \"#fb9f3a\"], [0.8888888888888888, \"#fdca26\"], [1.0, \"#f0f921\"]], \"type\": \"heatmap\"}], \"heatmapgl\": [{\"colorbar\": {\"outlinewidth\": 0, \"ticks\": \"\"}, \"colorscale\": [[0.0, \"#0d0887\"], [0.1111111111111111, \"#46039f\"], [0.2222222222222222, \"#7201a8\"], [0.3333333333333333, \"#9c179e\"], [0.4444444444444444, \"#bd3786\"], [0.5555555555555556, \"#d8576b\"], [0.6666666666666666, \"#ed7953\"], [0.7777777777777778, \"#fb9f3a\"], [0.8888888888888888, \"#fdca26\"], [1.0, \"#f0f921\"]], \"type\": \"heatmapgl\"}], \"histogram\": [{\"marker\": {\"colorbar\": {\"outlinewidth\": 0, \"ticks\": \"\"}}, \"type\": \"histogram\"}], \"histogram2d\": [{\"colorbar\": {\"outlinewidth\": 0, \"ticks\": \"\"}, \"colorscale\": [[0.0, \"#0d0887\"], [0.1111111111111111, \"#46039f\"], [0.2222222222222222, \"#7201a8\"], [0.3333333333333333, \"#9c179e\"], [0.4444444444444444, \"#bd3786\"], [0.5555555555555556, \"#d8576b\"], [0.6666666666666666, \"#ed7953\"], [0.7777777777777778, \"#fb9f3a\"], [0.8888888888888888, \"#fdca26\"], [1.0, \"#f0f921\"]], \"type\": \"histogram2d\"}], \"histogram2dcontour\": [{\"colorbar\": {\"outlinewidth\": 0, \"ticks\": \"\"}, \"colorscale\": [[0.0, \"#0d0887\"], [0.1111111111111111, \"#46039f\"], [0.2222222222222222, \"#7201a8\"], [0.3333333333333333, \"#9c179e\"], [0.4444444444444444, \"#bd3786\"], [0.5555555555555556, \"#d8576b\"], [0.6666666666666666, \"#ed7953\"], [0.7777777777777778, \"#fb9f3a\"], [0.8888888888888888, \"#fdca26\"], [1.0, \"#f0f921\"]], \"type\": \"histogram2dcontour\"}], \"mesh3d\": [{\"colorbar\": {\"outlinewidth\": 0, \"ticks\": \"\"}, \"type\": \"mesh3d\"}], \"parcoords\": [{\"line\": {\"colorbar\": {\"outlinewidth\": 0, \"ticks\": \"\"}}, \"type\": \"parcoords\"}], \"pie\": [{\"automargin\": true, \"type\": \"pie\"}], \"scatter\": [{\"marker\": {\"colorbar\": {\"outlinewidth\": 0, \"ticks\": \"\"}}, \"type\": \"scatter\"}], \"scatter3d\": [{\"line\": {\"colorbar\": {\"outlinewidth\": 0, \"ticks\": \"\"}}, \"marker\": {\"colorbar\": {\"outlinewidth\": 0, \"ticks\": \"\"}}, \"type\": \"scatter3d\"}], \"scattercarpet\": [{\"marker\": {\"colorbar\": {\"outlinewidth\": 0, \"ticks\": \"\"}}, \"type\": \"scattercarpet\"}], \"scattergeo\": [{\"marker\": {\"colorbar\": {\"outlinewidth\": 0, \"ticks\": \"\"}}, \"type\": \"scattergeo\"}], \"scattergl\": [{\"marker\": {\"colorbar\": {\"outlinewidth\": 0, \"ticks\": \"\"}}, \"type\": \"scattergl\"}], \"scattermapbox\": [{\"marker\": {\"colorbar\": {\"outlinewidth\": 0, \"ticks\": \"\"}}, \"type\": \"scattermapbox\"}], \"scatterpolar\": [{\"marker\": {\"colorbar\": {\"outlinewidth\": 0, \"ticks\": \"\"}}, \"type\": \"scatterpolar\"}], \"scatterpolargl\": [{\"marker\": {\"colorbar\": {\"outlinewidth\": 0, \"ticks\": \"\"}}, \"type\": \"scatterpolargl\"}], \"scatterternary\": [{\"marker\": {\"colorbar\": {\"outlinewidth\": 0, \"ticks\": \"\"}}, \"type\": \"scatterternary\"}], \"surface\": [{\"colorbar\": {\"outlinewidth\": 0, \"ticks\": \"\"}, \"colorscale\": [[0.0, \"#0d0887\"], [0.1111111111111111, \"#46039f\"], [0.2222222222222222, \"#7201a8\"], [0.3333333333333333, \"#9c179e\"], [0.4444444444444444, \"#bd3786\"], [0.5555555555555556, \"#d8576b\"], [0.6666666666666666, \"#ed7953\"], [0.7777777777777778, \"#fb9f3a\"], [0.8888888888888888, \"#fdca26\"], [1.0, \"#f0f921\"]], \"type\": \"surface\"}], \"table\": [{\"cells\": {\"fill\": {\"color\": \"#EBF0F8\"}, \"line\": {\"color\": \"white\"}}, \"header\": {\"fill\": {\"color\": \"#C8D4E3\"}, \"line\": {\"color\": \"white\"}}, \"type\": \"table\"}]}, \"layout\": {\"annotationdefaults\": {\"arrowcolor\": \"#2a3f5f\", \"arrowhead\": 0, \"arrowwidth\": 1}, \"coloraxis\": {\"colorbar\": {\"outlinewidth\": 0, \"ticks\": \"\"}}, \"colorscale\": {\"diverging\": [[0, \"#8e0152\"], [0.1, \"#c51b7d\"], [0.2, \"#de77ae\"], [0.3, \"#f1b6da\"], [0.4, \"#fde0ef\"], [0.5, \"#f7f7f7\"], [0.6, \"#e6f5d0\"], [0.7, \"#b8e186\"], [0.8, \"#7fbc41\"], [0.9, \"#4d9221\"], [1, \"#276419\"]], \"sequential\": [[0.0, \"#0d0887\"], [0.1111111111111111, \"#46039f\"], [0.2222222222222222, \"#7201a8\"], [0.3333333333333333, \"#9c179e\"], [0.4444444444444444, \"#bd3786\"], [0.5555555555555556, \"#d8576b\"], [0.6666666666666666, \"#ed7953\"], [0.7777777777777778, \"#fb9f3a\"], [0.8888888888888888, \"#fdca26\"], [1.0, \"#f0f921\"]], \"sequentialminus\": [[0.0, \"#0d0887\"], [0.1111111111111111, \"#46039f\"], [0.2222222222222222, \"#7201a8\"], [0.3333333333333333, \"#9c179e\"], [0.4444444444444444, \"#bd3786\"], [0.5555555555555556, \"#d8576b\"], [0.6666666666666666, \"#ed7953\"], [0.7777777777777778, \"#fb9f3a\"], [0.8888888888888888, \"#fdca26\"], [1.0, \"#f0f921\"]]}, \"colorway\": [\"#636efa\", \"#EF553B\", \"#00cc96\", \"#ab63fa\", \"#FFA15A\", \"#19d3f3\", \"#FF6692\", \"#B6E880\", \"#FF97FF\", \"#FECB52\"], \"font\": {\"color\": \"#2a3f5f\"}, \"geo\": {\"bgcolor\": \"white\", \"lakecolor\": \"white\", \"landcolor\": \"white\", \"showlakes\": true, \"showland\": true, \"subunitcolor\": \"#C8D4E3\"}, \"hoverlabel\": {\"align\": \"left\"}, \"hovermode\": \"closest\", \"mapbox\": {\"style\": \"light\"}, \"paper_bgcolor\": \"white\", \"plot_bgcolor\": \"white\", \"polar\": {\"angularaxis\": {\"gridcolor\": \"#EBF0F8\", \"linecolor\": \"#EBF0F8\", \"ticks\": \"\"}, \"bgcolor\": \"white\", \"radialaxis\": {\"gridcolor\": \"#EBF0F8\", \"linecolor\": \"#EBF0F8\", \"ticks\": \"\"}}, \"scene\": {\"xaxis\": {\"backgroundcolor\": \"white\", \"gridcolor\": \"#DFE8F3\", \"gridwidth\": 2, \"linecolor\": \"#EBF0F8\", \"showbackground\": true, \"ticks\": \"\", \"zerolinecolor\": \"#EBF0F8\"}, \"yaxis\": {\"backgroundcolor\": \"white\", \"gridcolor\": \"#DFE8F3\", \"gridwidth\": 2, \"linecolor\": \"#EBF0F8\", \"showbackground\": true, \"ticks\": \"\", \"zerolinecolor\": \"#EBF0F8\"}, \"zaxis\": {\"backgroundcolor\": \"white\", \"gridcolor\": \"#DFE8F3\", \"gridwidth\": 2, \"linecolor\": \"#EBF0F8\", \"showbackground\": true, \"ticks\": \"\", \"zerolinecolor\": \"#EBF0F8\"}}, \"shapedefaults\": {\"line\": {\"color\": \"#2a3f5f\"}}, \"ternary\": {\"aaxis\": {\"gridcolor\": \"#DFE8F3\", \"linecolor\": \"#A2B1C6\", \"ticks\": \"\"}, \"baxis\": {\"gridcolor\": \"#DFE8F3\", \"linecolor\": \"#A2B1C6\", \"ticks\": \"\"}, \"bgcolor\": \"white\", \"caxis\": {\"gridcolor\": \"#DFE8F3\", \"linecolor\": \"#A2B1C6\", \"ticks\": \"\"}}, \"title\": {\"x\": 0.05}, \"xaxis\": {\"automargin\": true, \"gridcolor\": \"#EBF0F8\", \"linecolor\": \"#EBF0F8\", \"ticks\": \"\", \"title\": {\"standoff\": 15}, \"zerolinecolor\": \"#EBF0F8\", \"zerolinewidth\": 2}, \"yaxis\": {\"automargin\": true, \"gridcolor\": \"#EBF0F8\", \"linecolor\": \"#EBF0F8\", \"ticks\": \"\", \"title\": {\"standoff\": 15}, \"zerolinecolor\": \"#EBF0F8\", \"zerolinewidth\": 2}}}, \"title\": {\"text\": \"Feature Correlations:Economic Indicators\", \"x\": 0.5}, \"width\": 600, \"yaxis\": {\"autorange\": \"reversed\"}},\n",
              "                        {\"responsive\": true}\n",
              "                    ).then(function(){\n",
              "                            \n",
              "var gd = document.getElementById('704254df-7722-49f0-9431-15a24c7f8d8a');\n",
              "var x = new MutationObserver(function (mutations, observer) {{\n",
              "        var display = window.getComputedStyle(gd).display;\n",
              "        if (!display || display === 'none') {{\n",
              "            console.log([gd, 'removed!']);\n",
              "            Plotly.purge(gd);\n",
              "            observer.disconnect();\n",
              "        }}\n",
              "}});\n",
              "\n",
              "// Listen for the removal of the full notebook cells\n",
              "var notebookContainer = gd.closest('#notebook-container');\n",
              "if (notebookContainer) {{\n",
              "    x.observe(notebookContainer, {childList: true});\n",
              "}}\n",
              "\n",
              "// Listen for the clearing of the current output cell\n",
              "var outputEl = gd.closest('.output');\n",
              "if (outputEl) {{\n",
              "    x.observe(outputEl, {childList: true});\n",
              "}}\n",
              "\n",
              "                        })\n",
              "                };\n",
              "                \n",
              "            </script>\n",
              "        </div>\n",
              "</body>\n",
              "</html>"
            ]
          },
          "metadata": {}
        }
      ]
    },
    {
      "cell_type": "markdown",
      "metadata": {
        "id": "gVE80BEwlAxQ"
      },
      "source": [
        "## Sentiment"
      ]
    },
    {
      "cell_type": "code",
      "metadata": {
        "colab": {
          "base_uri": "https://localhost:8080/",
          "height": 634
        },
        "id": "ZF1Ge5asjlY6",
        "outputId": "fc730d8b-4905-480d-d6ca-93de71d82a05"
      },
      "source": [
        "# sentiment \n",
        "features_to_lag = ['weighted_sentiment','ma_sentiment_10','ma_sentiment_20','ma_sentiment_40','news_count','ma_news_count','sentiment_title','ma_sentiment_title','idx_fear_greed','google_trends']\n",
        "\n",
        "# try shifting from zero to -60 days prior\n",
        "lags = list(range(0,-70,-10))\n",
        "\n",
        "feature_shifts =calc_optimal_feature_lags(df,features_to_lag,lags)\n",
        "print(feature_shifts)\n",
        "\n",
        "# add the optimal feature lags\n",
        "features_to_lag.insert(0,'close')\n",
        "dff = shift_features(df[features_to_lag],feature_shifts)\n",
        "\n",
        "# plot corr\n",
        "plot_corr(dff,dff.columns,'Sentiment')"
      ],
      "execution_count": 44,
      "outputs": [
        {
          "output_type": "stream",
          "name": "stdout",
          "text": [
            "{'sentiment_title': -60}\n"
          ]
        },
        {
          "output_type": "display_data",
          "data": {
            "text/html": [
              "<html>\n",
              "<head><meta charset=\"utf-8\" /></head>\n",
              "<body>\n",
              "    <div>\n",
              "            <script src=\"https://cdnjs.cloudflare.com/ajax/libs/mathjax/2.7.5/MathJax.js?config=TeX-AMS-MML_SVG\"></script><script type=\"text/javascript\">if (window.MathJax) {MathJax.Hub.Config({SVG: {font: \"STIX-Web\"}});}</script>\n",
              "                <script type=\"text/javascript\">window.PlotlyConfig = {MathJaxConfig: 'local'};</script>\n",
              "        <script src=\"https://cdn.plot.ly/plotly-latest.min.js\"></script>    \n",
              "            <div id=\"ef732164-c86d-4064-b1c0-bb88ba967fd7\" class=\"plotly-graph-div\" style=\"height:600px; width:600px;\"></div>\n",
              "            <script type=\"text/javascript\">\n",
              "                \n",
              "                    window.PLOTLYENV=window.PLOTLYENV || {};\n",
              "                    \n",
              "                if (document.getElementById(\"ef732164-c86d-4064-b1c0-bb88ba967fd7\")) {\n",
              "                    Plotly.newPlot(\n",
              "                        'ef732164-c86d-4064-b1c0-bb88ba967fd7',\n",
              "                        [{\"colorscale\": [[0.0, \"rgb(255,255,204)\"], [0.125, \"rgb(255,237,160)\"], [0.25, \"rgb(254,217,118)\"], [0.375, \"rgb(254,178,76)\"], [0.5, \"rgb(253,141,60)\"], [0.625, \"rgb(252,78,42)\"], [0.75, \"rgb(227,26,28)\"], [0.875, \"rgb(189,0,38)\"], [1.0, \"rgb(128,0,38)\"]], \"type\": \"heatmap\", \"x\": [\"close\", \"weighted_sentiment\", \"ma_sentiment_10\", \"ma_sentiment_20\", \"ma_sentiment_40\", \"news_count\", \"ma_news_count\", \"sentiment_title\", \"ma_sentiment_title\", \"idx_fear_greed\", \"google_trends\", \"sentiment_title_shift\"], \"y\": [\"close\", \"weighted_sentiment\", \"ma_sentiment_10\", \"ma_sentiment_20\", \"ma_sentiment_40\", \"news_count\", \"ma_news_count\", \"sentiment_title\", \"ma_sentiment_title\", \"idx_fear_greed\", \"google_trends\", \"sentiment_title_shift\"], \"z\": [[1.0, 0.04978432820347404, 0.16955771953354945, 0.2028836743110854, 0.22179386985036276, 0.24027232465264955, 0.5036757298645357, 0.08682833804574469, 0.1743480800229401, 0.40133524836184653, 0.7309816480805227, 0.06248657937822437], [0.04978432820347404, 1.0, 0.35182498354216407, 0.3026187269019278, 0.2557382270509037, 0.0680742978057733, 0.08597885076278489, 0.05524101117088902, 0.10061124383073616, 0.13596268485711765, 0.03936230587925127, -0.03580141548678079], [0.16955771953354945, 0.35182498354216407, 1.0, 0.8181715502977942, 0.6870814221192807, 0.10126655935895645, 0.23858694619352996, 0.08333791011694816, 0.19265550633998343, 0.3644455712647199, 0.11665270037053174, 0.035222178802082574], [0.2028836743110854, 0.3026187269019278, 0.8181715502977942, 1.0, 0.8677523540046799, 0.15104112668114222, 0.29000395205321805, 0.050052435002495115, 0.11519129913056353, 0.3713681093159187, 0.15328844831036764, 0.04838080455608432], [0.22179386985036276, 0.2557382270509037, 0.6870814221192807, 0.8677523540046799, 1.0, 0.13813174662116923, 0.3292537843875187, 0.050428902468816324, 0.10888118893369518, 0.3484428908359901, 0.1654194192648494, 0.02621422429607141], [0.24027232465264955, 0.0680742978057733, 0.10126655935895645, 0.15104112668114222, 0.13813174662116923, 1.0, 0.38719765422590463, 0.03393600707478561, 0.040584710519825415, 0.11832884815539264, 0.09944004540362816, 0.053405598446420746], [0.5036757298645357, 0.08597885076278489, 0.23858694619352996, 0.29000395205321805, 0.3292537843875187, 0.38719765422590463, 1.0, 0.06618610653215105, 0.10847915604564592, 0.2798508674829648, 0.32691600088612505, 0.12997036569811132], [0.08682833804574469, 0.05524101117088902, 0.08333791011694816, 0.050052435002495115, 0.050428902468816324, 0.03393600707478561, 0.06618610653215105, 1.0, 0.48320667374701454, 0.15324952856589366, 0.07859645673623777, 0.02963320999167756], [0.1743480800229401, 0.10061124383073616, 0.19265550633998343, 0.11519129913056353, 0.10888118893369518, 0.040584710519825415, 0.10847915604564592, 0.48320667374701454, 1.0, 0.29595675419758893, 0.1578214820358457, 0.04846851132809307], [0.40133524836184653, 0.13596268485711765, 0.3644455712647199, 0.3713681093159187, 0.3484428908359901, 0.11832884815539264, 0.2798508674829648, 0.15324952856589366, 0.29595675419758893, 1.0, 0.5112636516812135, 0.04752556407797825], [0.7309816480805227, 0.03936230587925127, 0.11665270037053174, 0.15328844831036764, 0.1654194192648494, 0.09944004540362816, 0.32691600088612505, 0.07859645673623777, 0.1578214820358457, 0.5112636516812135, 1.0, 0.05325098881171507], [0.06248657937822437, -0.03580141548678079, 0.035222178802082574, 0.04838080455608432, 0.02621422429607141, 0.053405598446420746, 0.12997036569811132, 0.02963320999167756, 0.04846851132809307, 0.04752556407797825, 0.05325098881171507, 1.0]]}],\n",
              "                        {\"height\": 600, \"template\": {\"data\": {\"bar\": [{\"error_x\": {\"color\": \"#2a3f5f\"}, \"error_y\": {\"color\": \"#2a3f5f\"}, \"marker\": {\"line\": {\"color\": \"white\", \"width\": 0.5}}, \"type\": \"bar\"}], \"barpolar\": [{\"marker\": {\"line\": {\"color\": \"white\", \"width\": 0.5}}, \"type\": \"barpolar\"}], \"carpet\": [{\"aaxis\": {\"endlinecolor\": \"#2a3f5f\", \"gridcolor\": \"#C8D4E3\", \"linecolor\": \"#C8D4E3\", \"minorgridcolor\": \"#C8D4E3\", \"startlinecolor\": \"#2a3f5f\"}, \"baxis\": {\"endlinecolor\": \"#2a3f5f\", \"gridcolor\": \"#C8D4E3\", \"linecolor\": \"#C8D4E3\", \"minorgridcolor\": \"#C8D4E3\", \"startlinecolor\": \"#2a3f5f\"}, \"type\": \"carpet\"}], \"choropleth\": [{\"colorbar\": {\"outlinewidth\": 0, \"ticks\": \"\"}, \"type\": \"choropleth\"}], \"contour\": [{\"colorbar\": {\"outlinewidth\": 0, \"ticks\": \"\"}, \"colorscale\": [[0.0, \"#0d0887\"], [0.1111111111111111, \"#46039f\"], [0.2222222222222222, \"#7201a8\"], [0.3333333333333333, \"#9c179e\"], [0.4444444444444444, \"#bd3786\"], [0.5555555555555556, \"#d8576b\"], [0.6666666666666666, \"#ed7953\"], [0.7777777777777778, \"#fb9f3a\"], [0.8888888888888888, \"#fdca26\"], [1.0, \"#f0f921\"]], \"type\": \"contour\"}], \"contourcarpet\": [{\"colorbar\": {\"outlinewidth\": 0, \"ticks\": \"\"}, \"type\": \"contourcarpet\"}], \"heatmap\": [{\"colorbar\": {\"outlinewidth\": 0, \"ticks\": \"\"}, \"colorscale\": [[0.0, \"#0d0887\"], [0.1111111111111111, \"#46039f\"], [0.2222222222222222, \"#7201a8\"], [0.3333333333333333, \"#9c179e\"], [0.4444444444444444, \"#bd3786\"], [0.5555555555555556, \"#d8576b\"], [0.6666666666666666, \"#ed7953\"], [0.7777777777777778, \"#fb9f3a\"], [0.8888888888888888, \"#fdca26\"], [1.0, \"#f0f921\"]], \"type\": \"heatmap\"}], \"heatmapgl\": [{\"colorbar\": {\"outlinewidth\": 0, \"ticks\": \"\"}, \"colorscale\": [[0.0, \"#0d0887\"], [0.1111111111111111, \"#46039f\"], [0.2222222222222222, \"#7201a8\"], [0.3333333333333333, \"#9c179e\"], [0.4444444444444444, \"#bd3786\"], [0.5555555555555556, \"#d8576b\"], [0.6666666666666666, \"#ed7953\"], [0.7777777777777778, \"#fb9f3a\"], [0.8888888888888888, \"#fdca26\"], [1.0, \"#f0f921\"]], \"type\": \"heatmapgl\"}], \"histogram\": [{\"marker\": {\"colorbar\": {\"outlinewidth\": 0, \"ticks\": \"\"}}, \"type\": \"histogram\"}], \"histogram2d\": [{\"colorbar\": {\"outlinewidth\": 0, \"ticks\": \"\"}, \"colorscale\": [[0.0, \"#0d0887\"], [0.1111111111111111, \"#46039f\"], [0.2222222222222222, \"#7201a8\"], [0.3333333333333333, \"#9c179e\"], [0.4444444444444444, \"#bd3786\"], [0.5555555555555556, \"#d8576b\"], [0.6666666666666666, \"#ed7953\"], [0.7777777777777778, \"#fb9f3a\"], [0.8888888888888888, \"#fdca26\"], [1.0, \"#f0f921\"]], \"type\": \"histogram2d\"}], \"histogram2dcontour\": [{\"colorbar\": {\"outlinewidth\": 0, \"ticks\": \"\"}, \"colorscale\": [[0.0, \"#0d0887\"], [0.1111111111111111, \"#46039f\"], [0.2222222222222222, \"#7201a8\"], [0.3333333333333333, \"#9c179e\"], [0.4444444444444444, \"#bd3786\"], [0.5555555555555556, \"#d8576b\"], [0.6666666666666666, \"#ed7953\"], [0.7777777777777778, \"#fb9f3a\"], [0.8888888888888888, \"#fdca26\"], [1.0, \"#f0f921\"]], \"type\": \"histogram2dcontour\"}], \"mesh3d\": [{\"colorbar\": {\"outlinewidth\": 0, \"ticks\": \"\"}, \"type\": \"mesh3d\"}], \"parcoords\": [{\"line\": {\"colorbar\": {\"outlinewidth\": 0, \"ticks\": \"\"}}, \"type\": \"parcoords\"}], \"pie\": [{\"automargin\": true, \"type\": \"pie\"}], \"scatter\": [{\"marker\": {\"colorbar\": {\"outlinewidth\": 0, \"ticks\": \"\"}}, \"type\": \"scatter\"}], \"scatter3d\": [{\"line\": {\"colorbar\": {\"outlinewidth\": 0, \"ticks\": \"\"}}, \"marker\": {\"colorbar\": {\"outlinewidth\": 0, \"ticks\": \"\"}}, \"type\": \"scatter3d\"}], \"scattercarpet\": [{\"marker\": {\"colorbar\": {\"outlinewidth\": 0, \"ticks\": \"\"}}, \"type\": \"scattercarpet\"}], \"scattergeo\": [{\"marker\": {\"colorbar\": {\"outlinewidth\": 0, \"ticks\": \"\"}}, \"type\": \"scattergeo\"}], \"scattergl\": [{\"marker\": {\"colorbar\": {\"outlinewidth\": 0, \"ticks\": \"\"}}, \"type\": \"scattergl\"}], \"scattermapbox\": [{\"marker\": {\"colorbar\": {\"outlinewidth\": 0, \"ticks\": \"\"}}, \"type\": \"scattermapbox\"}], \"scatterpolar\": [{\"marker\": {\"colorbar\": {\"outlinewidth\": 0, \"ticks\": \"\"}}, \"type\": \"scatterpolar\"}], \"scatterpolargl\": [{\"marker\": {\"colorbar\": {\"outlinewidth\": 0, \"ticks\": \"\"}}, \"type\": \"scatterpolargl\"}], \"scatterternary\": [{\"marker\": {\"colorbar\": {\"outlinewidth\": 0, \"ticks\": \"\"}}, \"type\": \"scatterternary\"}], \"surface\": [{\"colorbar\": {\"outlinewidth\": 0, \"ticks\": \"\"}, \"colorscale\": [[0.0, \"#0d0887\"], [0.1111111111111111, \"#46039f\"], [0.2222222222222222, \"#7201a8\"], [0.3333333333333333, \"#9c179e\"], [0.4444444444444444, \"#bd3786\"], [0.5555555555555556, \"#d8576b\"], [0.6666666666666666, \"#ed7953\"], [0.7777777777777778, \"#fb9f3a\"], [0.8888888888888888, \"#fdca26\"], [1.0, \"#f0f921\"]], \"type\": \"surface\"}], \"table\": [{\"cells\": {\"fill\": {\"color\": \"#EBF0F8\"}, \"line\": {\"color\": \"white\"}}, \"header\": {\"fill\": {\"color\": \"#C8D4E3\"}, \"line\": {\"color\": \"white\"}}, \"type\": \"table\"}]}, \"layout\": {\"annotationdefaults\": {\"arrowcolor\": \"#2a3f5f\", \"arrowhead\": 0, \"arrowwidth\": 1}, \"coloraxis\": {\"colorbar\": {\"outlinewidth\": 0, \"ticks\": \"\"}}, \"colorscale\": {\"diverging\": [[0, \"#8e0152\"], [0.1, \"#c51b7d\"], [0.2, \"#de77ae\"], [0.3, \"#f1b6da\"], [0.4, \"#fde0ef\"], [0.5, \"#f7f7f7\"], [0.6, \"#e6f5d0\"], [0.7, \"#b8e186\"], [0.8, \"#7fbc41\"], [0.9, \"#4d9221\"], [1, \"#276419\"]], \"sequential\": [[0.0, \"#0d0887\"], [0.1111111111111111, \"#46039f\"], [0.2222222222222222, \"#7201a8\"], [0.3333333333333333, \"#9c179e\"], [0.4444444444444444, \"#bd3786\"], [0.5555555555555556, \"#d8576b\"], [0.6666666666666666, \"#ed7953\"], [0.7777777777777778, \"#fb9f3a\"], [0.8888888888888888, \"#fdca26\"], [1.0, \"#f0f921\"]], \"sequentialminus\": [[0.0, \"#0d0887\"], [0.1111111111111111, \"#46039f\"], [0.2222222222222222, \"#7201a8\"], [0.3333333333333333, \"#9c179e\"], [0.4444444444444444, \"#bd3786\"], [0.5555555555555556, \"#d8576b\"], [0.6666666666666666, \"#ed7953\"], [0.7777777777777778, \"#fb9f3a\"], [0.8888888888888888, \"#fdca26\"], [1.0, \"#f0f921\"]]}, \"colorway\": [\"#636efa\", \"#EF553B\", \"#00cc96\", \"#ab63fa\", \"#FFA15A\", \"#19d3f3\", \"#FF6692\", \"#B6E880\", \"#FF97FF\", \"#FECB52\"], \"font\": {\"color\": \"#2a3f5f\"}, \"geo\": {\"bgcolor\": \"white\", \"lakecolor\": \"white\", \"landcolor\": \"white\", \"showlakes\": true, \"showland\": true, \"subunitcolor\": \"#C8D4E3\"}, \"hoverlabel\": {\"align\": \"left\"}, \"hovermode\": \"closest\", \"mapbox\": {\"style\": \"light\"}, \"paper_bgcolor\": \"white\", \"plot_bgcolor\": \"white\", \"polar\": {\"angularaxis\": {\"gridcolor\": \"#EBF0F8\", \"linecolor\": \"#EBF0F8\", \"ticks\": \"\"}, \"bgcolor\": \"white\", \"radialaxis\": {\"gridcolor\": \"#EBF0F8\", \"linecolor\": \"#EBF0F8\", \"ticks\": \"\"}}, \"scene\": {\"xaxis\": {\"backgroundcolor\": \"white\", \"gridcolor\": \"#DFE8F3\", \"gridwidth\": 2, \"linecolor\": \"#EBF0F8\", \"showbackground\": true, \"ticks\": \"\", \"zerolinecolor\": \"#EBF0F8\"}, \"yaxis\": {\"backgroundcolor\": \"white\", \"gridcolor\": \"#DFE8F3\", \"gridwidth\": 2, \"linecolor\": \"#EBF0F8\", \"showbackground\": true, \"ticks\": \"\", \"zerolinecolor\": \"#EBF0F8\"}, \"zaxis\": {\"backgroundcolor\": \"white\", \"gridcolor\": \"#DFE8F3\", \"gridwidth\": 2, \"linecolor\": \"#EBF0F8\", \"showbackground\": true, \"ticks\": \"\", \"zerolinecolor\": \"#EBF0F8\"}}, \"shapedefaults\": {\"line\": {\"color\": \"#2a3f5f\"}}, \"ternary\": {\"aaxis\": {\"gridcolor\": \"#DFE8F3\", \"linecolor\": \"#A2B1C6\", \"ticks\": \"\"}, \"baxis\": {\"gridcolor\": \"#DFE8F3\", \"linecolor\": \"#A2B1C6\", \"ticks\": \"\"}, \"bgcolor\": \"white\", \"caxis\": {\"gridcolor\": \"#DFE8F3\", \"linecolor\": \"#A2B1C6\", \"ticks\": \"\"}}, \"title\": {\"x\": 0.05}, \"xaxis\": {\"automargin\": true, \"gridcolor\": \"#EBF0F8\", \"linecolor\": \"#EBF0F8\", \"ticks\": \"\", \"title\": {\"standoff\": 15}, \"zerolinecolor\": \"#EBF0F8\", \"zerolinewidth\": 2}, \"yaxis\": {\"automargin\": true, \"gridcolor\": \"#EBF0F8\", \"linecolor\": \"#EBF0F8\", \"ticks\": \"\", \"title\": {\"standoff\": 15}, \"zerolinecolor\": \"#EBF0F8\", \"zerolinewidth\": 2}}}, \"title\": {\"text\": \"Feature Correlations:Sentiment\", \"x\": 0.5}, \"width\": 600, \"yaxis\": {\"autorange\": \"reversed\"}},\n",
              "                        {\"responsive\": true}\n",
              "                    ).then(function(){\n",
              "                            \n",
              "var gd = document.getElementById('ef732164-c86d-4064-b1c0-bb88ba967fd7');\n",
              "var x = new MutationObserver(function (mutations, observer) {{\n",
              "        var display = window.getComputedStyle(gd).display;\n",
              "        if (!display || display === 'none') {{\n",
              "            console.log([gd, 'removed!']);\n",
              "            Plotly.purge(gd);\n",
              "            observer.disconnect();\n",
              "        }}\n",
              "}});\n",
              "\n",
              "// Listen for the removal of the full notebook cells\n",
              "var notebookContainer = gd.closest('#notebook-container');\n",
              "if (notebookContainer) {{\n",
              "    x.observe(notebookContainer, {childList: true});\n",
              "}}\n",
              "\n",
              "// Listen for the clearing of the current output cell\n",
              "var outputEl = gd.closest('.output');\n",
              "if (outputEl) {{\n",
              "    x.observe(outputEl, {childList: true});\n",
              "}}\n",
              "\n",
              "                        })\n",
              "                };\n",
              "                \n",
              "            </script>\n",
              "        </div>\n",
              "</body>\n",
              "</html>"
            ]
          },
          "metadata": {}
        }
      ]
    },
    {
      "cell_type": "markdown",
      "metadata": {
        "id": "3G7Jv3fhlQUx"
      },
      "source": [
        "## Technical Indicators"
      ]
    },
    {
      "cell_type": "code",
      "metadata": {
        "colab": {
          "base_uri": "https://localhost:8080/",
          "height": 634
        },
        "id": "daf9mlBvj6ml",
        "outputId": "5deaec4c-1bf4-44e4-c728-ed422cf1241a"
      },
      "source": [
        "# technical indicators \n",
        "features_to_lag = ['b-upper','b-lower','rsi','stoch_high','stoch_low','stoch_D','stoch_K','macd','macd_signal']\n",
        "\n",
        "# try shifting from zero to -60 days prior\n",
        "lags = list(range(0,-70,-10))\n",
        "\n",
        "feature_shifts =calc_optimal_feature_lags(df,features_to_lag,lags)\n",
        "print(feature_shifts)\n",
        "\n",
        "# add the optimal feature lags\n",
        "features_to_lag.insert(0,'close')\n",
        "dff = shift_features(df[features_to_lag],feature_shifts)\n",
        "\n",
        "# plot corr\n",
        "plot_corr(dff,dff.columns,'Technical Indicators')"
      ],
      "execution_count": 41,
      "outputs": [
        {
          "output_type": "stream",
          "name": "stdout",
          "text": [
            "{'b-upper': -10, 'b-lower': -10, 'rsi': -60, 'stoch_high': -10, 'stoch_low': -10, 'stoch_D': -60, 'stoch_K': -60}\n"
          ]
        },
        {
          "output_type": "display_data",
          "data": {
            "text/html": [
              "<html>\n",
              "<head><meta charset=\"utf-8\" /></head>\n",
              "<body>\n",
              "    <div>\n",
              "            <script src=\"https://cdnjs.cloudflare.com/ajax/libs/mathjax/2.7.5/MathJax.js?config=TeX-AMS-MML_SVG\"></script><script type=\"text/javascript\">if (window.MathJax) {MathJax.Hub.Config({SVG: {font: \"STIX-Web\"}});}</script>\n",
              "                <script type=\"text/javascript\">window.PlotlyConfig = {MathJaxConfig: 'local'};</script>\n",
              "        <script src=\"https://cdn.plot.ly/plotly-latest.min.js\"></script>    \n",
              "            <div id=\"b92192f2-f525-49e4-a39c-8dac124afe95\" class=\"plotly-graph-div\" style=\"height:600px; width:600px;\"></div>\n",
              "            <script type=\"text/javascript\">\n",
              "                \n",
              "                    window.PLOTLYENV=window.PLOTLYENV || {};\n",
              "                    \n",
              "                if (document.getElementById(\"b92192f2-f525-49e4-a39c-8dac124afe95\")) {\n",
              "                    Plotly.newPlot(\n",
              "                        'b92192f2-f525-49e4-a39c-8dac124afe95',\n",
              "                        [{\"colorscale\": [[0.0, \"rgb(255,255,204)\"], [0.125, \"rgb(255,237,160)\"], [0.25, \"rgb(254,217,118)\"], [0.375, \"rgb(254,178,76)\"], [0.5, \"rgb(253,141,60)\"], [0.625, \"rgb(252,78,42)\"], [0.75, \"rgb(227,26,28)\"], [0.875, \"rgb(189,0,38)\"], [1.0, \"rgb(128,0,38)\"]], \"type\": \"heatmap\", \"x\": [\"close\", \"b-upper\", \"b-lower\", \"rsi\", \"stoch_high\", \"stoch_low\", \"stoch_D\", \"stoch_K\", \"macd\", \"macd_signal\", \"b-upper_shift\", \"b-lower_shift\", \"rsi_shift\", \"stoch_high_shift\", \"stoch_low_shift\", \"stoch_D_shift\", \"stoch_K_shift\"], \"y\": [\"close\", \"b-upper\", \"b-lower\", \"rsi\", \"stoch_high\", \"stoch_low\", \"stoch_D\", \"stoch_K\", \"macd\", \"macd_signal\", \"b-upper_shift\", \"b-lower_shift\", \"rsi_shift\", \"stoch_high_shift\", \"stoch_low_shift\", \"stoch_D_shift\", \"stoch_K_shift\"], \"z\": [[1.0, 0.9880551115905764, 0.9805898565329807, 0.02222234920079127, 0.9924401225706891, 0.9915215140968372, 0.03357427332769224, 0.02921427727405455, 0.325289542759025, 0.3363235022602543, 0.9935522916128384, 0.99118249164698, -0.10600448418974366, 0.9944749702268499, 0.9944026934954657, -0.07917835349294704, -0.0763814408408674], [0.9880551115905764, 1.0, 0.9798967190594939, -0.04667680650918486, 0.9981837772137526, 0.9895613451132967, -0.03793074310725811, -0.041169954343262045, 0.23132714784252284, 0.26782763101789125, 0.9885938177786964, 0.9824835780858633, -0.11763026517091954, 0.9846268435186306, 0.983940419089943, -0.08946970625410486, -0.08297919739640541], [0.9805898565329807, 0.9798967190594939, 1.0, -0.06727995871662218, 0.983551107560543, 0.9954515055625137, -0.04776540994004792, -0.05015631383853118, 0.20217278513571868, 0.2430289299810927, 0.9760578169239501, 0.9838021796631633, -0.1107157457291245, 0.9738448797156293, 0.9776924595019516, -0.08555424649914282, -0.08216372152272851], [0.02222234920079127, -0.04667680650918486, -0.06727995871662218, 1.0, -0.030344447037647514, -0.03799784026357954, 0.8597012335915226, 0.8070368561543667, 0.42243148178468787, 0.3185092739041851, 0.012831217129100935, -0.004624093557867901, 0.08396979134916367, 0.026000709874176575, 0.01844627786063418, 0.0400702433982537, 0.027324465767185502], [0.9924401225706891, 0.9981837772137526, 0.983551107560543, -0.030344447037647514, 1.0, 0.9927074265383136, -0.02617685679483993, -0.032130058447408925, 0.26322801300015986, 0.2975445052433331, 0.9927140552059083, 0.9860068923283375, -0.11800431492842213, 0.9893454055111774, 0.9880878958629764, -0.09163097079395396, -0.0856369306903647], [0.9915215140968372, 0.9895613451132967, 0.9954515055625137, -0.03799784026357954, 0.9927074265383136, 1.0, -0.027546129572284625, -0.03347542429785387, 0.2549413794550926, 0.2888366504137118, 0.9863937490336151, 0.9916552836139922, -0.1094221439092184, 0.9852910018888069, 0.9878307795228901, -0.08402909696190444, -0.08047858069158623], [0.03357427332769224, -0.03793074310725811, -0.04776540994004792, 0.8597012335915226, -0.02617685679483993, -0.027546129572284625, 1.0, 0.9259816021566509, 0.36711370100574325, 0.24819058668529936, 0.016778931245930443, 0.007496206246631055, 0.088081469053598, 0.032334163309551, 0.029583519926857715, 0.054310756025311754, 0.04663742689097063], [0.02921427727405455, -0.041169954343262045, -0.05015631383853118, 0.8070368561543667, -0.032130058447408925, -0.03347542429785387, 0.9259816021566509, 1.0, 0.3128046654813465, 0.20018259971388314, 0.010844984807505025, 0.002471541311340589, 0.08372918792632894, 0.02605265793190071, 0.02427229556393783, 0.05461799497779088, 0.0469220676189279], [0.325289542759025, 0.23132714784252284, 0.20217278513571868, 0.42243148178468787, 0.26322801300015986, 0.2549413794550926, 0.36711370100574325, 0.3128046654813465, 1.0, 0.9629294779273386, 0.311857358546733, 0.3001501693917502, 0.001763023463323601, 0.33180552195394997, 0.3252154384136476, -0.006697788532117347, -0.015307580747325893], [0.3363235022602543, 0.26782763101789125, 0.2430289299810927, 0.3185092739041851, 0.2975445052433331, 0.2888366504137118, 0.24819058668529936, 0.20018259971388314, 0.9629294779273386, 1.0, 0.33224588741972094, 0.3228694915817108, -0.021187400923521723, 0.3461340682227091, 0.34115707429222786, -0.030638424958074725, -0.03457088392118166], [0.9935522916128384, 0.9885938177786964, 0.9760578169239501, 0.012831217129100935, 0.9927140552059083, 0.9863937490336151, 0.016778931245930443, 0.010844984807505025, 0.311857358546733, 0.33224588741972094, 1.0, 0.9797786134603691, -0.11306319820557302, 0.998225950718446, 0.9893440727199126, -0.08819536686451533, -0.08393073707092291], [0.99118249164698, 0.9824835780858633, 0.9838021796631633, -0.004624093557867901, 0.9860068923283375, 0.9916552836139922, 0.007496206246631055, 0.002471541311340589, 0.3001501693917502, 0.3228694915817108, 0.9797786134603691, 1.0, -0.10126860657768125, 0.9834781013257369, 0.9956112480835447, -0.0724483133958605, -0.0682309025323701], [-0.10600448418974366, -0.11763026517091954, -0.1107157457291245, 0.08396979134916367, -0.11800431492842213, -0.1094221439092184, 0.088081469053598, 0.08372918792632894, 0.001763023463323601, -0.021187400923521723, -0.11306319820557302, -0.10126860657768125, 1.0, -0.1085672652678543, -0.10304697648944182, 0.859494637687106, 0.8083529829791756], [0.9944749702268499, 0.9846268435186306, 0.9738448797156293, 0.026000709874176575, 0.9893454055111774, 0.9852910018888069, 0.032334163309551, 0.02605265793190071, 0.33180552195394997, 0.3461340682227091, 0.998225950718446, 0.9834781013257369, -0.1085672652678543, 1.0, 0.9925213526195772, -0.08198941866249551, -0.07791912953038083], [0.9944026934954657, 0.983940419089943, 0.9776924595019516, 0.01844627786063418, 0.9880878958629764, 0.9878307795228901, 0.029583519926857715, 0.02427229556393783, 0.3252154384136476, 0.34115707429222786, 0.9893440727199126, 0.9956112480835447, -0.10304697648944182, 0.9925213526195772, 1.0, -0.07448059155315168, -0.07012529944800709], [-0.07917835349294704, -0.08946970625410486, -0.08555424649914282, 0.0400702433982537, -0.09163097079395396, -0.08402909696190444, 0.054310756025311754, 0.05461799497779088, -0.006697788532117347, -0.030638424958074725, -0.08819536686451533, -0.0724483133958605, 0.859494637687106, -0.08198941866249551, -0.07448059155315168, 1.0, 0.9263170067686066], [-0.0763814408408674, -0.08297919739640541, -0.08216372152272851, 0.027324465767185502, -0.0856369306903647, -0.08047858069158623, 0.04663742689097063, 0.0469220676189279, -0.015307580747325893, -0.03457088392118166, -0.08393073707092291, -0.0682309025323701, 0.8083529829791756, -0.07791912953038083, -0.07012529944800709, 0.9263170067686066, 1.0]]}],\n",
              "                        {\"height\": 600, \"template\": {\"data\": {\"bar\": [{\"error_x\": {\"color\": \"#2a3f5f\"}, \"error_y\": {\"color\": \"#2a3f5f\"}, \"marker\": {\"line\": {\"color\": \"white\", \"width\": 0.5}}, \"type\": \"bar\"}], \"barpolar\": [{\"marker\": {\"line\": {\"color\": \"white\", \"width\": 0.5}}, \"type\": \"barpolar\"}], \"carpet\": [{\"aaxis\": {\"endlinecolor\": \"#2a3f5f\", \"gridcolor\": \"#C8D4E3\", \"linecolor\": \"#C8D4E3\", \"minorgridcolor\": \"#C8D4E3\", \"startlinecolor\": \"#2a3f5f\"}, \"baxis\": {\"endlinecolor\": \"#2a3f5f\", \"gridcolor\": \"#C8D4E3\", \"linecolor\": \"#C8D4E3\", \"minorgridcolor\": \"#C8D4E3\", \"startlinecolor\": \"#2a3f5f\"}, \"type\": \"carpet\"}], \"choropleth\": [{\"colorbar\": {\"outlinewidth\": 0, \"ticks\": \"\"}, \"type\": \"choropleth\"}], \"contour\": [{\"colorbar\": {\"outlinewidth\": 0, \"ticks\": \"\"}, \"colorscale\": [[0.0, \"#0d0887\"], [0.1111111111111111, \"#46039f\"], [0.2222222222222222, \"#7201a8\"], [0.3333333333333333, \"#9c179e\"], [0.4444444444444444, \"#bd3786\"], [0.5555555555555556, \"#d8576b\"], [0.6666666666666666, \"#ed7953\"], [0.7777777777777778, \"#fb9f3a\"], [0.8888888888888888, \"#fdca26\"], [1.0, \"#f0f921\"]], \"type\": \"contour\"}], \"contourcarpet\": [{\"colorbar\": {\"outlinewidth\": 0, \"ticks\": \"\"}, \"type\": \"contourcarpet\"}], \"heatmap\": [{\"colorbar\": {\"outlinewidth\": 0, \"ticks\": \"\"}, \"colorscale\": [[0.0, \"#0d0887\"], [0.1111111111111111, \"#46039f\"], [0.2222222222222222, \"#7201a8\"], [0.3333333333333333, \"#9c179e\"], [0.4444444444444444, \"#bd3786\"], [0.5555555555555556, \"#d8576b\"], [0.6666666666666666, \"#ed7953\"], [0.7777777777777778, \"#fb9f3a\"], [0.8888888888888888, \"#fdca26\"], [1.0, \"#f0f921\"]], \"type\": \"heatmap\"}], \"heatmapgl\": [{\"colorbar\": {\"outlinewidth\": 0, \"ticks\": \"\"}, \"colorscale\": [[0.0, \"#0d0887\"], [0.1111111111111111, \"#46039f\"], [0.2222222222222222, \"#7201a8\"], [0.3333333333333333, \"#9c179e\"], [0.4444444444444444, \"#bd3786\"], [0.5555555555555556, \"#d8576b\"], [0.6666666666666666, \"#ed7953\"], [0.7777777777777778, \"#fb9f3a\"], [0.8888888888888888, \"#fdca26\"], [1.0, \"#f0f921\"]], \"type\": \"heatmapgl\"}], \"histogram\": [{\"marker\": {\"colorbar\": {\"outlinewidth\": 0, \"ticks\": \"\"}}, \"type\": \"histogram\"}], \"histogram2d\": [{\"colorbar\": {\"outlinewidth\": 0, \"ticks\": \"\"}, \"colorscale\": [[0.0, \"#0d0887\"], [0.1111111111111111, \"#46039f\"], [0.2222222222222222, \"#7201a8\"], [0.3333333333333333, \"#9c179e\"], [0.4444444444444444, \"#bd3786\"], [0.5555555555555556, \"#d8576b\"], [0.6666666666666666, \"#ed7953\"], [0.7777777777777778, \"#fb9f3a\"], [0.8888888888888888, \"#fdca26\"], [1.0, \"#f0f921\"]], \"type\": \"histogram2d\"}], \"histogram2dcontour\": [{\"colorbar\": {\"outlinewidth\": 0, \"ticks\": \"\"}, \"colorscale\": [[0.0, \"#0d0887\"], [0.1111111111111111, \"#46039f\"], [0.2222222222222222, \"#7201a8\"], [0.3333333333333333, \"#9c179e\"], [0.4444444444444444, \"#bd3786\"], [0.5555555555555556, \"#d8576b\"], [0.6666666666666666, \"#ed7953\"], [0.7777777777777778, \"#fb9f3a\"], [0.8888888888888888, \"#fdca26\"], [1.0, \"#f0f921\"]], \"type\": \"histogram2dcontour\"}], \"mesh3d\": [{\"colorbar\": {\"outlinewidth\": 0, \"ticks\": \"\"}, \"type\": \"mesh3d\"}], \"parcoords\": [{\"line\": {\"colorbar\": {\"outlinewidth\": 0, \"ticks\": \"\"}}, \"type\": \"parcoords\"}], \"pie\": [{\"automargin\": true, \"type\": \"pie\"}], \"scatter\": [{\"marker\": {\"colorbar\": {\"outlinewidth\": 0, \"ticks\": \"\"}}, \"type\": \"scatter\"}], \"scatter3d\": [{\"line\": {\"colorbar\": {\"outlinewidth\": 0, \"ticks\": \"\"}}, \"marker\": {\"colorbar\": {\"outlinewidth\": 0, \"ticks\": \"\"}}, \"type\": \"scatter3d\"}], \"scattercarpet\": [{\"marker\": {\"colorbar\": {\"outlinewidth\": 0, \"ticks\": \"\"}}, \"type\": \"scattercarpet\"}], \"scattergeo\": [{\"marker\": {\"colorbar\": {\"outlinewidth\": 0, \"ticks\": \"\"}}, \"type\": \"scattergeo\"}], \"scattergl\": [{\"marker\": {\"colorbar\": {\"outlinewidth\": 0, \"ticks\": \"\"}}, \"type\": \"scattergl\"}], \"scattermapbox\": [{\"marker\": {\"colorbar\": {\"outlinewidth\": 0, \"ticks\": \"\"}}, \"type\": \"scattermapbox\"}], \"scatterpolar\": [{\"marker\": {\"colorbar\": {\"outlinewidth\": 0, \"ticks\": \"\"}}, \"type\": \"scatterpolar\"}], \"scatterpolargl\": [{\"marker\": {\"colorbar\": {\"outlinewidth\": 0, \"ticks\": \"\"}}, \"type\": \"scatterpolargl\"}], \"scatterternary\": [{\"marker\": {\"colorbar\": {\"outlinewidth\": 0, \"ticks\": \"\"}}, \"type\": \"scatterternary\"}], \"surface\": [{\"colorbar\": {\"outlinewidth\": 0, \"ticks\": \"\"}, \"colorscale\": [[0.0, \"#0d0887\"], [0.1111111111111111, \"#46039f\"], [0.2222222222222222, \"#7201a8\"], [0.3333333333333333, \"#9c179e\"], [0.4444444444444444, \"#bd3786\"], [0.5555555555555556, \"#d8576b\"], [0.6666666666666666, \"#ed7953\"], [0.7777777777777778, \"#fb9f3a\"], [0.8888888888888888, \"#fdca26\"], [1.0, \"#f0f921\"]], \"type\": \"surface\"}], \"table\": [{\"cells\": {\"fill\": {\"color\": \"#EBF0F8\"}, \"line\": {\"color\": \"white\"}}, \"header\": {\"fill\": {\"color\": \"#C8D4E3\"}, \"line\": {\"color\": \"white\"}}, \"type\": \"table\"}]}, \"layout\": {\"annotationdefaults\": {\"arrowcolor\": \"#2a3f5f\", \"arrowhead\": 0, \"arrowwidth\": 1}, \"coloraxis\": {\"colorbar\": {\"outlinewidth\": 0, \"ticks\": \"\"}}, \"colorscale\": {\"diverging\": [[0, \"#8e0152\"], [0.1, \"#c51b7d\"], [0.2, \"#de77ae\"], [0.3, \"#f1b6da\"], [0.4, \"#fde0ef\"], [0.5, \"#f7f7f7\"], [0.6, \"#e6f5d0\"], [0.7, \"#b8e186\"], [0.8, \"#7fbc41\"], [0.9, \"#4d9221\"], [1, \"#276419\"]], \"sequential\": [[0.0, \"#0d0887\"], [0.1111111111111111, \"#46039f\"], [0.2222222222222222, \"#7201a8\"], [0.3333333333333333, \"#9c179e\"], [0.4444444444444444, \"#bd3786\"], [0.5555555555555556, \"#d8576b\"], [0.6666666666666666, \"#ed7953\"], [0.7777777777777778, \"#fb9f3a\"], [0.8888888888888888, \"#fdca26\"], [1.0, \"#f0f921\"]], \"sequentialminus\": [[0.0, \"#0d0887\"], [0.1111111111111111, \"#46039f\"], [0.2222222222222222, \"#7201a8\"], [0.3333333333333333, \"#9c179e\"], [0.4444444444444444, \"#bd3786\"], [0.5555555555555556, \"#d8576b\"], [0.6666666666666666, \"#ed7953\"], [0.7777777777777778, \"#fb9f3a\"], [0.8888888888888888, \"#fdca26\"], [1.0, \"#f0f921\"]]}, \"colorway\": [\"#636efa\", \"#EF553B\", \"#00cc96\", \"#ab63fa\", \"#FFA15A\", \"#19d3f3\", \"#FF6692\", \"#B6E880\", \"#FF97FF\", \"#FECB52\"], \"font\": {\"color\": \"#2a3f5f\"}, \"geo\": {\"bgcolor\": \"white\", \"lakecolor\": \"white\", \"landcolor\": \"white\", \"showlakes\": true, \"showland\": true, \"subunitcolor\": \"#C8D4E3\"}, \"hoverlabel\": {\"align\": \"left\"}, \"hovermode\": \"closest\", \"mapbox\": {\"style\": \"light\"}, \"paper_bgcolor\": \"white\", \"plot_bgcolor\": \"white\", \"polar\": {\"angularaxis\": {\"gridcolor\": \"#EBF0F8\", \"linecolor\": \"#EBF0F8\", \"ticks\": \"\"}, \"bgcolor\": \"white\", \"radialaxis\": {\"gridcolor\": \"#EBF0F8\", \"linecolor\": \"#EBF0F8\", \"ticks\": \"\"}}, \"scene\": {\"xaxis\": {\"backgroundcolor\": \"white\", \"gridcolor\": \"#DFE8F3\", \"gridwidth\": 2, \"linecolor\": \"#EBF0F8\", \"showbackground\": true, \"ticks\": \"\", \"zerolinecolor\": \"#EBF0F8\"}, \"yaxis\": {\"backgroundcolor\": \"white\", \"gridcolor\": \"#DFE8F3\", \"gridwidth\": 2, \"linecolor\": \"#EBF0F8\", \"showbackground\": true, \"ticks\": \"\", \"zerolinecolor\": \"#EBF0F8\"}, \"zaxis\": {\"backgroundcolor\": \"white\", \"gridcolor\": \"#DFE8F3\", \"gridwidth\": 2, \"linecolor\": \"#EBF0F8\", \"showbackground\": true, \"ticks\": \"\", \"zerolinecolor\": \"#EBF0F8\"}}, \"shapedefaults\": {\"line\": {\"color\": \"#2a3f5f\"}}, \"ternary\": {\"aaxis\": {\"gridcolor\": \"#DFE8F3\", \"linecolor\": \"#A2B1C6\", \"ticks\": \"\"}, \"baxis\": {\"gridcolor\": \"#DFE8F3\", \"linecolor\": \"#A2B1C6\", \"ticks\": \"\"}, \"bgcolor\": \"white\", \"caxis\": {\"gridcolor\": \"#DFE8F3\", \"linecolor\": \"#A2B1C6\", \"ticks\": \"\"}}, \"title\": {\"x\": 0.05}, \"xaxis\": {\"automargin\": true, \"gridcolor\": \"#EBF0F8\", \"linecolor\": \"#EBF0F8\", \"ticks\": \"\", \"title\": {\"standoff\": 15}, \"zerolinecolor\": \"#EBF0F8\", \"zerolinewidth\": 2}, \"yaxis\": {\"automargin\": true, \"gridcolor\": \"#EBF0F8\", \"linecolor\": \"#EBF0F8\", \"ticks\": \"\", \"title\": {\"standoff\": 15}, \"zerolinecolor\": \"#EBF0F8\", \"zerolinewidth\": 2}}}, \"title\": {\"text\": \"Feature Correlations:Technical Indicators\", \"x\": 0.5}, \"width\": 600, \"yaxis\": {\"autorange\": \"reversed\"}},\n",
              "                        {\"responsive\": true}\n",
              "                    ).then(function(){\n",
              "                            \n",
              "var gd = document.getElementById('b92192f2-f525-49e4-a39c-8dac124afe95');\n",
              "var x = new MutationObserver(function (mutations, observer) {{\n",
              "        var display = window.getComputedStyle(gd).display;\n",
              "        if (!display || display === 'none') {{\n",
              "            console.log([gd, 'removed!']);\n",
              "            Plotly.purge(gd);\n",
              "            observer.disconnect();\n",
              "        }}\n",
              "}});\n",
              "\n",
              "// Listen for the removal of the full notebook cells\n",
              "var notebookContainer = gd.closest('#notebook-container');\n",
              "if (notebookContainer) {{\n",
              "    x.observe(notebookContainer, {childList: true});\n",
              "}}\n",
              "\n",
              "// Listen for the clearing of the current output cell\n",
              "var outputEl = gd.closest('.output');\n",
              "if (outputEl) {{\n",
              "    x.observe(outputEl, {childList: true});\n",
              "}}\n",
              "\n",
              "                        })\n",
              "                };\n",
              "                \n",
              "            </script>\n",
              "        </div>\n",
              "</body>\n",
              "</html>"
            ]
          },
          "metadata": {}
        }
      ]
    },
    {
      "cell_type": "markdown",
      "metadata": {
        "id": "neR_EB_1lTld"
      },
      "source": [
        "## Commodities, FX Rates and Indexes"
      ]
    },
    {
      "cell_type": "code",
      "metadata": {
        "colab": {
          "base_uri": "https://localhost:8080/",
          "height": 634
        },
        "id": "bS_-2ju5kRoR",
        "outputId": "86050e47-e8db-44c6-cb3e-d047af450292"
      },
      "source": [
        "# technical indicators \n",
        "features_to_lag =['close','GLD','OIL','BOIL','VXX','SPY','XLE','QQQ','USDEUR','USDGBP','USDJPY']\n",
        "\n",
        "# try shifting from zero to -60 days prior\n",
        "lags = list(range(0,-70,-10))\n",
        "\n",
        "feature_shifts =calc_optimal_feature_lags(df,features_to_lag,lags)\n",
        "print(feature_shifts)\n",
        "\n",
        "# add the optimal feature lags\n",
        "features_to_lag.insert(0,'close')\n",
        "dff = shift_features(df[features_to_lag],feature_shifts)\n",
        "\n",
        "# plot corr\n",
        "plot_corr(dff,dff.columns,'Commodities, FX Rates & Indexes')\n"
      ],
      "execution_count": 43,
      "outputs": [
        {
          "output_type": "stream",
          "name": "stdout",
          "text": [
            "{'OIL': -60, 'VXX': -60, 'XLE': -60, 'USDEUR': -60, 'USDGBP': -60, 'USDJPY': -60}\n"
          ]
        },
        {
          "output_type": "display_data",
          "data": {
            "text/html": [
              "<html>\n",
              "<head><meta charset=\"utf-8\" /></head>\n",
              "<body>\n",
              "    <div>\n",
              "            <script src=\"https://cdnjs.cloudflare.com/ajax/libs/mathjax/2.7.5/MathJax.js?config=TeX-AMS-MML_SVG\"></script><script type=\"text/javascript\">if (window.MathJax) {MathJax.Hub.Config({SVG: {font: \"STIX-Web\"}});}</script>\n",
              "                <script type=\"text/javascript\">window.PlotlyConfig = {MathJaxConfig: 'local'};</script>\n",
              "        <script src=\"https://cdn.plot.ly/plotly-latest.min.js\"></script>    \n",
              "            <div id=\"c1ba5d60-a8ce-44f9-8cd8-24d1b76775cd\" class=\"plotly-graph-div\" style=\"height:600px; width:600px;\"></div>\n",
              "            <script type=\"text/javascript\">\n",
              "                \n",
              "                    window.PLOTLYENV=window.PLOTLYENV || {};\n",
              "                    \n",
              "                if (document.getElementById(\"c1ba5d60-a8ce-44f9-8cd8-24d1b76775cd\")) {\n",
              "                    Plotly.newPlot(\n",
              "                        'c1ba5d60-a8ce-44f9-8cd8-24d1b76775cd',\n",
              "                        [{\"colorscale\": [[0.0, \"rgb(255,255,204)\"], [0.125, \"rgb(255,237,160)\"], [0.25, \"rgb(254,217,118)\"], [0.375, \"rgb(254,178,76)\"], [0.5, \"rgb(253,141,60)\"], [0.625, \"rgb(252,78,42)\"], [0.75, \"rgb(227,26,28)\"], [0.875, \"rgb(189,0,38)\"], [1.0, \"rgb(128,0,38)\"]], \"type\": \"heatmap\", \"x\": [\"close\", \"close\", \"close\", \"close\", \"GLD\", \"OIL\", \"BOIL\", \"VXX\", \"SPY\", \"XLE\", \"QQQ\", \"USDEUR\", \"USDGBP\", \"USDJPY\", \"OIL_shift\", \"VXX_shift\", \"XLE_shift\", \"USDEUR_shift\", \"USDGBP_shift\", \"USDJPY_shift\"], \"y\": [\"close\", \"close\", \"close\", \"close\", \"GLD\", \"OIL\", \"BOIL\", \"VXX\", \"SPY\", \"XLE\", \"QQQ\", \"USDEUR\", \"USDGBP\", \"USDJPY\", \"OIL_shift\", \"VXX_shift\", \"XLE_shift\", \"USDEUR_shift\", \"USDGBP_shift\", \"USDJPY_shift\"], \"z\": [[1.0, 1.0, 1.0, 1.0, 0.660755376903943, 0.24843131287962142, 0.28146281306067206, -0.08626327629024402, 0.8614103004875798, -0.41924141081618305, 0.8525791101823562, -0.5418292444835666, -0.3521308715154238, -0.180658488955384, 0.41435192295486073, 0.0654152542688909, -0.36283678347356224, -0.4906990033160627, -0.43755611984992515, -0.019253584822788578], [1.0, 1.0, 1.0, 1.0, 0.660755376903943, 0.24843131287962142, 0.28146281306067206, -0.08626327629024402, 0.8614103004875798, -0.41924141081618305, 0.8525791101823562, -0.5418292444835666, -0.3521308715154238, -0.180658488955384, 0.41435192295486073, 0.0654152542688909, -0.36283678347356224, -0.4906990033160627, -0.43755611984992515, -0.019253584822788578], [1.0, 1.0, 1.0, 1.0, 0.660755376903943, 0.24843131287962142, 0.28146281306067206, -0.08626327629024402, 0.8614103004875798, -0.41924141081618305, 0.8525791101823562, -0.5418292444835666, -0.3521308715154238, -0.180658488955384, 0.41435192295486073, 0.0654152542688909, -0.36283678347356224, -0.4906990033160627, -0.43755611984992515, -0.019253584822788578], [1.0, 1.0, 1.0, 1.0, 0.660755376903943, 0.24843131287962142, 0.28146281306067206, -0.08626327629024402, 0.8614103004875798, -0.41924141081618305, 0.8525791101823562, -0.5418292444835666, -0.3521308715154238, -0.180658488955384, 0.41435192295486073, 0.0654152542688909, -0.36283678347356224, -0.4906990033160627, -0.43755611984992515, -0.019253584822788578], [0.660755376903943, 0.660755376903943, 0.660755376903943, 0.660755376903943, 1.0, -0.2669223983329558, 0.4040168636616202, -0.05855342417383154, 0.8092483815554302, -0.8583451543970029, 0.882436268005577, -0.3864318077034997, -0.06840142816695934, -0.5340849797774674, -0.12533626088481414, -0.09808304942226162, -0.8234817258624997, -0.40245068491649716, -0.19984553150754877, -0.4100634009973529], [0.24843131287962142, 0.24843131287962142, 0.24843131287962142, 0.24843131287962142, -0.2669223983329558, 1.0, 0.05398015059627469, 0.03799057567582131, 0.24232612555503377, 0.6098654005625055, 0.09591565246562642, -0.2784271922524052, -0.2817886295711355, 0.2189316043649368, 0.6976090476673455, 0.21873066801766156, 0.4331192569328425, 0.0015356393418611111, -0.03610410951900625, 0.32793359023301527], [0.28146281306067206, 0.28146281306067206, 0.28146281306067206, 0.28146281306067206, 0.4040168636616202, 0.05398015059627469, 1.0, 0.24418098171016211, 0.43640097461734884, -0.3465399646582137, 0.4884614667882996, -0.2440652752827254, 0.006672372624600157, -0.11025115718105212, 0.14105139543637552, 0.017451621056443486, -0.3259343045676325, -0.22445810040249878, -0.034041973520416366, -0.06776250998355954], [-0.08626327629024402, -0.08626327629024402, -0.08626327629024402, -0.08626327629024402, -0.05855342417383154, 0.03799057567582131, 0.24418098171016211, 1.0, -0.05318041830652982, 0.0018807478534822043, -0.04225874826807467, -0.23744094181406578, 0.09443565369299135, -0.022204585775730142, 0.20559272097556372, 0.34648074614298774, 0.12209815745195161, -0.06193687801013565, 0.11003218821189163, 0.21930518771723062], [0.8614103004875798, 0.8614103004875798, 0.8614103004875798, 0.8614103004875798, 0.8092483815554302, 0.24232612555503377, 0.43640097461734884, -0.05318041830652982, 1.0, -0.544825430011961, 0.9812205218607212, -0.5213401266890858, -0.16417031568100518, -0.23952066635828909, 0.282609532248914, 0.04223614414870726, -0.5955606451439522, -0.46499896271813135, -0.251933257931224, -0.09961032310652919], [-0.41924141081618305, -0.41924141081618305, -0.41924141081618305, -0.41924141081618305, -0.8583451543970029, 0.6098654005625055, -0.3465399646582137, 0.0018807478534822043, -0.544825430011961, 1.0, -0.6708167178849077, 0.1583243825747426, -0.043441259546727534, 0.40844548245634743, 0.39131683141291396, 0.16160158850028677, 0.8685551940955873, 0.29252621753772307, 0.16233231448920696, 0.42651593951339534], [0.8525791101823562, 0.8525791101823562, 0.8525791101823562, 0.8525791101823562, 0.882436268005577, 0.09591565246562642, 0.4884614667882996, -0.04225874826807467, 0.9812205218607212, -0.6708167178849077, 1.0, -0.5091012216663773, -0.1596230643055389, -0.2975201527697426, 0.1914053370972203, -0.011064769188852545, -0.6748776878773, -0.48392540743993107, -0.2754803860138012, -0.15870826215267922], [-0.5418292444835666, -0.5418292444835666, -0.5418292444835666, -0.5418292444835666, -0.3864318077034997, -0.2784271922524052, -0.2440652752827254, -0.23744094181406578, -0.5213401266890858, 0.1583243825747426, -0.5091012216663773, 1.0, 0.5853610348865985, 0.2763198748507333, -0.48171986660082416, -0.3085667001149826, 0.05094625445275639, 0.8021751529152662, 0.5680174671581054, 0.11035609663116333], [-0.3521308715154238, -0.3521308715154238, -0.3521308715154238, -0.3521308715154238, -0.06840142816695934, -0.2817886295711355, 0.006672372624600157, 0.09443565369299135, -0.16417031568100518, -0.043441259546727534, -0.1596230643055389, 0.5853610348865985, 1.0, -0.02807267772308932, -0.38744168174613824, -0.057634964916316034, -0.12230641211543311, 0.4369016300382848, 0.723988272678033, 0.16860461584507708], [-0.180658488955384, -0.180658488955384, -0.180658488955384, -0.180658488955384, -0.5340849797774674, 0.2189316043649368, -0.11025115718105212, -0.022204585775730142, -0.23952066635828909, 0.40844548245634743, -0.2975201527697426, 0.2763198748507333, -0.02807267772308932, 1.0, 0.07774150522562327, 0.009302817481796913, 0.2874216947460795, 0.06835960818000135, -0.1100222255158626, 0.5005365161667361], [0.41435192295486073, 0.41435192295486073, 0.41435192295486073, 0.41435192295486073, -0.12533626088481414, 0.6976090476673455, 0.14105139543637552, 0.20559272097556372, 0.282609532248914, 0.39131683141291396, 0.1914053370972203, -0.48171986660082416, -0.38744168174613824, 0.07774150522562327, 1.0, 0.019574754825854013, 0.5418767869497934, -0.2673039079330079, -0.39862887458926355, 0.3412442318383396], [0.0654152542688909, 0.0654152542688909, 0.0654152542688909, 0.0654152542688909, -0.09808304942226162, 0.21873066801766156, 0.017451621056443486, 0.34648074614298774, 0.04223614414870726, 0.16160158850028677, -0.011064769188852545, -0.3085667001149826, -0.057634964916316034, 0.009302817481796913, 0.019574754825854013, 1.0, 0.0030060201373352164, -0.23107902266794764, 0.0945146358660332, -0.017480249129011517], [-0.36283678347356224, -0.36283678347356224, -0.36283678347356224, -0.36283678347356224, -0.8234817258624997, 0.4331192569328425, -0.3259343045676325, 0.12209815745195161, -0.5955606451439522, 0.8685551940955873, -0.6748776878773, 0.05094625445275639, -0.12230641211543311, 0.2874216947460795, 0.5418767869497934, 0.0030060201373352164, 1.0, 0.17881170679635872, -0.04383577760781774, 0.444534830195829], [-0.4906990033160627, -0.4906990033160627, -0.4906990033160627, -0.4906990033160627, -0.40245068491649716, 0.0015356393418611111, -0.22445810040249878, -0.06193687801013565, -0.46499896271813135, 0.29252621753772307, -0.48392540743993107, 0.8021751529152662, 0.4369016300382848, 0.06835960818000135, -0.2673039079330079, -0.23107902266794764, 0.17881170679635872, 1.0, 0.6827181258501248, 0.22172708988675696], [-0.43755611984992515, -0.43755611984992515, -0.43755611984992515, -0.43755611984992515, -0.19984553150754877, -0.03610410951900625, -0.034041973520416366, 0.11003218821189163, -0.251933257931224, 0.16233231448920696, -0.2754803860138012, 0.5680174671581054, 0.723988272678033, -0.1100222255158626, -0.39862887458926355, 0.0945146358660332, -0.04383577760781774, 0.6827181258501248, 1.0, 0.07050270939007587], [-0.019253584822788578, -0.019253584822788578, -0.019253584822788578, -0.019253584822788578, -0.4100634009973529, 0.32793359023301527, -0.06776250998355954, 0.21930518771723062, -0.09961032310652919, 0.42651593951339534, -0.15870826215267922, 0.11035609663116333, 0.16860461584507708, 0.5005365161667361, 0.3412442318383396, -0.017480249129011517, 0.444534830195829, 0.22172708988675696, 0.07050270939007587, 1.0]]}],\n",
              "                        {\"height\": 600, \"template\": {\"data\": {\"bar\": [{\"error_x\": {\"color\": \"#2a3f5f\"}, \"error_y\": {\"color\": \"#2a3f5f\"}, \"marker\": {\"line\": {\"color\": \"white\", \"width\": 0.5}}, \"type\": \"bar\"}], \"barpolar\": [{\"marker\": {\"line\": {\"color\": \"white\", \"width\": 0.5}}, \"type\": \"barpolar\"}], \"carpet\": [{\"aaxis\": {\"endlinecolor\": \"#2a3f5f\", \"gridcolor\": \"#C8D4E3\", \"linecolor\": \"#C8D4E3\", \"minorgridcolor\": \"#C8D4E3\", \"startlinecolor\": \"#2a3f5f\"}, \"baxis\": {\"endlinecolor\": \"#2a3f5f\", \"gridcolor\": \"#C8D4E3\", \"linecolor\": \"#C8D4E3\", \"minorgridcolor\": \"#C8D4E3\", \"startlinecolor\": \"#2a3f5f\"}, \"type\": \"carpet\"}], \"choropleth\": [{\"colorbar\": {\"outlinewidth\": 0, \"ticks\": \"\"}, \"type\": \"choropleth\"}], \"contour\": [{\"colorbar\": {\"outlinewidth\": 0, \"ticks\": \"\"}, \"colorscale\": [[0.0, \"#0d0887\"], [0.1111111111111111, \"#46039f\"], [0.2222222222222222, \"#7201a8\"], [0.3333333333333333, \"#9c179e\"], [0.4444444444444444, \"#bd3786\"], [0.5555555555555556, \"#d8576b\"], [0.6666666666666666, \"#ed7953\"], [0.7777777777777778, \"#fb9f3a\"], [0.8888888888888888, \"#fdca26\"], [1.0, \"#f0f921\"]], \"type\": \"contour\"}], \"contourcarpet\": [{\"colorbar\": {\"outlinewidth\": 0, \"ticks\": \"\"}, \"type\": \"contourcarpet\"}], \"heatmap\": [{\"colorbar\": {\"outlinewidth\": 0, \"ticks\": \"\"}, \"colorscale\": [[0.0, \"#0d0887\"], [0.1111111111111111, \"#46039f\"], [0.2222222222222222, \"#7201a8\"], [0.3333333333333333, \"#9c179e\"], [0.4444444444444444, \"#bd3786\"], [0.5555555555555556, \"#d8576b\"], [0.6666666666666666, \"#ed7953\"], [0.7777777777777778, \"#fb9f3a\"], [0.8888888888888888, \"#fdca26\"], [1.0, \"#f0f921\"]], \"type\": \"heatmap\"}], \"heatmapgl\": [{\"colorbar\": {\"outlinewidth\": 0, \"ticks\": \"\"}, \"colorscale\": [[0.0, \"#0d0887\"], [0.1111111111111111, \"#46039f\"], [0.2222222222222222, \"#7201a8\"], [0.3333333333333333, \"#9c179e\"], [0.4444444444444444, \"#bd3786\"], [0.5555555555555556, \"#d8576b\"], [0.6666666666666666, \"#ed7953\"], [0.7777777777777778, \"#fb9f3a\"], [0.8888888888888888, \"#fdca26\"], [1.0, \"#f0f921\"]], \"type\": \"heatmapgl\"}], \"histogram\": [{\"marker\": {\"colorbar\": {\"outlinewidth\": 0, \"ticks\": \"\"}}, \"type\": \"histogram\"}], \"histogram2d\": [{\"colorbar\": {\"outlinewidth\": 0, \"ticks\": \"\"}, \"colorscale\": [[0.0, \"#0d0887\"], [0.1111111111111111, \"#46039f\"], [0.2222222222222222, \"#7201a8\"], [0.3333333333333333, \"#9c179e\"], [0.4444444444444444, \"#bd3786\"], [0.5555555555555556, \"#d8576b\"], [0.6666666666666666, \"#ed7953\"], [0.7777777777777778, \"#fb9f3a\"], [0.8888888888888888, \"#fdca26\"], [1.0, \"#f0f921\"]], \"type\": \"histogram2d\"}], \"histogram2dcontour\": [{\"colorbar\": {\"outlinewidth\": 0, \"ticks\": \"\"}, \"colorscale\": [[0.0, \"#0d0887\"], [0.1111111111111111, \"#46039f\"], [0.2222222222222222, \"#7201a8\"], [0.3333333333333333, \"#9c179e\"], [0.4444444444444444, \"#bd3786\"], [0.5555555555555556, \"#d8576b\"], [0.6666666666666666, \"#ed7953\"], [0.7777777777777778, \"#fb9f3a\"], [0.8888888888888888, \"#fdca26\"], [1.0, \"#f0f921\"]], \"type\": \"histogram2dcontour\"}], \"mesh3d\": [{\"colorbar\": {\"outlinewidth\": 0, \"ticks\": \"\"}, \"type\": \"mesh3d\"}], \"parcoords\": [{\"line\": {\"colorbar\": {\"outlinewidth\": 0, \"ticks\": \"\"}}, \"type\": \"parcoords\"}], \"pie\": [{\"automargin\": true, \"type\": \"pie\"}], \"scatter\": [{\"marker\": {\"colorbar\": {\"outlinewidth\": 0, \"ticks\": \"\"}}, \"type\": \"scatter\"}], \"scatter3d\": [{\"line\": {\"colorbar\": {\"outlinewidth\": 0, \"ticks\": \"\"}}, \"marker\": {\"colorbar\": {\"outlinewidth\": 0, \"ticks\": \"\"}}, \"type\": \"scatter3d\"}], \"scattercarpet\": [{\"marker\": {\"colorbar\": {\"outlinewidth\": 0, \"ticks\": \"\"}}, \"type\": \"scattercarpet\"}], \"scattergeo\": [{\"marker\": {\"colorbar\": {\"outlinewidth\": 0, \"ticks\": \"\"}}, \"type\": \"scattergeo\"}], \"scattergl\": [{\"marker\": {\"colorbar\": {\"outlinewidth\": 0, \"ticks\": \"\"}}, \"type\": \"scattergl\"}], \"scattermapbox\": [{\"marker\": {\"colorbar\": {\"outlinewidth\": 0, \"ticks\": \"\"}}, \"type\": \"scattermapbox\"}], \"scatterpolar\": [{\"marker\": {\"colorbar\": {\"outlinewidth\": 0, \"ticks\": \"\"}}, \"type\": \"scatterpolar\"}], \"scatterpolargl\": [{\"marker\": {\"colorbar\": {\"outlinewidth\": 0, \"ticks\": \"\"}}, \"type\": \"scatterpolargl\"}], \"scatterternary\": [{\"marker\": {\"colorbar\": {\"outlinewidth\": 0, \"ticks\": \"\"}}, \"type\": \"scatterternary\"}], \"surface\": [{\"colorbar\": {\"outlinewidth\": 0, \"ticks\": \"\"}, \"colorscale\": [[0.0, \"#0d0887\"], [0.1111111111111111, \"#46039f\"], [0.2222222222222222, \"#7201a8\"], [0.3333333333333333, \"#9c179e\"], [0.4444444444444444, \"#bd3786\"], [0.5555555555555556, \"#d8576b\"], [0.6666666666666666, \"#ed7953\"], [0.7777777777777778, \"#fb9f3a\"], [0.8888888888888888, \"#fdca26\"], [1.0, \"#f0f921\"]], \"type\": \"surface\"}], \"table\": [{\"cells\": {\"fill\": {\"color\": \"#EBF0F8\"}, \"line\": {\"color\": \"white\"}}, \"header\": {\"fill\": {\"color\": \"#C8D4E3\"}, \"line\": {\"color\": \"white\"}}, \"type\": \"table\"}]}, \"layout\": {\"annotationdefaults\": {\"arrowcolor\": \"#2a3f5f\", \"arrowhead\": 0, \"arrowwidth\": 1}, \"coloraxis\": {\"colorbar\": {\"outlinewidth\": 0, \"ticks\": \"\"}}, \"colorscale\": {\"diverging\": [[0, \"#8e0152\"], [0.1, \"#c51b7d\"], [0.2, \"#de77ae\"], [0.3, \"#f1b6da\"], [0.4, \"#fde0ef\"], [0.5, \"#f7f7f7\"], [0.6, \"#e6f5d0\"], [0.7, \"#b8e186\"], [0.8, \"#7fbc41\"], [0.9, \"#4d9221\"], [1, \"#276419\"]], \"sequential\": [[0.0, \"#0d0887\"], [0.1111111111111111, \"#46039f\"], [0.2222222222222222, \"#7201a8\"], [0.3333333333333333, \"#9c179e\"], [0.4444444444444444, \"#bd3786\"], [0.5555555555555556, \"#d8576b\"], [0.6666666666666666, \"#ed7953\"], [0.7777777777777778, \"#fb9f3a\"], [0.8888888888888888, \"#fdca26\"], [1.0, \"#f0f921\"]], \"sequentialminus\": [[0.0, \"#0d0887\"], [0.1111111111111111, \"#46039f\"], [0.2222222222222222, \"#7201a8\"], [0.3333333333333333, \"#9c179e\"], [0.4444444444444444, \"#bd3786\"], [0.5555555555555556, \"#d8576b\"], [0.6666666666666666, \"#ed7953\"], [0.7777777777777778, \"#fb9f3a\"], [0.8888888888888888, \"#fdca26\"], [1.0, \"#f0f921\"]]}, \"colorway\": [\"#636efa\", \"#EF553B\", \"#00cc96\", \"#ab63fa\", \"#FFA15A\", \"#19d3f3\", \"#FF6692\", \"#B6E880\", \"#FF97FF\", \"#FECB52\"], \"font\": {\"color\": \"#2a3f5f\"}, \"geo\": {\"bgcolor\": \"white\", \"lakecolor\": \"white\", \"landcolor\": \"white\", \"showlakes\": true, \"showland\": true, \"subunitcolor\": \"#C8D4E3\"}, \"hoverlabel\": {\"align\": \"left\"}, \"hovermode\": \"closest\", \"mapbox\": {\"style\": \"light\"}, \"paper_bgcolor\": \"white\", \"plot_bgcolor\": \"white\", \"polar\": {\"angularaxis\": {\"gridcolor\": \"#EBF0F8\", \"linecolor\": \"#EBF0F8\", \"ticks\": \"\"}, \"bgcolor\": \"white\", \"radialaxis\": {\"gridcolor\": \"#EBF0F8\", \"linecolor\": \"#EBF0F8\", \"ticks\": \"\"}}, \"scene\": {\"xaxis\": {\"backgroundcolor\": \"white\", \"gridcolor\": \"#DFE8F3\", \"gridwidth\": 2, \"linecolor\": \"#EBF0F8\", \"showbackground\": true, \"ticks\": \"\", \"zerolinecolor\": \"#EBF0F8\"}, \"yaxis\": {\"backgroundcolor\": \"white\", \"gridcolor\": \"#DFE8F3\", \"gridwidth\": 2, \"linecolor\": \"#EBF0F8\", \"showbackground\": true, \"ticks\": \"\", \"zerolinecolor\": \"#EBF0F8\"}, \"zaxis\": {\"backgroundcolor\": \"white\", \"gridcolor\": \"#DFE8F3\", \"gridwidth\": 2, \"linecolor\": \"#EBF0F8\", \"showbackground\": true, \"ticks\": \"\", \"zerolinecolor\": \"#EBF0F8\"}}, \"shapedefaults\": {\"line\": {\"color\": \"#2a3f5f\"}}, \"ternary\": {\"aaxis\": {\"gridcolor\": \"#DFE8F3\", \"linecolor\": \"#A2B1C6\", \"ticks\": \"\"}, \"baxis\": {\"gridcolor\": \"#DFE8F3\", \"linecolor\": \"#A2B1C6\", \"ticks\": \"\"}, \"bgcolor\": \"white\", \"caxis\": {\"gridcolor\": \"#DFE8F3\", \"linecolor\": \"#A2B1C6\", \"ticks\": \"\"}}, \"title\": {\"x\": 0.05}, \"xaxis\": {\"automargin\": true, \"gridcolor\": \"#EBF0F8\", \"linecolor\": \"#EBF0F8\", \"ticks\": \"\", \"title\": {\"standoff\": 15}, \"zerolinecolor\": \"#EBF0F8\", \"zerolinewidth\": 2}, \"yaxis\": {\"automargin\": true, \"gridcolor\": \"#EBF0F8\", \"linecolor\": \"#EBF0F8\", \"ticks\": \"\", \"title\": {\"standoff\": 15}, \"zerolinecolor\": \"#EBF0F8\", \"zerolinewidth\": 2}}}, \"title\": {\"text\": \"Feature Correlations:Commodities, FX Rates & Indexes\", \"x\": 0.5}, \"width\": 600, \"yaxis\": {\"autorange\": \"reversed\"}},\n",
              "                        {\"responsive\": true}\n",
              "                    ).then(function(){\n",
              "                            \n",
              "var gd = document.getElementById('c1ba5d60-a8ce-44f9-8cd8-24d1b76775cd');\n",
              "var x = new MutationObserver(function (mutations, observer) {{\n",
              "        var display = window.getComputedStyle(gd).display;\n",
              "        if (!display || display === 'none') {{\n",
              "            console.log([gd, 'removed!']);\n",
              "            Plotly.purge(gd);\n",
              "            observer.disconnect();\n",
              "        }}\n",
              "}});\n",
              "\n",
              "// Listen for the removal of the full notebook cells\n",
              "var notebookContainer = gd.closest('#notebook-container');\n",
              "if (notebookContainer) {{\n",
              "    x.observe(notebookContainer, {childList: true});\n",
              "}}\n",
              "\n",
              "// Listen for the clearing of the current output cell\n",
              "var outputEl = gd.closest('.output');\n",
              "if (outputEl) {{\n",
              "    x.observe(outputEl, {childList: true});\n",
              "}}\n",
              "\n",
              "                        })\n",
              "                };\n",
              "                \n",
              "            </script>\n",
              "        </div>\n",
              "</body>\n",
              "</html>"
            ]
          },
          "metadata": {}
        }
      ]
    },
    {
      "cell_type": "code",
      "metadata": {
        "id": "5iTnX9emb2le"
      },
      "source": [
        "\n",
        "# List of features to lag\n",
        "# include economic and commodities (exclude technical indicators)\n",
        "\n",
        "features_to_lag =[f for f in df_btc.columns if f not in ['open','high','low','symbol','b-lower','b-middle','b-upper','rsi','macd_hist','macd','macd_signal']]\n",
        "\n",
        "# try shifting from zero to -60 days prior\n",
        "lags = list(range(0,-70,-10))\n",
        "\n",
        "# Find the lag with the largest absolute correlation with closing price\n",
        "feature_shifts =calc_optimal_feature_lags(df_btc,features_to_lag,lags)\n",
        "print(feature_shifts)\n",
        "\n",
        "# shift the features according to \n",
        "# df_btc_shifted = shift_features(df_btc,feature_shifts)\n",
        "\n",
        "# # plot the correlations\n",
        "# plot_corr(df_btc_shifted)\n",
        "\n",
        "# # plot feature importance and ranks\n",
        "# selected = plot_feature_importance(df_btc_shifted,10,1985)\n",
        "\n",
        "\n",
        "# # subset features, add back the price features\n",
        "# [selected.append(f) for f in ['open','close','high','low']] \n",
        "# df_btc_features = df_btc_shifted[selected]\n",
        "\n",
        "# # save to google drive\n",
        "# df_btc_features.to_pickle(f'/content/drive/MyDrive/Colab Notebooks/data/{stock}_market_data_features.pickle')\n"
      ],
      "execution_count": null,
      "outputs": []
    }
  ]
}