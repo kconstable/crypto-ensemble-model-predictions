{
  "nbformat": 4,
  "nbformat_minor": 0,
  "metadata": {
    "colab": {
      "name": "feature_engineering.ipynb",
      "provenance": [],
      "collapsed_sections": [],
      "toc_visible": true,
      "authorship_tag": "ABX9TyN0DvUh4SRB1Y57mAD4Foeo",
      "include_colab_link": true
    },
    "kernelspec": {
      "name": "python3",
      "display_name": "Python 3"
    },
    "language_info": {
      "name": "python"
    }
  },
  "cells": [
    {
      "cell_type": "markdown",
      "metadata": {
        "id": "view-in-github",
        "colab_type": "text"
      },
      "source": [
        "<a href=\"https://colab.research.google.com/github/kconstable/crypto-ensemble-model-predictions/blob/main/feature_engineering.ipynb\" target=\"_parent\"><img src=\"https://colab.research.google.com/assets/colab-badge.svg\" alt=\"Open In Colab\"/></a>"
      ]
    },
    {
      "cell_type": "markdown",
      "metadata": {
        "id": "_ysluZIEbcmb"
      },
      "source": [
        "# Import Libraries"
      ]
    },
    {
      "cell_type": "code",
      "metadata": {
        "colab": {
          "base_uri": "https://localhost:8080/"
        },
        "id": "im2-MD4caSpY",
        "outputId": "105a078d-0bec-409a-f5a2-4a2191ad628b"
      },
      "source": [
        "import pandas as pd\n",
        "import numpy as np\n",
        "import requests\n",
        "import time\n",
        "import pickle\n",
        "\n",
        "from datetime import date, timedelta,datetime\n",
        "\n",
        "import plotly.graph_objects as go\n",
        "from plotly.subplots import make_subplots\n",
        "\n",
        "from sklearn.ensemble import RandomForestRegressor\n",
        "from sklearn.feature_selection import RFE\n",
        "\n",
        "from google.colab import files\n",
        "from google.colab import drive\n",
        "drive.mount('/content/drive')"
      ],
      "execution_count": 1,
      "outputs": [
        {
          "output_type": "stream",
          "name": "stdout",
          "text": [
            "Mounted at /content/drive\n"
          ]
        }
      ]
    },
    {
      "cell_type": "code",
      "metadata": {
        "colab": {
          "base_uri": "https://localhost:8080/"
        },
        "id": "F2eAgNDWbGrc",
        "outputId": "cb1a1368-b039-42bc-bdfa-35f32a3c4e7d"
      },
      "source": [
        "# load saved market data\n",
        "ticker = 'BTC'\n",
        "df = pd.read_pickle(f'/content/drive/MyDrive/Colab Notebooks/capstone2/data/{ticker}_market_data.pickle')\n",
        "print(f\"\\n{ticker}\")\n",
        "print(\"=\"*60)\n",
        "print(f\"{ticker}-all features: \",df.shape)"
      ],
      "execution_count": 78,
      "outputs": [
        {
          "output_type": "stream",
          "name": "stdout",
          "text": [
            "\n",
            "BTC\n",
            "============================================================\n",
            "BTC-all features:  (2125, 69)\n"
          ]
        }
      ]
    },
    {
      "cell_type": "markdown",
      "metadata": {
        "id": "ukoJkzhrdF5P"
      },
      "source": [
        "# Feature Engineering"
      ]
    },
    {
      "cell_type": "markdown",
      "metadata": {
        "id": "fJKagHS4bbAl"
      },
      "source": [
        "## Create Lag Features\n",
        "The features may have more influence if they are lagged vs current.  For example, the unemployment rate from 40 days ago may influence the price to a greater extent than the current unemployment rate.  \n",
        "\n",
        "To explore this possibility, the correlation between closing prices and current/lagged features are calculated and compared.  The number of days lagged was determined iteratively until the correlation with the largest magnitude was found.\n",
        "\n",
        "The calc_optimal_feature_lags function calculates the correlation between each feature and the closing price. It loops over lags from zero days to 60 days and returns a list of features with higher higher correlations when lagged. \n",
        "\n",
        "The shift_features function adds a lagged version of the input features to the features data frame.\n",
        "\n",
        "RFE is then used to select from all availble features (current and lagged) to find the most influential features to be included in the LSTM model."
      ]
    },
    {
      "cell_type": "code",
      "metadata": {
        "id": "iiGnKdf_blpf"
      },
      "source": [
        "def calc_optimal_feature_lags(df,features_to_lag,lags):\n",
        "  \"\"\"\n",
        "  Calculates the correlation between each feature and the closing price over a series of lags\n",
        "  Inputs:\n",
        "    df: A data frame of feartures.  Expects 'close' price to be included\n",
        "    features_to_lag: A list of features to shift by each lag in lags\n",
        "    lags: A list of lags (in days)\n",
        "  Outputs:\n",
        "    A dictionary of {feature name:lag (in days)}. Only returns features with \n",
        "    higher correlations with lags\n",
        "  \"\"\"\n",
        "  # get a copy of the df\n",
        "  dff = df.copy()\n",
        "\n",
        "  # dict to store the optimal lag for each feature\n",
        "  d = {}\n",
        "  \n",
        "  # loop each feature, each lag\n",
        "  for feature in features_to_lag:\n",
        "    # maximum abs correlation with close price, and the associated lag\n",
        "    # reset after each feature\n",
        "    max_corr = 0\n",
        "    max_lag = 0\n",
        "    for lag in lags:\n",
        "      if feature != 'close':\n",
        "        # name of shifted column: feature_shift_lag\n",
        "        shift = f\"_shift_{str(lag)}\"\n",
        "\n",
        "        # shift the feature by the lag,join with dff\n",
        "        tshift=dff[feature].shift(lag)\n",
        "        dff =dff.join(tshift,how='left',rsuffix=shift)\n",
        "\n",
        "        # calc the corr with the close price\n",
        "        corr = dff[['close',feature+shift]].corr()[feature+shift]['close']\n",
        "\n",
        "        # update the max abs corr and associated lag\n",
        "        if abs(corr)>abs(max_corr):\n",
        "          max_corr = abs(corr)\n",
        "          max_lag = lag\n",
        "    # save the max abs corr and associated lag\n",
        "    if max_lag <0:\n",
        "      d[feature] = max_lag\n",
        "\n",
        "  return d"
      ],
      "execution_count": 53,
      "outputs": []
    },
    {
      "cell_type": "code",
      "metadata": {
        "id": "LjONek7Wbowj"
      },
      "source": [
        "def shift_features(df,features_shift):\n",
        "  \"\"\"\n",
        "  Shifts features by time periods to convert them to lagged indicators\n",
        "  Input:\n",
        "    df: dataframe of features\n",
        "    features_shift: dictionary  of {feature:period shift}\n",
        "  Output:\n",
        "    df: original dataframe + the shifted features\n",
        "  \"\"\"\n",
        "  dff = df.copy()\n",
        "  for feature,shift in features_shift.items():\n",
        "    t_shift = pd.DataFrame(dff[feature].shift(periods=shift))\n",
        "    dff =dff.join(t_shift,how='left',rsuffix='_shift')\n",
        "\n",
        "  # remove nan introducted with lag features\n",
        "  dff.dropna(how='any',inplace=True)\n",
        "\n",
        "  return dff"
      ],
      "execution_count": 5,
      "outputs": []
    },
    {
      "cell_type": "code",
      "metadata": {
        "id": "C0ihTBCjbwzI"
      },
      "source": [
        "def plot_corr(df,features,title):\n",
        "  \"\"\"\n",
        "  Plots correlations in a heatmap\n",
        "  Input: \n",
        "    df: a dataframe of features to plot\n",
        "  \"\"\"\n",
        "    \n",
        "  # calculate correlations\n",
        "  cm =df[features].corr()\n",
        "\n",
        "  # plot a heatmap of correlations\n",
        "  fig = go.Figure()\n",
        "  fig.add_trace(go.Heatmap(\n",
        "        z = cm,\n",
        "        x = cm.columns.values,\n",
        "        y = cm.columns.values,\n",
        "        # colorscale = 'Bluyl'\n",
        "        colorscale = 'YlOrRd'\n",
        "      )\n",
        "  )\n",
        "  fig.update_layout(\n",
        "      title_text=f\"Feature Correlations:{title}\", \n",
        "      title_x=0.5, \n",
        "      width=600, \n",
        "      height=600,\n",
        "      yaxis_autorange='reversed',\n",
        "      template = 'plotly_white'\n",
        "  )\n",
        "\n",
        "  fig.show()"
      ],
      "execution_count": 6,
      "outputs": []
    },
    {
      "cell_type": "markdown",
      "metadata": {
        "id": "_6gd8CJEg6BZ"
      },
      "source": [
        "### Economic Indicators\n",
        "+ most economic indicators have higher correlations when lagged 100 days or more"
      ]
    },
    {
      "cell_type": "code",
      "metadata": {
        "colab": {
          "base_uri": "https://localhost:8080/",
          "height": 634
        },
        "id": "t-5jLxcmg8Xj",
        "outputId": "3e78d834-e25b-4202-f9a2-63f9541b44c8"
      },
      "source": [
        "# economic indicators\n",
        "features_to_lag = ['gdp','nfp','unemployment','cs','infl','ir','yield3m','yield5y','yield10y','yield30y']\n",
        "\n",
        "# try shifting from zero to -60 days prior\n",
        "lags = list(range(0,-120,-10))\n",
        "\n",
        "feature_shifts =calc_optimal_feature_lags(df,features_to_lag,lags)\n",
        "print(feature_shifts)\n",
        "\n",
        "# add the optimal feature lags\n",
        "features_to_lag.insert(0,'close')\n",
        "df_econ = shift_features(df[features_to_lag],feature_shifts)\n",
        "\n",
        "# plot corr\n",
        "plot_corr(df_econ,df_econ.columns,'Economic Indicators')\n"
      ],
      "execution_count": 31,
      "outputs": [
        {
          "output_type": "stream",
          "name": "stdout",
          "text": [
            "{'gdp': -100, 'nfp': -110, 'cs': -110, 'infl': -110, 'ir': -110, 'yield3m': -110, 'yield5y': -110, 'yield10y': -110, 'yield30y': -110}\n"
          ]
        },
        {
          "output_type": "display_data",
          "data": {
            "text/html": [
              "<html>\n",
              "<head><meta charset=\"utf-8\" /></head>\n",
              "<body>\n",
              "    <div>\n",
              "            <script src=\"https://cdnjs.cloudflare.com/ajax/libs/mathjax/2.7.5/MathJax.js?config=TeX-AMS-MML_SVG\"></script><script type=\"text/javascript\">if (window.MathJax) {MathJax.Hub.Config({SVG: {font: \"STIX-Web\"}});}</script>\n",
              "                <script type=\"text/javascript\">window.PlotlyConfig = {MathJaxConfig: 'local'};</script>\n",
              "        <script src=\"https://cdn.plot.ly/plotly-latest.min.js\"></script>    \n",
              "            <div id=\"24dbaec2-f787-4882-ba06-3bcd63da459f\" class=\"plotly-graph-div\" style=\"height:600px; width:600px;\"></div>\n",
              "            <script type=\"text/javascript\">\n",
              "                \n",
              "                    window.PLOTLYENV=window.PLOTLYENV || {};\n",
              "                    \n",
              "                if (document.getElementById(\"24dbaec2-f787-4882-ba06-3bcd63da459f\")) {\n",
              "                    Plotly.newPlot(\n",
              "                        '24dbaec2-f787-4882-ba06-3bcd63da459f',\n",
              "                        [{\"colorscale\": [[0.0, \"rgb(255,255,204)\"], [0.125, \"rgb(255,237,160)\"], [0.25, \"rgb(254,217,118)\"], [0.375, \"rgb(254,178,76)\"], [0.5, \"rgb(253,141,60)\"], [0.625, \"rgb(252,78,42)\"], [0.75, \"rgb(227,26,28)\"], [0.875, \"rgb(189,0,38)\"], [1.0, \"rgb(128,0,38)\"]], \"type\": \"heatmap\", \"x\": [\"close\", \"gdp\", \"nfp\", \"unemployment\", \"cs\", \"infl\", \"ir\", \"yield3m\", \"yield5y\", \"yield10y\", \"yield30y\", \"gdp_shift\", \"nfp_shift\", \"cs_shift\", \"infl_shift\", \"ir_shift\", \"yield3m_shift\", \"yield5y_shift\", \"yield10y_shift\", \"yield30y_shift\"], \"y\": [\"close\", \"gdp\", \"nfp\", \"unemployment\", \"cs\", \"infl\", \"ir\", \"yield3m\", \"yield5y\", \"yield10y\", \"yield30y\", \"gdp_shift\", \"nfp_shift\", \"cs_shift\", \"infl_shift\", \"ir_shift\", \"yield3m_shift\", \"yield5y_shift\", \"yield10y_shift\", \"yield30y_shift\"], \"z\": [[1.0, 0.42309446061371025, -0.14622649418952843, 0.2001158132174369, -0.40870607292616473, 0.6787827954451104, -0.3079071471252493, -0.2962647795894864, -0.3731396089717072, -0.2966807654084691, -0.3131965307895117, 0.5464664620889135, -0.009077014449154082, -0.5050434484307529, 0.8896400213483904, -0.33370080659370005, -0.3211122285244663, -0.32042956311433046, -0.274527835005937, -0.31758794613822666], [0.42309446061371025, 1.0, 0.6049894896346861, -0.30538283708073105, 0.08647296678609241, 0.2944450256490148, 0.38423878795802696, 0.3827365944817384, 0.0937559757970512, 0.03997419349151054, -0.08014276018484358, 0.4766110186177958, 0.24666752168762643, -0.12170747097970842, 0.26507758735344483, 0.2238151948306974, 0.22367756446251677, 0.003179530340888828, -0.043541954270732555, -0.15281275786076595], [-0.14622649418952843, 0.6049894896346861, 1.0, -0.8772328961741167, 0.7752650783381797, -0.12038667089914433, 0.777243712668832, 0.7492528654472128, 0.6475933884224468, 0.5972515348832486, 0.5209876148199367, 0.006631388326073466, 0.40333146585178514, 0.41846689315561963, -0.23580740148313548, 0.6177231194654879, 0.606847775232423, 0.46250665960636733, 0.3727028076791137, 0.28099304780378465], [0.2001158132174369, -0.30538283708073105, -0.8772328961741167, 1.0, -0.8479573583207568, 0.1731016992343717, -0.6265870580128879, -0.5906791549552192, -0.6856604410862934, -0.7031604424190541, -0.7057892159239012, 0.15867405856800826, -0.40955837761040464, -0.5613698407097705, 0.2257024712631137, -0.5596593720374132, -0.5467787245110157, -0.5826553599613343, -0.5491908662494221, -0.5187135904085292], [-0.40870607292616473, 0.08647296678609241, 0.7752650783381797, -0.8479573583207568, 1.0, -0.34255319145634716, 0.7042612491270176, 0.6893832298948861, 0.8413694636712141, 0.8357971987039118, 0.8190597698158985, -0.2855780711538284, 0.35830082399748037, 0.6066602395686453, -0.4043945869397401, 0.6666985677617892, 0.6614254714285631, 0.6679309100061597, 0.5882234640354383, 0.5313011583638433], [0.6787827954451104, 0.2944450256490148, -0.12038667089914433, 0.1731016992343717, -0.34255319145634716, 1.0, -0.20607552067838086, -0.1827545096738646, -0.17869188846827697, -0.1103992696530781, -0.1265514974406375, 0.5603883629903091, 0.1782832009022017, -0.4019403778029638, 0.6905741144018192, -0.13956087138310577, -0.1261832597126553, -0.11824451090965375, -0.09708800733821119, -0.1367449828831197], [-0.3079071471252493, 0.38423878795802696, 0.777243712668832, -0.6265870580128879, 0.7042612491270176, -0.20607552067838086, 1.0, 0.9897825381862491, 0.8040874137502418, 0.7002912869102936, 0.573444658143562, 0.18525529993502993, 0.5462870118415543, 0.5355420312578706, -0.3788082189138755, 0.8756719512949879, 0.8668844201703324, 0.5657799557690121, 0.4293686941057242, 0.3114282249275799], [-0.2962647795894864, 0.3827365944817384, 0.7492528654472128, -0.5906791549552192, 0.6893832298948861, -0.1827545096738646, 0.9897825381862491, 1.0, 0.829153886933904, 0.7242772795910988, 0.5879953268742336, 0.19805400818783758, 0.542368589943669, 0.5289492578517938, -0.3609486069275217, 0.8944874145269319, 0.8899747166583329, 0.591334508198679, 0.4560924936318975, 0.3318092530005739], [-0.3731396089717072, 0.0937559757970512, 0.6475933884224468, -0.6856604410862934, 0.8413694636712141, -0.17869188846827697, 0.8040874137502418, 0.829153886933904, 1.0, 0.9777254295372549, 0.9084094727602241, -0.047220575850503294, 0.5535966956440149, 0.693830079672248, -0.3494850344833501, 0.8983029944274663, 0.9048267114213762, 0.8586718754547972, 0.7758590482901637, 0.6936219233816446], [-0.2966807654084691, 0.03997419349151054, 0.5972515348832486, -0.7031604424190541, 0.8357971987039118, -0.1103992696530781, 0.7002912869102936, 0.7242772795910988, 0.9777254295372549, 1.0, 0.9703375820720302, -0.06666566506190238, 0.5600932368559485, 0.6903043046047812, -0.2527497189418346, 0.83964697553354, 0.8420909260037707, 0.8673631397835099, 0.8116651823476526, 0.7516879827239258], [-0.3131965307895117, -0.08014276018484358, 0.5209876148199367, -0.7057892159239012, 0.8190597698158985, -0.1265514974406375, 0.573444658143562, 0.5879953268742336, 0.9084094727602241, 0.9703375820720302, 1.0, -0.15789202611430903, 0.5314296893348427, 0.7054605387657187, -0.25180568256597935, 0.7424133751255835, 0.7329544259937302, 0.8269680309278059, 0.7992241897546302, 0.7789013563578928], [0.5464664620889135, 0.4766110186177958, 0.006631388326073466, 0.15867405856800826, -0.2855780711538284, 0.5603883629903091, 0.18525529993502993, 0.19805400818783758, -0.047220575850503294, -0.06666566506190238, -0.15789202611430903, 1.0, 0.5217917766256106, -0.09799972726220028, 0.42537201279337206, 0.21480073870123395, 0.21023488894709622, -0.004926647322932409, -0.03323194406822633, -0.12287450996706144], [-0.009077014449154082, 0.24666752168762643, 0.40333146585178514, -0.40955837761040464, 0.35830082399748037, 0.1782832009022017, 0.5462870118415543, 0.542368589943669, 0.5535966956440149, 0.5600932368559485, 0.5314296893348427, 0.5217917766256106, 1.0, 0.671466186384407, -0.07316060752452938, 0.7288520564089332, 0.6998775487344829, 0.629427963329412, 0.5931271880217608, 0.5383917892701748], [-0.5050434484307529, -0.12170747097970842, 0.41846689315561963, -0.5613698407097705, 0.6066602395686453, -0.4019403778029638, 0.5355420312578706, 0.5289492578517938, 0.693830079672248, 0.6903043046047812, 0.7054605387657187, -0.09799972726220028, 0.671466186384407, 1.0, -0.5505998341040756, 0.7283472366110351, 0.716681016667736, 0.8156471121609706, 0.8028477365100586, 0.8010706261322394], [0.8896400213483904, 0.26507758735344483, -0.23580740148313548, 0.2257024712631137, -0.4043945869397401, 0.6905741144018192, -0.3788082189138755, -0.3609486069275217, -0.3494850344833501, -0.2527497189418346, -0.25180568256597935, 0.42537201279337206, -0.07316060752452938, -0.5505998341040756, 1.0, -0.3456678017529048, -0.33050532341941397, -0.27664941362422246, -0.21080536882446127, -0.23258567220283474], [-0.33370080659370005, 0.2238151948306974, 0.6177231194654879, -0.5596593720374132, 0.6666985677617892, -0.13956087138310577, 0.8756719512949879, 0.8944874145269319, 0.8983029944274663, 0.83964697553354, 0.7424133751255835, 0.21480073870123395, 0.7288520564089332, 0.7283472366110351, -0.3456678017529048, 1.0, 0.990281878417407, 0.816946207672688, 0.72211301648508, 0.624951483323927], [-0.3211122285244663, 0.22367756446251677, 0.606847775232423, -0.5467787245110157, 0.6614254714285631, -0.1261832597126553, 0.8668844201703324, 0.8899747166583329, 0.9048267114213762, 0.8420909260037707, 0.7329544259937302, 0.21023488894709622, 0.6998775487344829, 0.716681016667736, -0.33050532341941397, 0.990281878417407, 1.0, 0.8424905863348712, 0.7470997947480658, 0.6417986815807323], [-0.32042956311433046, 0.003179530340888828, 0.46250665960636733, -0.5826553599613343, 0.6679309100061597, -0.11824451090965375, 0.5657799557690121, 0.591334508198679, 0.8586718754547972, 0.8673631397835099, 0.8269680309278059, -0.004926647322932409, 0.629427963329412, 0.8156471121609706, -0.27664941362422246, 0.816946207672688, 0.8424905863348712, 1.0, 0.9795250567364377, 0.9232980657385182], [-0.274527835005937, -0.043541954270732555, 0.3727028076791137, -0.5491908662494221, 0.5882234640354383, -0.09708800733821119, 0.4293686941057242, 0.4560924936318975, 0.7758590482901637, 0.8116651823476526, 0.7992241897546302, -0.03323194406822633, 0.5931271880217608, 0.8028477365100586, -0.21080536882446127, 0.72211301648508, 0.7470997947480658, 0.9795250567364377, 1.0, 0.9762354850412165], [-0.31758794613822666, -0.15281275786076595, 0.28099304780378465, -0.5187135904085292, 0.5313011583638433, -0.1367449828831197, 0.3114282249275799, 0.3318092530005739, 0.6936219233816446, 0.7516879827239258, 0.7789013563578928, -0.12287450996706144, 0.5383917892701748, 0.8010706261322394, -0.23258567220283474, 0.624951483323927, 0.6417986815807323, 0.9232980657385182, 0.9762354850412165, 1.0]]}],\n",
              "                        {\"height\": 600, \"template\": {\"data\": {\"bar\": [{\"error_x\": {\"color\": \"#2a3f5f\"}, \"error_y\": {\"color\": \"#2a3f5f\"}, \"marker\": {\"line\": {\"color\": \"white\", \"width\": 0.5}}, \"type\": \"bar\"}], \"barpolar\": [{\"marker\": {\"line\": {\"color\": \"white\", \"width\": 0.5}}, \"type\": \"barpolar\"}], \"carpet\": [{\"aaxis\": {\"endlinecolor\": \"#2a3f5f\", \"gridcolor\": \"#C8D4E3\", \"linecolor\": \"#C8D4E3\", \"minorgridcolor\": \"#C8D4E3\", \"startlinecolor\": \"#2a3f5f\"}, \"baxis\": {\"endlinecolor\": \"#2a3f5f\", \"gridcolor\": \"#C8D4E3\", \"linecolor\": \"#C8D4E3\", \"minorgridcolor\": \"#C8D4E3\", \"startlinecolor\": \"#2a3f5f\"}, \"type\": \"carpet\"}], \"choropleth\": [{\"colorbar\": {\"outlinewidth\": 0, \"ticks\": \"\"}, \"type\": \"choropleth\"}], \"contour\": [{\"colorbar\": {\"outlinewidth\": 0, \"ticks\": \"\"}, \"colorscale\": [[0.0, \"#0d0887\"], [0.1111111111111111, \"#46039f\"], [0.2222222222222222, \"#7201a8\"], [0.3333333333333333, \"#9c179e\"], [0.4444444444444444, \"#bd3786\"], [0.5555555555555556, \"#d8576b\"], [0.6666666666666666, \"#ed7953\"], [0.7777777777777778, \"#fb9f3a\"], [0.8888888888888888, \"#fdca26\"], [1.0, \"#f0f921\"]], \"type\": \"contour\"}], \"contourcarpet\": [{\"colorbar\": {\"outlinewidth\": 0, \"ticks\": \"\"}, \"type\": \"contourcarpet\"}], \"heatmap\": [{\"colorbar\": {\"outlinewidth\": 0, \"ticks\": \"\"}, \"colorscale\": [[0.0, \"#0d0887\"], [0.1111111111111111, \"#46039f\"], [0.2222222222222222, \"#7201a8\"], [0.3333333333333333, \"#9c179e\"], [0.4444444444444444, \"#bd3786\"], [0.5555555555555556, \"#d8576b\"], [0.6666666666666666, \"#ed7953\"], [0.7777777777777778, \"#fb9f3a\"], [0.8888888888888888, \"#fdca26\"], [1.0, \"#f0f921\"]], \"type\": \"heatmap\"}], \"heatmapgl\": [{\"colorbar\": {\"outlinewidth\": 0, \"ticks\": \"\"}, \"colorscale\": [[0.0, \"#0d0887\"], [0.1111111111111111, \"#46039f\"], [0.2222222222222222, \"#7201a8\"], [0.3333333333333333, \"#9c179e\"], [0.4444444444444444, \"#bd3786\"], [0.5555555555555556, \"#d8576b\"], [0.6666666666666666, \"#ed7953\"], [0.7777777777777778, \"#fb9f3a\"], [0.8888888888888888, \"#fdca26\"], [1.0, \"#f0f921\"]], \"type\": \"heatmapgl\"}], \"histogram\": [{\"marker\": {\"colorbar\": {\"outlinewidth\": 0, \"ticks\": \"\"}}, \"type\": \"histogram\"}], \"histogram2d\": [{\"colorbar\": {\"outlinewidth\": 0, \"ticks\": \"\"}, \"colorscale\": [[0.0, \"#0d0887\"], [0.1111111111111111, \"#46039f\"], [0.2222222222222222, \"#7201a8\"], [0.3333333333333333, \"#9c179e\"], [0.4444444444444444, \"#bd3786\"], [0.5555555555555556, \"#d8576b\"], [0.6666666666666666, \"#ed7953\"], [0.7777777777777778, \"#fb9f3a\"], [0.8888888888888888, \"#fdca26\"], [1.0, \"#f0f921\"]], \"type\": \"histogram2d\"}], \"histogram2dcontour\": [{\"colorbar\": {\"outlinewidth\": 0, \"ticks\": \"\"}, \"colorscale\": [[0.0, \"#0d0887\"], [0.1111111111111111, \"#46039f\"], [0.2222222222222222, \"#7201a8\"], [0.3333333333333333, \"#9c179e\"], [0.4444444444444444, \"#bd3786\"], [0.5555555555555556, \"#d8576b\"], [0.6666666666666666, \"#ed7953\"], [0.7777777777777778, \"#fb9f3a\"], [0.8888888888888888, \"#fdca26\"], [1.0, \"#f0f921\"]], \"type\": \"histogram2dcontour\"}], \"mesh3d\": [{\"colorbar\": {\"outlinewidth\": 0, \"ticks\": \"\"}, \"type\": \"mesh3d\"}], \"parcoords\": [{\"line\": {\"colorbar\": {\"outlinewidth\": 0, \"ticks\": \"\"}}, \"type\": \"parcoords\"}], \"pie\": [{\"automargin\": true, \"type\": \"pie\"}], \"scatter\": [{\"marker\": {\"colorbar\": {\"outlinewidth\": 0, \"ticks\": \"\"}}, \"type\": \"scatter\"}], \"scatter3d\": [{\"line\": {\"colorbar\": {\"outlinewidth\": 0, \"ticks\": \"\"}}, \"marker\": {\"colorbar\": {\"outlinewidth\": 0, \"ticks\": \"\"}}, \"type\": \"scatter3d\"}], \"scattercarpet\": [{\"marker\": {\"colorbar\": {\"outlinewidth\": 0, \"ticks\": \"\"}}, \"type\": \"scattercarpet\"}], \"scattergeo\": [{\"marker\": {\"colorbar\": {\"outlinewidth\": 0, \"ticks\": \"\"}}, \"type\": \"scattergeo\"}], \"scattergl\": [{\"marker\": {\"colorbar\": {\"outlinewidth\": 0, \"ticks\": \"\"}}, \"type\": \"scattergl\"}], \"scattermapbox\": [{\"marker\": {\"colorbar\": {\"outlinewidth\": 0, \"ticks\": \"\"}}, \"type\": \"scattermapbox\"}], \"scatterpolar\": [{\"marker\": {\"colorbar\": {\"outlinewidth\": 0, \"ticks\": \"\"}}, \"type\": \"scatterpolar\"}], \"scatterpolargl\": [{\"marker\": {\"colorbar\": {\"outlinewidth\": 0, \"ticks\": \"\"}}, \"type\": \"scatterpolargl\"}], \"scatterternary\": [{\"marker\": {\"colorbar\": {\"outlinewidth\": 0, \"ticks\": \"\"}}, \"type\": \"scatterternary\"}], \"surface\": [{\"colorbar\": {\"outlinewidth\": 0, \"ticks\": \"\"}, \"colorscale\": [[0.0, \"#0d0887\"], [0.1111111111111111, \"#46039f\"], [0.2222222222222222, \"#7201a8\"], [0.3333333333333333, \"#9c179e\"], [0.4444444444444444, \"#bd3786\"], [0.5555555555555556, \"#d8576b\"], [0.6666666666666666, \"#ed7953\"], [0.7777777777777778, \"#fb9f3a\"], [0.8888888888888888, \"#fdca26\"], [1.0, \"#f0f921\"]], \"type\": \"surface\"}], \"table\": [{\"cells\": {\"fill\": {\"color\": \"#EBF0F8\"}, \"line\": {\"color\": \"white\"}}, \"header\": {\"fill\": {\"color\": \"#C8D4E3\"}, \"line\": {\"color\": \"white\"}}, \"type\": \"table\"}]}, \"layout\": {\"annotationdefaults\": {\"arrowcolor\": \"#2a3f5f\", \"arrowhead\": 0, \"arrowwidth\": 1}, \"coloraxis\": {\"colorbar\": {\"outlinewidth\": 0, \"ticks\": \"\"}}, \"colorscale\": {\"diverging\": [[0, \"#8e0152\"], [0.1, \"#c51b7d\"], [0.2, \"#de77ae\"], [0.3, \"#f1b6da\"], [0.4, \"#fde0ef\"], [0.5, \"#f7f7f7\"], [0.6, \"#e6f5d0\"], [0.7, \"#b8e186\"], [0.8, \"#7fbc41\"], [0.9, \"#4d9221\"], [1, \"#276419\"]], \"sequential\": [[0.0, \"#0d0887\"], [0.1111111111111111, \"#46039f\"], [0.2222222222222222, \"#7201a8\"], [0.3333333333333333, \"#9c179e\"], [0.4444444444444444, \"#bd3786\"], [0.5555555555555556, \"#d8576b\"], [0.6666666666666666, \"#ed7953\"], [0.7777777777777778, \"#fb9f3a\"], [0.8888888888888888, \"#fdca26\"], [1.0, \"#f0f921\"]], \"sequentialminus\": [[0.0, \"#0d0887\"], [0.1111111111111111, \"#46039f\"], [0.2222222222222222, \"#7201a8\"], [0.3333333333333333, \"#9c179e\"], [0.4444444444444444, \"#bd3786\"], [0.5555555555555556, \"#d8576b\"], [0.6666666666666666, \"#ed7953\"], [0.7777777777777778, \"#fb9f3a\"], [0.8888888888888888, \"#fdca26\"], [1.0, \"#f0f921\"]]}, \"colorway\": [\"#636efa\", \"#EF553B\", \"#00cc96\", \"#ab63fa\", \"#FFA15A\", \"#19d3f3\", \"#FF6692\", \"#B6E880\", \"#FF97FF\", \"#FECB52\"], \"font\": {\"color\": \"#2a3f5f\"}, \"geo\": {\"bgcolor\": \"white\", \"lakecolor\": \"white\", \"landcolor\": \"white\", \"showlakes\": true, \"showland\": true, \"subunitcolor\": \"#C8D4E3\"}, \"hoverlabel\": {\"align\": \"left\"}, \"hovermode\": \"closest\", \"mapbox\": {\"style\": \"light\"}, \"paper_bgcolor\": \"white\", \"plot_bgcolor\": \"white\", \"polar\": {\"angularaxis\": {\"gridcolor\": \"#EBF0F8\", \"linecolor\": \"#EBF0F8\", \"ticks\": \"\"}, \"bgcolor\": \"white\", \"radialaxis\": {\"gridcolor\": \"#EBF0F8\", \"linecolor\": \"#EBF0F8\", \"ticks\": \"\"}}, \"scene\": {\"xaxis\": {\"backgroundcolor\": \"white\", \"gridcolor\": \"#DFE8F3\", \"gridwidth\": 2, \"linecolor\": \"#EBF0F8\", \"showbackground\": true, \"ticks\": \"\", \"zerolinecolor\": \"#EBF0F8\"}, \"yaxis\": {\"backgroundcolor\": \"white\", \"gridcolor\": \"#DFE8F3\", \"gridwidth\": 2, \"linecolor\": \"#EBF0F8\", \"showbackground\": true, \"ticks\": \"\", \"zerolinecolor\": \"#EBF0F8\"}, \"zaxis\": {\"backgroundcolor\": \"white\", \"gridcolor\": \"#DFE8F3\", \"gridwidth\": 2, \"linecolor\": \"#EBF0F8\", \"showbackground\": true, \"ticks\": \"\", \"zerolinecolor\": \"#EBF0F8\"}}, \"shapedefaults\": {\"line\": {\"color\": \"#2a3f5f\"}}, \"ternary\": {\"aaxis\": {\"gridcolor\": \"#DFE8F3\", \"linecolor\": \"#A2B1C6\", \"ticks\": \"\"}, \"baxis\": {\"gridcolor\": \"#DFE8F3\", \"linecolor\": \"#A2B1C6\", \"ticks\": \"\"}, \"bgcolor\": \"white\", \"caxis\": {\"gridcolor\": \"#DFE8F3\", \"linecolor\": \"#A2B1C6\", \"ticks\": \"\"}}, \"title\": {\"x\": 0.05}, \"xaxis\": {\"automargin\": true, \"gridcolor\": \"#EBF0F8\", \"linecolor\": \"#EBF0F8\", \"ticks\": \"\", \"title\": {\"standoff\": 15}, \"zerolinecolor\": \"#EBF0F8\", \"zerolinewidth\": 2}, \"yaxis\": {\"automargin\": true, \"gridcolor\": \"#EBF0F8\", \"linecolor\": \"#EBF0F8\", \"ticks\": \"\", \"title\": {\"standoff\": 15}, \"zerolinecolor\": \"#EBF0F8\", \"zerolinewidth\": 2}}}, \"title\": {\"text\": \"Feature Correlations:Economic Indicators\", \"x\": 0.5}, \"width\": 600, \"yaxis\": {\"autorange\": \"reversed\"}},\n",
              "                        {\"responsive\": true}\n",
              "                    ).then(function(){\n",
              "                            \n",
              "var gd = document.getElementById('24dbaec2-f787-4882-ba06-3bcd63da459f');\n",
              "var x = new MutationObserver(function (mutations, observer) {{\n",
              "        var display = window.getComputedStyle(gd).display;\n",
              "        if (!display || display === 'none') {{\n",
              "            console.log([gd, 'removed!']);\n",
              "            Plotly.purge(gd);\n",
              "            observer.disconnect();\n",
              "        }}\n",
              "}});\n",
              "\n",
              "// Listen for the removal of the full notebook cells\n",
              "var notebookContainer = gd.closest('#notebook-container');\n",
              "if (notebookContainer) {{\n",
              "    x.observe(notebookContainer, {childList: true});\n",
              "}}\n",
              "\n",
              "// Listen for the clearing of the current output cell\n",
              "var outputEl = gd.closest('.output');\n",
              "if (outputEl) {{\n",
              "    x.observe(outputEl, {childList: true});\n",
              "}}\n",
              "\n",
              "                        })\n",
              "                };\n",
              "                \n",
              "            </script>\n",
              "        </div>\n",
              "</body>\n",
              "</html>"
            ]
          },
          "metadata": {}
        }
      ]
    },
    {
      "cell_type": "markdown",
      "metadata": {
        "id": "gVE80BEwlAxQ"
      },
      "source": [
        "### Sentiment\n",
        "+ the news count 2 days prior to the current day has a higher correlation with closing price than the current news count"
      ]
    },
    {
      "cell_type": "code",
      "metadata": {
        "colab": {
          "base_uri": "https://localhost:8080/",
          "height": 634
        },
        "id": "ZF1Ge5asjlY6",
        "outputId": "d2a11224-2f89-4297-cdaf-5607de24cf0a"
      },
      "source": [
        "# sentiment \n",
        "features_to_lag = ['weighted_sentiment','ma_sentiment_10','ma_sentiment_20','ma_sentiment_40','news_count','ma_news_count','sentiment_title','ma_sentiment_title','idx_fear_greed','google_trends']\n",
        "\n",
        "# try shifting from zero to -60 days prior\n",
        "lags = list(range(0,-21,-1))\n",
        "\n",
        "feature_shifts =calc_optimal_feature_lags(df,features_to_lag,lags)\n",
        "print(feature_shifts)\n",
        "\n",
        "# add the optimal feature lags\n",
        "features_to_lag.insert(0,'close')\n",
        "df_sent = shift_features(df[features_to_lag],feature_shifts)\n",
        "\n",
        "# plot corr\n",
        "plot_corr(df_sent,df_sent.columns,'Sentiment')"
      ],
      "execution_count": 33,
      "outputs": [
        {
          "output_type": "stream",
          "name": "stdout",
          "text": [
            "{'news_count': -2}\n"
          ]
        },
        {
          "output_type": "display_data",
          "data": {
            "text/html": [
              "<html>\n",
              "<head><meta charset=\"utf-8\" /></head>\n",
              "<body>\n",
              "    <div>\n",
              "            <script src=\"https://cdnjs.cloudflare.com/ajax/libs/mathjax/2.7.5/MathJax.js?config=TeX-AMS-MML_SVG\"></script><script type=\"text/javascript\">if (window.MathJax) {MathJax.Hub.Config({SVG: {font: \"STIX-Web\"}});}</script>\n",
              "                <script type=\"text/javascript\">window.PlotlyConfig = {MathJaxConfig: 'local'};</script>\n",
              "        <script src=\"https://cdn.plot.ly/plotly-latest.min.js\"></script>    \n",
              "            <div id=\"724f4c67-bed2-4cb3-8efe-9af6da4a4e38\" class=\"plotly-graph-div\" style=\"height:600px; width:600px;\"></div>\n",
              "            <script type=\"text/javascript\">\n",
              "                \n",
              "                    window.PLOTLYENV=window.PLOTLYENV || {};\n",
              "                    \n",
              "                if (document.getElementById(\"724f4c67-bed2-4cb3-8efe-9af6da4a4e38\")) {\n",
              "                    Plotly.newPlot(\n",
              "                        '724f4c67-bed2-4cb3-8efe-9af6da4a4e38',\n",
              "                        [{\"colorscale\": [[0.0, \"rgb(255,255,204)\"], [0.125, \"rgb(255,237,160)\"], [0.25, \"rgb(254,217,118)\"], [0.375, \"rgb(254,178,76)\"], [0.5, \"rgb(253,141,60)\"], [0.625, \"rgb(252,78,42)\"], [0.75, \"rgb(227,26,28)\"], [0.875, \"rgb(189,0,38)\"], [1.0, \"rgb(128,0,38)\"]], \"type\": \"heatmap\", \"x\": [\"close\", \"weighted_sentiment\", \"ma_sentiment_10\", \"ma_sentiment_20\", \"ma_sentiment_40\", \"news_count\", \"ma_news_count\", \"sentiment_title\", \"ma_sentiment_title\", \"idx_fear_greed\", \"google_trends\", \"news_count_shift\"], \"y\": [\"close\", \"weighted_sentiment\", \"ma_sentiment_10\", \"ma_sentiment_20\", \"ma_sentiment_40\", \"news_count\", \"ma_news_count\", \"sentiment_title\", \"ma_sentiment_title\", \"idx_fear_greed\", \"google_trends\", \"news_count_shift\"], \"z\": [[1.0, 0.05665559904132448, 0.18321467019663593, 0.21878619443420985, 0.2433783413585522, 0.4632906120746714, 0.5212528366931161, 0.11808924743871003, 0.23042379531685334, 0.4070655835064593, 0.6632685253038448, 0.47057007718423094], [0.05665559904132448, 1.0, 0.35454181925527223, 0.3023629812482443, 0.2522150659310016, 0.04477280899753361, 0.03818456732744557, 0.05885590367742445, 0.1061552135832151, 0.14023823076440456, 0.04410796966784388, 0.031596000681556186], [0.18321467019663593, 0.35454181925527223, 1.0, 0.818068088113098, 0.6800309920402718, 0.09408326476240378, 0.09995086786592035, 0.09247733100106613, 0.20720443002327213, 0.3798598453324414, 0.12927062336298156, 0.09783903391331421], [0.21878619443420985, 0.3023629812482443, 0.818068088113098, 1.0, 0.8634563911465382, 0.12871151620323226, 0.12045570704244102, 0.05858683080924883, 0.13115157781761902, 0.38582552379046237, 0.15893089130216048, 0.12964335325575554], [0.2433783413585522, 0.2522150659310016, 0.6800309920402718, 0.8634563911465382, 1.0, 0.14143777106124011, 0.15418919182871818, 0.057333700433776, 0.12150164230056477, 0.3519742199745679, 0.1723494010995324, 0.14359735813056812], [0.4632906120746714, 0.04477280899753361, 0.09408326476240378, 0.12871151620323226, 0.14143777106124011, 1.0, 0.839584434255087, 0.09195355688516779, 0.15625980258800778, 0.1391714961586651, 0.07972881049405832, 0.709984839046357], [0.5212528366931161, 0.03818456732744557, 0.09995086786592035, 0.12045570704244102, 0.15418919182871818, 0.839584434255087, 1.0, 0.09803096303594099, 0.17940233140519624, 0.14812946768825092, 0.1120796825874665, 0.8165630370369423], [0.11808924743871003, 0.05885590367742445, 0.09247733100106613, 0.05858683080924883, 0.057333700433776, 0.09195355688516779, 0.09803096303594099, 1.0, 0.4902448091135623, 0.16425227764954045, 0.09004951611813346, 0.08179663401363385], [0.23042379531685334, 0.1061552135832151, 0.20720443002327213, 0.13115157781761902, 0.12150164230056477, 0.15625980258800778, 0.17940233140519624, 0.4902448091135623, 1.0, 0.3148291977945362, 0.16050340434518862, 0.1566933661251657], [0.4070655835064593, 0.14023823076440456, 0.3798598453324414, 0.38582552379046237, 0.3519742199745679, 0.1391714961586651, 0.14812946768825092, 0.16425227764954045, 0.3148291977945362, 1.0, 0.4825012581496736, 0.154064501502356], [0.6632685253038448, 0.04410796966784388, 0.12927062336298156, 0.15893089130216048, 0.1723494010995324, 0.07972881049405832, 0.1120796825874665, 0.09004951611813346, 0.16050340434518862, 0.4825012581496736, 1.0, 0.08733746505171319], [0.47057007718423094, 0.031596000681556186, 0.09783903391331421, 0.12964335325575554, 0.14359735813056812, 0.709984839046357, 0.8165630370369423, 0.08179663401363385, 0.1566933661251657, 0.154064501502356, 0.08733746505171319, 1.0]]}],\n",
              "                        {\"height\": 600, \"template\": {\"data\": {\"bar\": [{\"error_x\": {\"color\": \"#2a3f5f\"}, \"error_y\": {\"color\": \"#2a3f5f\"}, \"marker\": {\"line\": {\"color\": \"white\", \"width\": 0.5}}, \"type\": \"bar\"}], \"barpolar\": [{\"marker\": {\"line\": {\"color\": \"white\", \"width\": 0.5}}, \"type\": \"barpolar\"}], \"carpet\": [{\"aaxis\": {\"endlinecolor\": \"#2a3f5f\", \"gridcolor\": \"#C8D4E3\", \"linecolor\": \"#C8D4E3\", \"minorgridcolor\": \"#C8D4E3\", \"startlinecolor\": \"#2a3f5f\"}, \"baxis\": {\"endlinecolor\": \"#2a3f5f\", \"gridcolor\": \"#C8D4E3\", \"linecolor\": \"#C8D4E3\", \"minorgridcolor\": \"#C8D4E3\", \"startlinecolor\": \"#2a3f5f\"}, \"type\": \"carpet\"}], \"choropleth\": [{\"colorbar\": {\"outlinewidth\": 0, \"ticks\": \"\"}, \"type\": \"choropleth\"}], \"contour\": [{\"colorbar\": {\"outlinewidth\": 0, \"ticks\": \"\"}, \"colorscale\": [[0.0, \"#0d0887\"], [0.1111111111111111, \"#46039f\"], [0.2222222222222222, \"#7201a8\"], [0.3333333333333333, \"#9c179e\"], [0.4444444444444444, \"#bd3786\"], [0.5555555555555556, \"#d8576b\"], [0.6666666666666666, \"#ed7953\"], [0.7777777777777778, \"#fb9f3a\"], [0.8888888888888888, \"#fdca26\"], [1.0, \"#f0f921\"]], \"type\": \"contour\"}], \"contourcarpet\": [{\"colorbar\": {\"outlinewidth\": 0, \"ticks\": \"\"}, \"type\": \"contourcarpet\"}], \"heatmap\": [{\"colorbar\": {\"outlinewidth\": 0, \"ticks\": \"\"}, \"colorscale\": [[0.0, \"#0d0887\"], [0.1111111111111111, \"#46039f\"], [0.2222222222222222, \"#7201a8\"], [0.3333333333333333, \"#9c179e\"], [0.4444444444444444, \"#bd3786\"], [0.5555555555555556, \"#d8576b\"], [0.6666666666666666, \"#ed7953\"], [0.7777777777777778, \"#fb9f3a\"], [0.8888888888888888, \"#fdca26\"], [1.0, \"#f0f921\"]], \"type\": \"heatmap\"}], \"heatmapgl\": [{\"colorbar\": {\"outlinewidth\": 0, \"ticks\": \"\"}, \"colorscale\": [[0.0, \"#0d0887\"], [0.1111111111111111, \"#46039f\"], [0.2222222222222222, \"#7201a8\"], [0.3333333333333333, \"#9c179e\"], [0.4444444444444444, \"#bd3786\"], [0.5555555555555556, \"#d8576b\"], [0.6666666666666666, \"#ed7953\"], [0.7777777777777778, \"#fb9f3a\"], [0.8888888888888888, \"#fdca26\"], [1.0, \"#f0f921\"]], \"type\": \"heatmapgl\"}], \"histogram\": [{\"marker\": {\"colorbar\": {\"outlinewidth\": 0, \"ticks\": \"\"}}, \"type\": \"histogram\"}], \"histogram2d\": [{\"colorbar\": {\"outlinewidth\": 0, \"ticks\": \"\"}, \"colorscale\": [[0.0, \"#0d0887\"], [0.1111111111111111, \"#46039f\"], [0.2222222222222222, \"#7201a8\"], [0.3333333333333333, \"#9c179e\"], [0.4444444444444444, \"#bd3786\"], [0.5555555555555556, \"#d8576b\"], [0.6666666666666666, \"#ed7953\"], [0.7777777777777778, \"#fb9f3a\"], [0.8888888888888888, \"#fdca26\"], [1.0, \"#f0f921\"]], \"type\": \"histogram2d\"}], \"histogram2dcontour\": [{\"colorbar\": {\"outlinewidth\": 0, \"ticks\": \"\"}, \"colorscale\": [[0.0, \"#0d0887\"], [0.1111111111111111, \"#46039f\"], [0.2222222222222222, \"#7201a8\"], [0.3333333333333333, \"#9c179e\"], [0.4444444444444444, \"#bd3786\"], [0.5555555555555556, \"#d8576b\"], [0.6666666666666666, \"#ed7953\"], [0.7777777777777778, \"#fb9f3a\"], [0.8888888888888888, \"#fdca26\"], [1.0, \"#f0f921\"]], \"type\": \"histogram2dcontour\"}], \"mesh3d\": [{\"colorbar\": {\"outlinewidth\": 0, \"ticks\": \"\"}, \"type\": \"mesh3d\"}], \"parcoords\": [{\"line\": {\"colorbar\": {\"outlinewidth\": 0, \"ticks\": \"\"}}, \"type\": \"parcoords\"}], \"pie\": [{\"automargin\": true, \"type\": \"pie\"}], \"scatter\": [{\"marker\": {\"colorbar\": {\"outlinewidth\": 0, \"ticks\": \"\"}}, \"type\": \"scatter\"}], \"scatter3d\": [{\"line\": {\"colorbar\": {\"outlinewidth\": 0, \"ticks\": \"\"}}, \"marker\": {\"colorbar\": {\"outlinewidth\": 0, \"ticks\": \"\"}}, \"type\": \"scatter3d\"}], \"scattercarpet\": [{\"marker\": {\"colorbar\": {\"outlinewidth\": 0, \"ticks\": \"\"}}, \"type\": \"scattercarpet\"}], \"scattergeo\": [{\"marker\": {\"colorbar\": {\"outlinewidth\": 0, \"ticks\": \"\"}}, \"type\": \"scattergeo\"}], \"scattergl\": [{\"marker\": {\"colorbar\": {\"outlinewidth\": 0, \"ticks\": \"\"}}, \"type\": \"scattergl\"}], \"scattermapbox\": [{\"marker\": {\"colorbar\": {\"outlinewidth\": 0, \"ticks\": \"\"}}, \"type\": \"scattermapbox\"}], \"scatterpolar\": [{\"marker\": {\"colorbar\": {\"outlinewidth\": 0, \"ticks\": \"\"}}, \"type\": \"scatterpolar\"}], \"scatterpolargl\": [{\"marker\": {\"colorbar\": {\"outlinewidth\": 0, \"ticks\": \"\"}}, \"type\": \"scatterpolargl\"}], \"scatterternary\": [{\"marker\": {\"colorbar\": {\"outlinewidth\": 0, \"ticks\": \"\"}}, \"type\": \"scatterternary\"}], \"surface\": [{\"colorbar\": {\"outlinewidth\": 0, \"ticks\": \"\"}, \"colorscale\": [[0.0, \"#0d0887\"], [0.1111111111111111, \"#46039f\"], [0.2222222222222222, \"#7201a8\"], [0.3333333333333333, \"#9c179e\"], [0.4444444444444444, \"#bd3786\"], [0.5555555555555556, \"#d8576b\"], [0.6666666666666666, \"#ed7953\"], [0.7777777777777778, \"#fb9f3a\"], [0.8888888888888888, \"#fdca26\"], [1.0, \"#f0f921\"]], \"type\": \"surface\"}], \"table\": [{\"cells\": {\"fill\": {\"color\": \"#EBF0F8\"}, \"line\": {\"color\": \"white\"}}, \"header\": {\"fill\": {\"color\": \"#C8D4E3\"}, \"line\": {\"color\": \"white\"}}, \"type\": \"table\"}]}, \"layout\": {\"annotationdefaults\": {\"arrowcolor\": \"#2a3f5f\", \"arrowhead\": 0, \"arrowwidth\": 1}, \"coloraxis\": {\"colorbar\": {\"outlinewidth\": 0, \"ticks\": \"\"}}, \"colorscale\": {\"diverging\": [[0, \"#8e0152\"], [0.1, \"#c51b7d\"], [0.2, \"#de77ae\"], [0.3, \"#f1b6da\"], [0.4, \"#fde0ef\"], [0.5, \"#f7f7f7\"], [0.6, \"#e6f5d0\"], [0.7, \"#b8e186\"], [0.8, \"#7fbc41\"], [0.9, \"#4d9221\"], [1, \"#276419\"]], \"sequential\": [[0.0, \"#0d0887\"], [0.1111111111111111, \"#46039f\"], [0.2222222222222222, \"#7201a8\"], [0.3333333333333333, \"#9c179e\"], [0.4444444444444444, \"#bd3786\"], [0.5555555555555556, \"#d8576b\"], [0.6666666666666666, \"#ed7953\"], [0.7777777777777778, \"#fb9f3a\"], [0.8888888888888888, \"#fdca26\"], [1.0, \"#f0f921\"]], \"sequentialminus\": [[0.0, \"#0d0887\"], [0.1111111111111111, \"#46039f\"], [0.2222222222222222, \"#7201a8\"], [0.3333333333333333, \"#9c179e\"], [0.4444444444444444, \"#bd3786\"], [0.5555555555555556, \"#d8576b\"], [0.6666666666666666, \"#ed7953\"], [0.7777777777777778, \"#fb9f3a\"], [0.8888888888888888, \"#fdca26\"], [1.0, \"#f0f921\"]]}, \"colorway\": [\"#636efa\", \"#EF553B\", \"#00cc96\", \"#ab63fa\", \"#FFA15A\", \"#19d3f3\", \"#FF6692\", \"#B6E880\", \"#FF97FF\", \"#FECB52\"], \"font\": {\"color\": \"#2a3f5f\"}, \"geo\": {\"bgcolor\": \"white\", \"lakecolor\": \"white\", \"landcolor\": \"white\", \"showlakes\": true, \"showland\": true, \"subunitcolor\": \"#C8D4E3\"}, \"hoverlabel\": {\"align\": \"left\"}, \"hovermode\": \"closest\", \"mapbox\": {\"style\": \"light\"}, \"paper_bgcolor\": \"white\", \"plot_bgcolor\": \"white\", \"polar\": {\"angularaxis\": {\"gridcolor\": \"#EBF0F8\", \"linecolor\": \"#EBF0F8\", \"ticks\": \"\"}, \"bgcolor\": \"white\", \"radialaxis\": {\"gridcolor\": \"#EBF0F8\", \"linecolor\": \"#EBF0F8\", \"ticks\": \"\"}}, \"scene\": {\"xaxis\": {\"backgroundcolor\": \"white\", \"gridcolor\": \"#DFE8F3\", \"gridwidth\": 2, \"linecolor\": \"#EBF0F8\", \"showbackground\": true, \"ticks\": \"\", \"zerolinecolor\": \"#EBF0F8\"}, \"yaxis\": {\"backgroundcolor\": \"white\", \"gridcolor\": \"#DFE8F3\", \"gridwidth\": 2, \"linecolor\": \"#EBF0F8\", \"showbackground\": true, \"ticks\": \"\", \"zerolinecolor\": \"#EBF0F8\"}, \"zaxis\": {\"backgroundcolor\": \"white\", \"gridcolor\": \"#DFE8F3\", \"gridwidth\": 2, \"linecolor\": \"#EBF0F8\", \"showbackground\": true, \"ticks\": \"\", \"zerolinecolor\": \"#EBF0F8\"}}, \"shapedefaults\": {\"line\": {\"color\": \"#2a3f5f\"}}, \"ternary\": {\"aaxis\": {\"gridcolor\": \"#DFE8F3\", \"linecolor\": \"#A2B1C6\", \"ticks\": \"\"}, \"baxis\": {\"gridcolor\": \"#DFE8F3\", \"linecolor\": \"#A2B1C6\", \"ticks\": \"\"}, \"bgcolor\": \"white\", \"caxis\": {\"gridcolor\": \"#DFE8F3\", \"linecolor\": \"#A2B1C6\", \"ticks\": \"\"}}, \"title\": {\"x\": 0.05}, \"xaxis\": {\"automargin\": true, \"gridcolor\": \"#EBF0F8\", \"linecolor\": \"#EBF0F8\", \"ticks\": \"\", \"title\": {\"standoff\": 15}, \"zerolinecolor\": \"#EBF0F8\", \"zerolinewidth\": 2}, \"yaxis\": {\"automargin\": true, \"gridcolor\": \"#EBF0F8\", \"linecolor\": \"#EBF0F8\", \"ticks\": \"\", \"title\": {\"standoff\": 15}, \"zerolinecolor\": \"#EBF0F8\", \"zerolinewidth\": 2}}}, \"title\": {\"text\": \"Feature Correlations:Sentiment\", \"x\": 0.5}, \"width\": 600, \"yaxis\": {\"autorange\": \"reversed\"}},\n",
              "                        {\"responsive\": true}\n",
              "                    ).then(function(){\n",
              "                            \n",
              "var gd = document.getElementById('724f4c67-bed2-4cb3-8efe-9af6da4a4e38');\n",
              "var x = new MutationObserver(function (mutations, observer) {{\n",
              "        var display = window.getComputedStyle(gd).display;\n",
              "        if (!display || display === 'none') {{\n",
              "            console.log([gd, 'removed!']);\n",
              "            Plotly.purge(gd);\n",
              "            observer.disconnect();\n",
              "        }}\n",
              "}});\n",
              "\n",
              "// Listen for the removal of the full notebook cells\n",
              "var notebookContainer = gd.closest('#notebook-container');\n",
              "if (notebookContainer) {{\n",
              "    x.observe(notebookContainer, {childList: true});\n",
              "}}\n",
              "\n",
              "// Listen for the clearing of the current output cell\n",
              "var outputEl = gd.closest('.output');\n",
              "if (outputEl) {{\n",
              "    x.observe(outputEl, {childList: true});\n",
              "}}\n",
              "\n",
              "                        })\n",
              "                };\n",
              "                \n",
              "            </script>\n",
              "        </div>\n",
              "</body>\n",
              "</html>"
            ]
          },
          "metadata": {}
        }
      ]
    },
    {
      "cell_type": "markdown",
      "metadata": {
        "id": "neR_EB_1lTld"
      },
      "source": [
        "### Commodities, FX Rates and Indexes\n",
        "+ OIL, natural gas (BOIL) and DOGE have significantly higher correlations when lagged"
      ]
    },
    {
      "cell_type": "code",
      "metadata": {
        "colab": {
          "base_uri": "https://localhost:8080/",
          "height": 634
        },
        "id": "bS_-2ju5kRoR",
        "outputId": "3513ae11-beca-4dc1-82e4-e331a7979ada"
      },
      "source": [
        "# technical indicators \n",
        "features_to_lag =['GLD','OIL','BOIL','VXX','SPY','XLE','QQQ','USDEUR','USDGBP','USDJPY','ETH','LTC','DOGE']\n",
        "\n",
        "\n",
        "# try shifting from zero to -60 days prior\n",
        "lags = list(range(0,-120,-10))\n",
        "\n",
        "feature_shifts =calc_optimal_feature_lags(df,features_to_lag,lags)\n",
        "print(feature_shifts)\n",
        "\n",
        "# add the optimal feature lags\n",
        "features_to_lag.insert(0,'close')\n",
        "df_com = shift_features(df[features_to_lag],feature_shifts)\n",
        "\n",
        "# plot corr\n",
        "plot_corr(df_com,df_com.columns,'Commodities, FX Rates & Indexes')\n"
      ],
      "execution_count": 54,
      "outputs": [
        {
          "output_type": "stream",
          "name": "stdout",
          "text": [
            "{'OIL': -110, 'BOIL': -110, 'VXX': -110, 'USDEUR': -10, 'USDGBP': -100, 'ETH': -30, 'DOGE': -60}\n"
          ]
        },
        {
          "output_type": "display_data",
          "data": {
            "text/html": [
              "<html>\n",
              "<head><meta charset=\"utf-8\" /></head>\n",
              "<body>\n",
              "    <div>\n",
              "            <script src=\"https://cdnjs.cloudflare.com/ajax/libs/mathjax/2.7.5/MathJax.js?config=TeX-AMS-MML_SVG\"></script><script type=\"text/javascript\">if (window.MathJax) {MathJax.Hub.Config({SVG: {font: \"STIX-Web\"}});}</script>\n",
              "                <script type=\"text/javascript\">window.PlotlyConfig = {MathJaxConfig: 'local'};</script>\n",
              "        <script src=\"https://cdn.plot.ly/plotly-latest.min.js\"></script>    \n",
              "            <div id=\"4736ddcb-4baf-4f3c-9f88-205a4a1831af\" class=\"plotly-graph-div\" style=\"height:600px; width:600px;\"></div>\n",
              "            <script type=\"text/javascript\">\n",
              "                \n",
              "                    window.PLOTLYENV=window.PLOTLYENV || {};\n",
              "                    \n",
              "                if (document.getElementById(\"4736ddcb-4baf-4f3c-9f88-205a4a1831af\")) {\n",
              "                    Plotly.newPlot(\n",
              "                        '4736ddcb-4baf-4f3c-9f88-205a4a1831af',\n",
              "                        [{\"colorscale\": [[0.0, \"rgb(255,255,204)\"], [0.125, \"rgb(255,237,160)\"], [0.25, \"rgb(254,217,118)\"], [0.375, \"rgb(254,178,76)\"], [0.5, \"rgb(253,141,60)\"], [0.625, \"rgb(252,78,42)\"], [0.75, \"rgb(227,26,28)\"], [0.875, \"rgb(189,0,38)\"], [1.0, \"rgb(128,0,38)\"]], \"type\": \"heatmap\", \"x\": [\"close\", \"GLD\", \"OIL\", \"BOIL\", \"VXX\", \"SPY\", \"XLE\", \"QQQ\", \"USDEUR\", \"USDGBP\", \"USDJPY\", \"ETH\", \"LTC\", \"DOGE\", \"OIL_shift\", \"BOIL_shift\", \"VXX_shift\", \"USDEUR_shift\", \"USDGBP_shift\", \"ETH_shift\", \"DOGE_shift\"], \"y\": [\"close\", \"GLD\", \"OIL\", \"BOIL\", \"VXX\", \"SPY\", \"XLE\", \"QQQ\", \"USDEUR\", \"USDGBP\", \"USDJPY\", \"ETH\", \"LTC\", \"DOGE\", \"OIL_shift\", \"BOIL_shift\", \"VXX_shift\", \"USDEUR_shift\", \"USDGBP_shift\", \"ETH_shift\", \"DOGE_shift\"], \"z\": [[1.0, 0.5389473485188698, 0.08950203520883142, 0.022995918967080777, -0.36730207883856386, 0.8386778612682402, -0.2886201078156617, 0.7963085961229575, -0.47615160900067977, -0.545953928493135, -0.2390216486417486, 0.8855675861002587, 0.7103313284676043, 0.6553005389077848, 0.4101538819454401, 0.3988306641931917, -0.03016295018325074, -0.47565275556329517, -0.5875830896545554, 0.9388067998126165, 0.884494645404659], [0.5389473485188698, 1.0, -0.586366236952474, 0.21321111329561324, -0.3496314851782706, 0.7676244543507623, -0.8771756772087529, 0.8753973930364152, -0.17367268383165485, -0.09331459959493817, -0.7128263348906252, 0.40708839655509577, 0.10979594800538435, 0.3403375445707214, -0.18398300389108957, 0.29830270047744384, -0.4513612181364813, -0.19172010463652056, -0.41171856140071483, 0.44728566592370583, 0.37861773711423435], [0.08950203520883142, -0.586366236952474, 1.0, -0.15420197265065036, -0.05759916744557953, -0.02072981105436061, 0.8454546138399136, -0.22989662043363676, -0.27014877640783885, -0.4679339831722726, 0.5421986837578497, 0.2552984485743339, 0.33521292707374006, 0.23366257501979806, 0.4756272028266984, 0.08909786956856963, 0.37761707793890587, -0.2172502551641002, 0.11948735231727879, 0.16732823429640933, 0.19703319892441976], [0.022995918967080777, 0.21321111329561324, -0.15420197265065036, 1.0, 0.16508413439909977, 0.1466330778395337, -0.224029017594504, 0.2493575521888456, -0.11227039541581917, 0.03837686469542941, -0.055955439312453795, 0.020080453588894803, -0.24509598383964273, 0.07190998912131867, 0.08507271199875595, 0.25800033147994733, -0.3016624200851253, -0.1136561863707083, -0.17667101775015104, 0.007963209217030457, 0.05640954754911408], [-0.36730207883856386, -0.3496314851782706, -0.05759916744557953, 0.16508413439909977, 1.0, -0.546713809047194, 0.16486649852920218, -0.4668962342193871, -0.06161362285493456, 0.08547930208931744, 0.21144100456488546, -0.09351415440878402, -0.07455645226405766, 0.06473010728931351, 0.18463299521675355, 0.14036826226150548, 0.06728836021133044, -0.050585133672394485, 0.09100661666951583, -0.24356639364061686, -0.27096162106607147], [0.8386778612682402, 0.7676244543507623, -0.02072981105436061, 0.1466330778395337, -0.546713809047194, 1.0, -0.4811431799223267, 0.9648229173701087, -0.3495186539154981, -0.4350803447138711, -0.39448971512863845, 0.7460432294302415, 0.4200275205834533, 0.643197525509256, 0.14067350180958552, 0.43947279491351177, -0.23131629065608234, -0.34994066896029885, -0.44168730938430784, 0.7701880203690945, 0.723151269721984], [-0.2886201078156617, -0.8771756772087529, 0.8454546138399136, -0.224029017594504, 0.16486649852920218, -0.4811431799223267, 1.0, -0.6610473526049195, -0.10155459602546656, -0.2359132089787851, 0.6810111020568772, -0.0934433250201958, 0.16631143704395152, -0.08976009545320918, 0.39172719364593944, -0.12842271650146198, 0.4564239038309512, -0.06532941233639902, 0.22204322392485779, -0.17732948013085162, -0.16224887338358465], [0.7963085961229575, 0.8753973930364152, -0.22989662043363676, 0.2493575521888456, -0.4668962342193871, 0.9648229173701087, -0.6610473526049195, 1.0, -0.33760551829343155, -0.34304363251786957, -0.5129713977850253, 0.6706951327628499, 0.3246363140845626, 0.5527961401339543, 0.0701402632547882, 0.44269257772040865, -0.30556726261816725, -0.34824059350798, -0.4787568990938305, 0.719791080360808, 0.664340564091748], [-0.47615160900067977, -0.17367268383165485, -0.27014877640783885, -0.11227039541581917, -0.06161362285493456, -0.3495186539154981, -0.10155459602546656, -0.33760551829343155, 1.0, 0.849242102677765, 0.2007298748701975, -0.6004122098604017, -0.6348168736927486, -0.3259564654918932, -0.6385677651311944, -0.27699676638252096, -0.10792107453939316, 0.9579438521016375, 0.6783837887309919, -0.5940279284398302, -0.35892562800306266], [-0.545953928493135, -0.09331459959493817, -0.4679339831722726, 0.03837686469542941, 0.08547930208931744, -0.4350803447138711, -0.2359132089787851, -0.34304363251786957, 0.849242102677765, 1.0, 0.011787367559508967, -0.6785031589482785, -0.6826147942205096, -0.4367916001105657, -0.5687193222671091, -0.319677151193002, -0.27612339796205826, 0.7979119053635355, 0.49732039835885367, -0.6566253097144056, -0.493911401270741], [-0.2390216486417486, -0.7128263348906252, 0.5421986837578497, -0.055955439312453795, 0.21144100456488546, -0.39448971512863845, 0.6810111020568772, -0.5129713977850253, 0.2007298748701975, 0.011787367559508967, 1.0, -0.08800619258328828, -0.03497200191222132, 0.036964786401027336, 0.10966465401272087, 0.0360167015827105, 0.5091623159391776, 0.1844346480273204, 0.2283845114975969, -0.13076384287774778, -0.03674162937657477], [0.8855675861002587, 0.40708839655509577, 0.2552984485743339, 0.020080453588894803, -0.09351415440878402, 0.7460432294302415, -0.0934433250201958, 0.6706951327628499, -0.6004122098604017, -0.6785031589482785, -0.08800619258328828, 1.0, 0.8059940801286501, 0.8568489551338272, 0.54404271245086, 0.5413279358932914, 0.03925084073303205, -0.5936112526767077, -0.5727267889302502, 0.9105522956931515, 0.7851199062955895], [0.7103313284676043, 0.10979594800538435, 0.33521292707374006, -0.24509598383964273, -0.07455645226405766, 0.4200275205834533, 0.16631143704395152, 0.3246363140845626, -0.6348168736927486, -0.6826147942205096, -0.03497200191222132, 0.8059940801286501, 1.0, 0.566160698069953, 0.5877495719894376, 0.30251438244135975, 0.17331767195138564, -0.6380570566383852, -0.5034032557300895, 0.7540809382122406, 0.5643961933009283], [0.6553005389077848, 0.3403375445707214, 0.23366257501979806, 0.07190998912131867, 0.06473010728931351, 0.643197525509256, -0.08976009545320918, 0.5527961401339543, -0.3259564654918932, -0.4367916001105657, 0.036964786401027336, 0.8568489551338272, 0.566160698069953, 1.0, 0.3471560379858108, 0.5311378545532406, -0.05216138163140559, -0.3183970340328215, -0.3232730926248074, 0.6810493229584336, 0.6025377089503213], [0.4101538819454401, -0.18398300389108957, 0.4756272028266984, 0.08507271199875595, 0.18463299521675355, 0.14067350180958552, 0.39172719364593944, 0.0701402632547882, -0.6385677651311944, -0.5687193222671091, 0.10966465401272087, 0.54404271245086, 0.5877495719894376, 0.3471560379858108, 1.0, 0.14217189557951784, -0.08065560269811403, -0.606118787923379, -0.5358057173538608, 0.526812218774251, 0.4282408016714983], [0.3988306641931917, 0.29830270047744384, 0.08909786956856963, 0.25800033147994733, 0.14036826226150548, 0.43947279491351177, -0.12842271650146198, 0.44269257772040865, -0.27699676638252096, -0.319677151193002, 0.0360167015827105, 0.5413279358932914, 0.30251438244135975, 0.5311378545532406, 0.14217189557951784, 1.0, 0.1118058068349216, -0.2734995438063508, -0.2091069706917629, 0.4642442241421128, 0.4370300949894564], [-0.03016295018325074, -0.4513612181364813, 0.37761707793890587, -0.3016624200851253, 0.06728836021133044, -0.23131629065608234, 0.4564239038309512, -0.30556726261816725, -0.10792107453939316, -0.27612339796205826, 0.5091623159391776, 0.03925084073303205, 0.17331767195138564, -0.05216138163140559, -0.08065560269811403, 0.1118058068349216, 1.0, -0.10657744456177064, 0.0496082507931046, 0.043255715454020564, -0.017885280297271402], [-0.47565275556329517, -0.19172010463652056, -0.2172502551641002, -0.1136561863707083, -0.050585133672394485, -0.34994066896029885, -0.06532941233639902, -0.34824059350798, 0.9579438521016375, 0.7979119053635355, 0.1844346480273204, -0.5936112526767077, -0.6380570566383852, -0.3183970340328215, -0.606118787923379, -0.2734995438063508, -0.10657744456177064, 1.0, 0.7091451354186363, -0.5985875539063132, -0.3456779388690409], [-0.5875830896545554, -0.41171856140071483, 0.11948735231727879, -0.17667101775015104, 0.09100661666951583, -0.44168730938430784, 0.22204322392485779, -0.4787568990938305, 0.6783837887309919, 0.49732039835885367, 0.2283845114975969, -0.5727267889302502, -0.5034032557300895, -0.3232730926248074, -0.5358057173538608, -0.2091069706917629, 0.0496082507931046, 0.7091451354186363, 1.0, -0.6334189297213164, -0.44995157972418864], [0.9388067998126165, 0.44728566592370583, 0.16732823429640933, 0.007963209217030457, -0.24356639364061686, 0.7701880203690945, -0.17732948013085162, 0.719791080360808, -0.5940279284398302, -0.6566253097144056, -0.13076384287774778, 0.9105522956931515, 0.7540809382122406, 0.6810493229584336, 0.526812218774251, 0.4642442241421128, 0.043255715454020564, -0.5985875539063132, -0.6334189297213164, 1.0, 0.8423501835910271], [0.884494645404659, 0.37861773711423435, 0.19703319892441976, 0.05640954754911408, -0.27096162106607147, 0.723151269721984, -0.16224887338358465, 0.664340564091748, -0.35892562800306266, -0.493911401270741, -0.03674162937657477, 0.7851199062955895, 0.5643961933009283, 0.6025377089503213, 0.4282408016714983, 0.4370300949894564, -0.017885280297271402, -0.3456779388690409, -0.44995157972418864, 0.8423501835910271, 1.0]]}],\n",
              "                        {\"height\": 600, \"template\": {\"data\": {\"bar\": [{\"error_x\": {\"color\": \"#2a3f5f\"}, \"error_y\": {\"color\": \"#2a3f5f\"}, \"marker\": {\"line\": {\"color\": \"white\", \"width\": 0.5}}, \"type\": \"bar\"}], \"barpolar\": [{\"marker\": {\"line\": {\"color\": \"white\", \"width\": 0.5}}, \"type\": \"barpolar\"}], \"carpet\": [{\"aaxis\": {\"endlinecolor\": \"#2a3f5f\", \"gridcolor\": \"#C8D4E3\", \"linecolor\": \"#C8D4E3\", \"minorgridcolor\": \"#C8D4E3\", \"startlinecolor\": \"#2a3f5f\"}, \"baxis\": {\"endlinecolor\": \"#2a3f5f\", \"gridcolor\": \"#C8D4E3\", \"linecolor\": \"#C8D4E3\", \"minorgridcolor\": \"#C8D4E3\", \"startlinecolor\": \"#2a3f5f\"}, \"type\": \"carpet\"}], \"choropleth\": [{\"colorbar\": {\"outlinewidth\": 0, \"ticks\": \"\"}, \"type\": \"choropleth\"}], \"contour\": [{\"colorbar\": {\"outlinewidth\": 0, \"ticks\": \"\"}, \"colorscale\": [[0.0, \"#0d0887\"], [0.1111111111111111, \"#46039f\"], [0.2222222222222222, \"#7201a8\"], [0.3333333333333333, \"#9c179e\"], [0.4444444444444444, \"#bd3786\"], [0.5555555555555556, \"#d8576b\"], [0.6666666666666666, \"#ed7953\"], [0.7777777777777778, \"#fb9f3a\"], [0.8888888888888888, \"#fdca26\"], [1.0, \"#f0f921\"]], \"type\": \"contour\"}], \"contourcarpet\": [{\"colorbar\": {\"outlinewidth\": 0, \"ticks\": \"\"}, \"type\": \"contourcarpet\"}], \"heatmap\": [{\"colorbar\": {\"outlinewidth\": 0, \"ticks\": \"\"}, \"colorscale\": [[0.0, \"#0d0887\"], [0.1111111111111111, \"#46039f\"], [0.2222222222222222, \"#7201a8\"], [0.3333333333333333, \"#9c179e\"], [0.4444444444444444, \"#bd3786\"], [0.5555555555555556, \"#d8576b\"], [0.6666666666666666, \"#ed7953\"], [0.7777777777777778, \"#fb9f3a\"], [0.8888888888888888, \"#fdca26\"], [1.0, \"#f0f921\"]], \"type\": \"heatmap\"}], \"heatmapgl\": [{\"colorbar\": {\"outlinewidth\": 0, \"ticks\": \"\"}, \"colorscale\": [[0.0, \"#0d0887\"], [0.1111111111111111, \"#46039f\"], [0.2222222222222222, \"#7201a8\"], [0.3333333333333333, \"#9c179e\"], [0.4444444444444444, \"#bd3786\"], [0.5555555555555556, \"#d8576b\"], [0.6666666666666666, \"#ed7953\"], [0.7777777777777778, \"#fb9f3a\"], [0.8888888888888888, \"#fdca26\"], [1.0, \"#f0f921\"]], \"type\": \"heatmapgl\"}], \"histogram\": [{\"marker\": {\"colorbar\": {\"outlinewidth\": 0, \"ticks\": \"\"}}, \"type\": \"histogram\"}], \"histogram2d\": [{\"colorbar\": {\"outlinewidth\": 0, \"ticks\": \"\"}, \"colorscale\": [[0.0, \"#0d0887\"], [0.1111111111111111, \"#46039f\"], [0.2222222222222222, \"#7201a8\"], [0.3333333333333333, \"#9c179e\"], [0.4444444444444444, \"#bd3786\"], [0.5555555555555556, \"#d8576b\"], [0.6666666666666666, \"#ed7953\"], [0.7777777777777778, \"#fb9f3a\"], [0.8888888888888888, \"#fdca26\"], [1.0, \"#f0f921\"]], \"type\": \"histogram2d\"}], \"histogram2dcontour\": [{\"colorbar\": {\"outlinewidth\": 0, \"ticks\": \"\"}, \"colorscale\": [[0.0, \"#0d0887\"], [0.1111111111111111, \"#46039f\"], [0.2222222222222222, \"#7201a8\"], [0.3333333333333333, \"#9c179e\"], [0.4444444444444444, \"#bd3786\"], [0.5555555555555556, \"#d8576b\"], [0.6666666666666666, \"#ed7953\"], [0.7777777777777778, \"#fb9f3a\"], [0.8888888888888888, \"#fdca26\"], [1.0, \"#f0f921\"]], \"type\": \"histogram2dcontour\"}], \"mesh3d\": [{\"colorbar\": {\"outlinewidth\": 0, \"ticks\": \"\"}, \"type\": \"mesh3d\"}], \"parcoords\": [{\"line\": {\"colorbar\": {\"outlinewidth\": 0, \"ticks\": \"\"}}, \"type\": \"parcoords\"}], \"pie\": [{\"automargin\": true, \"type\": \"pie\"}], \"scatter\": [{\"marker\": {\"colorbar\": {\"outlinewidth\": 0, \"ticks\": \"\"}}, \"type\": \"scatter\"}], \"scatter3d\": [{\"line\": {\"colorbar\": {\"outlinewidth\": 0, \"ticks\": \"\"}}, \"marker\": {\"colorbar\": {\"outlinewidth\": 0, \"ticks\": \"\"}}, \"type\": \"scatter3d\"}], \"scattercarpet\": [{\"marker\": {\"colorbar\": {\"outlinewidth\": 0, \"ticks\": \"\"}}, \"type\": \"scattercarpet\"}], \"scattergeo\": [{\"marker\": {\"colorbar\": {\"outlinewidth\": 0, \"ticks\": \"\"}}, \"type\": \"scattergeo\"}], \"scattergl\": [{\"marker\": {\"colorbar\": {\"outlinewidth\": 0, \"ticks\": \"\"}}, \"type\": \"scattergl\"}], \"scattermapbox\": [{\"marker\": {\"colorbar\": {\"outlinewidth\": 0, \"ticks\": \"\"}}, \"type\": \"scattermapbox\"}], \"scatterpolar\": [{\"marker\": {\"colorbar\": {\"outlinewidth\": 0, \"ticks\": \"\"}}, \"type\": \"scatterpolar\"}], \"scatterpolargl\": [{\"marker\": {\"colorbar\": {\"outlinewidth\": 0, \"ticks\": \"\"}}, \"type\": \"scatterpolargl\"}], \"scatterternary\": [{\"marker\": {\"colorbar\": {\"outlinewidth\": 0, \"ticks\": \"\"}}, \"type\": \"scatterternary\"}], \"surface\": [{\"colorbar\": {\"outlinewidth\": 0, \"ticks\": \"\"}, \"colorscale\": [[0.0, \"#0d0887\"], [0.1111111111111111, \"#46039f\"], [0.2222222222222222, \"#7201a8\"], [0.3333333333333333, \"#9c179e\"], [0.4444444444444444, \"#bd3786\"], [0.5555555555555556, \"#d8576b\"], [0.6666666666666666, \"#ed7953\"], [0.7777777777777778, \"#fb9f3a\"], [0.8888888888888888, \"#fdca26\"], [1.0, \"#f0f921\"]], \"type\": \"surface\"}], \"table\": [{\"cells\": {\"fill\": {\"color\": \"#EBF0F8\"}, \"line\": {\"color\": \"white\"}}, \"header\": {\"fill\": {\"color\": \"#C8D4E3\"}, \"line\": {\"color\": \"white\"}}, \"type\": \"table\"}]}, \"layout\": {\"annotationdefaults\": {\"arrowcolor\": \"#2a3f5f\", \"arrowhead\": 0, \"arrowwidth\": 1}, \"coloraxis\": {\"colorbar\": {\"outlinewidth\": 0, \"ticks\": \"\"}}, \"colorscale\": {\"diverging\": [[0, \"#8e0152\"], [0.1, \"#c51b7d\"], [0.2, \"#de77ae\"], [0.3, \"#f1b6da\"], [0.4, \"#fde0ef\"], [0.5, \"#f7f7f7\"], [0.6, \"#e6f5d0\"], [0.7, \"#b8e186\"], [0.8, \"#7fbc41\"], [0.9, \"#4d9221\"], [1, \"#276419\"]], \"sequential\": [[0.0, \"#0d0887\"], [0.1111111111111111, \"#46039f\"], [0.2222222222222222, \"#7201a8\"], [0.3333333333333333, \"#9c179e\"], [0.4444444444444444, \"#bd3786\"], [0.5555555555555556, \"#d8576b\"], [0.6666666666666666, \"#ed7953\"], [0.7777777777777778, \"#fb9f3a\"], [0.8888888888888888, \"#fdca26\"], [1.0, \"#f0f921\"]], \"sequentialminus\": [[0.0, \"#0d0887\"], [0.1111111111111111, \"#46039f\"], [0.2222222222222222, \"#7201a8\"], [0.3333333333333333, \"#9c179e\"], [0.4444444444444444, \"#bd3786\"], [0.5555555555555556, \"#d8576b\"], [0.6666666666666666, \"#ed7953\"], [0.7777777777777778, \"#fb9f3a\"], [0.8888888888888888, \"#fdca26\"], [1.0, \"#f0f921\"]]}, \"colorway\": [\"#636efa\", \"#EF553B\", \"#00cc96\", \"#ab63fa\", \"#FFA15A\", \"#19d3f3\", \"#FF6692\", \"#B6E880\", \"#FF97FF\", \"#FECB52\"], \"font\": {\"color\": \"#2a3f5f\"}, \"geo\": {\"bgcolor\": \"white\", \"lakecolor\": \"white\", \"landcolor\": \"white\", \"showlakes\": true, \"showland\": true, \"subunitcolor\": \"#C8D4E3\"}, \"hoverlabel\": {\"align\": \"left\"}, \"hovermode\": \"closest\", \"mapbox\": {\"style\": \"light\"}, \"paper_bgcolor\": \"white\", \"plot_bgcolor\": \"white\", \"polar\": {\"angularaxis\": {\"gridcolor\": \"#EBF0F8\", \"linecolor\": \"#EBF0F8\", \"ticks\": \"\"}, \"bgcolor\": \"white\", \"radialaxis\": {\"gridcolor\": \"#EBF0F8\", \"linecolor\": \"#EBF0F8\", \"ticks\": \"\"}}, \"scene\": {\"xaxis\": {\"backgroundcolor\": \"white\", \"gridcolor\": \"#DFE8F3\", \"gridwidth\": 2, \"linecolor\": \"#EBF0F8\", \"showbackground\": true, \"ticks\": \"\", \"zerolinecolor\": \"#EBF0F8\"}, \"yaxis\": {\"backgroundcolor\": \"white\", \"gridcolor\": \"#DFE8F3\", \"gridwidth\": 2, \"linecolor\": \"#EBF0F8\", \"showbackground\": true, \"ticks\": \"\", \"zerolinecolor\": \"#EBF0F8\"}, \"zaxis\": {\"backgroundcolor\": \"white\", \"gridcolor\": \"#DFE8F3\", \"gridwidth\": 2, \"linecolor\": \"#EBF0F8\", \"showbackground\": true, \"ticks\": \"\", \"zerolinecolor\": \"#EBF0F8\"}}, \"shapedefaults\": {\"line\": {\"color\": \"#2a3f5f\"}}, \"ternary\": {\"aaxis\": {\"gridcolor\": \"#DFE8F3\", \"linecolor\": \"#A2B1C6\", \"ticks\": \"\"}, \"baxis\": {\"gridcolor\": \"#DFE8F3\", \"linecolor\": \"#A2B1C6\", \"ticks\": \"\"}, \"bgcolor\": \"white\", \"caxis\": {\"gridcolor\": \"#DFE8F3\", \"linecolor\": \"#A2B1C6\", \"ticks\": \"\"}}, \"title\": {\"x\": 0.05}, \"xaxis\": {\"automargin\": true, \"gridcolor\": \"#EBF0F8\", \"linecolor\": \"#EBF0F8\", \"ticks\": \"\", \"title\": {\"standoff\": 15}, \"zerolinecolor\": \"#EBF0F8\", \"zerolinewidth\": 2}, \"yaxis\": {\"automargin\": true, \"gridcolor\": \"#EBF0F8\", \"linecolor\": \"#EBF0F8\", \"ticks\": \"\", \"title\": {\"standoff\": 15}, \"zerolinecolor\": \"#EBF0F8\", \"zerolinewidth\": 2}}}, \"title\": {\"text\": \"Feature Correlations:Commodities, FX Rates & Indexes\", \"x\": 0.5}, \"width\": 600, \"yaxis\": {\"autorange\": \"reversed\"}},\n",
              "                        {\"responsive\": true}\n",
              "                    ).then(function(){\n",
              "                            \n",
              "var gd = document.getElementById('4736ddcb-4baf-4f3c-9f88-205a4a1831af');\n",
              "var x = new MutationObserver(function (mutations, observer) {{\n",
              "        var display = window.getComputedStyle(gd).display;\n",
              "        if (!display || display === 'none') {{\n",
              "            console.log([gd, 'removed!']);\n",
              "            Plotly.purge(gd);\n",
              "            observer.disconnect();\n",
              "        }}\n",
              "}});\n",
              "\n",
              "// Listen for the removal of the full notebook cells\n",
              "var notebookContainer = gd.closest('#notebook-container');\n",
              "if (notebookContainer) {{\n",
              "    x.observe(notebookContainer, {childList: true});\n",
              "}}\n",
              "\n",
              "// Listen for the clearing of the current output cell\n",
              "var outputEl = gd.closest('.output');\n",
              "if (outputEl) {{\n",
              "    x.observe(outputEl, {childList: true});\n",
              "}}\n",
              "\n",
              "                        })\n",
              "                };\n",
              "                \n",
              "            </script>\n",
              "        </div>\n",
              "</body>\n",
              "</html>"
            ]
          },
          "metadata": {}
        }
      ]
    },
    {
      "cell_type": "markdown",
      "metadata": {
        "id": "GUtI3JgNbwqD"
      },
      "source": [
        "### Add the Lagged Features"
      ]
    },
    {
      "cell_type": "code",
      "metadata": {
        "colab": {
          "base_uri": "https://localhost:8080/"
        },
        "id": "0bDNfOJ8aguk",
        "outputId": "5823979a-b861-4153-aa85-77a8b23508c6"
      },
      "source": [
        "\n",
        "\n",
        "# add shifted economic columns to the dataset\n",
        "add_cols = [c for c in df_econ.columns if c not in df.columns]\n",
        "df = df.join(df_econ[add_cols],how='left')\n",
        "\n",
        "# add shifted commodity columns to the dataset\n",
        "add_cols = [c for c in df_com.columns if c not in df.columns]\n",
        "df = df.join(df_com[add_cols],how='left')\n",
        "\n",
        "\n",
        "# add shifted sentiment columns to the dataset\n",
        "add_cols = [c for c in df_sent.columns if c not in df.columns]\n",
        "df = df.join(df_sent[add_cols],how='left')\n",
        "\n",
        "print(f\"Total Features:{df.shape[1]}\")\n",
        "print(\"=\"*60)\n",
        "print(df.columns)\n",
        "\n",
        "\n",
        "# save the dataset\n",
        "df.to_pickle(f'/content/drive/MyDrive/Colab Notebooks/capstone2/data/{ticker}_market_data_features.pickle')\n"
      ],
      "execution_count": 79,
      "outputs": [
        {
          "output_type": "stream",
          "name": "stdout",
          "text": [
            "Total Features:86\n",
            "============================================================\n",
            "Index(['ticker', 'open', 'high', 'low', 'close', 'volume', 'month', 'weekday',\n",
            "       'futures_open', 'futures_high', 'futures_low', 'futures_close',\n",
            "       'futures_volume', 'idx_fear_greed', 'idx_classification', 'ETH', 'DOGE',\n",
            "       'LTC', 'weighted_sentiment', 'ma_sentiment_10', 'ma_sentiment_20',\n",
            "       'ma_sentiment_40', 'b-upper-ma_sentiment_10',\n",
            "       'b-middle-ma_sentiment_10', 'b-lower-ma_sentiment_10', 'news_count',\n",
            "       'sentiment_title', 'ma_news_count', 'ma_sentiment_title',\n",
            "       'b-upper-ma_news_count', 'b-middle-ma_news_count',\n",
            "       'b-lower-ma_news_count', 'b-upper-ma_sentiment_title',\n",
            "       'b-middle-ma_sentiment_title', 'b-lower-ma_sentiment_title',\n",
            "       'google_trends', 'b-upper-google_trends', 'b-middle-google_trends',\n",
            "       'b-lower-google_trends', 'USDEUR', 'USDJPY', 'USDGBP', 'GLD', 'OIL',\n",
            "       'BOIL', 'VXX', 'SPY', 'XLE', 'QQQ', 'b-upper', 'b-middle', 'b-lower',\n",
            "       'rsi', 'stoch_high', 'stoch_low', 'stoch_K', 'stoch_D', 'macd',\n",
            "       'macd_signal', 'yield5y', 'yield10y', 'yield30y', 'yield3m', 'ir',\n",
            "       'nfp', 'gdp', 'unemployment', 'cs', 'infl', 'gdp_shift', 'nfp_shift',\n",
            "       'cs_shift', 'infl_shift', 'ir_shift', 'yield3m_shift', 'yield5y_shift',\n",
            "       'yield10y_shift', 'yield30y_shift', 'OIL_shift', 'BOIL_shift',\n",
            "       'VXX_shift', 'USDEUR_shift', 'USDGBP_shift', 'ETH_shift', 'DOGE_shift',\n",
            "       'news_count_shift'],\n",
            "      dtype='object')\n"
          ]
        }
      ]
    },
    {
      "cell_type": "markdown",
      "metadata": {
        "id": "QXZ6NLfAdBug"
      },
      "source": [
        "# Feature Selection"
      ]
    },
    {
      "cell_type": "code",
      "metadata": {
        "id": "K1kjU9ow9pmm"
      },
      "source": [
        "def plot_feature_importance(df_features,num_features,seed):\n",
        "  \"\"\"\n",
        "  Calculate the feature importance and rank using RFE and random forest regression\n",
        "  Input: \n",
        "    df: dataframe of features. Expects that the close price is the target variable\n",
        "    num_features: the number of features to rank\n",
        "    seed: set the seed for reproducability\n",
        "  Output:\n",
        "    A list of top features, and plos of feature importance and ranks\n",
        "  \"\"\"\n",
        "\n",
        "  # remove na\n",
        "  df = df_features.copy()\n",
        "  df.dropna(how='any',inplace=True)\n",
        "\n",
        "  # get y target\n",
        "  y = df.close\n",
        "\n",
        "  # exclude price features and the symbol name from the feature list\n",
        "  cols = [c for c in df.columns if c not in  ['ticker','close','open','high','low','idx_classification']]\n",
        "  X = df[cols]\n",
        "\n",
        "\n",
        "  # fit random forest model to get feature importance scores\n",
        "  model = RandomForestRegressor(n_estimators=500, random_state=seed)\n",
        "  model.fit(X, y)\n",
        "\n",
        "  # use RFE to rank features\n",
        "  rfe = RFE(RandomForestRegressor(n_estimators=500, random_state=seed), n_features_to_select=num_features)\n",
        "  fit = rfe.fit(X, y)\n",
        "\n",
        "\n",
        "  # Print Top Features\n",
        "  selected =[]\n",
        "  for i in range(len(fit.support_)):\n",
        "    if fit.support_[i]:\n",
        "      selected.append(cols[i])\n",
        "  \n",
        "  print(\"Top Ranked Features\")\n",
        "  print(\"=\"*60)\n",
        "  print(selected)\n",
        "\n",
        "  #\n",
        "  df_features = pd.DataFrame(list(zip(cols,fit.ranking_,model.feature_importances_)),\n",
        "                             columns=['feature','rank','score'])\n",
        "  df_features.sort_values(by=['score','rank'],ascending=False,inplace=True)\n",
        "  df_features.set_index('feature',inplace=True)\n",
        "  df_features = df_features[df_features['rank']==1]\n",
        "\n",
        "  # create plot\n",
        "  fig = go.Figure()\n",
        "  \n",
        "  # create the plot of feature importance\n",
        "  fig.add_trace(go.Bar(\n",
        "              name = 'Importance',\n",
        "              x=df_features.score,\n",
        "              y=df_features.index,\n",
        "              orientation='h',\n",
        "              marker=dict(color='orange'),\n",
        "              opacity = 0.5\n",
        "    )\n",
        "  )\n",
        "\n",
        "\n",
        "  fig.update_layout(\n",
        "      title = 'Feature Importance',\n",
        "      template='plotly_white',\n",
        "                    width=700,\n",
        "                    height=800,\n",
        "                    yaxis={'categoryorder':'total descending'})\n",
        "\n",
        "  fig.show()\n",
        "  return df_features"
      ],
      "execution_count": 121,
      "outputs": []
    },
    {
      "cell_type": "code",
      "metadata": {
        "colab": {
          "base_uri": "https://localhost:8080/",
          "height": 888
        },
        "id": "Z4Ep4UDtdfSr",
        "outputId": "6b1d820e-4eb6-4049-fd35-0f8ba321b02b"
      },
      "source": [
        "df_features = plot_feature_importance(df,50,1985)\n"
      ],
      "execution_count": 122,
      "outputs": [
        {
          "output_type": "stream",
          "name": "stdout",
          "text": [
            "Top Ranked Features\n",
            "============================================================\n",
            "['volume', 'futures_open', 'futures_high', 'futures_low', 'futures_close', 'idx_fear_greed', 'ETH', 'DOGE', 'LTC', 'ma_sentiment_40', 'b-upper-ma_sentiment_10', 'b-middle-ma_sentiment_10', 'b-lower-ma_sentiment_10', 'news_count', 'ma_sentiment_title', 'b-upper-ma_news_count', 'b-middle-ma_news_count', 'b-lower-ma_news_count', 'b-upper-ma_sentiment_title', 'b-middle-ma_sentiment_title', 'b-lower-ma_sentiment_title', 'b-upper-google_trends', 'b-middle-google_trends', 'b-lower-google_trends', 'USDEUR', 'USDJPY', 'USDGBP', 'OIL', 'BOIL', 'VXX', 'QQQ', 'b-upper', 'b-middle', 'b-lower', 'rsi', 'stoch_high', 'stoch_low', 'stoch_K', 'macd', 'macd_signal', 'yield5y_shift', 'yield10y_shift', 'yield30y_shift', 'OIL_shift', 'BOIL_shift', 'VXX_shift', 'USDEUR_shift', 'ETH_shift', 'DOGE_shift', 'news_count_shift']\n"
          ]
        },
        {
          "output_type": "display_data",
          "data": {
            "text/html": [
              "<html>\n",
              "<head><meta charset=\"utf-8\" /></head>\n",
              "<body>\n",
              "    <div>\n",
              "            <script src=\"https://cdnjs.cloudflare.com/ajax/libs/mathjax/2.7.5/MathJax.js?config=TeX-AMS-MML_SVG\"></script><script type=\"text/javascript\">if (window.MathJax) {MathJax.Hub.Config({SVG: {font: \"STIX-Web\"}});}</script>\n",
              "                <script type=\"text/javascript\">window.PlotlyConfig = {MathJaxConfig: 'local'};</script>\n",
              "        <script src=\"https://cdn.plot.ly/plotly-latest.min.js\"></script>    \n",
              "            <div id=\"53389ecf-7491-4898-b755-2a61ba8c10de\" class=\"plotly-graph-div\" style=\"height:800px; width:700px;\"></div>\n",
              "            <script type=\"text/javascript\">\n",
              "                \n",
              "                    window.PLOTLYENV=window.PLOTLYENV || {};\n",
              "                    \n",
              "                if (document.getElementById(\"53389ecf-7491-4898-b755-2a61ba8c10de\")) {\n",
              "                    Plotly.newPlot(\n",
              "                        '53389ecf-7491-4898-b755-2a61ba8c10de',\n",
              "                        [{\"marker\": {\"color\": \"orange\"}, \"name\": \"Importance\", \"opacity\": 0.5, \"orientation\": \"h\", \"type\": \"bar\", \"x\": [0.17107748559014327, 0.11059370928261644, 0.1098141028650923, 0.10573293161539878, 0.10267925413742161, 0.10248585061457754, 0.09971803563520105, 0.06467164965215776, 0.05352706041202227, 0.037890560570305085, 0.015428411695537884, 0.010433328377058055, 0.00693773469688654, 0.003585475442814973, 0.0008706276665864592, 0.0004896426131920443, 0.00041335818839563217, 0.00035820063646264765, 0.00025316663596747696, 0.00021222847031981688, 0.00017573242893028336, 0.00013848147791419068, 7.202851671771572e-05, 6.711556222284766e-05, 4.8790759608767744e-05, 3.99883762653282e-05, 3.1538660534969124e-05, 3.029145277618471e-05, 2.9634936741632035e-05, 2.9472392912281685e-05, 2.4904773169894303e-05, 2.4608884547182224e-05, 2.3197832037551607e-05, 2.0666528311909155e-05, 1.9300447443027648e-05, 1.492234259623212e-05, 1.327730279482695e-05, 1.308181235084987e-05, 1.2789101269959126e-05, 1.1589977829456928e-05, 1.1373583472423874e-05, 1.0606460855862317e-05, 1.046502076864649e-05, 1.0216155284462948e-05, 9.38014832773719e-06, 9.316792844122818e-06, 8.600137395170059e-06, 8.414011374057305e-06, 7.96942571042126e-06, 7.788793806386445e-06], \"y\": [\"futures_close\", \"futures_low\", \"futures_open\", \"stoch_high\", \"b-upper\", \"stoch_low\", \"futures_high\", \"b-middle\", \"ETH\", \"b-lower\", \"USDGBP\", \"DOGE\", \"ETH_shift\", \"macd_signal\", \"yield10y_shift\", \"DOGE_shift\", \"idx_fear_greed\", \"LTC\", \"VXX_shift\", \"USDEUR\", \"yield30y_shift\", \"OIL_shift\", \"QQQ\", \"OIL\", \"b-lower-ma_sentiment_10\", \"b-middle-ma_news_count\", \"b-upper-ma_sentiment_title\", \"b-upper-ma_news_count\", \"b-upper-ma_sentiment_10\", \"USDEUR_shift\", \"b-middle-ma_sentiment_10\", \"yield5y_shift\", \"b-middle-google_trends\", \"BOIL\", \"VXX\", \"b-middle-ma_sentiment_title\", \"b-upper-google_trends\", \"macd\", \"BOIL_shift\", \"b-lower-ma_news_count\", \"rsi\", \"b-lower-ma_sentiment_title\", \"stoch_K\", \"news_count\", \"ma_sentiment_40\", \"news_count_shift\", \"volume\", \"ma_sentiment_title\", \"b-lower-google_trends\", \"USDJPY\"]}],\n",
              "                        {\"height\": 800, \"template\": {\"data\": {\"bar\": [{\"error_x\": {\"color\": \"#2a3f5f\"}, \"error_y\": {\"color\": \"#2a3f5f\"}, \"marker\": {\"line\": {\"color\": \"white\", \"width\": 0.5}}, \"type\": \"bar\"}], \"barpolar\": [{\"marker\": {\"line\": {\"color\": \"white\", \"width\": 0.5}}, \"type\": \"barpolar\"}], \"carpet\": [{\"aaxis\": {\"endlinecolor\": \"#2a3f5f\", \"gridcolor\": \"#C8D4E3\", \"linecolor\": \"#C8D4E3\", \"minorgridcolor\": \"#C8D4E3\", \"startlinecolor\": \"#2a3f5f\"}, \"baxis\": {\"endlinecolor\": \"#2a3f5f\", \"gridcolor\": \"#C8D4E3\", \"linecolor\": \"#C8D4E3\", \"minorgridcolor\": \"#C8D4E3\", \"startlinecolor\": \"#2a3f5f\"}, \"type\": \"carpet\"}], \"choropleth\": [{\"colorbar\": {\"outlinewidth\": 0, \"ticks\": \"\"}, \"type\": \"choropleth\"}], \"contour\": [{\"colorbar\": {\"outlinewidth\": 0, \"ticks\": \"\"}, \"colorscale\": [[0.0, \"#0d0887\"], [0.1111111111111111, \"#46039f\"], [0.2222222222222222, \"#7201a8\"], [0.3333333333333333, \"#9c179e\"], [0.4444444444444444, \"#bd3786\"], [0.5555555555555556, \"#d8576b\"], [0.6666666666666666, \"#ed7953\"], [0.7777777777777778, \"#fb9f3a\"], [0.8888888888888888, \"#fdca26\"], [1.0, \"#f0f921\"]], \"type\": \"contour\"}], \"contourcarpet\": [{\"colorbar\": {\"outlinewidth\": 0, \"ticks\": \"\"}, \"type\": \"contourcarpet\"}], \"heatmap\": [{\"colorbar\": {\"outlinewidth\": 0, \"ticks\": \"\"}, \"colorscale\": [[0.0, \"#0d0887\"], [0.1111111111111111, \"#46039f\"], [0.2222222222222222, \"#7201a8\"], [0.3333333333333333, \"#9c179e\"], [0.4444444444444444, \"#bd3786\"], [0.5555555555555556, \"#d8576b\"], [0.6666666666666666, \"#ed7953\"], [0.7777777777777778, \"#fb9f3a\"], [0.8888888888888888, \"#fdca26\"], [1.0, \"#f0f921\"]], \"type\": \"heatmap\"}], \"heatmapgl\": [{\"colorbar\": {\"outlinewidth\": 0, \"ticks\": \"\"}, \"colorscale\": [[0.0, \"#0d0887\"], [0.1111111111111111, \"#46039f\"], [0.2222222222222222, \"#7201a8\"], [0.3333333333333333, \"#9c179e\"], [0.4444444444444444, \"#bd3786\"], [0.5555555555555556, \"#d8576b\"], [0.6666666666666666, \"#ed7953\"], [0.7777777777777778, \"#fb9f3a\"], [0.8888888888888888, \"#fdca26\"], [1.0, \"#f0f921\"]], \"type\": \"heatmapgl\"}], \"histogram\": [{\"marker\": {\"colorbar\": {\"outlinewidth\": 0, \"ticks\": \"\"}}, \"type\": \"histogram\"}], \"histogram2d\": [{\"colorbar\": {\"outlinewidth\": 0, \"ticks\": \"\"}, \"colorscale\": [[0.0, \"#0d0887\"], [0.1111111111111111, \"#46039f\"], [0.2222222222222222, \"#7201a8\"], [0.3333333333333333, \"#9c179e\"], [0.4444444444444444, \"#bd3786\"], [0.5555555555555556, \"#d8576b\"], [0.6666666666666666, \"#ed7953\"], [0.7777777777777778, \"#fb9f3a\"], [0.8888888888888888, \"#fdca26\"], [1.0, \"#f0f921\"]], \"type\": \"histogram2d\"}], \"histogram2dcontour\": [{\"colorbar\": {\"outlinewidth\": 0, \"ticks\": \"\"}, \"colorscale\": [[0.0, \"#0d0887\"], [0.1111111111111111, \"#46039f\"], [0.2222222222222222, \"#7201a8\"], [0.3333333333333333, \"#9c179e\"], [0.4444444444444444, \"#bd3786\"], [0.5555555555555556, \"#d8576b\"], [0.6666666666666666, \"#ed7953\"], [0.7777777777777778, \"#fb9f3a\"], [0.8888888888888888, \"#fdca26\"], [1.0, \"#f0f921\"]], \"type\": \"histogram2dcontour\"}], \"mesh3d\": [{\"colorbar\": {\"outlinewidth\": 0, \"ticks\": \"\"}, \"type\": \"mesh3d\"}], \"parcoords\": [{\"line\": {\"colorbar\": {\"outlinewidth\": 0, \"ticks\": \"\"}}, \"type\": \"parcoords\"}], \"pie\": [{\"automargin\": true, \"type\": \"pie\"}], \"scatter\": [{\"marker\": {\"colorbar\": {\"outlinewidth\": 0, \"ticks\": \"\"}}, \"type\": \"scatter\"}], \"scatter3d\": [{\"line\": {\"colorbar\": {\"outlinewidth\": 0, \"ticks\": \"\"}}, \"marker\": {\"colorbar\": {\"outlinewidth\": 0, \"ticks\": \"\"}}, \"type\": \"scatter3d\"}], \"scattercarpet\": [{\"marker\": {\"colorbar\": {\"outlinewidth\": 0, \"ticks\": \"\"}}, \"type\": \"scattercarpet\"}], \"scattergeo\": [{\"marker\": {\"colorbar\": {\"outlinewidth\": 0, \"ticks\": \"\"}}, \"type\": \"scattergeo\"}], \"scattergl\": [{\"marker\": {\"colorbar\": {\"outlinewidth\": 0, \"ticks\": \"\"}}, \"type\": \"scattergl\"}], \"scattermapbox\": [{\"marker\": {\"colorbar\": {\"outlinewidth\": 0, \"ticks\": \"\"}}, \"type\": \"scattermapbox\"}], \"scatterpolar\": [{\"marker\": {\"colorbar\": {\"outlinewidth\": 0, \"ticks\": \"\"}}, \"type\": \"scatterpolar\"}], \"scatterpolargl\": [{\"marker\": {\"colorbar\": {\"outlinewidth\": 0, \"ticks\": \"\"}}, \"type\": \"scatterpolargl\"}], \"scatterternary\": [{\"marker\": {\"colorbar\": {\"outlinewidth\": 0, \"ticks\": \"\"}}, \"type\": \"scatterternary\"}], \"surface\": [{\"colorbar\": {\"outlinewidth\": 0, \"ticks\": \"\"}, \"colorscale\": [[0.0, \"#0d0887\"], [0.1111111111111111, \"#46039f\"], [0.2222222222222222, \"#7201a8\"], [0.3333333333333333, \"#9c179e\"], [0.4444444444444444, \"#bd3786\"], [0.5555555555555556, \"#d8576b\"], [0.6666666666666666, \"#ed7953\"], [0.7777777777777778, \"#fb9f3a\"], [0.8888888888888888, \"#fdca26\"], [1.0, \"#f0f921\"]], \"type\": \"surface\"}], \"table\": [{\"cells\": {\"fill\": {\"color\": \"#EBF0F8\"}, \"line\": {\"color\": \"white\"}}, \"header\": {\"fill\": {\"color\": \"#C8D4E3\"}, \"line\": {\"color\": \"white\"}}, \"type\": \"table\"}]}, \"layout\": {\"annotationdefaults\": {\"arrowcolor\": \"#2a3f5f\", \"arrowhead\": 0, \"arrowwidth\": 1}, \"coloraxis\": {\"colorbar\": {\"outlinewidth\": 0, \"ticks\": \"\"}}, \"colorscale\": {\"diverging\": [[0, \"#8e0152\"], [0.1, \"#c51b7d\"], [0.2, \"#de77ae\"], [0.3, \"#f1b6da\"], [0.4, \"#fde0ef\"], [0.5, \"#f7f7f7\"], [0.6, \"#e6f5d0\"], [0.7, \"#b8e186\"], [0.8, \"#7fbc41\"], [0.9, \"#4d9221\"], [1, \"#276419\"]], \"sequential\": [[0.0, \"#0d0887\"], [0.1111111111111111, \"#46039f\"], [0.2222222222222222, \"#7201a8\"], [0.3333333333333333, \"#9c179e\"], [0.4444444444444444, \"#bd3786\"], [0.5555555555555556, \"#d8576b\"], [0.6666666666666666, \"#ed7953\"], [0.7777777777777778, \"#fb9f3a\"], [0.8888888888888888, \"#fdca26\"], [1.0, \"#f0f921\"]], \"sequentialminus\": [[0.0, \"#0d0887\"], [0.1111111111111111, \"#46039f\"], [0.2222222222222222, \"#7201a8\"], [0.3333333333333333, \"#9c179e\"], [0.4444444444444444, \"#bd3786\"], [0.5555555555555556, \"#d8576b\"], [0.6666666666666666, \"#ed7953\"], [0.7777777777777778, \"#fb9f3a\"], [0.8888888888888888, \"#fdca26\"], [1.0, \"#f0f921\"]]}, \"colorway\": [\"#636efa\", \"#EF553B\", \"#00cc96\", \"#ab63fa\", \"#FFA15A\", \"#19d3f3\", \"#FF6692\", \"#B6E880\", \"#FF97FF\", \"#FECB52\"], \"font\": {\"color\": \"#2a3f5f\"}, \"geo\": {\"bgcolor\": \"white\", \"lakecolor\": \"white\", \"landcolor\": \"white\", \"showlakes\": true, \"showland\": true, \"subunitcolor\": \"#C8D4E3\"}, \"hoverlabel\": {\"align\": \"left\"}, \"hovermode\": \"closest\", \"mapbox\": {\"style\": \"light\"}, \"paper_bgcolor\": \"white\", \"plot_bgcolor\": \"white\", \"polar\": {\"angularaxis\": {\"gridcolor\": \"#EBF0F8\", \"linecolor\": \"#EBF0F8\", \"ticks\": \"\"}, \"bgcolor\": \"white\", \"radialaxis\": {\"gridcolor\": \"#EBF0F8\", \"linecolor\": \"#EBF0F8\", \"ticks\": \"\"}}, \"scene\": {\"xaxis\": {\"backgroundcolor\": \"white\", \"gridcolor\": \"#DFE8F3\", \"gridwidth\": 2, \"linecolor\": \"#EBF0F8\", \"showbackground\": true, \"ticks\": \"\", \"zerolinecolor\": \"#EBF0F8\"}, \"yaxis\": {\"backgroundcolor\": \"white\", \"gridcolor\": \"#DFE8F3\", \"gridwidth\": 2, \"linecolor\": \"#EBF0F8\", \"showbackground\": true, \"ticks\": \"\", \"zerolinecolor\": \"#EBF0F8\"}, \"zaxis\": {\"backgroundcolor\": \"white\", \"gridcolor\": \"#DFE8F3\", \"gridwidth\": 2, \"linecolor\": \"#EBF0F8\", \"showbackground\": true, \"ticks\": \"\", \"zerolinecolor\": \"#EBF0F8\"}}, \"shapedefaults\": {\"line\": {\"color\": \"#2a3f5f\"}}, \"ternary\": {\"aaxis\": {\"gridcolor\": \"#DFE8F3\", \"linecolor\": \"#A2B1C6\", \"ticks\": \"\"}, \"baxis\": {\"gridcolor\": \"#DFE8F3\", \"linecolor\": \"#A2B1C6\", \"ticks\": \"\"}, \"bgcolor\": \"white\", \"caxis\": {\"gridcolor\": \"#DFE8F3\", \"linecolor\": \"#A2B1C6\", \"ticks\": \"\"}}, \"title\": {\"x\": 0.05}, \"xaxis\": {\"automargin\": true, \"gridcolor\": \"#EBF0F8\", \"linecolor\": \"#EBF0F8\", \"ticks\": \"\", \"title\": {\"standoff\": 15}, \"zerolinecolor\": \"#EBF0F8\", \"zerolinewidth\": 2}, \"yaxis\": {\"automargin\": true, \"gridcolor\": \"#EBF0F8\", \"linecolor\": \"#EBF0F8\", \"ticks\": \"\", \"title\": {\"standoff\": 15}, \"zerolinecolor\": \"#EBF0F8\", \"zerolinewidth\": 2}}}, \"title\": {\"text\": \"Feature Importance\"}, \"width\": 700, \"yaxis\": {\"categoryorder\": \"total descending\"}},\n",
              "                        {\"responsive\": true}\n",
              "                    ).then(function(){\n",
              "                            \n",
              "var gd = document.getElementById('53389ecf-7491-4898-b755-2a61ba8c10de');\n",
              "var x = new MutationObserver(function (mutations, observer) {{\n",
              "        var display = window.getComputedStyle(gd).display;\n",
              "        if (!display || display === 'none') {{\n",
              "            console.log([gd, 'removed!']);\n",
              "            Plotly.purge(gd);\n",
              "            observer.disconnect();\n",
              "        }}\n",
              "}});\n",
              "\n",
              "// Listen for the removal of the full notebook cells\n",
              "var notebookContainer = gd.closest('#notebook-container');\n",
              "if (notebookContainer) {{\n",
              "    x.observe(notebookContainer, {childList: true});\n",
              "}}\n",
              "\n",
              "// Listen for the clearing of the current output cell\n",
              "var outputEl = gd.closest('.output');\n",
              "if (outputEl) {{\n",
              "    x.observe(outputEl, {childList: true});\n",
              "}}\n",
              "\n",
              "                        })\n",
              "                };\n",
              "                \n",
              "            </script>\n",
              "        </div>\n",
              "</body>\n",
              "</html>"
            ]
          },
          "metadata": {}
        }
      ]
    },
    {
      "cell_type": "markdown",
      "metadata": {
        "id": "CQRRuK4dpQyb"
      },
      "source": [
        "\n",
        "+ Bitcoin: open,high,low,close,volume\n",
        "+ Bitcoin Futures: open, high,low, close\n",
        "+ Peers: ETH, DOGE, LTC, fear-greed-index\n",
        "+ Sentiment: Sentiment (40 day moving average), Sentiment (10-day bollinger), news_count (bollinger bands), google-trends (bollinger), title-sentiment (bollinger)\n",
        "+ Technical: RSI, MACD, Stoch, Bollinger bands\n",
        "+ Economic: 30-year-bond-yields-shifted, 5-year-bond-yields-shifted\n",
        "+ Commodities; Oil-shifted, BOIL-shifted, SPY,QQQ\n",
        "+ FX Rates: USDGBP, USDEUR-shifted"
      ]
    }
  ]
}