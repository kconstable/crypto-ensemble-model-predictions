{
  "nbformat": 4,
  "nbformat_minor": 0,
  "metadata": {
    "colab": {
      "name": "feature_engineering.ipynb",
      "provenance": [],
      "collapsed_sections": [],
      "toc_visible": true,
      "authorship_tag": "ABX9TyM1cSPh8nfh/b3rXJ7oT0DR",
      "include_colab_link": true
    },
    "kernelspec": {
      "name": "python3",
      "display_name": "Python 3"
    },
    "language_info": {
      "name": "python"
    }
  },
  "cells": [
    {
      "cell_type": "markdown",
      "metadata": {
        "id": "view-in-github",
        "colab_type": "text"
      },
      "source": [
        "<a href=\"https://colab.research.google.com/github/kconstable/crypto-ensemble-model-predictions/blob/main/feature_engineering.ipynb\" target=\"_parent\"><img src=\"https://colab.research.google.com/assets/colab-badge.svg\" alt=\"Open In Colab\"/></a>"
      ]
    },
    {
      "cell_type": "markdown",
      "metadata": {
        "id": "_ysluZIEbcmb"
      },
      "source": [
        "# Import Libraries"
      ]
    },
    {
      "cell_type": "code",
      "metadata": {
        "id": "jmUIMi99Jakg",
        "colab": {
          "base_uri": "https://localhost:8080/"
        },
        "outputId": "d83d5126-1f13-4004-ae45-384fdccf17d4"
      },
      "source": [
        "!pip install missingpy"
      ],
      "execution_count": 1,
      "outputs": [
        {
          "output_type": "stream",
          "name": "stdout",
          "text": [
            "Collecting missingpy\n",
            "  Downloading missingpy-0.2.0-py3-none-any.whl (49 kB)\n",
            "\u001b[K     |████████████████████████████████| 49 kB 850 kB/s \n",
            "\u001b[?25hInstalling collected packages: missingpy\n",
            "Successfully installed missingpy-0.2.0\n"
          ]
        }
      ]
    },
    {
      "cell_type": "code",
      "metadata": {
        "id": "im2-MD4caSpY"
      },
      "source": [
        "import pandas as pd\n",
        "import numpy as np\n",
        "# import requests\n",
        "import time\n",
        "import pickle\n",
        "from datetime import date, timedelta,datetime\n",
        "\n",
        "import plotly.graph_objects as go\n",
        "from plotly.subplots import make_subplots\n",
        "\n",
        "from sklearn.ensemble import RandomForestRegressor\n",
        "from sklearn.feature_selection import RFE\n",
        "from missingpy import MissForest\n",
        "\n",
        "from google.colab import files\n",
        "from google.colab import drive\n",
        "drive.mount('/content/drive')\n",
        "\n",
        "ticker = 'BTC'\n",
        "path = f'/content/drive/MyDrive/Colab Notebooks/capstone2/data/'"
      ],
      "execution_count": null,
      "outputs": []
    },
    {
      "cell_type": "code",
      "metadata": {
        "colab": {
          "base_uri": "https://localhost:8080/"
        },
        "id": "F2eAgNDWbGrc",
        "outputId": "f7db1c95-c7c2-474f-9793-7b873fdb5fcf"
      },
      "source": [
        "# load saved market data\n",
        "df = pd.read_pickle(f'{path}{ticker}_market_data.pickle')\n",
        "print(f\"\\n{ticker}\")\n",
        "print(\"=\"*60)\n",
        "print(f\"{ticker}-all features: \",df.shape)"
      ],
      "execution_count": 3,
      "outputs": [
        {
          "output_type": "stream",
          "name": "stdout",
          "text": [
            "\n",
            "BTC\n",
            "============================================================\n",
            "BTC-all features:  (2125, 69)\n"
          ]
        }
      ]
    },
    {
      "cell_type": "markdown",
      "metadata": {
        "id": "ukoJkzhrdF5P"
      },
      "source": [
        "# Feature Engineering"
      ]
    },
    {
      "cell_type": "markdown",
      "metadata": {
        "id": "fJKagHS4bbAl"
      },
      "source": [
        "## Create Lag Features\n",
        "The features may have more influence if they are lagged vs current.  For example, the unemployment rate from 40 days ago may influence the price to a greater extent than the current unemployment rate.  \n",
        "\n",
        "To explore this possibility, the correlation between closing prices and current/lagged features are calculated and compared.  The number of days lagged was determined iteratively until the correlation with the largest magnitude was found.\n",
        "\n",
        "The calc_optimal_feature_lags function calculates the correlation between each feature and the closing price. It loops over lags from zero days to 60 days and returns a list of features with higher higher correlations when lagged. \n",
        "\n",
        "The shift_features function adds a lagged version of the input features to the features data frame.\n",
        "\n",
        "RFE is then used to select from all availble features (current and lagged) to find the most influential features to be included in the LSTM model."
      ]
    },
    {
      "cell_type": "code",
      "metadata": {
        "id": "iiGnKdf_blpf"
      },
      "source": [
        "def calc_optimal_feature_lags(df,features_to_lag,lags):\n",
        "  \"\"\"\n",
        "  Calculates the correlation between each feature and the closing price over a series of lags\n",
        "  Inputs:\n",
        "    df: A data frame of feartures.  Expects 'close' price to be included\n",
        "    features_to_lag: A list of features to shift by each lag in lags\n",
        "    lags: A list of lags (in days)\n",
        "  Outputs:\n",
        "    A dictionary of {feature name:lag (in days)}. Only returns features with \n",
        "    higher correlations with lags\n",
        "  \"\"\"\n",
        "  # get a copy of the df\n",
        "  dff = df.copy()\n",
        "\n",
        "  # dict to store the optimal lag for each feature\n",
        "  d = {}\n",
        "  \n",
        "  # loop each feature, each lag\n",
        "  for feature in features_to_lag:\n",
        "    # maximum abs correlation with close price, and the associated lag\n",
        "    # reset after each feature\n",
        "    max_corr = 0\n",
        "    max_lag = 0\n",
        "    for lag in lags:\n",
        "      if feature != 'close':\n",
        "        # name of shifted column: feature_shift_lag\n",
        "        shift = f\"_shift_{str(lag)}\"\n",
        "\n",
        "        # shift the feature by the lag,join with dff\n",
        "        tshift=dff[feature].shift(lag)\n",
        "        dff =dff.join(tshift,how='left',rsuffix=shift)\n",
        "\n",
        "        # calc the corr with the close price\n",
        "        corr = dff[['close',feature+shift]].corr()[feature+shift]['close']\n",
        "\n",
        "        # update the max abs corr and associated lag\n",
        "        if abs(corr)>abs(max_corr):\n",
        "          max_corr = abs(corr)\n",
        "          max_lag = lag\n",
        "    # save the max abs corr and associated lag\n",
        "    if max_lag <0:\n",
        "      d[feature] = max_lag\n",
        "\n",
        "  return d"
      ],
      "execution_count": 4,
      "outputs": []
    },
    {
      "cell_type": "code",
      "metadata": {
        "id": "LjONek7Wbowj"
      },
      "source": [
        "def shift_features(df,features_shift):\n",
        "  \"\"\"\n",
        "  Shifts features by time periods to convert them to lagged indicators\n",
        "  Input:\n",
        "    df: dataframe of features\n",
        "    features_shift: dictionary  of {feature:period shift}\n",
        "  Output:\n",
        "    df: original dataframe + the shifted features\n",
        "  \"\"\"\n",
        "  dff = df.copy()\n",
        "  for feature,shift in features_shift.items():\n",
        "    t_shift = pd.DataFrame(dff[feature].shift(periods=shift))\n",
        "    dff =dff.join(t_shift,how='left',rsuffix='_shift')\n",
        "\n",
        "  # remove nan introducted with lag features\n",
        "  dff.dropna(how='any',inplace=True)\n",
        "\n",
        "  return dff"
      ],
      "execution_count": 5,
      "outputs": []
    },
    {
      "cell_type": "code",
      "metadata": {
        "id": "C0ihTBCjbwzI"
      },
      "source": [
        "def plot_corr(df,features,title):\n",
        "  \"\"\"\n",
        "  Plots correlations in a heatmap\n",
        "  Input: \n",
        "    df: a dataframe of features to plot\n",
        "  \"\"\"\n",
        "    \n",
        "  # calculate correlations\n",
        "  cm =df[features].corr()\n",
        "\n",
        "  # plot a heatmap of correlations\n",
        "  fig = go.Figure()\n",
        "  fig.add_trace(go.Heatmap(\n",
        "        z = cm,\n",
        "        x = cm.columns.values,\n",
        "        y = cm.columns.values,\n",
        "        # colorscale = 'Bluyl'\n",
        "        colorscale = 'YlOrRd'\n",
        "      )\n",
        "  )\n",
        "  fig.update_layout(\n",
        "      title_text=f\"Feature Correlations:{title}\", \n",
        "      title_x=0.5, \n",
        "      width=600, \n",
        "      height=600,\n",
        "      yaxis_autorange='reversed',\n",
        "      template = 'plotly_white'\n",
        "  )\n",
        "\n",
        "  fig.show()"
      ],
      "execution_count": 6,
      "outputs": []
    },
    {
      "cell_type": "markdown",
      "metadata": {
        "id": "_6gd8CJEg6BZ"
      },
      "source": [
        "### Economic Indicators\n",
        "+ GDP and Inflation indicators have higher correlations when lagged 100 days or more"
      ]
    },
    {
      "cell_type": "code",
      "metadata": {
        "colab": {
          "base_uri": "https://localhost:8080/",
          "height": 634
        },
        "id": "t-5jLxcmg8Xj",
        "outputId": "af78c0b7-d9f6-48e8-f77f-985cb6298b95"
      },
      "source": [
        "# economic indicators\n",
        "features_to_lag = ['gdp','nfp','unemployment','cs','infl','ir','yield3m','yield5y','yield10y','yield30y']\n",
        "\n",
        "# try shifting from zero to -60 days prior\n",
        "lags = list(range(0,-120,-10))\n",
        "\n",
        "feature_shifts =calc_optimal_feature_lags(df,features_to_lag,lags)\n",
        "print(feature_shifts)\n",
        "\n",
        "# add the optimal feature lags\n",
        "features_to_lag.insert(0,'close')\n",
        "df_econ = shift_features(df[features_to_lag],feature_shifts)\n",
        "\n",
        "# plot corr\n",
        "plot_corr(df_econ,df_econ.columns,'Economic Indicators')\n"
      ],
      "execution_count": 7,
      "outputs": [
        {
          "output_type": "stream",
          "name": "stdout",
          "text": [
            "{'gdp': -100, 'infl': -110}\n"
          ]
        },
        {
          "output_type": "display_data",
          "data": {
            "text/html": [
              "<html>\n",
              "<head><meta charset=\"utf-8\" /></head>\n",
              "<body>\n",
              "    <div>\n",
              "            <script src=\"https://cdnjs.cloudflare.com/ajax/libs/mathjax/2.7.5/MathJax.js?config=TeX-AMS-MML_SVG\"></script><script type=\"text/javascript\">if (window.MathJax) {MathJax.Hub.Config({SVG: {font: \"STIX-Web\"}});}</script>\n",
              "                <script type=\"text/javascript\">window.PlotlyConfig = {MathJaxConfig: 'local'};</script>\n",
              "        <script src=\"https://cdn.plot.ly/plotly-latest.min.js\"></script>    \n",
              "            <div id=\"5dcaaf1f-26d6-4fd5-a706-6e01e36ac46f\" class=\"plotly-graph-div\" style=\"height:600px; width:600px;\"></div>\n",
              "            <script type=\"text/javascript\">\n",
              "                \n",
              "                    window.PLOTLYENV=window.PLOTLYENV || {};\n",
              "                    \n",
              "                if (document.getElementById(\"5dcaaf1f-26d6-4fd5-a706-6e01e36ac46f\")) {\n",
              "                    Plotly.newPlot(\n",
              "                        '5dcaaf1f-26d6-4fd5-a706-6e01e36ac46f',\n",
              "                        [{\"colorscale\": [[0.0, \"rgb(255,255,204)\"], [0.125, \"rgb(255,237,160)\"], [0.25, \"rgb(254,217,118)\"], [0.375, \"rgb(254,178,76)\"], [0.5, \"rgb(253,141,60)\"], [0.625, \"rgb(252,78,42)\"], [0.75, \"rgb(227,26,28)\"], [0.875, \"rgb(189,0,38)\"], [1.0, \"rgb(128,0,38)\"]], \"type\": \"heatmap\", \"x\": [\"close\", \"gdp\", \"nfp\", \"unemployment\", \"cs\", \"infl\", \"ir\", \"yield3m\", \"yield5y\", \"yield10y\", \"yield30y\", \"gdp_shift\", \"infl_shift\"], \"y\": [\"close\", \"gdp\", \"nfp\", \"unemployment\", \"cs\", \"infl\", \"ir\", \"yield3m\", \"yield5y\", \"yield10y\", \"yield30y\", \"gdp_shift\", \"infl_shift\"], \"z\": [[1.0, 0.42309446061371025, -0.14622649418952843, 0.2001158132174369, -0.40870607292616473, 0.6787827954451104, -0.3079071471252493, -0.2962647795894864, -0.3731396089717072, -0.2966807654084691, -0.3131965307895117, 0.5464664620889135, 0.8896400213483904], [0.42309446061371025, 1.0, 0.6049894896346861, -0.30538283708073105, 0.08647296678609241, 0.2944450256490148, 0.38423878795802696, 0.3827365944817384, 0.0937559757970512, 0.03997419349151054, -0.08014276018484358, 0.4766110186177958, 0.26507758735344483], [-0.14622649418952843, 0.6049894896346861, 1.0, -0.8772328961741167, 0.7752650783381797, -0.12038667089914433, 0.777243712668832, 0.7492528654472128, 0.6475933884224468, 0.5972515348832486, 0.5209876148199367, 0.006631388326073466, -0.23580740148313548], [0.2001158132174369, -0.30538283708073105, -0.8772328961741167, 1.0, -0.8479573583207568, 0.1731016992343717, -0.6265870580128879, -0.5906791549552192, -0.6856604410862934, -0.7031604424190541, -0.7057892159239012, 0.15867405856800826, 0.2257024712631137], [-0.40870607292616473, 0.08647296678609241, 0.7752650783381797, -0.8479573583207568, 1.0, -0.34255319145634716, 0.7042612491270176, 0.6893832298948861, 0.8413694636712141, 0.8357971987039118, 0.8190597698158985, -0.2855780711538284, -0.4043945869397401], [0.6787827954451104, 0.2944450256490148, -0.12038667089914433, 0.1731016992343717, -0.34255319145634716, 1.0, -0.20607552067838086, -0.1827545096738646, -0.17869188846827697, -0.1103992696530781, -0.1265514974406375, 0.5603883629903091, 0.6905741144018192], [-0.3079071471252493, 0.38423878795802696, 0.777243712668832, -0.6265870580128879, 0.7042612491270176, -0.20607552067838086, 1.0, 0.9897825381862491, 0.8040874137502418, 0.7002912869102936, 0.573444658143562, 0.18525529993502993, -0.3788082189138755], [-0.2962647795894864, 0.3827365944817384, 0.7492528654472128, -0.5906791549552192, 0.6893832298948861, -0.1827545096738646, 0.9897825381862491, 1.0, 0.829153886933904, 0.7242772795910988, 0.5879953268742336, 0.19805400818783758, -0.3609486069275217], [-0.3731396089717072, 0.0937559757970512, 0.6475933884224468, -0.6856604410862934, 0.8413694636712141, -0.17869188846827697, 0.8040874137502418, 0.829153886933904, 1.0, 0.9777254295372549, 0.9084094727602241, -0.047220575850503294, -0.3494850344833501], [-0.2966807654084691, 0.03997419349151054, 0.5972515348832486, -0.7031604424190541, 0.8357971987039118, -0.1103992696530781, 0.7002912869102936, 0.7242772795910988, 0.9777254295372549, 1.0, 0.9703375820720302, -0.06666566506190238, -0.2527497189418346], [-0.3131965307895117, -0.08014276018484358, 0.5209876148199367, -0.7057892159239012, 0.8190597698158985, -0.1265514974406375, 0.573444658143562, 0.5879953268742336, 0.9084094727602241, 0.9703375820720302, 1.0, -0.15789202611430903, -0.25180568256597935], [0.5464664620889135, 0.4766110186177958, 0.006631388326073466, 0.15867405856800826, -0.2855780711538284, 0.5603883629903091, 0.18525529993502993, 0.19805400818783758, -0.047220575850503294, -0.06666566506190238, -0.15789202611430903, 1.0, 0.42537201279337206], [0.8896400213483904, 0.26507758735344483, -0.23580740148313548, 0.2257024712631137, -0.4043945869397401, 0.6905741144018192, -0.3788082189138755, -0.3609486069275217, -0.3494850344833501, -0.2527497189418346, -0.25180568256597935, 0.42537201279337206, 1.0]]}],\n",
              "                        {\"height\": 600, \"template\": {\"data\": {\"bar\": [{\"error_x\": {\"color\": \"#2a3f5f\"}, \"error_y\": {\"color\": \"#2a3f5f\"}, \"marker\": {\"line\": {\"color\": \"white\", \"width\": 0.5}}, \"type\": \"bar\"}], \"barpolar\": [{\"marker\": {\"line\": {\"color\": \"white\", \"width\": 0.5}}, \"type\": \"barpolar\"}], \"carpet\": [{\"aaxis\": {\"endlinecolor\": \"#2a3f5f\", \"gridcolor\": \"#C8D4E3\", \"linecolor\": \"#C8D4E3\", \"minorgridcolor\": \"#C8D4E3\", \"startlinecolor\": \"#2a3f5f\"}, \"baxis\": {\"endlinecolor\": \"#2a3f5f\", \"gridcolor\": \"#C8D4E3\", \"linecolor\": \"#C8D4E3\", \"minorgridcolor\": \"#C8D4E3\", \"startlinecolor\": \"#2a3f5f\"}, \"type\": \"carpet\"}], \"choropleth\": [{\"colorbar\": {\"outlinewidth\": 0, \"ticks\": \"\"}, \"type\": \"choropleth\"}], \"contour\": [{\"colorbar\": {\"outlinewidth\": 0, \"ticks\": \"\"}, \"colorscale\": [[0.0, \"#0d0887\"], [0.1111111111111111, \"#46039f\"], [0.2222222222222222, \"#7201a8\"], [0.3333333333333333, \"#9c179e\"], [0.4444444444444444, \"#bd3786\"], [0.5555555555555556, \"#d8576b\"], [0.6666666666666666, \"#ed7953\"], [0.7777777777777778, \"#fb9f3a\"], [0.8888888888888888, \"#fdca26\"], [1.0, \"#f0f921\"]], \"type\": \"contour\"}], \"contourcarpet\": [{\"colorbar\": {\"outlinewidth\": 0, \"ticks\": \"\"}, \"type\": \"contourcarpet\"}], \"heatmap\": [{\"colorbar\": {\"outlinewidth\": 0, \"ticks\": \"\"}, \"colorscale\": [[0.0, \"#0d0887\"], [0.1111111111111111, \"#46039f\"], [0.2222222222222222, \"#7201a8\"], [0.3333333333333333, \"#9c179e\"], [0.4444444444444444, \"#bd3786\"], [0.5555555555555556, \"#d8576b\"], [0.6666666666666666, \"#ed7953\"], [0.7777777777777778, \"#fb9f3a\"], [0.8888888888888888, \"#fdca26\"], [1.0, \"#f0f921\"]], \"type\": \"heatmap\"}], \"heatmapgl\": [{\"colorbar\": {\"outlinewidth\": 0, \"ticks\": \"\"}, \"colorscale\": [[0.0, \"#0d0887\"], [0.1111111111111111, \"#46039f\"], [0.2222222222222222, \"#7201a8\"], [0.3333333333333333, \"#9c179e\"], [0.4444444444444444, \"#bd3786\"], [0.5555555555555556, \"#d8576b\"], [0.6666666666666666, \"#ed7953\"], [0.7777777777777778, \"#fb9f3a\"], [0.8888888888888888, \"#fdca26\"], [1.0, \"#f0f921\"]], \"type\": \"heatmapgl\"}], \"histogram\": [{\"marker\": {\"colorbar\": {\"outlinewidth\": 0, \"ticks\": \"\"}}, \"type\": \"histogram\"}], \"histogram2d\": [{\"colorbar\": {\"outlinewidth\": 0, \"ticks\": \"\"}, \"colorscale\": [[0.0, \"#0d0887\"], [0.1111111111111111, \"#46039f\"], [0.2222222222222222, \"#7201a8\"], [0.3333333333333333, \"#9c179e\"], [0.4444444444444444, \"#bd3786\"], [0.5555555555555556, \"#d8576b\"], [0.6666666666666666, \"#ed7953\"], [0.7777777777777778, \"#fb9f3a\"], [0.8888888888888888, \"#fdca26\"], [1.0, \"#f0f921\"]], \"type\": \"histogram2d\"}], \"histogram2dcontour\": [{\"colorbar\": {\"outlinewidth\": 0, \"ticks\": \"\"}, \"colorscale\": [[0.0, \"#0d0887\"], [0.1111111111111111, \"#46039f\"], [0.2222222222222222, \"#7201a8\"], [0.3333333333333333, \"#9c179e\"], [0.4444444444444444, \"#bd3786\"], [0.5555555555555556, \"#d8576b\"], [0.6666666666666666, \"#ed7953\"], [0.7777777777777778, \"#fb9f3a\"], [0.8888888888888888, \"#fdca26\"], [1.0, \"#f0f921\"]], \"type\": \"histogram2dcontour\"}], \"mesh3d\": [{\"colorbar\": {\"outlinewidth\": 0, \"ticks\": \"\"}, \"type\": \"mesh3d\"}], \"parcoords\": [{\"line\": {\"colorbar\": {\"outlinewidth\": 0, \"ticks\": \"\"}}, \"type\": \"parcoords\"}], \"pie\": [{\"automargin\": true, \"type\": \"pie\"}], \"scatter\": [{\"marker\": {\"colorbar\": {\"outlinewidth\": 0, \"ticks\": \"\"}}, \"type\": \"scatter\"}], \"scatter3d\": [{\"line\": {\"colorbar\": {\"outlinewidth\": 0, \"ticks\": \"\"}}, \"marker\": {\"colorbar\": {\"outlinewidth\": 0, \"ticks\": \"\"}}, \"type\": \"scatter3d\"}], \"scattercarpet\": [{\"marker\": {\"colorbar\": {\"outlinewidth\": 0, \"ticks\": \"\"}}, \"type\": \"scattercarpet\"}], \"scattergeo\": [{\"marker\": {\"colorbar\": {\"outlinewidth\": 0, \"ticks\": \"\"}}, \"type\": \"scattergeo\"}], \"scattergl\": [{\"marker\": {\"colorbar\": {\"outlinewidth\": 0, \"ticks\": \"\"}}, \"type\": \"scattergl\"}], \"scattermapbox\": [{\"marker\": {\"colorbar\": {\"outlinewidth\": 0, \"ticks\": \"\"}}, \"type\": \"scattermapbox\"}], \"scatterpolar\": [{\"marker\": {\"colorbar\": {\"outlinewidth\": 0, \"ticks\": \"\"}}, \"type\": \"scatterpolar\"}], \"scatterpolargl\": [{\"marker\": {\"colorbar\": {\"outlinewidth\": 0, \"ticks\": \"\"}}, \"type\": \"scatterpolargl\"}], \"scatterternary\": [{\"marker\": {\"colorbar\": {\"outlinewidth\": 0, \"ticks\": \"\"}}, \"type\": \"scatterternary\"}], \"surface\": [{\"colorbar\": {\"outlinewidth\": 0, \"ticks\": \"\"}, \"colorscale\": [[0.0, \"#0d0887\"], [0.1111111111111111, \"#46039f\"], [0.2222222222222222, \"#7201a8\"], [0.3333333333333333, \"#9c179e\"], [0.4444444444444444, \"#bd3786\"], [0.5555555555555556, \"#d8576b\"], [0.6666666666666666, \"#ed7953\"], [0.7777777777777778, \"#fb9f3a\"], [0.8888888888888888, \"#fdca26\"], [1.0, \"#f0f921\"]], \"type\": \"surface\"}], \"table\": [{\"cells\": {\"fill\": {\"color\": \"#EBF0F8\"}, \"line\": {\"color\": \"white\"}}, \"header\": {\"fill\": {\"color\": \"#C8D4E3\"}, \"line\": {\"color\": \"white\"}}, \"type\": \"table\"}]}, \"layout\": {\"annotationdefaults\": {\"arrowcolor\": \"#2a3f5f\", \"arrowhead\": 0, \"arrowwidth\": 1}, \"coloraxis\": {\"colorbar\": {\"outlinewidth\": 0, \"ticks\": \"\"}}, \"colorscale\": {\"diverging\": [[0, \"#8e0152\"], [0.1, \"#c51b7d\"], [0.2, \"#de77ae\"], [0.3, \"#f1b6da\"], [0.4, \"#fde0ef\"], [0.5, \"#f7f7f7\"], [0.6, \"#e6f5d0\"], [0.7, \"#b8e186\"], [0.8, \"#7fbc41\"], [0.9, \"#4d9221\"], [1, \"#276419\"]], \"sequential\": [[0.0, \"#0d0887\"], [0.1111111111111111, \"#46039f\"], [0.2222222222222222, \"#7201a8\"], [0.3333333333333333, \"#9c179e\"], [0.4444444444444444, \"#bd3786\"], [0.5555555555555556, \"#d8576b\"], [0.6666666666666666, \"#ed7953\"], [0.7777777777777778, \"#fb9f3a\"], [0.8888888888888888, \"#fdca26\"], [1.0, \"#f0f921\"]], \"sequentialminus\": [[0.0, \"#0d0887\"], [0.1111111111111111, \"#46039f\"], [0.2222222222222222, \"#7201a8\"], [0.3333333333333333, \"#9c179e\"], [0.4444444444444444, \"#bd3786\"], [0.5555555555555556, \"#d8576b\"], [0.6666666666666666, \"#ed7953\"], [0.7777777777777778, \"#fb9f3a\"], [0.8888888888888888, \"#fdca26\"], [1.0, \"#f0f921\"]]}, \"colorway\": [\"#636efa\", \"#EF553B\", \"#00cc96\", \"#ab63fa\", \"#FFA15A\", \"#19d3f3\", \"#FF6692\", \"#B6E880\", \"#FF97FF\", \"#FECB52\"], \"font\": {\"color\": \"#2a3f5f\"}, \"geo\": {\"bgcolor\": \"white\", \"lakecolor\": \"white\", \"landcolor\": \"white\", \"showlakes\": true, \"showland\": true, \"subunitcolor\": \"#C8D4E3\"}, \"hoverlabel\": {\"align\": \"left\"}, \"hovermode\": \"closest\", \"mapbox\": {\"style\": \"light\"}, \"paper_bgcolor\": \"white\", \"plot_bgcolor\": \"white\", \"polar\": {\"angularaxis\": {\"gridcolor\": \"#EBF0F8\", \"linecolor\": \"#EBF0F8\", \"ticks\": \"\"}, \"bgcolor\": \"white\", \"radialaxis\": {\"gridcolor\": \"#EBF0F8\", \"linecolor\": \"#EBF0F8\", \"ticks\": \"\"}}, \"scene\": {\"xaxis\": {\"backgroundcolor\": \"white\", \"gridcolor\": \"#DFE8F3\", \"gridwidth\": 2, \"linecolor\": \"#EBF0F8\", \"showbackground\": true, \"ticks\": \"\", \"zerolinecolor\": \"#EBF0F8\"}, \"yaxis\": {\"backgroundcolor\": \"white\", \"gridcolor\": \"#DFE8F3\", \"gridwidth\": 2, \"linecolor\": \"#EBF0F8\", \"showbackground\": true, \"ticks\": \"\", \"zerolinecolor\": \"#EBF0F8\"}, \"zaxis\": {\"backgroundcolor\": \"white\", \"gridcolor\": \"#DFE8F3\", \"gridwidth\": 2, \"linecolor\": \"#EBF0F8\", \"showbackground\": true, \"ticks\": \"\", \"zerolinecolor\": \"#EBF0F8\"}}, \"shapedefaults\": {\"line\": {\"color\": \"#2a3f5f\"}}, \"ternary\": {\"aaxis\": {\"gridcolor\": \"#DFE8F3\", \"linecolor\": \"#A2B1C6\", \"ticks\": \"\"}, \"baxis\": {\"gridcolor\": \"#DFE8F3\", \"linecolor\": \"#A2B1C6\", \"ticks\": \"\"}, \"bgcolor\": \"white\", \"caxis\": {\"gridcolor\": \"#DFE8F3\", \"linecolor\": \"#A2B1C6\", \"ticks\": \"\"}}, \"title\": {\"x\": 0.05}, \"xaxis\": {\"automargin\": true, \"gridcolor\": \"#EBF0F8\", \"linecolor\": \"#EBF0F8\", \"ticks\": \"\", \"title\": {\"standoff\": 15}, \"zerolinecolor\": \"#EBF0F8\", \"zerolinewidth\": 2}, \"yaxis\": {\"automargin\": true, \"gridcolor\": \"#EBF0F8\", \"linecolor\": \"#EBF0F8\", \"ticks\": \"\", \"title\": {\"standoff\": 15}, \"zerolinecolor\": \"#EBF0F8\", \"zerolinewidth\": 2}}}, \"title\": {\"text\": \"Feature Correlations:Economic Indicators\", \"x\": 0.5}, \"width\": 600, \"yaxis\": {\"autorange\": \"reversed\"}},\n",
              "                        {\"responsive\": true}\n",
              "                    ).then(function(){\n",
              "                            \n",
              "var gd = document.getElementById('5dcaaf1f-26d6-4fd5-a706-6e01e36ac46f');\n",
              "var x = new MutationObserver(function (mutations, observer) {{\n",
              "        var display = window.getComputedStyle(gd).display;\n",
              "        if (!display || display === 'none') {{\n",
              "            console.log([gd, 'removed!']);\n",
              "            Plotly.purge(gd);\n",
              "            observer.disconnect();\n",
              "        }}\n",
              "}});\n",
              "\n",
              "// Listen for the removal of the full notebook cells\n",
              "var notebookContainer = gd.closest('#notebook-container');\n",
              "if (notebookContainer) {{\n",
              "    x.observe(notebookContainer, {childList: true});\n",
              "}}\n",
              "\n",
              "// Listen for the clearing of the current output cell\n",
              "var outputEl = gd.closest('.output');\n",
              "if (outputEl) {{\n",
              "    x.observe(outputEl, {childList: true});\n",
              "}}\n",
              "\n",
              "                        })\n",
              "                };\n",
              "                \n",
              "            </script>\n",
              "        </div>\n",
              "</body>\n",
              "</html>"
            ]
          },
          "metadata": {}
        }
      ]
    },
    {
      "cell_type": "markdown",
      "metadata": {
        "id": "gVE80BEwlAxQ"
      },
      "source": [
        "### Sentiment\n",
        "+ The news count 2 days prior to the current day has a higher correlation with closing price than the current news count"
      ]
    },
    {
      "cell_type": "code",
      "metadata": {
        "colab": {
          "base_uri": "https://localhost:8080/",
          "height": 634
        },
        "id": "ZF1Ge5asjlY6",
        "outputId": "2d97f95d-53c5-4e3a-dad4-1e44ebab7f0c"
      },
      "source": [
        "# sentiment \n",
        "features_to_lag = ['weighted_sentiment','ma_sentiment_10','ma_sentiment_20','ma_sentiment_40','news_count','ma_news_count','sentiment_title','ma_sentiment_title','idx_fear_greed','google_trends']\n",
        "\n",
        "# try shifting from zero to -60 days prior\n",
        "lags = list(range(0,-21,-1))\n",
        "\n",
        "feature_shifts =calc_optimal_feature_lags(df,features_to_lag,lags)\n",
        "print(feature_shifts)\n",
        "\n",
        "# add the optimal feature lags\n",
        "features_to_lag.insert(0,'close')\n",
        "df_sent = shift_features(df[features_to_lag],feature_shifts)\n",
        "\n",
        "# plot corr\n",
        "plot_corr(df_sent,df_sent.columns,'Sentiment')"
      ],
      "execution_count": 8,
      "outputs": [
        {
          "output_type": "stream",
          "name": "stdout",
          "text": [
            "{'news_count': -2}\n"
          ]
        },
        {
          "output_type": "display_data",
          "data": {
            "text/html": [
              "<html>\n",
              "<head><meta charset=\"utf-8\" /></head>\n",
              "<body>\n",
              "    <div>\n",
              "            <script src=\"https://cdnjs.cloudflare.com/ajax/libs/mathjax/2.7.5/MathJax.js?config=TeX-AMS-MML_SVG\"></script><script type=\"text/javascript\">if (window.MathJax) {MathJax.Hub.Config({SVG: {font: \"STIX-Web\"}});}</script>\n",
              "                <script type=\"text/javascript\">window.PlotlyConfig = {MathJaxConfig: 'local'};</script>\n",
              "        <script src=\"https://cdn.plot.ly/plotly-latest.min.js\"></script>    \n",
              "            <div id=\"2baa6d75-730d-406b-8637-41d7fcbec8db\" class=\"plotly-graph-div\" style=\"height:600px; width:600px;\"></div>\n",
              "            <script type=\"text/javascript\">\n",
              "                \n",
              "                    window.PLOTLYENV=window.PLOTLYENV || {};\n",
              "                    \n",
              "                if (document.getElementById(\"2baa6d75-730d-406b-8637-41d7fcbec8db\")) {\n",
              "                    Plotly.newPlot(\n",
              "                        '2baa6d75-730d-406b-8637-41d7fcbec8db',\n",
              "                        [{\"colorscale\": [[0.0, \"rgb(255,255,204)\"], [0.125, \"rgb(255,237,160)\"], [0.25, \"rgb(254,217,118)\"], [0.375, \"rgb(254,178,76)\"], [0.5, \"rgb(253,141,60)\"], [0.625, \"rgb(252,78,42)\"], [0.75, \"rgb(227,26,28)\"], [0.875, \"rgb(189,0,38)\"], [1.0, \"rgb(128,0,38)\"]], \"type\": \"heatmap\", \"x\": [\"close\", \"weighted_sentiment\", \"ma_sentiment_10\", \"ma_sentiment_20\", \"ma_sentiment_40\", \"news_count\", \"ma_news_count\", \"sentiment_title\", \"ma_sentiment_title\", \"idx_fear_greed\", \"google_trends\", \"news_count_shift\"], \"y\": [\"close\", \"weighted_sentiment\", \"ma_sentiment_10\", \"ma_sentiment_20\", \"ma_sentiment_40\", \"news_count\", \"ma_news_count\", \"sentiment_title\", \"ma_sentiment_title\", \"idx_fear_greed\", \"google_trends\", \"news_count_shift\"], \"z\": [[1.0, 0.05665559904132448, 0.18321467019663593, 0.21878619443420985, 0.2433783413585522, 0.4632906120746714, 0.5212528366931161, 0.11808924743871003, 0.23042379531685334, 0.4070655835064593, 0.6632685253038448, 0.47057007718423094], [0.05665559904132448, 1.0, 0.35454181925527223, 0.3023629812482443, 0.2522150659310016, 0.04477280899753361, 0.03818456732744557, 0.05885590367742445, 0.1061552135832151, 0.14023823076440456, 0.04410796966784388, 0.031596000681556186], [0.18321467019663593, 0.35454181925527223, 1.0, 0.818068088113098, 0.6800309920402718, 0.09408326476240378, 0.09995086786592035, 0.09247733100106613, 0.20720443002327213, 0.3798598453324414, 0.12927062336298156, 0.09783903391331421], [0.21878619443420985, 0.3023629812482443, 0.818068088113098, 1.0, 0.8634563911465382, 0.12871151620323226, 0.12045570704244102, 0.05858683080924883, 0.13115157781761902, 0.38582552379046237, 0.15893089130216048, 0.12964335325575554], [0.2433783413585522, 0.2522150659310016, 0.6800309920402718, 0.8634563911465382, 1.0, 0.14143777106124011, 0.15418919182871818, 0.057333700433776, 0.12150164230056477, 0.3519742199745679, 0.1723494010995324, 0.14359735813056812], [0.4632906120746714, 0.04477280899753361, 0.09408326476240378, 0.12871151620323226, 0.14143777106124011, 1.0, 0.839584434255087, 0.09195355688516779, 0.15625980258800778, 0.1391714961586651, 0.07972881049405832, 0.709984839046357], [0.5212528366931161, 0.03818456732744557, 0.09995086786592035, 0.12045570704244102, 0.15418919182871818, 0.839584434255087, 1.0, 0.09803096303594099, 0.17940233140519624, 0.14812946768825092, 0.1120796825874665, 0.8165630370369423], [0.11808924743871003, 0.05885590367742445, 0.09247733100106613, 0.05858683080924883, 0.057333700433776, 0.09195355688516779, 0.09803096303594099, 1.0, 0.4902448091135623, 0.16425227764954045, 0.09004951611813346, 0.08179663401363385], [0.23042379531685334, 0.1061552135832151, 0.20720443002327213, 0.13115157781761902, 0.12150164230056477, 0.15625980258800778, 0.17940233140519624, 0.4902448091135623, 1.0, 0.3148291977945362, 0.16050340434518862, 0.1566933661251657], [0.4070655835064593, 0.14023823076440456, 0.3798598453324414, 0.38582552379046237, 0.3519742199745679, 0.1391714961586651, 0.14812946768825092, 0.16425227764954045, 0.3148291977945362, 1.0, 0.4825012581496736, 0.154064501502356], [0.6632685253038448, 0.04410796966784388, 0.12927062336298156, 0.15893089130216048, 0.1723494010995324, 0.07972881049405832, 0.1120796825874665, 0.09004951611813346, 0.16050340434518862, 0.4825012581496736, 1.0, 0.08733746505171319], [0.47057007718423094, 0.031596000681556186, 0.09783903391331421, 0.12964335325575554, 0.14359735813056812, 0.709984839046357, 0.8165630370369423, 0.08179663401363385, 0.1566933661251657, 0.154064501502356, 0.08733746505171319, 1.0]]}],\n",
              "                        {\"height\": 600, \"template\": {\"data\": {\"bar\": [{\"error_x\": {\"color\": \"#2a3f5f\"}, \"error_y\": {\"color\": \"#2a3f5f\"}, \"marker\": {\"line\": {\"color\": \"white\", \"width\": 0.5}}, \"type\": \"bar\"}], \"barpolar\": [{\"marker\": {\"line\": {\"color\": \"white\", \"width\": 0.5}}, \"type\": \"barpolar\"}], \"carpet\": [{\"aaxis\": {\"endlinecolor\": \"#2a3f5f\", \"gridcolor\": \"#C8D4E3\", \"linecolor\": \"#C8D4E3\", \"minorgridcolor\": \"#C8D4E3\", \"startlinecolor\": \"#2a3f5f\"}, \"baxis\": {\"endlinecolor\": \"#2a3f5f\", \"gridcolor\": \"#C8D4E3\", \"linecolor\": \"#C8D4E3\", \"minorgridcolor\": \"#C8D4E3\", \"startlinecolor\": \"#2a3f5f\"}, \"type\": \"carpet\"}], \"choropleth\": [{\"colorbar\": {\"outlinewidth\": 0, \"ticks\": \"\"}, \"type\": \"choropleth\"}], \"contour\": [{\"colorbar\": {\"outlinewidth\": 0, \"ticks\": \"\"}, \"colorscale\": [[0.0, \"#0d0887\"], [0.1111111111111111, \"#46039f\"], [0.2222222222222222, \"#7201a8\"], [0.3333333333333333, \"#9c179e\"], [0.4444444444444444, \"#bd3786\"], [0.5555555555555556, \"#d8576b\"], [0.6666666666666666, \"#ed7953\"], [0.7777777777777778, \"#fb9f3a\"], [0.8888888888888888, \"#fdca26\"], [1.0, \"#f0f921\"]], \"type\": \"contour\"}], \"contourcarpet\": [{\"colorbar\": {\"outlinewidth\": 0, \"ticks\": \"\"}, \"type\": \"contourcarpet\"}], \"heatmap\": [{\"colorbar\": {\"outlinewidth\": 0, \"ticks\": \"\"}, \"colorscale\": [[0.0, \"#0d0887\"], [0.1111111111111111, \"#46039f\"], [0.2222222222222222, \"#7201a8\"], [0.3333333333333333, \"#9c179e\"], [0.4444444444444444, \"#bd3786\"], [0.5555555555555556, \"#d8576b\"], [0.6666666666666666, \"#ed7953\"], [0.7777777777777778, \"#fb9f3a\"], [0.8888888888888888, \"#fdca26\"], [1.0, \"#f0f921\"]], \"type\": \"heatmap\"}], \"heatmapgl\": [{\"colorbar\": {\"outlinewidth\": 0, \"ticks\": \"\"}, \"colorscale\": [[0.0, \"#0d0887\"], [0.1111111111111111, \"#46039f\"], [0.2222222222222222, \"#7201a8\"], [0.3333333333333333, \"#9c179e\"], [0.4444444444444444, \"#bd3786\"], [0.5555555555555556, \"#d8576b\"], [0.6666666666666666, \"#ed7953\"], [0.7777777777777778, \"#fb9f3a\"], [0.8888888888888888, \"#fdca26\"], [1.0, \"#f0f921\"]], \"type\": \"heatmapgl\"}], \"histogram\": [{\"marker\": {\"colorbar\": {\"outlinewidth\": 0, \"ticks\": \"\"}}, \"type\": \"histogram\"}], \"histogram2d\": [{\"colorbar\": {\"outlinewidth\": 0, \"ticks\": \"\"}, \"colorscale\": [[0.0, \"#0d0887\"], [0.1111111111111111, \"#46039f\"], [0.2222222222222222, \"#7201a8\"], [0.3333333333333333, \"#9c179e\"], [0.4444444444444444, \"#bd3786\"], [0.5555555555555556, \"#d8576b\"], [0.6666666666666666, \"#ed7953\"], [0.7777777777777778, \"#fb9f3a\"], [0.8888888888888888, \"#fdca26\"], [1.0, \"#f0f921\"]], \"type\": \"histogram2d\"}], \"histogram2dcontour\": [{\"colorbar\": {\"outlinewidth\": 0, \"ticks\": \"\"}, \"colorscale\": [[0.0, \"#0d0887\"], [0.1111111111111111, \"#46039f\"], [0.2222222222222222, \"#7201a8\"], [0.3333333333333333, \"#9c179e\"], [0.4444444444444444, \"#bd3786\"], [0.5555555555555556, \"#d8576b\"], [0.6666666666666666, \"#ed7953\"], [0.7777777777777778, \"#fb9f3a\"], [0.8888888888888888, \"#fdca26\"], [1.0, \"#f0f921\"]], \"type\": \"histogram2dcontour\"}], \"mesh3d\": [{\"colorbar\": {\"outlinewidth\": 0, \"ticks\": \"\"}, \"type\": \"mesh3d\"}], \"parcoords\": [{\"line\": {\"colorbar\": {\"outlinewidth\": 0, \"ticks\": \"\"}}, \"type\": \"parcoords\"}], \"pie\": [{\"automargin\": true, \"type\": \"pie\"}], \"scatter\": [{\"marker\": {\"colorbar\": {\"outlinewidth\": 0, \"ticks\": \"\"}}, \"type\": \"scatter\"}], \"scatter3d\": [{\"line\": {\"colorbar\": {\"outlinewidth\": 0, \"ticks\": \"\"}}, \"marker\": {\"colorbar\": {\"outlinewidth\": 0, \"ticks\": \"\"}}, \"type\": \"scatter3d\"}], \"scattercarpet\": [{\"marker\": {\"colorbar\": {\"outlinewidth\": 0, \"ticks\": \"\"}}, \"type\": \"scattercarpet\"}], \"scattergeo\": [{\"marker\": {\"colorbar\": {\"outlinewidth\": 0, \"ticks\": \"\"}}, \"type\": \"scattergeo\"}], \"scattergl\": [{\"marker\": {\"colorbar\": {\"outlinewidth\": 0, \"ticks\": \"\"}}, \"type\": \"scattergl\"}], \"scattermapbox\": [{\"marker\": {\"colorbar\": {\"outlinewidth\": 0, \"ticks\": \"\"}}, \"type\": \"scattermapbox\"}], \"scatterpolar\": [{\"marker\": {\"colorbar\": {\"outlinewidth\": 0, \"ticks\": \"\"}}, \"type\": \"scatterpolar\"}], \"scatterpolargl\": [{\"marker\": {\"colorbar\": {\"outlinewidth\": 0, \"ticks\": \"\"}}, \"type\": \"scatterpolargl\"}], \"scatterternary\": [{\"marker\": {\"colorbar\": {\"outlinewidth\": 0, \"ticks\": \"\"}}, \"type\": \"scatterternary\"}], \"surface\": [{\"colorbar\": {\"outlinewidth\": 0, \"ticks\": \"\"}, \"colorscale\": [[0.0, \"#0d0887\"], [0.1111111111111111, \"#46039f\"], [0.2222222222222222, \"#7201a8\"], [0.3333333333333333, \"#9c179e\"], [0.4444444444444444, \"#bd3786\"], [0.5555555555555556, \"#d8576b\"], [0.6666666666666666, \"#ed7953\"], [0.7777777777777778, \"#fb9f3a\"], [0.8888888888888888, \"#fdca26\"], [1.0, \"#f0f921\"]], \"type\": \"surface\"}], \"table\": [{\"cells\": {\"fill\": {\"color\": \"#EBF0F8\"}, \"line\": {\"color\": \"white\"}}, \"header\": {\"fill\": {\"color\": \"#C8D4E3\"}, \"line\": {\"color\": \"white\"}}, \"type\": \"table\"}]}, \"layout\": {\"annotationdefaults\": {\"arrowcolor\": \"#2a3f5f\", \"arrowhead\": 0, \"arrowwidth\": 1}, \"coloraxis\": {\"colorbar\": {\"outlinewidth\": 0, \"ticks\": \"\"}}, \"colorscale\": {\"diverging\": [[0, \"#8e0152\"], [0.1, \"#c51b7d\"], [0.2, \"#de77ae\"], [0.3, \"#f1b6da\"], [0.4, \"#fde0ef\"], [0.5, \"#f7f7f7\"], [0.6, \"#e6f5d0\"], [0.7, \"#b8e186\"], [0.8, \"#7fbc41\"], [0.9, \"#4d9221\"], [1, \"#276419\"]], \"sequential\": [[0.0, \"#0d0887\"], [0.1111111111111111, \"#46039f\"], [0.2222222222222222, \"#7201a8\"], [0.3333333333333333, \"#9c179e\"], [0.4444444444444444, \"#bd3786\"], [0.5555555555555556, \"#d8576b\"], [0.6666666666666666, \"#ed7953\"], [0.7777777777777778, \"#fb9f3a\"], [0.8888888888888888, \"#fdca26\"], [1.0, \"#f0f921\"]], \"sequentialminus\": [[0.0, \"#0d0887\"], [0.1111111111111111, \"#46039f\"], [0.2222222222222222, \"#7201a8\"], [0.3333333333333333, \"#9c179e\"], [0.4444444444444444, \"#bd3786\"], [0.5555555555555556, \"#d8576b\"], [0.6666666666666666, \"#ed7953\"], [0.7777777777777778, \"#fb9f3a\"], [0.8888888888888888, \"#fdca26\"], [1.0, \"#f0f921\"]]}, \"colorway\": [\"#636efa\", \"#EF553B\", \"#00cc96\", \"#ab63fa\", \"#FFA15A\", \"#19d3f3\", \"#FF6692\", \"#B6E880\", \"#FF97FF\", \"#FECB52\"], \"font\": {\"color\": \"#2a3f5f\"}, \"geo\": {\"bgcolor\": \"white\", \"lakecolor\": \"white\", \"landcolor\": \"white\", \"showlakes\": true, \"showland\": true, \"subunitcolor\": \"#C8D4E3\"}, \"hoverlabel\": {\"align\": \"left\"}, \"hovermode\": \"closest\", \"mapbox\": {\"style\": \"light\"}, \"paper_bgcolor\": \"white\", \"plot_bgcolor\": \"white\", \"polar\": {\"angularaxis\": {\"gridcolor\": \"#EBF0F8\", \"linecolor\": \"#EBF0F8\", \"ticks\": \"\"}, \"bgcolor\": \"white\", \"radialaxis\": {\"gridcolor\": \"#EBF0F8\", \"linecolor\": \"#EBF0F8\", \"ticks\": \"\"}}, \"scene\": {\"xaxis\": {\"backgroundcolor\": \"white\", \"gridcolor\": \"#DFE8F3\", \"gridwidth\": 2, \"linecolor\": \"#EBF0F8\", \"showbackground\": true, \"ticks\": \"\", \"zerolinecolor\": \"#EBF0F8\"}, \"yaxis\": {\"backgroundcolor\": \"white\", \"gridcolor\": \"#DFE8F3\", \"gridwidth\": 2, \"linecolor\": \"#EBF0F8\", \"showbackground\": true, \"ticks\": \"\", \"zerolinecolor\": \"#EBF0F8\"}, \"zaxis\": {\"backgroundcolor\": \"white\", \"gridcolor\": \"#DFE8F3\", \"gridwidth\": 2, \"linecolor\": \"#EBF0F8\", \"showbackground\": true, \"ticks\": \"\", \"zerolinecolor\": \"#EBF0F8\"}}, \"shapedefaults\": {\"line\": {\"color\": \"#2a3f5f\"}}, \"ternary\": {\"aaxis\": {\"gridcolor\": \"#DFE8F3\", \"linecolor\": \"#A2B1C6\", \"ticks\": \"\"}, \"baxis\": {\"gridcolor\": \"#DFE8F3\", \"linecolor\": \"#A2B1C6\", \"ticks\": \"\"}, \"bgcolor\": \"white\", \"caxis\": {\"gridcolor\": \"#DFE8F3\", \"linecolor\": \"#A2B1C6\", \"ticks\": \"\"}}, \"title\": {\"x\": 0.05}, \"xaxis\": {\"automargin\": true, \"gridcolor\": \"#EBF0F8\", \"linecolor\": \"#EBF0F8\", \"ticks\": \"\", \"title\": {\"standoff\": 15}, \"zerolinecolor\": \"#EBF0F8\", \"zerolinewidth\": 2}, \"yaxis\": {\"automargin\": true, \"gridcolor\": \"#EBF0F8\", \"linecolor\": \"#EBF0F8\", \"ticks\": \"\", \"title\": {\"standoff\": 15}, \"zerolinecolor\": \"#EBF0F8\", \"zerolinewidth\": 2}}}, \"title\": {\"text\": \"Feature Correlations:Sentiment\", \"x\": 0.5}, \"width\": 600, \"yaxis\": {\"autorange\": \"reversed\"}},\n",
              "                        {\"responsive\": true}\n",
              "                    ).then(function(){\n",
              "                            \n",
              "var gd = document.getElementById('2baa6d75-730d-406b-8637-41d7fcbec8db');\n",
              "var x = new MutationObserver(function (mutations, observer) {{\n",
              "        var display = window.getComputedStyle(gd).display;\n",
              "        if (!display || display === 'none') {{\n",
              "            console.log([gd, 'removed!']);\n",
              "            Plotly.purge(gd);\n",
              "            observer.disconnect();\n",
              "        }}\n",
              "}});\n",
              "\n",
              "// Listen for the removal of the full notebook cells\n",
              "var notebookContainer = gd.closest('#notebook-container');\n",
              "if (notebookContainer) {{\n",
              "    x.observe(notebookContainer, {childList: true});\n",
              "}}\n",
              "\n",
              "// Listen for the clearing of the current output cell\n",
              "var outputEl = gd.closest('.output');\n",
              "if (outputEl) {{\n",
              "    x.observe(outputEl, {childList: true});\n",
              "}}\n",
              "\n",
              "                        })\n",
              "                };\n",
              "                \n",
              "            </script>\n",
              "        </div>\n",
              "</body>\n",
              "</html>"
            ]
          },
          "metadata": {}
        }
      ]
    },
    {
      "cell_type": "markdown",
      "metadata": {
        "id": "neR_EB_1lTld"
      },
      "source": [
        "### Commodities, FX Rates and Indexes\n",
        "+ OIL, natural gas (BOIL) and DOGE have significantly higher correlations when lagged"
      ]
    },
    {
      "cell_type": "code",
      "metadata": {
        "colab": {
          "base_uri": "https://localhost:8080/",
          "height": 634
        },
        "id": "bS_-2ju5kRoR",
        "outputId": "2423c70f-0122-4e7f-8d37-a450e11882fb"
      },
      "source": [
        "# technical indicators \n",
        "features_to_lag =['GLD','OIL','BOIL','VXX','SPY','XLE','QQQ','USDEUR','USDGBP','USDJPY','ETH','LTC','DOGE']\n",
        "\n",
        "\n",
        "# try shifting from zero to -60 days prior\n",
        "lags = list(range(0,-120,-10))\n",
        "\n",
        "feature_shifts =calc_optimal_feature_lags(df,features_to_lag,lags)\n",
        "print(feature_shifts)\n",
        "\n",
        "# add the optimal feature lags\n",
        "features_to_lag.insert(0,'close')\n",
        "df_com = shift_features(df[features_to_lag],feature_shifts)\n",
        "\n",
        "# plot corr\n",
        "plot_corr(df_com,df_com.columns,'Commodities, FX Rates & Indexes')\n"
      ],
      "execution_count": 9,
      "outputs": [
        {
          "output_type": "stream",
          "name": "stdout",
          "text": [
            "{'OIL': -110, 'BOIL': -110, 'VXX': -110, 'USDEUR': -10, 'USDGBP': -100, 'ETH': -30, 'DOGE': -60}\n"
          ]
        },
        {
          "output_type": "display_data",
          "data": {
            "text/html": [
              "<html>\n",
              "<head><meta charset=\"utf-8\" /></head>\n",
              "<body>\n",
              "    <div>\n",
              "            <script src=\"https://cdnjs.cloudflare.com/ajax/libs/mathjax/2.7.5/MathJax.js?config=TeX-AMS-MML_SVG\"></script><script type=\"text/javascript\">if (window.MathJax) {MathJax.Hub.Config({SVG: {font: \"STIX-Web\"}});}</script>\n",
              "                <script type=\"text/javascript\">window.PlotlyConfig = {MathJaxConfig: 'local'};</script>\n",
              "        <script src=\"https://cdn.plot.ly/plotly-latest.min.js\"></script>    \n",
              "            <div id=\"9b92fac2-a9fe-4650-9346-e198393062ff\" class=\"plotly-graph-div\" style=\"height:600px; width:600px;\"></div>\n",
              "            <script type=\"text/javascript\">\n",
              "                \n",
              "                    window.PLOTLYENV=window.PLOTLYENV || {};\n",
              "                    \n",
              "                if (document.getElementById(\"9b92fac2-a9fe-4650-9346-e198393062ff\")) {\n",
              "                    Plotly.newPlot(\n",
              "                        '9b92fac2-a9fe-4650-9346-e198393062ff',\n",
              "                        [{\"colorscale\": [[0.0, \"rgb(255,255,204)\"], [0.125, \"rgb(255,237,160)\"], [0.25, \"rgb(254,217,118)\"], [0.375, \"rgb(254,178,76)\"], [0.5, \"rgb(253,141,60)\"], [0.625, \"rgb(252,78,42)\"], [0.75, \"rgb(227,26,28)\"], [0.875, \"rgb(189,0,38)\"], [1.0, \"rgb(128,0,38)\"]], \"type\": \"heatmap\", \"x\": [\"close\", \"GLD\", \"OIL\", \"BOIL\", \"VXX\", \"SPY\", \"XLE\", \"QQQ\", \"USDEUR\", \"USDGBP\", \"USDJPY\", \"ETH\", \"LTC\", \"DOGE\", \"OIL_shift\", \"BOIL_shift\", \"VXX_shift\", \"USDEUR_shift\", \"USDGBP_shift\", \"ETH_shift\", \"DOGE_shift\"], \"y\": [\"close\", \"GLD\", \"OIL\", \"BOIL\", \"VXX\", \"SPY\", \"XLE\", \"QQQ\", \"USDEUR\", \"USDGBP\", \"USDJPY\", \"ETH\", \"LTC\", \"DOGE\", \"OIL_shift\", \"BOIL_shift\", \"VXX_shift\", \"USDEUR_shift\", \"USDGBP_shift\", \"ETH_shift\", \"DOGE_shift\"], \"z\": [[1.0, 0.5389473485188698, 0.08950203520883142, 0.022995918967080777, -0.36730207883856386, 0.8386778612682402, -0.2886201078156617, 0.7963085961229575, -0.47615160900067977, -0.545953928493135, -0.2390216486417486, 0.8855675861002587, 0.7103313284676043, 0.6553005389077848, 0.4101538819454401, 0.3988306641931917, -0.03016295018325074, -0.47565275556329517, -0.5875830896545554, 0.9388067998126165, 0.884494645404659], [0.5389473485188698, 1.0, -0.586366236952474, 0.21321111329561324, -0.3496314851782706, 0.7676244543507623, -0.8771756772087529, 0.8753973930364152, -0.17367268383165485, -0.09331459959493817, -0.7128263348906252, 0.40708839655509577, 0.10979594800538435, 0.3403375445707214, -0.18398300389108957, 0.29830270047744384, -0.4513612181364813, -0.19172010463652056, -0.41171856140071483, 0.44728566592370583, 0.37861773711423435], [0.08950203520883142, -0.586366236952474, 1.0, -0.15420197265065036, -0.05759916744557953, -0.02072981105436061, 0.8454546138399136, -0.22989662043363676, -0.27014877640783885, -0.4679339831722726, 0.5421986837578497, 0.2552984485743339, 0.33521292707374006, 0.23366257501979806, 0.4756272028266984, 0.08909786956856963, 0.37761707793890587, -0.2172502551641002, 0.11948735231727879, 0.16732823429640933, 0.19703319892441976], [0.022995918967080777, 0.21321111329561324, -0.15420197265065036, 1.0, 0.16508413439909977, 0.1466330778395337, -0.224029017594504, 0.2493575521888456, -0.11227039541581917, 0.03837686469542941, -0.055955439312453795, 0.020080453588894803, -0.24509598383964273, 0.07190998912131867, 0.08507271199875595, 0.25800033147994733, -0.3016624200851253, -0.1136561863707083, -0.17667101775015104, 0.007963209217030457, 0.05640954754911408], [-0.36730207883856386, -0.3496314851782706, -0.05759916744557953, 0.16508413439909977, 1.0, -0.546713809047194, 0.16486649852920218, -0.4668962342193871, -0.06161362285493456, 0.08547930208931744, 0.21144100456488546, -0.09351415440878402, -0.07455645226405766, 0.06473010728931351, 0.18463299521675355, 0.14036826226150548, 0.06728836021133044, -0.050585133672394485, 0.09100661666951583, -0.24356639364061686, -0.27096162106607147], [0.8386778612682402, 0.7676244543507623, -0.02072981105436061, 0.1466330778395337, -0.546713809047194, 1.0, -0.4811431799223267, 0.9648229173701087, -0.3495186539154981, -0.4350803447138711, -0.39448971512863845, 0.7460432294302415, 0.4200275205834533, 0.643197525509256, 0.14067350180958552, 0.43947279491351177, -0.23131629065608234, -0.34994066896029885, -0.44168730938430784, 0.7701880203690945, 0.723151269721984], [-0.2886201078156617, -0.8771756772087529, 0.8454546138399136, -0.224029017594504, 0.16486649852920218, -0.4811431799223267, 1.0, -0.6610473526049195, -0.10155459602546656, -0.2359132089787851, 0.6810111020568772, -0.0934433250201958, 0.16631143704395152, -0.08976009545320918, 0.39172719364593944, -0.12842271650146198, 0.4564239038309512, -0.06532941233639902, 0.22204322392485779, -0.17732948013085162, -0.16224887338358465], [0.7963085961229575, 0.8753973930364152, -0.22989662043363676, 0.2493575521888456, -0.4668962342193871, 0.9648229173701087, -0.6610473526049195, 1.0, -0.33760551829343155, -0.34304363251786957, -0.5129713977850253, 0.6706951327628499, 0.3246363140845626, 0.5527961401339543, 0.0701402632547882, 0.44269257772040865, -0.30556726261816725, -0.34824059350798, -0.4787568990938305, 0.719791080360808, 0.664340564091748], [-0.47615160900067977, -0.17367268383165485, -0.27014877640783885, -0.11227039541581917, -0.06161362285493456, -0.3495186539154981, -0.10155459602546656, -0.33760551829343155, 1.0, 0.849242102677765, 0.2007298748701975, -0.6004122098604017, -0.6348168736927486, -0.3259564654918932, -0.6385677651311944, -0.27699676638252096, -0.10792107453939316, 0.9579438521016375, 0.6783837887309919, -0.5940279284398302, -0.35892562800306266], [-0.545953928493135, -0.09331459959493817, -0.4679339831722726, 0.03837686469542941, 0.08547930208931744, -0.4350803447138711, -0.2359132089787851, -0.34304363251786957, 0.849242102677765, 1.0, 0.011787367559508967, -0.6785031589482785, -0.6826147942205096, -0.4367916001105657, -0.5687193222671091, -0.319677151193002, -0.27612339796205826, 0.7979119053635355, 0.49732039835885367, -0.6566253097144056, -0.493911401270741], [-0.2390216486417486, -0.7128263348906252, 0.5421986837578497, -0.055955439312453795, 0.21144100456488546, -0.39448971512863845, 0.6810111020568772, -0.5129713977850253, 0.2007298748701975, 0.011787367559508967, 1.0, -0.08800619258328828, -0.03497200191222132, 0.036964786401027336, 0.10966465401272087, 0.0360167015827105, 0.5091623159391776, 0.1844346480273204, 0.2283845114975969, -0.13076384287774778, -0.03674162937657477], [0.8855675861002587, 0.40708839655509577, 0.2552984485743339, 0.020080453588894803, -0.09351415440878402, 0.7460432294302415, -0.0934433250201958, 0.6706951327628499, -0.6004122098604017, -0.6785031589482785, -0.08800619258328828, 1.0, 0.8059940801286501, 0.8568489551338272, 0.54404271245086, 0.5413279358932914, 0.03925084073303205, -0.5936112526767077, -0.5727267889302502, 0.9105522956931515, 0.7851199062955895], [0.7103313284676043, 0.10979594800538435, 0.33521292707374006, -0.24509598383964273, -0.07455645226405766, 0.4200275205834533, 0.16631143704395152, 0.3246363140845626, -0.6348168736927486, -0.6826147942205096, -0.03497200191222132, 0.8059940801286501, 1.0, 0.566160698069953, 0.5877495719894376, 0.30251438244135975, 0.17331767195138564, -0.6380570566383852, -0.5034032557300895, 0.7540809382122406, 0.5643961933009283], [0.6553005389077848, 0.3403375445707214, 0.23366257501979806, 0.07190998912131867, 0.06473010728931351, 0.643197525509256, -0.08976009545320918, 0.5527961401339543, -0.3259564654918932, -0.4367916001105657, 0.036964786401027336, 0.8568489551338272, 0.566160698069953, 1.0, 0.3471560379858108, 0.5311378545532406, -0.05216138163140559, -0.3183970340328215, -0.3232730926248074, 0.6810493229584336, 0.6025377089503213], [0.4101538819454401, -0.18398300389108957, 0.4756272028266984, 0.08507271199875595, 0.18463299521675355, 0.14067350180958552, 0.39172719364593944, 0.0701402632547882, -0.6385677651311944, -0.5687193222671091, 0.10966465401272087, 0.54404271245086, 0.5877495719894376, 0.3471560379858108, 1.0, 0.14217189557951784, -0.08065560269811403, -0.606118787923379, -0.5358057173538608, 0.526812218774251, 0.4282408016714983], [0.3988306641931917, 0.29830270047744384, 0.08909786956856963, 0.25800033147994733, 0.14036826226150548, 0.43947279491351177, -0.12842271650146198, 0.44269257772040865, -0.27699676638252096, -0.319677151193002, 0.0360167015827105, 0.5413279358932914, 0.30251438244135975, 0.5311378545532406, 0.14217189557951784, 1.0, 0.1118058068349216, -0.2734995438063508, -0.2091069706917629, 0.4642442241421128, 0.4370300949894564], [-0.03016295018325074, -0.4513612181364813, 0.37761707793890587, -0.3016624200851253, 0.06728836021133044, -0.23131629065608234, 0.4564239038309512, -0.30556726261816725, -0.10792107453939316, -0.27612339796205826, 0.5091623159391776, 0.03925084073303205, 0.17331767195138564, -0.05216138163140559, -0.08065560269811403, 0.1118058068349216, 1.0, -0.10657744456177064, 0.0496082507931046, 0.043255715454020564, -0.017885280297271402], [-0.47565275556329517, -0.19172010463652056, -0.2172502551641002, -0.1136561863707083, -0.050585133672394485, -0.34994066896029885, -0.06532941233639902, -0.34824059350798, 0.9579438521016375, 0.7979119053635355, 0.1844346480273204, -0.5936112526767077, -0.6380570566383852, -0.3183970340328215, -0.606118787923379, -0.2734995438063508, -0.10657744456177064, 1.0, 0.7091451354186363, -0.5985875539063132, -0.3456779388690409], [-0.5875830896545554, -0.41171856140071483, 0.11948735231727879, -0.17667101775015104, 0.09100661666951583, -0.44168730938430784, 0.22204322392485779, -0.4787568990938305, 0.6783837887309919, 0.49732039835885367, 0.2283845114975969, -0.5727267889302502, -0.5034032557300895, -0.3232730926248074, -0.5358057173538608, -0.2091069706917629, 0.0496082507931046, 0.7091451354186363, 1.0, -0.6334189297213164, -0.44995157972418864], [0.9388067998126165, 0.44728566592370583, 0.16732823429640933, 0.007963209217030457, -0.24356639364061686, 0.7701880203690945, -0.17732948013085162, 0.719791080360808, -0.5940279284398302, -0.6566253097144056, -0.13076384287774778, 0.9105522956931515, 0.7540809382122406, 0.6810493229584336, 0.526812218774251, 0.4642442241421128, 0.043255715454020564, -0.5985875539063132, -0.6334189297213164, 1.0, 0.8423501835910271], [0.884494645404659, 0.37861773711423435, 0.19703319892441976, 0.05640954754911408, -0.27096162106607147, 0.723151269721984, -0.16224887338358465, 0.664340564091748, -0.35892562800306266, -0.493911401270741, -0.03674162937657477, 0.7851199062955895, 0.5643961933009283, 0.6025377089503213, 0.4282408016714983, 0.4370300949894564, -0.017885280297271402, -0.3456779388690409, -0.44995157972418864, 0.8423501835910271, 1.0]]}],\n",
              "                        {\"height\": 600, \"template\": {\"data\": {\"bar\": [{\"error_x\": {\"color\": \"#2a3f5f\"}, \"error_y\": {\"color\": \"#2a3f5f\"}, \"marker\": {\"line\": {\"color\": \"white\", \"width\": 0.5}}, \"type\": \"bar\"}], \"barpolar\": [{\"marker\": {\"line\": {\"color\": \"white\", \"width\": 0.5}}, \"type\": \"barpolar\"}], \"carpet\": [{\"aaxis\": {\"endlinecolor\": \"#2a3f5f\", \"gridcolor\": \"#C8D4E3\", \"linecolor\": \"#C8D4E3\", \"minorgridcolor\": \"#C8D4E3\", \"startlinecolor\": \"#2a3f5f\"}, \"baxis\": {\"endlinecolor\": \"#2a3f5f\", \"gridcolor\": \"#C8D4E3\", \"linecolor\": \"#C8D4E3\", \"minorgridcolor\": \"#C8D4E3\", \"startlinecolor\": \"#2a3f5f\"}, \"type\": \"carpet\"}], \"choropleth\": [{\"colorbar\": {\"outlinewidth\": 0, \"ticks\": \"\"}, \"type\": \"choropleth\"}], \"contour\": [{\"colorbar\": {\"outlinewidth\": 0, \"ticks\": \"\"}, \"colorscale\": [[0.0, \"#0d0887\"], [0.1111111111111111, \"#46039f\"], [0.2222222222222222, \"#7201a8\"], [0.3333333333333333, \"#9c179e\"], [0.4444444444444444, \"#bd3786\"], [0.5555555555555556, \"#d8576b\"], [0.6666666666666666, \"#ed7953\"], [0.7777777777777778, \"#fb9f3a\"], [0.8888888888888888, \"#fdca26\"], [1.0, \"#f0f921\"]], \"type\": \"contour\"}], \"contourcarpet\": [{\"colorbar\": {\"outlinewidth\": 0, \"ticks\": \"\"}, \"type\": \"contourcarpet\"}], \"heatmap\": [{\"colorbar\": {\"outlinewidth\": 0, \"ticks\": \"\"}, \"colorscale\": [[0.0, \"#0d0887\"], [0.1111111111111111, \"#46039f\"], [0.2222222222222222, \"#7201a8\"], [0.3333333333333333, \"#9c179e\"], [0.4444444444444444, \"#bd3786\"], [0.5555555555555556, \"#d8576b\"], [0.6666666666666666, \"#ed7953\"], [0.7777777777777778, \"#fb9f3a\"], [0.8888888888888888, \"#fdca26\"], [1.0, \"#f0f921\"]], \"type\": \"heatmap\"}], \"heatmapgl\": [{\"colorbar\": {\"outlinewidth\": 0, \"ticks\": \"\"}, \"colorscale\": [[0.0, \"#0d0887\"], [0.1111111111111111, \"#46039f\"], [0.2222222222222222, \"#7201a8\"], [0.3333333333333333, \"#9c179e\"], [0.4444444444444444, \"#bd3786\"], [0.5555555555555556, \"#d8576b\"], [0.6666666666666666, \"#ed7953\"], [0.7777777777777778, \"#fb9f3a\"], [0.8888888888888888, \"#fdca26\"], [1.0, \"#f0f921\"]], \"type\": \"heatmapgl\"}], \"histogram\": [{\"marker\": {\"colorbar\": {\"outlinewidth\": 0, \"ticks\": \"\"}}, \"type\": \"histogram\"}], \"histogram2d\": [{\"colorbar\": {\"outlinewidth\": 0, \"ticks\": \"\"}, \"colorscale\": [[0.0, \"#0d0887\"], [0.1111111111111111, \"#46039f\"], [0.2222222222222222, \"#7201a8\"], [0.3333333333333333, \"#9c179e\"], [0.4444444444444444, \"#bd3786\"], [0.5555555555555556, \"#d8576b\"], [0.6666666666666666, \"#ed7953\"], [0.7777777777777778, \"#fb9f3a\"], [0.8888888888888888, \"#fdca26\"], [1.0, \"#f0f921\"]], \"type\": \"histogram2d\"}], \"histogram2dcontour\": [{\"colorbar\": {\"outlinewidth\": 0, \"ticks\": \"\"}, \"colorscale\": [[0.0, \"#0d0887\"], [0.1111111111111111, \"#46039f\"], [0.2222222222222222, \"#7201a8\"], [0.3333333333333333, \"#9c179e\"], [0.4444444444444444, \"#bd3786\"], [0.5555555555555556, \"#d8576b\"], [0.6666666666666666, \"#ed7953\"], [0.7777777777777778, \"#fb9f3a\"], [0.8888888888888888, \"#fdca26\"], [1.0, \"#f0f921\"]], \"type\": \"histogram2dcontour\"}], \"mesh3d\": [{\"colorbar\": {\"outlinewidth\": 0, \"ticks\": \"\"}, \"type\": \"mesh3d\"}], \"parcoords\": [{\"line\": {\"colorbar\": {\"outlinewidth\": 0, \"ticks\": \"\"}}, \"type\": \"parcoords\"}], \"pie\": [{\"automargin\": true, \"type\": \"pie\"}], \"scatter\": [{\"marker\": {\"colorbar\": {\"outlinewidth\": 0, \"ticks\": \"\"}}, \"type\": \"scatter\"}], \"scatter3d\": [{\"line\": {\"colorbar\": {\"outlinewidth\": 0, \"ticks\": \"\"}}, \"marker\": {\"colorbar\": {\"outlinewidth\": 0, \"ticks\": \"\"}}, \"type\": \"scatter3d\"}], \"scattercarpet\": [{\"marker\": {\"colorbar\": {\"outlinewidth\": 0, \"ticks\": \"\"}}, \"type\": \"scattercarpet\"}], \"scattergeo\": [{\"marker\": {\"colorbar\": {\"outlinewidth\": 0, \"ticks\": \"\"}}, \"type\": \"scattergeo\"}], \"scattergl\": [{\"marker\": {\"colorbar\": {\"outlinewidth\": 0, \"ticks\": \"\"}}, \"type\": \"scattergl\"}], \"scattermapbox\": [{\"marker\": {\"colorbar\": {\"outlinewidth\": 0, \"ticks\": \"\"}}, \"type\": \"scattermapbox\"}], \"scatterpolar\": [{\"marker\": {\"colorbar\": {\"outlinewidth\": 0, \"ticks\": \"\"}}, \"type\": \"scatterpolar\"}], \"scatterpolargl\": [{\"marker\": {\"colorbar\": {\"outlinewidth\": 0, \"ticks\": \"\"}}, \"type\": \"scatterpolargl\"}], \"scatterternary\": [{\"marker\": {\"colorbar\": {\"outlinewidth\": 0, \"ticks\": \"\"}}, \"type\": \"scatterternary\"}], \"surface\": [{\"colorbar\": {\"outlinewidth\": 0, \"ticks\": \"\"}, \"colorscale\": [[0.0, \"#0d0887\"], [0.1111111111111111, \"#46039f\"], [0.2222222222222222, \"#7201a8\"], [0.3333333333333333, \"#9c179e\"], [0.4444444444444444, \"#bd3786\"], [0.5555555555555556, \"#d8576b\"], [0.6666666666666666, \"#ed7953\"], [0.7777777777777778, \"#fb9f3a\"], [0.8888888888888888, \"#fdca26\"], [1.0, \"#f0f921\"]], \"type\": \"surface\"}], \"table\": [{\"cells\": {\"fill\": {\"color\": \"#EBF0F8\"}, \"line\": {\"color\": \"white\"}}, \"header\": {\"fill\": {\"color\": \"#C8D4E3\"}, \"line\": {\"color\": \"white\"}}, \"type\": \"table\"}]}, \"layout\": {\"annotationdefaults\": {\"arrowcolor\": \"#2a3f5f\", \"arrowhead\": 0, \"arrowwidth\": 1}, \"coloraxis\": {\"colorbar\": {\"outlinewidth\": 0, \"ticks\": \"\"}}, \"colorscale\": {\"diverging\": [[0, \"#8e0152\"], [0.1, \"#c51b7d\"], [0.2, \"#de77ae\"], [0.3, \"#f1b6da\"], [0.4, \"#fde0ef\"], [0.5, \"#f7f7f7\"], [0.6, \"#e6f5d0\"], [0.7, \"#b8e186\"], [0.8, \"#7fbc41\"], [0.9, \"#4d9221\"], [1, \"#276419\"]], \"sequential\": [[0.0, \"#0d0887\"], [0.1111111111111111, \"#46039f\"], [0.2222222222222222, \"#7201a8\"], [0.3333333333333333, \"#9c179e\"], [0.4444444444444444, \"#bd3786\"], [0.5555555555555556, \"#d8576b\"], [0.6666666666666666, \"#ed7953\"], [0.7777777777777778, \"#fb9f3a\"], [0.8888888888888888, \"#fdca26\"], [1.0, \"#f0f921\"]], \"sequentialminus\": [[0.0, \"#0d0887\"], [0.1111111111111111, \"#46039f\"], [0.2222222222222222, \"#7201a8\"], [0.3333333333333333, \"#9c179e\"], [0.4444444444444444, \"#bd3786\"], [0.5555555555555556, \"#d8576b\"], [0.6666666666666666, \"#ed7953\"], [0.7777777777777778, \"#fb9f3a\"], [0.8888888888888888, \"#fdca26\"], [1.0, \"#f0f921\"]]}, \"colorway\": [\"#636efa\", \"#EF553B\", \"#00cc96\", \"#ab63fa\", \"#FFA15A\", \"#19d3f3\", \"#FF6692\", \"#B6E880\", \"#FF97FF\", \"#FECB52\"], \"font\": {\"color\": \"#2a3f5f\"}, \"geo\": {\"bgcolor\": \"white\", \"lakecolor\": \"white\", \"landcolor\": \"white\", \"showlakes\": true, \"showland\": true, \"subunitcolor\": \"#C8D4E3\"}, \"hoverlabel\": {\"align\": \"left\"}, \"hovermode\": \"closest\", \"mapbox\": {\"style\": \"light\"}, \"paper_bgcolor\": \"white\", \"plot_bgcolor\": \"white\", \"polar\": {\"angularaxis\": {\"gridcolor\": \"#EBF0F8\", \"linecolor\": \"#EBF0F8\", \"ticks\": \"\"}, \"bgcolor\": \"white\", \"radialaxis\": {\"gridcolor\": \"#EBF0F8\", \"linecolor\": \"#EBF0F8\", \"ticks\": \"\"}}, \"scene\": {\"xaxis\": {\"backgroundcolor\": \"white\", \"gridcolor\": \"#DFE8F3\", \"gridwidth\": 2, \"linecolor\": \"#EBF0F8\", \"showbackground\": true, \"ticks\": \"\", \"zerolinecolor\": \"#EBF0F8\"}, \"yaxis\": {\"backgroundcolor\": \"white\", \"gridcolor\": \"#DFE8F3\", \"gridwidth\": 2, \"linecolor\": \"#EBF0F8\", \"showbackground\": true, \"ticks\": \"\", \"zerolinecolor\": \"#EBF0F8\"}, \"zaxis\": {\"backgroundcolor\": \"white\", \"gridcolor\": \"#DFE8F3\", \"gridwidth\": 2, \"linecolor\": \"#EBF0F8\", \"showbackground\": true, \"ticks\": \"\", \"zerolinecolor\": \"#EBF0F8\"}}, \"shapedefaults\": {\"line\": {\"color\": \"#2a3f5f\"}}, \"ternary\": {\"aaxis\": {\"gridcolor\": \"#DFE8F3\", \"linecolor\": \"#A2B1C6\", \"ticks\": \"\"}, \"baxis\": {\"gridcolor\": \"#DFE8F3\", \"linecolor\": \"#A2B1C6\", \"ticks\": \"\"}, \"bgcolor\": \"white\", \"caxis\": {\"gridcolor\": \"#DFE8F3\", \"linecolor\": \"#A2B1C6\", \"ticks\": \"\"}}, \"title\": {\"x\": 0.05}, \"xaxis\": {\"automargin\": true, \"gridcolor\": \"#EBF0F8\", \"linecolor\": \"#EBF0F8\", \"ticks\": \"\", \"title\": {\"standoff\": 15}, \"zerolinecolor\": \"#EBF0F8\", \"zerolinewidth\": 2}, \"yaxis\": {\"automargin\": true, \"gridcolor\": \"#EBF0F8\", \"linecolor\": \"#EBF0F8\", \"ticks\": \"\", \"title\": {\"standoff\": 15}, \"zerolinecolor\": \"#EBF0F8\", \"zerolinewidth\": 2}}}, \"title\": {\"text\": \"Feature Correlations:Commodities, FX Rates & Indexes\", \"x\": 0.5}, \"width\": 600, \"yaxis\": {\"autorange\": \"reversed\"}},\n",
              "                        {\"responsive\": true}\n",
              "                    ).then(function(){\n",
              "                            \n",
              "var gd = document.getElementById('9b92fac2-a9fe-4650-9346-e198393062ff');\n",
              "var x = new MutationObserver(function (mutations, observer) {{\n",
              "        var display = window.getComputedStyle(gd).display;\n",
              "        if (!display || display === 'none') {{\n",
              "            console.log([gd, 'removed!']);\n",
              "            Plotly.purge(gd);\n",
              "            observer.disconnect();\n",
              "        }}\n",
              "}});\n",
              "\n",
              "// Listen for the removal of the full notebook cells\n",
              "var notebookContainer = gd.closest('#notebook-container');\n",
              "if (notebookContainer) {{\n",
              "    x.observe(notebookContainer, {childList: true});\n",
              "}}\n",
              "\n",
              "// Listen for the clearing of the current output cell\n",
              "var outputEl = gd.closest('.output');\n",
              "if (outputEl) {{\n",
              "    x.observe(outputEl, {childList: true});\n",
              "}}\n",
              "\n",
              "                        })\n",
              "                };\n",
              "                \n",
              "            </script>\n",
              "        </div>\n",
              "</body>\n",
              "</html>"
            ]
          },
          "metadata": {}
        }
      ]
    },
    {
      "cell_type": "markdown",
      "metadata": {
        "id": "GUtI3JgNbwqD"
      },
      "source": [
        "### Add the Lagged Features"
      ]
    },
    {
      "cell_type": "code",
      "metadata": {
        "colab": {
          "base_uri": "https://localhost:8080/"
        },
        "id": "0bDNfOJ8aguk",
        "outputId": "ae61b96d-a72d-40c9-9414-bf412950fb99"
      },
      "source": [
        "# add shifted economic columns to the dataset\n",
        "add_cols = [c for c in df_econ.columns if c not in df.columns]\n",
        "df = df.join(df_econ[add_cols],how='left')\n",
        "\n",
        "# add shifted commodity columns to the dataset\n",
        "add_cols = [c for c in df_com.columns if c not in df.columns]\n",
        "df = df.join(df_com[add_cols],how='left')\n",
        "\n",
        "\n",
        "# add shifted sentiment columns to the dataset\n",
        "add_cols = [c for c in df_sent.columns if c not in df.columns]\n",
        "df = df.join(df_sent[add_cols],how='left')\n",
        "\n",
        "print(f\"Total Features:{df.shape[1]}\")\n",
        "print(\"=\"*60)\n",
        "print(df.columns)\n",
        "\n",
        "\n",
        "# save the dataset\n",
        "df.to_pickle(f'/content/drive/MyDrive/Colab Notebooks/capstone2/data/{ticker}_market_data_shifted.pickle')\n"
      ],
      "execution_count": 10,
      "outputs": [
        {
          "output_type": "stream",
          "name": "stdout",
          "text": [
            "Total Features:79\n",
            "============================================================\n",
            "Index(['ticker', 'open', 'high', 'low', 'close', 'volume', 'month', 'weekday',\n",
            "       'futures_open', 'futures_high', 'futures_low', 'futures_close',\n",
            "       'futures_volume', 'idx_fear_greed', 'idx_classification', 'ETH', 'DOGE',\n",
            "       'LTC', 'weighted_sentiment', 'ma_sentiment_10', 'ma_sentiment_20',\n",
            "       'ma_sentiment_40', 'b-upper-ma_sentiment_10',\n",
            "       'b-middle-ma_sentiment_10', 'b-lower-ma_sentiment_10', 'news_count',\n",
            "       'sentiment_title', 'ma_news_count', 'ma_sentiment_title',\n",
            "       'b-upper-ma_news_count', 'b-middle-ma_news_count',\n",
            "       'b-lower-ma_news_count', 'b-upper-ma_sentiment_title',\n",
            "       'b-middle-ma_sentiment_title', 'b-lower-ma_sentiment_title',\n",
            "       'google_trends', 'b-upper-google_trends', 'b-middle-google_trends',\n",
            "       'b-lower-google_trends', 'USDEUR', 'USDJPY', 'USDGBP', 'GLD', 'OIL',\n",
            "       'BOIL', 'VXX', 'SPY', 'XLE', 'QQQ', 'b-upper', 'b-middle', 'b-lower',\n",
            "       'rsi', 'stoch_high', 'stoch_low', 'stoch_K', 'stoch_D', 'macd',\n",
            "       'macd_signal', 'yield5y', 'yield10y', 'yield30y', 'yield3m', 'ir',\n",
            "       'nfp', 'gdp', 'unemployment', 'cs', 'infl', 'gdp_shift', 'infl_shift',\n",
            "       'OIL_shift', 'BOIL_shift', 'VXX_shift', 'USDEUR_shift', 'USDGBP_shift',\n",
            "       'ETH_shift', 'DOGE_shift', 'news_count_shift'],\n",
            "      dtype='object')\n"
          ]
        }
      ]
    },
    {
      "cell_type": "markdown",
      "metadata": {
        "id": "QXZ6NLfAdBug"
      },
      "source": [
        "# Feature Selection\n",
        " Use recursive feature elimination (RFE) to select the features with highest importance to predict closing prices using a random forest regresssor"
      ]
    },
    {
      "cell_type": "code",
      "metadata": {
        "id": "sgc1X8ywePJX"
      },
      "source": [
        "def plot_feature_importance(df_importance):\n",
        "  \"\"\"\n",
        "  Plot a bar chart of feature importance\n",
        "  Params:\n",
        "    df_importance: a dataframe with the output from calc_feature_importance\n",
        "  \"\"\"\n",
        "\n",
        "  # create plot\n",
        "  fig = go.Figure()\n",
        "  \n",
        "  # create the plot of feature importance\n",
        "  fig.add_trace(go.Bar(\n",
        "              name = 'Importance',\n",
        "              x=df_importance.score,\n",
        "              y=df_importance.index,\n",
        "              orientation='h',\n",
        "              marker=dict(color='orange'),\n",
        "    )\n",
        "  )\n",
        "\n",
        "  fig.update_layout(\n",
        "      title = 'Feature Importance',\n",
        "      template='plotly_white',\n",
        "      width=700,\n",
        "      height=900\n",
        "  )\n",
        "\n",
        "  fig.show()"
      ],
      "execution_count": 11,
      "outputs": []
    },
    {
      "cell_type": "code",
      "metadata": {
        "id": "K1kjU9ow9pmm"
      },
      "source": [
        "def calc_feature_importance(df_features,num_features,seed):\n",
        "  \"\"\"\n",
        "  Calculate the feature importance and rank using RFE and random forest regression\n",
        "  Input: \n",
        "    df: dataframe of features. Expects that the close price is the target variable\n",
        "    num_features: the number of features to rank\n",
        "    seed: set the seed for reproducability\n",
        "  Output:\n",
        "    A dataframe of top ranked features, and plots of feature importance\n",
        "  \"\"\"\n",
        "\n",
        "  # remove na\n",
        "  df = df_features.copy()\n",
        "  df.dropna(how='any',inplace=True)\n",
        "\n",
        "  # get y target\n",
        "  y = df.close\n",
        "\n",
        "  # exclude price features and the symbol name from the feature list\n",
        "  cols = [c for c in df.columns if c not in  ['ticker','close','open','high','low','idx_classification']]\n",
        "  X = df[cols]\n",
        "\n",
        "\n",
        "  # fit random forest model to get feature importance scores\n",
        "  model = RandomForestRegressor(n_estimators=500, random_state=seed)\n",
        "  model.fit(X, y)\n",
        "\n",
        "  # use RFE to rank features\n",
        "  rfe = RFE(RandomForestRegressor(n_estimators=500, random_state=seed), n_features_to_select=num_features)\n",
        "  fit = rfe.fit(X, y)\n",
        "\n",
        "\n",
        "  # Print Top Features\n",
        "  selected =[]\n",
        "  for i in range(len(fit.support_)):\n",
        "    if fit.support_[i]:\n",
        "      selected.append(cols[i])\n",
        "  \n",
        "  print(\"Top Ranked Features\")\n",
        "  print(\"=\"*60)\n",
        "  print(selected)\n",
        "\n",
        "  #\n",
        "  df_features = pd.DataFrame(list(zip(cols,fit.ranking_,model.feature_importances_)),\n",
        "                             columns=['feature','rank','score'])\n",
        "  df_features.sort_values(by=['score','rank'],ascending=True,inplace=True)\n",
        "  df_features.set_index('feature',inplace=True)\n",
        "  df_features = df_features[df_features['rank']==1]\n",
        "  \n",
        "  # plot the results\n",
        "  plot_feature_importance(df_features)\n",
        "\n",
        "\n",
        "  return df_features"
      ],
      "execution_count": 12,
      "outputs": []
    },
    {
      "cell_type": "markdown",
      "metadata": {
        "id": "CQRRuK4dpQyb"
      },
      "source": [
        "#### Most Importance Features\n",
        "+ Bitcoin: open,high,low,close,volume\n",
        "+ Bitcoin Futures: open, high,low, close\n",
        "+ Peers: ETH, DOGE, LTC, fear-greed-index\n",
        "+ Sentiment: Sentiment (10 day-bollinger bands),news_count (bollinger bands), google-trends (bollinger bands), title-sentiment (bollinger bands)\n",
        "+ Technical: RSI, MACD, Stoch, Bollinger bands\n",
        "+ Economic: None\n",
        "+ Commodities; Oil-shifted, BOIL, VXX-shifted, XLE ,QQQ\n",
        "+ FX Rates: USDGBP, USDEUR"
      ]
    },
    {
      "cell_type": "code",
      "metadata": {
        "colab": {
          "base_uri": "https://localhost:8080/",
          "height": 988
        },
        "id": "Z4Ep4UDtdfSr",
        "outputId": "455f0d93-fbab-4073-ec39-b9a79cc2e6c3"
      },
      "source": [
        "df_features = calc_feature_importance(df,50,1985)"
      ],
      "execution_count": null,
      "outputs": [
        {
          "output_type": "stream",
          "name": "stdout",
          "text": [
            "Top Ranked Features\n",
            "============================================================\n",
            "['volume', 'futures_open', 'futures_high', 'futures_low', 'futures_close', 'idx_fear_greed', 'ETH', 'DOGE', 'LTC', 'weighted_sentiment', 'ma_sentiment_40', 'b-upper-ma_sentiment_10', 'b-middle-ma_sentiment_10', 'news_count', 'ma_news_count', 'ma_sentiment_title', 'b-upper-ma_news_count', 'b-middle-ma_news_count', 'b-lower-ma_news_count', 'b-upper-ma_sentiment_title', 'b-middle-ma_sentiment_title', 'b-lower-ma_sentiment_title', 'b-upper-google_trends', 'b-middle-google_trends', 'b-lower-google_trends', 'USDEUR', 'USDJPY', 'USDGBP', 'OIL', 'BOIL', 'VXX', 'XLE', 'QQQ', 'b-upper', 'b-middle', 'b-lower', 'rsi', 'stoch_high', 'stoch_low', 'stoch_K', 'macd', 'macd_signal', 'OIL_shift', 'BOIL_shift', 'VXX_shift', 'USDEUR_shift', 'USDGBP_shift', 'ETH_shift', 'DOGE_shift', 'news_count_shift']\n"
          ]
        },
        {
          "output_type": "display_data",
          "data": {
            "text/html": [
              "<html>\n",
              "<head><meta charset=\"utf-8\" /></head>\n",
              "<body>\n",
              "    <div>\n",
              "            <script src=\"https://cdnjs.cloudflare.com/ajax/libs/mathjax/2.7.5/MathJax.js?config=TeX-AMS-MML_SVG\"></script><script type=\"text/javascript\">if (window.MathJax) {MathJax.Hub.Config({SVG: {font: \"STIX-Web\"}});}</script>\n",
              "                <script type=\"text/javascript\">window.PlotlyConfig = {MathJaxConfig: 'local'};</script>\n",
              "        <script src=\"https://cdn.plot.ly/plotly-latest.min.js\"></script>    \n",
              "            <div id=\"d4f4aba1-5dae-423a-97f8-2b53523faa41\" class=\"plotly-graph-div\" style=\"height:900px; width:700px;\"></div>\n",
              "            <script type=\"text/javascript\">\n",
              "                \n",
              "                    window.PLOTLYENV=window.PLOTLYENV || {};\n",
              "                    \n",
              "                if (document.getElementById(\"d4f4aba1-5dae-423a-97f8-2b53523faa41\")) {\n",
              "                    Plotly.newPlot(\n",
              "                        'd4f4aba1-5dae-423a-97f8-2b53523faa41',\n",
              "                        [{\"marker\": {\"color\": \"orange\"}, \"name\": \"Importance\", \"orientation\": \"h\", \"type\": \"bar\", \"x\": [5.814610745622841e-06, 6.531008580577734e-06, 6.545199200348984e-06, 7.630573342381523e-06, 8.204592219224066e-06, 8.359575611411147e-06, 8.70618387874854e-06, 8.94644622290153e-06, 1.0212417035295347e-05, 1.0375543375909072e-05, 1.0633800751451374e-05, 1.0865045204872989e-05, 1.0945323649077295e-05, 1.1853141809384536e-05, 1.2640841499986015e-05, 1.3484965422790063e-05, 1.4066732682354446e-05, 1.533961503472744e-05, 1.613393788808085e-05, 1.8076481656968735e-05, 1.8454632805845762e-05, 1.8880815051245773e-05, 1.9080678027077324e-05, 2.2846454639760234e-05, 2.7927561245377435e-05, 3.640296591566083e-05, 3.7229417546117316e-05, 4.018611757471319e-05, 4.649347667644091e-05, 4.686481684459068e-05, 0.00010551797862300006, 0.0001870396949370086, 0.0002638092894759229, 0.00028693558359470147, 0.0004192972757973122, 0.0005592247558038653, 0.004230399675407575, 0.008674896245792773, 0.00872381466672271, 0.015487777164951056, 0.03448766220272603, 0.06028349797448879, 0.06164140665932832, 0.08372428805917327, 0.09535416007822689, 0.09595185974483371, 0.10557708079051853, 0.11312815784734966, 0.12879300949346434, 0.179693187397356], \"y\": [\"ma_news_count\", \"b-lower-ma_sentiment_title\", \"weighted_sentiment\", \"USDGBP_shift\", \"volume\", \"ma_sentiment_40\", \"USDJPY\", \"XLE\", \"news_count_shift\", \"stoch_K\", \"b-lower-ma_news_count\", \"rsi\", \"ma_sentiment_title\", \"b-lower-google_trends\", \"BOIL_shift\", \"VXX\", \"b-middle-google_trends\", \"news_count\", \"b-middle-ma_sentiment_title\", \"b-upper-ma_sentiment_title\", \"macd\", \"b-upper-ma_sentiment_10\", \"BOIL\", \"b-upper-google_trends\", \"USDEUR_shift\", \"b-middle-ma_news_count\", \"OIL\", \"b-upper-ma_news_count\", \"OIL_shift\", \"b-middle-ma_sentiment_10\", \"QQQ\", \"USDEUR\", \"LTC\", \"VXX_shift\", \"idx_fear_greed\", \"DOGE_shift\", \"macd_signal\", \"ETH_shift\", \"DOGE\", \"USDGBP\", \"b-lower\", \"ETH\", \"b-middle\", \"stoch_low\", \"stoch_high\", \"futures_low\", \"futures_open\", \"futures_high\", \"b-upper\", \"futures_close\"]}],\n",
              "                        {\"height\": 900, \"template\": {\"data\": {\"bar\": [{\"error_x\": {\"color\": \"#2a3f5f\"}, \"error_y\": {\"color\": \"#2a3f5f\"}, \"marker\": {\"line\": {\"color\": \"white\", \"width\": 0.5}}, \"type\": \"bar\"}], \"barpolar\": [{\"marker\": {\"line\": {\"color\": \"white\", \"width\": 0.5}}, \"type\": \"barpolar\"}], \"carpet\": [{\"aaxis\": {\"endlinecolor\": \"#2a3f5f\", \"gridcolor\": \"#C8D4E3\", \"linecolor\": \"#C8D4E3\", \"minorgridcolor\": \"#C8D4E3\", \"startlinecolor\": \"#2a3f5f\"}, \"baxis\": {\"endlinecolor\": \"#2a3f5f\", \"gridcolor\": \"#C8D4E3\", \"linecolor\": \"#C8D4E3\", \"minorgridcolor\": \"#C8D4E3\", \"startlinecolor\": \"#2a3f5f\"}, \"type\": \"carpet\"}], \"choropleth\": [{\"colorbar\": {\"outlinewidth\": 0, \"ticks\": \"\"}, \"type\": \"choropleth\"}], \"contour\": [{\"colorbar\": {\"outlinewidth\": 0, \"ticks\": \"\"}, \"colorscale\": [[0.0, \"#0d0887\"], [0.1111111111111111, \"#46039f\"], [0.2222222222222222, \"#7201a8\"], [0.3333333333333333, \"#9c179e\"], [0.4444444444444444, \"#bd3786\"], [0.5555555555555556, \"#d8576b\"], [0.6666666666666666, \"#ed7953\"], [0.7777777777777778, \"#fb9f3a\"], [0.8888888888888888, \"#fdca26\"], [1.0, \"#f0f921\"]], \"type\": \"contour\"}], \"contourcarpet\": [{\"colorbar\": {\"outlinewidth\": 0, \"ticks\": \"\"}, \"type\": \"contourcarpet\"}], \"heatmap\": [{\"colorbar\": {\"outlinewidth\": 0, \"ticks\": \"\"}, \"colorscale\": [[0.0, \"#0d0887\"], [0.1111111111111111, \"#46039f\"], [0.2222222222222222, \"#7201a8\"], [0.3333333333333333, \"#9c179e\"], [0.4444444444444444, \"#bd3786\"], [0.5555555555555556, \"#d8576b\"], [0.6666666666666666, \"#ed7953\"], [0.7777777777777778, \"#fb9f3a\"], [0.8888888888888888, \"#fdca26\"], [1.0, \"#f0f921\"]], \"type\": \"heatmap\"}], \"heatmapgl\": [{\"colorbar\": {\"outlinewidth\": 0, \"ticks\": \"\"}, \"colorscale\": [[0.0, \"#0d0887\"], [0.1111111111111111, \"#46039f\"], [0.2222222222222222, \"#7201a8\"], [0.3333333333333333, \"#9c179e\"], [0.4444444444444444, \"#bd3786\"], [0.5555555555555556, \"#d8576b\"], [0.6666666666666666, \"#ed7953\"], [0.7777777777777778, \"#fb9f3a\"], [0.8888888888888888, \"#fdca26\"], [1.0, \"#f0f921\"]], \"type\": \"heatmapgl\"}], \"histogram\": [{\"marker\": {\"colorbar\": {\"outlinewidth\": 0, \"ticks\": \"\"}}, \"type\": \"histogram\"}], \"histogram2d\": [{\"colorbar\": {\"outlinewidth\": 0, \"ticks\": \"\"}, \"colorscale\": [[0.0, \"#0d0887\"], [0.1111111111111111, \"#46039f\"], [0.2222222222222222, \"#7201a8\"], [0.3333333333333333, \"#9c179e\"], [0.4444444444444444, \"#bd3786\"], [0.5555555555555556, \"#d8576b\"], [0.6666666666666666, \"#ed7953\"], [0.7777777777777778, \"#fb9f3a\"], [0.8888888888888888, \"#fdca26\"], [1.0, \"#f0f921\"]], \"type\": \"histogram2d\"}], \"histogram2dcontour\": [{\"colorbar\": {\"outlinewidth\": 0, \"ticks\": \"\"}, \"colorscale\": [[0.0, \"#0d0887\"], [0.1111111111111111, \"#46039f\"], [0.2222222222222222, \"#7201a8\"], [0.3333333333333333, \"#9c179e\"], [0.4444444444444444, \"#bd3786\"], [0.5555555555555556, \"#d8576b\"], [0.6666666666666666, \"#ed7953\"], [0.7777777777777778, \"#fb9f3a\"], [0.8888888888888888, \"#fdca26\"], [1.0, \"#f0f921\"]], \"type\": \"histogram2dcontour\"}], \"mesh3d\": [{\"colorbar\": {\"outlinewidth\": 0, \"ticks\": \"\"}, \"type\": \"mesh3d\"}], \"parcoords\": [{\"line\": {\"colorbar\": {\"outlinewidth\": 0, \"ticks\": \"\"}}, \"type\": \"parcoords\"}], \"pie\": [{\"automargin\": true, \"type\": \"pie\"}], \"scatter\": [{\"marker\": {\"colorbar\": {\"outlinewidth\": 0, \"ticks\": \"\"}}, \"type\": \"scatter\"}], \"scatter3d\": [{\"line\": {\"colorbar\": {\"outlinewidth\": 0, \"ticks\": \"\"}}, \"marker\": {\"colorbar\": {\"outlinewidth\": 0, \"ticks\": \"\"}}, \"type\": \"scatter3d\"}], \"scattercarpet\": [{\"marker\": {\"colorbar\": {\"outlinewidth\": 0, \"ticks\": \"\"}}, \"type\": \"scattercarpet\"}], \"scattergeo\": [{\"marker\": {\"colorbar\": {\"outlinewidth\": 0, \"ticks\": \"\"}}, \"type\": \"scattergeo\"}], \"scattergl\": [{\"marker\": {\"colorbar\": {\"outlinewidth\": 0, \"ticks\": \"\"}}, \"type\": \"scattergl\"}], \"scattermapbox\": [{\"marker\": {\"colorbar\": {\"outlinewidth\": 0, \"ticks\": \"\"}}, \"type\": \"scattermapbox\"}], \"scatterpolar\": [{\"marker\": {\"colorbar\": {\"outlinewidth\": 0, \"ticks\": \"\"}}, \"type\": \"scatterpolar\"}], \"scatterpolargl\": [{\"marker\": {\"colorbar\": {\"outlinewidth\": 0, \"ticks\": \"\"}}, \"type\": \"scatterpolargl\"}], \"scatterternary\": [{\"marker\": {\"colorbar\": {\"outlinewidth\": 0, \"ticks\": \"\"}}, \"type\": \"scatterternary\"}], \"surface\": [{\"colorbar\": {\"outlinewidth\": 0, \"ticks\": \"\"}, \"colorscale\": [[0.0, \"#0d0887\"], [0.1111111111111111, \"#46039f\"], [0.2222222222222222, \"#7201a8\"], [0.3333333333333333, \"#9c179e\"], [0.4444444444444444, \"#bd3786\"], [0.5555555555555556, \"#d8576b\"], [0.6666666666666666, \"#ed7953\"], [0.7777777777777778, \"#fb9f3a\"], [0.8888888888888888, \"#fdca26\"], [1.0, \"#f0f921\"]], \"type\": \"surface\"}], \"table\": [{\"cells\": {\"fill\": {\"color\": \"#EBF0F8\"}, \"line\": {\"color\": \"white\"}}, \"header\": {\"fill\": {\"color\": \"#C8D4E3\"}, \"line\": {\"color\": \"white\"}}, \"type\": \"table\"}]}, \"layout\": {\"annotationdefaults\": {\"arrowcolor\": \"#2a3f5f\", \"arrowhead\": 0, \"arrowwidth\": 1}, \"coloraxis\": {\"colorbar\": {\"outlinewidth\": 0, \"ticks\": \"\"}}, \"colorscale\": {\"diverging\": [[0, \"#8e0152\"], [0.1, \"#c51b7d\"], [0.2, \"#de77ae\"], [0.3, \"#f1b6da\"], [0.4, \"#fde0ef\"], [0.5, \"#f7f7f7\"], [0.6, \"#e6f5d0\"], [0.7, \"#b8e186\"], [0.8, \"#7fbc41\"], [0.9, \"#4d9221\"], [1, \"#276419\"]], \"sequential\": [[0.0, \"#0d0887\"], [0.1111111111111111, \"#46039f\"], [0.2222222222222222, \"#7201a8\"], [0.3333333333333333, \"#9c179e\"], [0.4444444444444444, \"#bd3786\"], [0.5555555555555556, \"#d8576b\"], [0.6666666666666666, \"#ed7953\"], [0.7777777777777778, \"#fb9f3a\"], [0.8888888888888888, \"#fdca26\"], [1.0, \"#f0f921\"]], \"sequentialminus\": [[0.0, \"#0d0887\"], [0.1111111111111111, \"#46039f\"], [0.2222222222222222, \"#7201a8\"], [0.3333333333333333, \"#9c179e\"], [0.4444444444444444, \"#bd3786\"], [0.5555555555555556, \"#d8576b\"], [0.6666666666666666, \"#ed7953\"], [0.7777777777777778, \"#fb9f3a\"], [0.8888888888888888, \"#fdca26\"], [1.0, \"#f0f921\"]]}, \"colorway\": [\"#636efa\", \"#EF553B\", \"#00cc96\", \"#ab63fa\", \"#FFA15A\", \"#19d3f3\", \"#FF6692\", \"#B6E880\", \"#FF97FF\", \"#FECB52\"], \"font\": {\"color\": \"#2a3f5f\"}, \"geo\": {\"bgcolor\": \"white\", \"lakecolor\": \"white\", \"landcolor\": \"white\", \"showlakes\": true, \"showland\": true, \"subunitcolor\": \"#C8D4E3\"}, \"hoverlabel\": {\"align\": \"left\"}, \"hovermode\": \"closest\", \"mapbox\": {\"style\": \"light\"}, \"paper_bgcolor\": \"white\", \"plot_bgcolor\": \"white\", \"polar\": {\"angularaxis\": {\"gridcolor\": \"#EBF0F8\", \"linecolor\": \"#EBF0F8\", \"ticks\": \"\"}, \"bgcolor\": \"white\", \"radialaxis\": {\"gridcolor\": \"#EBF0F8\", \"linecolor\": \"#EBF0F8\", \"ticks\": \"\"}}, \"scene\": {\"xaxis\": {\"backgroundcolor\": \"white\", \"gridcolor\": \"#DFE8F3\", \"gridwidth\": 2, \"linecolor\": \"#EBF0F8\", \"showbackground\": true, \"ticks\": \"\", \"zerolinecolor\": \"#EBF0F8\"}, \"yaxis\": {\"backgroundcolor\": \"white\", \"gridcolor\": \"#DFE8F3\", \"gridwidth\": 2, \"linecolor\": \"#EBF0F8\", \"showbackground\": true, \"ticks\": \"\", \"zerolinecolor\": \"#EBF0F8\"}, \"zaxis\": {\"backgroundcolor\": \"white\", \"gridcolor\": \"#DFE8F3\", \"gridwidth\": 2, \"linecolor\": \"#EBF0F8\", \"showbackground\": true, \"ticks\": \"\", \"zerolinecolor\": \"#EBF0F8\"}}, \"shapedefaults\": {\"line\": {\"color\": \"#2a3f5f\"}}, \"ternary\": {\"aaxis\": {\"gridcolor\": \"#DFE8F3\", \"linecolor\": \"#A2B1C6\", \"ticks\": \"\"}, \"baxis\": {\"gridcolor\": \"#DFE8F3\", \"linecolor\": \"#A2B1C6\", \"ticks\": \"\"}, \"bgcolor\": \"white\", \"caxis\": {\"gridcolor\": \"#DFE8F3\", \"linecolor\": \"#A2B1C6\", \"ticks\": \"\"}}, \"title\": {\"x\": 0.05}, \"xaxis\": {\"automargin\": true, \"gridcolor\": \"#EBF0F8\", \"linecolor\": \"#EBF0F8\", \"ticks\": \"\", \"title\": {\"standoff\": 15}, \"zerolinecolor\": \"#EBF0F8\", \"zerolinewidth\": 2}, \"yaxis\": {\"automargin\": true, \"gridcolor\": \"#EBF0F8\", \"linecolor\": \"#EBF0F8\", \"ticks\": \"\", \"title\": {\"standoff\": 15}, \"zerolinecolor\": \"#EBF0F8\", \"zerolinewidth\": 2}}}, \"title\": {\"text\": \"Feature Importance\"}, \"width\": 700},\n",
              "                        {\"responsive\": true}\n",
              "                    ).then(function(){\n",
              "                            \n",
              "var gd = document.getElementById('d4f4aba1-5dae-423a-97f8-2b53523faa41');\n",
              "var x = new MutationObserver(function (mutations, observer) {{\n",
              "        var display = window.getComputedStyle(gd).display;\n",
              "        if (!display || display === 'none') {{\n",
              "            console.log([gd, 'removed!']);\n",
              "            Plotly.purge(gd);\n",
              "            observer.disconnect();\n",
              "        }}\n",
              "}});\n",
              "\n",
              "// Listen for the removal of the full notebook cells\n",
              "var notebookContainer = gd.closest('#notebook-container');\n",
              "if (notebookContainer) {{\n",
              "    x.observe(notebookContainer, {childList: true});\n",
              "}}\n",
              "\n",
              "// Listen for the clearing of the current output cell\n",
              "var outputEl = gd.closest('.output');\n",
              "if (outputEl) {{\n",
              "    x.observe(outputEl, {childList: true});\n",
              "}}\n",
              "\n",
              "                        })\n",
              "                };\n",
              "                \n",
              "            </script>\n",
              "        </div>\n",
              "</body>\n",
              "</html>"
            ]
          },
          "metadata": {}
        }
      ]
    },
    {
      "cell_type": "markdown",
      "metadata": {
        "id": "IVnTGS7SPxFT"
      },
      "source": [
        "#### Create a dataframe of the selected features"
      ]
    },
    {
      "cell_type": "code",
      "metadata": {
        "id": "9b5rqIrXnnPE"
      },
      "source": [
        "# selected features\n",
        "features_selected = ['open','high','low','close','volume', \n",
        "            'futures_open', 'futures_high', 'futures_low', 'futures_close', \n",
        "            'idx_fear_greed', 'ETH', 'DOGE', 'LTC',\n",
        "            'b-upper-ma_sentiment_10' ,'b-lower-ma_sentiment_10', 'b-middle-ma_sentiment_10', \n",
        "            'news_count', 'ma_news_count', 'b-upper-ma_news_count','b-lower-ma_news_count', 'b-middle-ma_news_count', \n",
        "            'b-upper-ma_sentiment_title', 'b-lower-ma_sentiment_title', 'b-middle-ma_sentiment_title',\n",
        "            'b-upper-google_trends', 'b-lower-google_trends', 'b-middle-google_trends', \n",
        "            'USDEUR', 'USDGBP', 'OIL_shift', 'BOIL', 'VXX_shift', 'XLE', 'QQQ',\n",
        "            'b-upper', 'b-middle', 'b-lower', 'rsi', 'stoch_high', 'stoch_low', 'stoch_K', 'stoch_D','macd', 'macd_signal'\n",
        "            ]\n",
        "# remove dates prior to 2018-02-01\n",
        "# futures data still missing - it is only available after 2019-11-18            \n",
        "df_selected_features = df[features_selected]\n",
        "df_selected_features = df_selected_features[df_selected_features.index >='2018-02-01']\n",
        "\n",
        "  \n",
        "# save to google drive\n",
        "df_selected_features.to_pickle(f'{path}{ticker}_market_data_features.pickle')"
      ],
      "execution_count": 13,
      "outputs": []
    },
    {
      "cell_type": "markdown",
      "metadata": {
        "id": "gf6N3vBKMw-J"
      },
      "source": [
        "# Impute Missing Futures values\n",
        "+ BTC futures are only available from November 2019\n",
        "+ Use a random forest regressor to impute the missing values"
      ]
    },
    {
      "cell_type": "code",
      "metadata": {
        "id": "3z3lUDDR-XEi"
      },
      "source": [
        "# load selected features dataframe\n",
        "df_selected_features = pd.read_pickle(f'{path}{ticker}_market_data_features.pickle')\n",
        "df_selected_features.head()"
      ],
      "execution_count": null,
      "outputs": []
    },
    {
      "cell_type": "markdown",
      "metadata": {
        "id": "H63iLwzkkBfE"
      },
      "source": [
        "#### Impute the selected features"
      ]
    },
    {
      "cell_type": "code",
      "metadata": {
        "id": "LmfaQllHC7zj",
        "colab": {
          "base_uri": "https://localhost:8080/"
        },
        "outputId": "ec938b1d-95c5-4940-d27c-5bf90c1f012d"
      },
      "source": [
        "# Make an instance and perform the imputation\n",
        "imputer = MissForest(n_estimators=200)\n",
        "\n",
        "X_imputed = imputer.fit_transform(df_selected_features)\n",
        "\n",
        "# convert to dataframe, add features names and date index\n",
        "df_final = pd.DataFrame(X_imputed,columns=df_selected_features.columns)\n",
        "df_final['date'] = df_selected_features.index\n",
        "df_final.set_index('date',inplace=True)\n",
        "\n",
        "df_final.to_pickle(f'{path}{ticker}_market_data_final.pickle')"
      ],
      "execution_count": 14,
      "outputs": [
        {
          "output_type": "stream",
          "name": "stdout",
          "text": [
            "Iteration: 0\n",
            "Iteration: 1\n",
            "Iteration: 2\n",
            "Iteration: 3\n"
          ]
        }
      ]
    },
    {
      "cell_type": "markdown",
      "metadata": {
        "id": "RqLWjMkJkGV5"
      },
      "source": [
        "#### Impute all features (included shifted)"
      ]
    },
    {
      "cell_type": "code",
      "metadata": {
        "colab": {
          "base_uri": "https://localhost:8080/"
        },
        "id": "z2PsMZRhjJaS",
        "outputId": "46c6c630-961d-4b88-b703-f8ba646e9c88"
      },
      "source": [
        "# Make an instance and perform the imputation\n",
        "imputer = MissForest(n_estimators=200)\n",
        "\n",
        "# all features(included lagged)\n",
        "df.drop(columns=['ticker','idx_classification'],inplace=True)\n",
        "X_imputed = imputer.fit_transform(df)\n",
        "\n",
        "# convert to dataframe, add features names and date index\n",
        "df_all = pd.DataFrame(X_imputed,columns=df.columns)\n",
        "df_all['date'] = df.index\n",
        "df_all.set_index('date',inplace=True)\n",
        "\n",
        "df_all.to_pickle(f'{path}{ticker}_market_data_all.pickle')"
      ],
      "execution_count": 21,
      "outputs": [
        {
          "output_type": "stream",
          "name": "stdout",
          "text": [
            "Iteration: 0\n",
            "Iteration: 1\n",
            "Iteration: 2\n"
          ]
        }
      ]
    },
    {
      "cell_type": "code",
      "metadata": {
        "id": "g3lK7SdLwpjK"
      },
      "source": [
        "def plot_spot_futures(df,feature):\n",
        "  \"\"\"\n",
        "  \"\"\"\n",
        "  # calculate the correlation\n",
        "  df_corr = df_final[[f'{feature}',f'futures_{feature}']].corr()\n",
        "  corr = round(df_corr.iloc[0,1],4)\n",
        "\n",
        "  fig = go.Figure()\n",
        "\n",
        "  fig.add_trace(\n",
        "      go.Scatter(\n",
        "          name = f'Spot -{feature}',\n",
        "          x = df.index,\n",
        "          y = df[feature],\n",
        "          line_color = 'skyblue'\n",
        "      )\n",
        "  )\n",
        "  fig.add_trace(\n",
        "      go.Scatter(\n",
        "          name = f'Futures-{feature}',\n",
        "          x = df.index,\n",
        "          y = df[f'futures_{feature}'],\n",
        "          line_color = 'orange'\n",
        "      )\n",
        "  )\n",
        "\n",
        "  fig.update_layout(\n",
        "      title =f'Spot vs Futures {feature} price (corr={corr})',\n",
        "      \n",
        "      height = 500,\n",
        "      width = 700,\n",
        "      template ='plotly_white'\n",
        "  )\n",
        "  fig.show()\n"
      ],
      "execution_count": 15,
      "outputs": []
    },
    {
      "cell_type": "code",
      "metadata": {
        "colab": {
          "base_uri": "https://localhost:8080/",
          "height": 517
        },
        "id": "Ot_xdtDvKj9f",
        "outputId": "050fb6f5-29bb-4152-d8ea-32c2b5b12cd4"
      },
      "source": [
        "plot_spot_futures(df_final,'close')"
      ],
      "execution_count": 16,
      "outputs": [
        {
          "output_type": "display_data",
          "data": {
            "text/html": [
              "<html>\n",
              "<head><meta charset=\"utf-8\" /></head>\n",
              "<body>\n",
              "    <div>\n",
              "            <script src=\"https://cdnjs.cloudflare.com/ajax/libs/mathjax/2.7.5/MathJax.js?config=TeX-AMS-MML_SVG\"></script><script type=\"text/javascript\">if (window.MathJax) {MathJax.Hub.Config({SVG: {font: \"STIX-Web\"}});}</script>\n",
              "                <script type=\"text/javascript\">window.PlotlyConfig = {MathJaxConfig: 'local'};</script>\n",
              "        <script src=\"https://cdn.plot.ly/plotly-latest.min.js\"></script>    \n",
              "            <div id=\"de856815-bea6-4a5a-b15b-4161f7d17488\" class=\"plotly-graph-div\" style=\"height:500px; width:700px;\"></div>\n",
              "            <script type=\"text/javascript\">\n",
              "                \n",
              "                    window.PLOTLYENV=window.PLOTLYENV || {};\n",
              "                    \n",
              "                if (document.getElementById(\"de856815-bea6-4a5a-b15b-4161f7d17488\")) {\n",
              "                    Plotly.newPlot(\n",
              "                        'de856815-bea6-4a5a-b15b-4161f7d17488',\n",
              "                        [{\"line\": {\"color\": \"skyblue\"}, \"name\": \"Spot -close\", \"type\": \"scatter\", \"x\": [\"2018-02-01T00:00:00\", \"2018-02-02T00:00:00\", \"2018-02-03T00:00:00\", \"2018-02-04T00:00:00\", \"2018-02-05T00:00:00\", \"2018-02-06T00:00:00\", \"2018-02-07T00:00:00\", \"2018-02-08T00:00:00\", \"2018-02-09T00:00:00\", \"2018-02-10T00:00:00\", \"2018-02-11T00:00:00\", \"2018-02-12T00:00:00\", \"2018-02-13T00:00:00\", \"2018-02-14T00:00:00\", \"2018-02-15T00:00:00\", \"2018-02-16T00:00:00\", \"2018-02-17T00:00:00\", \"2018-02-18T00:00:00\", \"2018-02-19T00:00:00\", \"2018-02-20T00:00:00\", \"2018-02-21T00:00:00\", \"2018-02-22T00:00:00\", \"2018-02-23T00:00:00\", \"2018-02-24T00:00:00\", \"2018-02-25T00:00:00\", \"2018-02-26T00:00:00\", \"2018-02-27T00:00:00\", \"2018-02-28T00:00:00\", \"2018-03-01T00:00:00\", \"2018-03-02T00:00:00\", \"2018-03-03T00:00:00\", \"2018-03-04T00:00:00\", \"2018-03-05T00:00:00\", \"2018-03-06T00:00:00\", \"2018-03-07T00:00:00\", \"2018-03-08T00:00:00\", \"2018-03-09T00:00:00\", \"2018-03-10T00:00:00\", \"2018-03-11T00:00:00\", \"2018-03-12T00:00:00\", \"2018-03-13T00:00:00\", \"2018-03-14T00:00:00\", \"2018-03-15T00:00:00\", \"2018-03-16T00:00:00\", \"2018-03-17T00:00:00\", \"2018-03-18T00:00:00\", \"2018-03-19T00:00:00\", \"2018-03-20T00:00:00\", \"2018-03-21T00:00:00\", \"2018-03-22T00:00:00\", \"2018-03-23T00:00:00\", \"2018-03-24T00:00:00\", \"2018-03-25T00:00:00\", \"2018-03-26T00:00:00\", \"2018-03-27T00:00:00\", \"2018-03-28T00:00:00\", \"2018-03-29T00:00:00\", \"2018-03-30T00:00:00\", \"2018-03-31T00:00:00\", \"2018-04-01T00:00:00\", \"2018-04-02T00:00:00\", \"2018-04-03T00:00:00\", \"2018-04-04T00:00:00\", \"2018-04-05T00:00:00\", \"2018-04-06T00:00:00\", \"2018-04-07T00:00:00\", \"2018-04-08T00:00:00\", \"2018-04-09T00:00:00\", \"2018-04-10T00:00:00\", \"2018-04-11T00:00:00\", \"2018-04-12T00:00:00\", \"2018-04-13T00:00:00\", \"2018-04-14T00:00:00\", \"2018-04-15T00:00:00\", \"2018-04-16T00:00:00\", \"2018-04-17T00:00:00\", \"2018-04-18T00:00:00\", \"2018-04-19T00:00:00\", \"2018-04-20T00:00:00\", \"2018-04-21T00:00:00\", \"2018-04-22T00:00:00\", \"2018-04-23T00:00:00\", \"2018-04-24T00:00:00\", \"2018-04-25T00:00:00\", \"2018-04-26T00:00:00\", \"2018-04-27T00:00:00\", \"2018-04-28T00:00:00\", \"2018-04-29T00:00:00\", \"2018-04-30T00:00:00\", \"2018-05-01T00:00:00\", \"2018-05-02T00:00:00\", \"2018-05-03T00:00:00\", \"2018-05-04T00:00:00\", \"2018-05-05T00:00:00\", \"2018-05-06T00:00:00\", \"2018-05-07T00:00:00\", \"2018-05-08T00:00:00\", \"2018-05-09T00:00:00\", \"2018-05-10T00:00:00\", \"2018-05-11T00:00:00\", \"2018-05-12T00:00:00\", \"2018-05-13T00:00:00\", \"2018-05-14T00:00:00\", \"2018-05-15T00:00:00\", \"2018-05-16T00:00:00\", \"2018-05-17T00:00:00\", \"2018-05-18T00:00:00\", \"2018-05-19T00:00:00\", \"2018-05-20T00:00:00\", \"2018-05-21T00:00:00\", \"2018-05-22T00:00:00\", \"2018-05-23T00:00:00\", \"2018-05-24T00:00:00\", \"2018-05-25T00:00:00\", \"2018-05-26T00:00:00\", \"2018-05-27T00:00:00\", \"2018-05-28T00:00:00\", \"2018-05-29T00:00:00\", \"2018-05-30T00:00:00\", \"2018-05-31T00:00:00\", \"2018-06-01T00:00:00\", \"2018-06-02T00:00:00\", \"2018-06-03T00:00:00\", \"2018-06-04T00:00:00\", \"2018-06-05T00:00:00\", \"2018-06-06T00:00:00\", \"2018-06-07T00:00:00\", \"2018-06-08T00:00:00\", \"2018-06-09T00:00:00\", \"2018-06-10T00:00:00\", \"2018-06-11T00:00:00\", \"2018-06-12T00:00:00\", \"2018-06-13T00:00:00\", \"2018-06-14T00:00:00\", \"2018-06-15T00:00:00\", \"2018-06-16T00:00:00\", \"2018-06-17T00:00:00\", \"2018-06-18T00:00:00\", \"2018-06-19T00:00:00\", \"2018-06-20T00:00:00\", \"2018-06-21T00:00:00\", \"2018-06-22T00:00:00\", \"2018-06-23T00:00:00\", \"2018-06-24T00:00:00\", \"2018-06-25T00:00:00\", \"2018-06-26T00:00:00\", \"2018-06-27T00:00:00\", \"2018-06-28T00:00:00\", \"2018-06-29T00:00:00\", \"2018-06-30T00:00:00\", \"2018-07-01T00:00:00\", \"2018-07-02T00:00:00\", \"2018-07-03T00:00:00\", \"2018-07-04T00:00:00\", \"2018-07-05T00:00:00\", \"2018-07-06T00:00:00\", \"2018-07-07T00:00:00\", \"2018-07-08T00:00:00\", \"2018-07-09T00:00:00\", \"2018-07-10T00:00:00\", \"2018-07-11T00:00:00\", \"2018-07-12T00:00:00\", \"2018-07-13T00:00:00\", \"2018-07-14T00:00:00\", \"2018-07-15T00:00:00\", \"2018-07-16T00:00:00\", \"2018-07-17T00:00:00\", \"2018-07-18T00:00:00\", \"2018-07-19T00:00:00\", \"2018-07-20T00:00:00\", \"2018-07-21T00:00:00\", \"2018-07-22T00:00:00\", \"2018-07-23T00:00:00\", \"2018-07-24T00:00:00\", \"2018-07-25T00:00:00\", \"2018-07-26T00:00:00\", \"2018-07-27T00:00:00\", \"2018-07-28T00:00:00\", \"2018-07-29T00:00:00\", \"2018-07-30T00:00:00\", \"2018-07-31T00:00:00\", \"2018-08-01T00:00:00\", \"2018-08-02T00:00:00\", \"2018-08-03T00:00:00\", \"2018-08-04T00:00:00\", \"2018-08-05T00:00:00\", \"2018-08-06T00:00:00\", \"2018-08-07T00:00:00\", \"2018-08-08T00:00:00\", \"2018-08-09T00:00:00\", \"2018-08-10T00:00:00\", \"2018-08-11T00:00:00\", \"2018-08-12T00:00:00\", \"2018-08-13T00:00:00\", \"2018-08-14T00:00:00\", \"2018-08-15T00:00:00\", \"2018-08-16T00:00:00\", \"2018-08-17T00:00:00\", \"2018-08-18T00:00:00\", \"2018-08-19T00:00:00\", \"2018-08-20T00:00:00\", \"2018-08-21T00:00:00\", \"2018-08-22T00:00:00\", \"2018-08-23T00:00:00\", \"2018-08-24T00:00:00\", \"2018-08-25T00:00:00\", \"2018-08-26T00:00:00\", \"2018-08-27T00:00:00\", \"2018-08-28T00:00:00\", \"2018-08-29T00:00:00\", \"2018-08-30T00:00:00\", \"2018-08-31T00:00:00\", \"2018-09-01T00:00:00\", \"2018-09-02T00:00:00\", \"2018-09-03T00:00:00\", \"2018-09-04T00:00:00\", \"2018-09-05T00:00:00\", \"2018-09-06T00:00:00\", \"2018-09-07T00:00:00\", \"2018-09-08T00:00:00\", \"2018-09-09T00:00:00\", \"2018-09-10T00:00:00\", \"2018-09-11T00:00:00\", \"2018-09-12T00:00:00\", \"2018-09-13T00:00:00\", \"2018-09-14T00:00:00\", \"2018-09-15T00:00:00\", \"2018-09-16T00:00:00\", \"2018-09-17T00:00:00\", \"2018-09-18T00:00:00\", \"2018-09-19T00:00:00\", \"2018-09-20T00:00:00\", \"2018-09-21T00:00:00\", \"2018-09-22T00:00:00\", \"2018-09-23T00:00:00\", \"2018-09-24T00:00:00\", \"2018-09-25T00:00:00\", \"2018-09-26T00:00:00\", \"2018-09-27T00:00:00\", \"2018-09-28T00:00:00\", \"2018-09-29T00:00:00\", \"2018-09-30T00:00:00\", \"2018-10-01T00:00:00\", \"2018-10-02T00:00:00\", \"2018-10-03T00:00:00\", \"2018-10-04T00:00:00\", \"2018-10-05T00:00:00\", \"2018-10-06T00:00:00\", \"2018-10-07T00:00:00\", \"2018-10-08T00:00:00\", \"2018-10-09T00:00:00\", \"2018-10-10T00:00:00\", \"2018-10-11T00:00:00\", \"2018-10-12T00:00:00\", \"2018-10-13T00:00:00\", \"2018-10-14T00:00:00\", \"2018-10-15T00:00:00\", \"2018-10-16T00:00:00\", \"2018-10-17T00:00:00\", \"2018-10-18T00:00:00\", \"2018-10-19T00:00:00\", \"2018-10-20T00:00:00\", \"2018-10-21T00:00:00\", \"2018-10-22T00:00:00\", \"2018-10-23T00:00:00\", \"2018-10-24T00:00:00\", \"2018-10-25T00:00:00\", \"2018-10-26T00:00:00\", \"2018-10-27T00:00:00\", \"2018-10-28T00:00:00\", \"2018-10-29T00:00:00\", \"2018-10-30T00:00:00\", \"2018-10-31T00:00:00\", \"2018-11-01T00:00:00\", \"2018-11-02T00:00:00\", \"2018-11-03T00:00:00\", \"2018-11-04T00:00:00\", \"2018-11-05T00:00:00\", \"2018-11-06T00:00:00\", \"2018-11-07T00:00:00\", \"2018-11-08T00:00:00\", \"2018-11-09T00:00:00\", \"2018-11-10T00:00:00\", \"2018-11-11T00:00:00\", \"2018-11-12T00:00:00\", \"2018-11-13T00:00:00\", \"2018-11-14T00:00:00\", \"2018-11-15T00:00:00\", \"2018-11-16T00:00:00\", \"2018-11-17T00:00:00\", \"2018-11-18T00:00:00\", \"2018-11-19T00:00:00\", \"2018-11-20T00:00:00\", \"2018-11-21T00:00:00\", \"2018-11-22T00:00:00\", \"2018-11-23T00:00:00\", \"2018-11-24T00:00:00\", \"2018-11-25T00:00:00\", \"2018-11-26T00:00:00\", \"2018-11-27T00:00:00\", \"2018-11-28T00:00:00\", \"2018-11-29T00:00:00\", \"2018-11-30T00:00:00\", \"2018-12-01T00:00:00\", \"2018-12-02T00:00:00\", \"2018-12-03T00:00:00\", \"2018-12-04T00:00:00\", \"2018-12-05T00:00:00\", \"2018-12-06T00:00:00\", \"2018-12-07T00:00:00\", \"2018-12-08T00:00:00\", \"2018-12-09T00:00:00\", \"2018-12-10T00:00:00\", \"2018-12-11T00:00:00\", \"2018-12-12T00:00:00\", \"2018-12-13T00:00:00\", \"2018-12-14T00:00:00\", \"2018-12-15T00:00:00\", \"2018-12-16T00:00:00\", \"2018-12-17T00:00:00\", \"2018-12-18T00:00:00\", \"2018-12-19T00:00:00\", \"2018-12-20T00:00:00\", \"2018-12-21T00:00:00\", \"2018-12-22T00:00:00\", \"2018-12-23T00:00:00\", \"2018-12-24T00:00:00\", \"2018-12-25T00:00:00\", \"2018-12-26T00:00:00\", \"2018-12-27T00:00:00\", \"2018-12-28T00:00:00\", \"2018-12-29T00:00:00\", \"2018-12-30T00:00:00\", \"2018-12-31T00:00:00\", \"2019-01-01T00:00:00\", \"2019-01-02T00:00:00\", \"2019-01-03T00:00:00\", \"2019-01-04T00:00:00\", \"2019-01-05T00:00:00\", \"2019-01-06T00:00:00\", \"2019-01-07T00:00:00\", \"2019-01-08T00:00:00\", \"2019-01-09T00:00:00\", \"2019-01-10T00:00:00\", \"2019-01-11T00:00:00\", \"2019-01-12T00:00:00\", \"2019-01-13T00:00:00\", \"2019-01-14T00:00:00\", \"2019-01-15T00:00:00\", \"2019-01-16T00:00:00\", \"2019-01-17T00:00:00\", \"2019-01-18T00:00:00\", \"2019-01-19T00:00:00\", \"2019-01-20T00:00:00\", \"2019-01-21T00:00:00\", \"2019-01-22T00:00:00\", \"2019-01-23T00:00:00\", \"2019-01-24T00:00:00\", \"2019-01-25T00:00:00\", \"2019-01-26T00:00:00\", \"2019-01-27T00:00:00\", \"2019-01-28T00:00:00\", \"2019-01-29T00:00:00\", \"2019-01-30T00:00:00\", \"2019-01-31T00:00:00\", \"2019-02-01T00:00:00\", \"2019-02-02T00:00:00\", \"2019-02-03T00:00:00\", \"2019-02-04T00:00:00\", \"2019-02-05T00:00:00\", \"2019-02-06T00:00:00\", \"2019-02-07T00:00:00\", \"2019-02-08T00:00:00\", \"2019-02-09T00:00:00\", \"2019-02-10T00:00:00\", \"2019-02-11T00:00:00\", \"2019-02-12T00:00:00\", \"2019-02-13T00:00:00\", \"2019-02-14T00:00:00\", \"2019-02-15T00:00:00\", \"2019-02-16T00:00:00\", \"2019-02-17T00:00:00\", \"2019-02-18T00:00:00\", \"2019-02-19T00:00:00\", \"2019-02-20T00:00:00\", \"2019-02-21T00:00:00\", \"2019-02-22T00:00:00\", \"2019-02-23T00:00:00\", \"2019-02-24T00:00:00\", \"2019-02-25T00:00:00\", \"2019-02-26T00:00:00\", \"2019-02-27T00:00:00\", \"2019-02-28T00:00:00\", \"2019-03-01T00:00:00\", \"2019-03-02T00:00:00\", \"2019-03-03T00:00:00\", \"2019-03-04T00:00:00\", \"2019-03-05T00:00:00\", \"2019-03-06T00:00:00\", \"2019-03-07T00:00:00\", \"2019-03-08T00:00:00\", \"2019-03-09T00:00:00\", \"2019-03-10T00:00:00\", \"2019-03-11T00:00:00\", \"2019-03-12T00:00:00\", \"2019-03-13T00:00:00\", \"2019-03-14T00:00:00\", \"2019-03-15T00:00:00\", \"2019-03-16T00:00:00\", \"2019-03-17T00:00:00\", \"2019-03-18T00:00:00\", \"2019-03-19T00:00:00\", \"2019-03-20T00:00:00\", \"2019-03-21T00:00:00\", \"2019-03-22T00:00:00\", \"2019-03-23T00:00:00\", \"2019-03-24T00:00:00\", \"2019-03-25T00:00:00\", \"2019-03-26T00:00:00\", \"2019-03-27T00:00:00\", \"2019-03-28T00:00:00\", \"2019-03-29T00:00:00\", \"2019-03-30T00:00:00\", \"2019-03-31T00:00:00\", \"2019-04-01T00:00:00\", \"2019-04-02T00:00:00\", \"2019-04-03T00:00:00\", \"2019-04-04T00:00:00\", \"2019-04-05T00:00:00\", \"2019-04-06T00:00:00\", \"2019-04-07T00:00:00\", \"2019-04-08T00:00:00\", \"2019-04-09T00:00:00\", \"2019-04-10T00:00:00\", \"2019-04-11T00:00:00\", \"2019-04-12T00:00:00\", \"2019-04-13T00:00:00\", \"2019-04-14T00:00:00\", \"2019-04-15T00:00:00\", \"2019-04-16T00:00:00\", \"2019-04-17T00:00:00\", \"2019-04-18T00:00:00\", \"2019-04-19T00:00:00\", \"2019-04-20T00:00:00\", \"2019-04-21T00:00:00\", \"2019-04-22T00:00:00\", \"2019-04-23T00:00:00\", \"2019-04-24T00:00:00\", \"2019-04-25T00:00:00\", \"2019-04-26T00:00:00\", \"2019-04-27T00:00:00\", \"2019-04-28T00:00:00\", \"2019-04-29T00:00:00\", \"2019-04-30T00:00:00\", \"2019-05-01T00:00:00\", \"2019-05-02T00:00:00\", \"2019-05-03T00:00:00\", \"2019-05-04T00:00:00\", \"2019-05-05T00:00:00\", \"2019-05-06T00:00:00\", \"2019-05-07T00:00:00\", \"2019-05-08T00:00:00\", \"2019-05-09T00:00:00\", \"2019-05-10T00:00:00\", \"2019-05-11T00:00:00\", \"2019-05-12T00:00:00\", \"2019-05-13T00:00:00\", \"2019-05-14T00:00:00\", \"2019-05-15T00:00:00\", \"2019-05-16T00:00:00\", \"2019-05-17T00:00:00\", \"2019-05-18T00:00:00\", \"2019-05-19T00:00:00\", \"2019-05-20T00:00:00\", \"2019-05-21T00:00:00\", \"2019-05-22T00:00:00\", \"2019-05-23T00:00:00\", \"2019-05-24T00:00:00\", \"2019-05-25T00:00:00\", \"2019-05-26T00:00:00\", \"2019-05-27T00:00:00\", \"2019-05-28T00:00:00\", \"2019-05-29T00:00:00\", \"2019-05-30T00:00:00\", \"2019-05-31T00:00:00\", \"2019-06-01T00:00:00\", \"2019-06-02T00:00:00\", \"2019-06-03T00:00:00\", \"2019-06-04T00:00:00\", \"2019-06-05T00:00:00\", \"2019-06-06T00:00:00\", \"2019-06-07T00:00:00\", \"2019-06-08T00:00:00\", \"2019-06-09T00:00:00\", \"2019-06-10T00:00:00\", \"2019-06-11T00:00:00\", \"2019-06-12T00:00:00\", \"2019-06-13T00:00:00\", \"2019-06-14T00:00:00\", \"2019-06-15T00:00:00\", \"2019-06-16T00:00:00\", \"2019-06-17T00:00:00\", \"2019-06-18T00:00:00\", \"2019-06-19T00:00:00\", \"2019-06-20T00:00:00\", \"2019-06-21T00:00:00\", \"2019-06-22T00:00:00\", \"2019-06-23T00:00:00\", \"2019-06-24T00:00:00\", \"2019-06-25T00:00:00\", \"2019-06-26T00:00:00\", \"2019-06-27T00:00:00\", \"2019-06-28T00:00:00\", \"2019-06-29T00:00:00\", \"2019-06-30T00:00:00\", \"2019-07-01T00:00:00\", \"2019-07-02T00:00:00\", \"2019-07-03T00:00:00\", \"2019-07-04T00:00:00\", \"2019-07-05T00:00:00\", \"2019-07-06T00:00:00\", \"2019-07-07T00:00:00\", \"2019-07-08T00:00:00\", \"2019-07-09T00:00:00\", \"2019-07-10T00:00:00\", \"2019-07-11T00:00:00\", \"2019-07-12T00:00:00\", \"2019-07-13T00:00:00\", \"2019-07-14T00:00:00\", \"2019-07-15T00:00:00\", \"2019-07-16T00:00:00\", \"2019-07-17T00:00:00\", \"2019-07-18T00:00:00\", \"2019-07-19T00:00:00\", \"2019-07-20T00:00:00\", \"2019-07-21T00:00:00\", \"2019-07-22T00:00:00\", \"2019-07-23T00:00:00\", \"2019-07-24T00:00:00\", \"2019-07-25T00:00:00\", \"2019-07-26T00:00:00\", \"2019-07-27T00:00:00\", \"2019-07-28T00:00:00\", \"2019-07-29T00:00:00\", \"2019-07-30T00:00:00\", \"2019-07-31T00:00:00\", \"2019-08-01T00:00:00\", \"2019-08-02T00:00:00\", \"2019-08-03T00:00:00\", \"2019-08-04T00:00:00\", \"2019-08-05T00:00:00\", \"2019-08-06T00:00:00\", \"2019-08-07T00:00:00\", \"2019-08-08T00:00:00\", \"2019-08-09T00:00:00\", \"2019-08-10T00:00:00\", \"2019-08-11T00:00:00\", \"2019-08-12T00:00:00\", \"2019-08-13T00:00:00\", \"2019-08-14T00:00:00\", \"2019-08-15T00:00:00\", \"2019-08-16T00:00:00\", \"2019-08-17T00:00:00\", \"2019-08-18T00:00:00\", \"2019-08-19T00:00:00\", \"2019-08-20T00:00:00\", \"2019-08-21T00:00:00\", \"2019-08-22T00:00:00\", \"2019-08-23T00:00:00\", \"2019-08-24T00:00:00\", \"2019-08-25T00:00:00\", \"2019-08-26T00:00:00\", \"2019-08-27T00:00:00\", \"2019-08-28T00:00:00\", \"2019-08-29T00:00:00\", \"2019-08-30T00:00:00\", \"2019-08-31T00:00:00\", \"2019-09-01T00:00:00\", \"2019-09-02T00:00:00\", \"2019-09-03T00:00:00\", \"2019-09-04T00:00:00\", \"2019-09-05T00:00:00\", \"2019-09-06T00:00:00\", \"2019-09-07T00:00:00\", \"2019-09-08T00:00:00\", \"2019-09-09T00:00:00\", \"2019-09-10T00:00:00\", \"2019-09-11T00:00:00\", \"2019-09-12T00:00:00\", \"2019-09-13T00:00:00\", \"2019-09-14T00:00:00\", \"2019-09-15T00:00:00\", \"2019-09-16T00:00:00\", \"2019-09-17T00:00:00\", \"2019-09-18T00:00:00\", \"2019-09-19T00:00:00\", \"2019-09-20T00:00:00\", \"2019-09-21T00:00:00\", \"2019-09-22T00:00:00\", \"2019-09-23T00:00:00\", \"2019-09-24T00:00:00\", \"2019-09-25T00:00:00\", \"2019-09-26T00:00:00\", \"2019-09-27T00:00:00\", \"2019-09-28T00:00:00\", \"2019-09-29T00:00:00\", \"2019-09-30T00:00:00\", \"2019-10-01T00:00:00\", \"2019-10-02T00:00:00\", \"2019-10-03T00:00:00\", \"2019-10-04T00:00:00\", \"2019-10-05T00:00:00\", \"2019-10-06T00:00:00\", \"2019-10-07T00:00:00\", \"2019-10-08T00:00:00\", \"2019-10-09T00:00:00\", \"2019-10-10T00:00:00\", \"2019-10-11T00:00:00\", \"2019-10-12T00:00:00\", \"2019-10-13T00:00:00\", \"2019-10-14T00:00:00\", \"2019-10-15T00:00:00\", \"2019-10-16T00:00:00\", \"2019-10-17T00:00:00\", \"2019-10-18T00:00:00\", \"2019-10-19T00:00:00\", \"2019-10-20T00:00:00\", \"2019-10-21T00:00:00\", \"2019-10-22T00:00:00\", \"2019-10-23T00:00:00\", \"2019-10-24T00:00:00\", \"2019-10-25T00:00:00\", \"2019-10-26T00:00:00\", \"2019-10-27T00:00:00\", \"2019-10-28T00:00:00\", \"2019-10-29T00:00:00\", \"2019-10-30T00:00:00\", \"2019-10-31T00:00:00\", \"2019-11-01T00:00:00\", \"2019-11-02T00:00:00\", \"2019-11-03T00:00:00\", \"2019-11-04T00:00:00\", \"2019-11-05T00:00:00\", \"2019-11-06T00:00:00\", \"2019-11-07T00:00:00\", \"2019-11-08T00:00:00\", \"2019-11-09T00:00:00\", \"2019-11-10T00:00:00\", \"2019-11-11T00:00:00\", \"2019-11-12T00:00:00\", \"2019-11-13T00:00:00\", \"2019-11-14T00:00:00\", \"2019-11-15T00:00:00\", \"2019-11-16T00:00:00\", \"2019-11-17T00:00:00\", \"2019-11-18T00:00:00\", \"2019-11-19T00:00:00\", \"2019-11-20T00:00:00\", \"2019-11-21T00:00:00\", \"2019-11-22T00:00:00\", \"2019-11-23T00:00:00\", \"2019-11-24T00:00:00\", \"2019-11-25T00:00:00\", \"2019-11-26T00:00:00\", \"2019-11-27T00:00:00\", \"2019-11-28T00:00:00\", \"2019-11-29T00:00:00\", \"2019-11-30T00:00:00\", \"2019-12-01T00:00:00\", \"2019-12-02T00:00:00\", \"2019-12-03T00:00:00\", \"2019-12-04T00:00:00\", \"2019-12-05T00:00:00\", \"2019-12-06T00:00:00\", \"2019-12-07T00:00:00\", \"2019-12-08T00:00:00\", \"2019-12-09T00:00:00\", \"2019-12-10T00:00:00\", \"2019-12-11T00:00:00\", \"2019-12-12T00:00:00\", \"2019-12-13T00:00:00\", \"2019-12-14T00:00:00\", \"2019-12-15T00:00:00\", \"2019-12-16T00:00:00\", \"2019-12-17T00:00:00\", \"2019-12-18T00:00:00\", \"2019-12-19T00:00:00\", \"2019-12-20T00:00:00\", \"2019-12-21T00:00:00\", \"2019-12-22T00:00:00\", \"2019-12-23T00:00:00\", \"2019-12-24T00:00:00\", \"2019-12-25T00:00:00\", \"2019-12-26T00:00:00\", \"2019-12-27T00:00:00\", \"2019-12-28T00:00:00\", \"2019-12-29T00:00:00\", \"2019-12-30T00:00:00\", \"2019-12-31T00:00:00\", \"2020-01-01T00:00:00\", \"2020-01-02T00:00:00\", \"2020-01-03T00:00:00\", \"2020-01-04T00:00:00\", \"2020-01-05T00:00:00\", \"2020-01-06T00:00:00\", \"2020-01-07T00:00:00\", \"2020-01-08T00:00:00\", \"2020-01-09T00:00:00\", \"2020-01-10T00:00:00\", \"2020-01-11T00:00:00\", \"2020-01-12T00:00:00\", \"2020-01-13T00:00:00\", \"2020-01-14T00:00:00\", \"2020-01-15T00:00:00\", \"2020-01-16T00:00:00\", \"2020-01-17T00:00:00\", \"2020-01-18T00:00:00\", \"2020-01-19T00:00:00\", \"2020-01-20T00:00:00\", \"2020-01-21T00:00:00\", \"2020-01-22T00:00:00\", \"2020-01-23T00:00:00\", \"2020-01-24T00:00:00\", \"2020-01-25T00:00:00\", \"2020-01-26T00:00:00\", \"2020-01-27T00:00:00\", \"2020-01-28T00:00:00\", \"2020-01-29T00:00:00\", \"2020-01-30T00:00:00\", \"2020-01-31T00:00:00\", \"2020-02-01T00:00:00\", \"2020-02-02T00:00:00\", \"2020-02-03T00:00:00\", \"2020-02-04T00:00:00\", \"2020-02-05T00:00:00\", \"2020-02-06T00:00:00\", \"2020-02-07T00:00:00\", \"2020-02-08T00:00:00\", \"2020-02-09T00:00:00\", \"2020-02-10T00:00:00\", \"2020-02-11T00:00:00\", \"2020-02-12T00:00:00\", \"2020-02-13T00:00:00\", \"2020-02-14T00:00:00\", \"2020-02-15T00:00:00\", \"2020-02-16T00:00:00\", \"2020-02-17T00:00:00\", \"2020-02-18T00:00:00\", \"2020-02-19T00:00:00\", \"2020-02-20T00:00:00\", \"2020-02-21T00:00:00\", \"2020-02-22T00:00:00\", \"2020-02-23T00:00:00\", \"2020-02-24T00:00:00\", \"2020-02-25T00:00:00\", \"2020-02-26T00:00:00\", \"2020-02-27T00:00:00\", \"2020-02-28T00:00:00\", \"2020-02-29T00:00:00\", \"2020-03-01T00:00:00\", \"2020-03-02T00:00:00\", \"2020-03-03T00:00:00\", \"2020-03-04T00:00:00\", \"2020-03-05T00:00:00\", \"2020-03-06T00:00:00\", \"2020-03-07T00:00:00\", \"2020-03-08T00:00:00\", \"2020-03-09T00:00:00\", \"2020-03-10T00:00:00\", \"2020-03-11T00:00:00\", \"2020-03-12T00:00:00\", \"2020-03-13T00:00:00\", \"2020-03-14T00:00:00\", \"2020-03-15T00:00:00\", \"2020-03-16T00:00:00\", \"2020-03-17T00:00:00\", \"2020-03-18T00:00:00\", \"2020-03-19T00:00:00\", \"2020-03-20T00:00:00\", \"2020-03-21T00:00:00\", \"2020-03-22T00:00:00\", \"2020-03-23T00:00:00\", \"2020-03-24T00:00:00\", \"2020-03-25T00:00:00\", \"2020-03-26T00:00:00\", \"2020-03-27T00:00:00\", \"2020-03-28T00:00:00\", \"2020-03-29T00:00:00\", \"2020-03-30T00:00:00\", \"2020-03-31T00:00:00\", \"2020-04-01T00:00:00\", \"2020-04-02T00:00:00\", \"2020-04-03T00:00:00\", \"2020-04-04T00:00:00\", \"2020-04-05T00:00:00\", \"2020-04-06T00:00:00\", \"2020-04-07T00:00:00\", \"2020-04-08T00:00:00\", \"2020-04-09T00:00:00\", \"2020-04-10T00:00:00\", \"2020-04-11T00:00:00\", \"2020-04-12T00:00:00\", \"2020-04-13T00:00:00\", \"2020-04-14T00:00:00\", \"2020-04-15T00:00:00\", \"2020-04-16T00:00:00\", \"2020-04-17T00:00:00\", \"2020-04-18T00:00:00\", \"2020-04-19T00:00:00\", \"2020-04-20T00:00:00\", \"2020-04-21T00:00:00\", \"2020-04-22T00:00:00\", \"2020-04-23T00:00:00\", \"2020-04-24T00:00:00\", \"2020-04-25T00:00:00\", \"2020-04-26T00:00:00\", \"2020-04-27T00:00:00\", \"2020-04-28T00:00:00\", \"2020-04-29T00:00:00\", \"2020-04-30T00:00:00\", \"2020-05-01T00:00:00\", \"2020-05-02T00:00:00\", \"2020-05-03T00:00:00\", \"2020-05-04T00:00:00\", \"2020-05-05T00:00:00\", \"2020-05-06T00:00:00\", \"2020-05-07T00:00:00\", \"2020-05-08T00:00:00\", \"2020-05-09T00:00:00\", \"2020-05-10T00:00:00\", \"2020-05-11T00:00:00\", \"2020-05-12T00:00:00\", \"2020-05-13T00:00:00\", \"2020-05-14T00:00:00\", \"2020-05-15T00:00:00\", \"2020-05-16T00:00:00\", \"2020-05-17T00:00:00\", \"2020-05-18T00:00:00\", \"2020-05-19T00:00:00\", \"2020-05-20T00:00:00\", \"2020-05-21T00:00:00\", \"2020-05-22T00:00:00\", \"2020-05-23T00:00:00\", \"2020-05-24T00:00:00\", \"2020-05-25T00:00:00\", \"2020-05-26T00:00:00\", \"2020-05-27T00:00:00\", \"2020-05-28T00:00:00\", \"2020-05-29T00:00:00\", \"2020-05-30T00:00:00\", \"2020-05-31T00:00:00\", \"2020-06-01T00:00:00\", \"2020-06-02T00:00:00\", \"2020-06-03T00:00:00\", \"2020-06-04T00:00:00\", \"2020-06-05T00:00:00\", \"2020-06-06T00:00:00\", \"2020-06-07T00:00:00\", \"2020-06-08T00:00:00\", \"2020-06-09T00:00:00\", \"2020-06-10T00:00:00\", \"2020-06-11T00:00:00\", \"2020-06-12T00:00:00\", \"2020-06-13T00:00:00\", \"2020-06-14T00:00:00\", \"2020-06-15T00:00:00\", \"2020-06-16T00:00:00\", \"2020-06-17T00:00:00\", \"2020-06-18T00:00:00\", \"2020-06-19T00:00:00\", \"2020-06-20T00:00:00\", \"2020-06-21T00:00:00\", \"2020-06-22T00:00:00\", \"2020-06-23T00:00:00\", \"2020-06-24T00:00:00\", \"2020-06-25T00:00:00\", \"2020-06-26T00:00:00\", \"2020-06-27T00:00:00\", \"2020-06-28T00:00:00\", \"2020-06-29T00:00:00\", \"2020-06-30T00:00:00\", \"2020-07-01T00:00:00\", \"2020-07-02T00:00:00\", \"2020-07-03T00:00:00\", \"2020-07-04T00:00:00\", \"2020-07-05T00:00:00\", \"2020-07-06T00:00:00\", \"2020-07-07T00:00:00\", \"2020-07-08T00:00:00\", \"2020-07-09T00:00:00\", \"2020-07-10T00:00:00\", \"2020-07-11T00:00:00\", \"2020-07-12T00:00:00\", \"2020-07-13T00:00:00\", \"2020-07-14T00:00:00\", \"2020-07-15T00:00:00\", \"2020-07-16T00:00:00\", \"2020-07-17T00:00:00\", \"2020-07-18T00:00:00\", \"2020-07-19T00:00:00\", \"2020-07-20T00:00:00\", \"2020-07-21T00:00:00\", \"2020-07-22T00:00:00\", \"2020-07-23T00:00:00\", \"2020-07-24T00:00:00\", \"2020-07-25T00:00:00\", \"2020-07-26T00:00:00\", \"2020-07-27T00:00:00\", \"2020-07-28T00:00:00\", \"2020-07-29T00:00:00\", \"2020-07-30T00:00:00\", \"2020-07-31T00:00:00\", \"2020-08-01T00:00:00\", \"2020-08-02T00:00:00\", \"2020-08-03T00:00:00\", \"2020-08-04T00:00:00\", \"2020-08-05T00:00:00\", \"2020-08-06T00:00:00\", \"2020-08-07T00:00:00\", \"2020-08-08T00:00:00\", \"2020-08-09T00:00:00\", \"2020-08-10T00:00:00\", \"2020-08-11T00:00:00\", \"2020-08-12T00:00:00\", \"2020-08-13T00:00:00\", \"2020-08-14T00:00:00\", \"2020-08-15T00:00:00\", \"2020-08-16T00:00:00\", \"2020-08-17T00:00:00\", \"2020-08-18T00:00:00\", \"2020-08-19T00:00:00\", \"2020-08-20T00:00:00\", \"2020-08-21T00:00:00\", \"2020-08-22T00:00:00\", \"2020-08-23T00:00:00\", \"2020-08-24T00:00:00\", \"2020-08-25T00:00:00\", \"2020-08-26T00:00:00\", \"2020-08-27T00:00:00\", \"2020-08-28T00:00:00\", \"2020-08-29T00:00:00\", \"2020-08-30T00:00:00\", \"2020-08-31T00:00:00\", \"2020-09-01T00:00:00\", \"2020-09-02T00:00:00\", \"2020-09-03T00:00:00\", \"2020-09-04T00:00:00\", \"2020-09-05T00:00:00\", \"2020-09-06T00:00:00\", \"2020-09-07T00:00:00\", \"2020-09-08T00:00:00\", \"2020-09-09T00:00:00\", \"2020-09-10T00:00:00\", \"2020-09-11T00:00:00\", \"2020-09-12T00:00:00\", \"2020-09-13T00:00:00\", \"2020-09-14T00:00:00\", \"2020-09-15T00:00:00\", \"2020-09-16T00:00:00\", \"2020-09-17T00:00:00\", \"2020-09-18T00:00:00\", \"2020-09-19T00:00:00\", \"2020-09-20T00:00:00\", \"2020-09-21T00:00:00\", \"2020-09-22T00:00:00\", \"2020-09-23T00:00:00\", \"2020-09-24T00:00:00\", \"2020-09-25T00:00:00\", \"2020-09-26T00:00:00\", \"2020-09-27T00:00:00\", \"2020-09-28T00:00:00\", \"2020-09-29T00:00:00\", \"2020-09-30T00:00:00\", \"2020-10-01T00:00:00\", \"2020-10-02T00:00:00\", \"2020-10-03T00:00:00\", \"2020-10-04T00:00:00\", \"2020-10-05T00:00:00\", \"2020-10-06T00:00:00\", \"2020-10-07T00:00:00\", \"2020-10-08T00:00:00\", \"2020-10-09T00:00:00\", \"2020-10-10T00:00:00\", \"2020-10-11T00:00:00\", \"2020-10-12T00:00:00\", \"2020-10-13T00:00:00\", \"2020-10-14T00:00:00\", \"2020-10-15T00:00:00\", \"2020-10-16T00:00:00\", \"2020-10-17T00:00:00\", \"2020-10-18T00:00:00\", \"2020-10-19T00:00:00\", \"2020-10-20T00:00:00\", \"2020-10-21T00:00:00\", \"2020-10-22T00:00:00\", \"2020-10-23T00:00:00\", \"2020-10-24T00:00:00\", \"2020-10-25T00:00:00\", \"2020-10-26T00:00:00\", \"2020-10-27T00:00:00\", \"2020-10-28T00:00:00\", \"2020-10-29T00:00:00\", \"2020-10-30T00:00:00\", \"2020-10-31T00:00:00\", \"2020-11-01T00:00:00\", \"2020-11-02T00:00:00\", \"2020-11-03T00:00:00\", \"2020-11-04T00:00:00\", \"2020-11-05T00:00:00\", \"2020-11-06T00:00:00\", \"2020-11-07T00:00:00\", \"2020-11-08T00:00:00\", \"2020-11-09T00:00:00\", \"2020-11-10T00:00:00\", \"2020-11-11T00:00:00\", \"2020-11-12T00:00:00\", \"2020-11-13T00:00:00\", \"2020-11-14T00:00:00\", \"2020-11-15T00:00:00\", \"2020-11-16T00:00:00\", \"2020-11-17T00:00:00\", \"2020-11-18T00:00:00\", \"2020-11-19T00:00:00\", \"2020-11-20T00:00:00\", \"2020-11-21T00:00:00\", \"2020-11-22T00:00:00\", \"2020-11-23T00:00:00\", \"2020-11-24T00:00:00\", \"2020-11-25T00:00:00\", \"2020-11-26T00:00:00\", \"2020-11-27T00:00:00\", \"2020-11-28T00:00:00\", \"2020-11-29T00:00:00\", \"2020-11-30T00:00:00\", \"2020-12-01T00:00:00\", \"2020-12-02T00:00:00\", \"2020-12-03T00:00:00\", \"2020-12-04T00:00:00\", \"2020-12-05T00:00:00\", \"2020-12-06T00:00:00\", \"2020-12-07T00:00:00\", \"2020-12-08T00:00:00\", \"2020-12-09T00:00:00\", \"2020-12-10T00:00:00\", \"2020-12-11T00:00:00\", \"2020-12-12T00:00:00\", \"2020-12-13T00:00:00\", \"2020-12-14T00:00:00\", \"2020-12-15T00:00:00\", \"2020-12-16T00:00:00\", \"2020-12-17T00:00:00\", \"2020-12-18T00:00:00\", \"2020-12-19T00:00:00\", \"2020-12-20T00:00:00\", \"2020-12-21T00:00:00\", \"2020-12-22T00:00:00\", \"2020-12-23T00:00:00\", \"2020-12-24T00:00:00\", \"2020-12-25T00:00:00\", \"2020-12-26T00:00:00\", \"2020-12-27T00:00:00\", \"2020-12-28T00:00:00\", \"2020-12-29T00:00:00\", \"2020-12-30T00:00:00\", \"2020-12-31T00:00:00\", \"2021-01-01T00:00:00\", \"2021-01-02T00:00:00\", \"2021-01-03T00:00:00\", \"2021-01-04T00:00:00\", \"2021-01-05T00:00:00\", \"2021-01-06T00:00:00\", \"2021-01-07T00:00:00\", \"2021-01-08T00:00:00\", \"2021-01-09T00:00:00\", \"2021-01-10T00:00:00\", \"2021-01-11T00:00:00\", \"2021-01-12T00:00:00\", \"2021-01-13T00:00:00\", \"2021-01-14T00:00:00\", \"2021-01-15T00:00:00\", \"2021-01-16T00:00:00\", \"2021-01-17T00:00:00\", \"2021-01-18T00:00:00\", \"2021-01-19T00:00:00\", \"2021-01-20T00:00:00\", \"2021-01-21T00:00:00\", \"2021-01-22T00:00:00\", \"2021-01-23T00:00:00\", \"2021-01-24T00:00:00\", \"2021-01-25T00:00:00\", \"2021-01-26T00:00:00\", \"2021-01-27T00:00:00\", \"2021-01-28T00:00:00\", \"2021-01-29T00:00:00\", \"2021-01-30T00:00:00\", \"2021-01-31T00:00:00\", \"2021-02-01T00:00:00\", \"2021-02-02T00:00:00\", \"2021-02-03T00:00:00\", \"2021-02-04T00:00:00\", \"2021-02-05T00:00:00\", \"2021-02-06T00:00:00\", \"2021-02-07T00:00:00\", \"2021-02-08T00:00:00\", \"2021-02-09T00:00:00\", \"2021-02-10T00:00:00\", \"2021-02-11T00:00:00\", \"2021-02-12T00:00:00\", \"2021-02-13T00:00:00\", \"2021-02-14T00:00:00\", \"2021-02-15T00:00:00\", \"2021-02-16T00:00:00\", \"2021-02-17T00:00:00\", \"2021-02-18T00:00:00\", \"2021-02-19T00:00:00\", \"2021-02-20T00:00:00\", \"2021-02-21T00:00:00\", \"2021-02-22T00:00:00\", \"2021-02-23T00:00:00\", \"2021-02-24T00:00:00\", \"2021-02-25T00:00:00\", \"2021-02-26T00:00:00\", \"2021-02-27T00:00:00\", \"2021-02-28T00:00:00\", \"2021-03-01T00:00:00\", \"2021-03-02T00:00:00\", \"2021-03-03T00:00:00\", \"2021-03-04T00:00:00\", \"2021-03-05T00:00:00\", \"2021-03-06T00:00:00\", \"2021-03-07T00:00:00\", \"2021-03-08T00:00:00\", \"2021-03-09T00:00:00\", \"2021-03-10T00:00:00\", \"2021-03-11T00:00:00\", \"2021-03-12T00:00:00\", \"2021-03-13T00:00:00\", \"2021-03-14T00:00:00\", \"2021-03-15T00:00:00\", \"2021-03-16T00:00:00\", \"2021-03-17T00:00:00\", \"2021-03-18T00:00:00\", \"2021-03-19T00:00:00\", \"2021-03-20T00:00:00\", \"2021-03-21T00:00:00\", \"2021-03-22T00:00:00\", \"2021-03-23T00:00:00\", \"2021-03-24T00:00:00\", \"2021-03-25T00:00:00\", \"2021-03-26T00:00:00\", \"2021-03-27T00:00:00\", \"2021-03-28T00:00:00\", \"2021-03-29T00:00:00\", \"2021-03-30T00:00:00\", \"2021-03-31T00:00:00\", \"2021-04-01T00:00:00\", \"2021-04-02T00:00:00\", \"2021-04-03T00:00:00\", \"2021-04-04T00:00:00\", \"2021-04-05T00:00:00\", \"2021-04-06T00:00:00\", \"2021-04-07T00:00:00\", \"2021-04-08T00:00:00\", \"2021-04-09T00:00:00\", \"2021-04-10T00:00:00\", \"2021-04-11T00:00:00\", \"2021-04-12T00:00:00\", \"2021-04-13T00:00:00\", \"2021-04-14T00:00:00\", \"2021-04-15T00:00:00\", \"2021-04-16T00:00:00\", \"2021-04-17T00:00:00\", \"2021-04-18T00:00:00\", \"2021-04-19T00:00:00\", \"2021-04-20T00:00:00\", \"2021-04-21T00:00:00\", \"2021-04-22T00:00:00\", \"2021-04-23T00:00:00\", \"2021-04-24T00:00:00\", \"2021-04-25T00:00:00\", \"2021-04-26T00:00:00\", \"2021-04-27T00:00:00\", \"2021-04-28T00:00:00\", \"2021-04-29T00:00:00\", \"2021-04-30T00:00:00\", \"2021-05-01T00:00:00\", \"2021-05-02T00:00:00\", \"2021-05-03T00:00:00\", \"2021-05-04T00:00:00\", \"2021-05-05T00:00:00\", \"2021-05-06T00:00:00\", \"2021-05-07T00:00:00\", \"2021-05-08T00:00:00\", \"2021-05-09T00:00:00\", \"2021-05-10T00:00:00\", \"2021-05-11T00:00:00\", \"2021-05-12T00:00:00\", \"2021-05-13T00:00:00\", \"2021-05-14T00:00:00\", \"2021-05-15T00:00:00\", \"2021-05-16T00:00:00\", \"2021-05-17T00:00:00\", \"2021-05-18T00:00:00\", \"2021-05-19T00:00:00\", \"2021-05-20T00:00:00\", \"2021-05-21T00:00:00\", \"2021-05-22T00:00:00\", \"2021-05-23T00:00:00\", \"2021-05-24T00:00:00\", \"2021-05-25T00:00:00\", \"2021-05-26T00:00:00\", \"2021-05-27T00:00:00\", \"2021-05-28T00:00:00\", \"2021-05-29T00:00:00\", \"2021-05-30T00:00:00\", \"2021-05-31T00:00:00\", \"2021-06-01T00:00:00\", \"2021-06-02T00:00:00\", \"2021-06-03T00:00:00\", \"2021-06-04T00:00:00\", \"2021-06-05T00:00:00\", \"2021-06-06T00:00:00\", \"2021-06-07T00:00:00\", \"2021-06-08T00:00:00\", \"2021-06-09T00:00:00\", \"2021-06-10T00:00:00\", \"2021-06-11T00:00:00\", \"2021-06-12T00:00:00\", \"2021-06-13T00:00:00\", \"2021-06-14T00:00:00\", \"2021-06-15T00:00:00\", \"2021-06-16T00:00:00\", \"2021-06-17T00:00:00\", \"2021-06-18T00:00:00\", \"2021-06-19T00:00:00\", \"2021-06-20T00:00:00\", \"2021-06-21T00:00:00\", \"2021-06-22T00:00:00\", \"2021-06-23T00:00:00\", \"2021-06-24T00:00:00\", \"2021-06-25T00:00:00\", \"2021-06-26T00:00:00\", \"2021-06-27T00:00:00\", \"2021-06-28T00:00:00\", \"2021-06-29T00:00:00\", \"2021-06-30T00:00:00\", \"2021-07-01T00:00:00\", \"2021-07-02T00:00:00\", \"2021-07-03T00:00:00\", \"2021-07-04T00:00:00\", \"2021-07-05T00:00:00\", \"2021-07-06T00:00:00\", \"2021-07-07T00:00:00\", \"2021-07-08T00:00:00\", \"2021-07-09T00:00:00\", \"2021-07-10T00:00:00\", \"2021-07-11T00:00:00\", \"2021-07-12T00:00:00\", \"2021-07-13T00:00:00\", \"2021-07-14T00:00:00\", \"2021-07-15T00:00:00\", \"2021-07-16T00:00:00\", \"2021-07-17T00:00:00\", \"2021-07-18T00:00:00\", \"2021-07-19T00:00:00\", \"2021-07-20T00:00:00\", \"2021-07-21T00:00:00\", \"2021-07-22T00:00:00\", \"2021-07-23T00:00:00\", \"2021-07-24T00:00:00\", \"2021-07-25T00:00:00\", \"2021-07-26T00:00:00\", \"2021-07-27T00:00:00\", \"2021-07-28T00:00:00\", \"2021-07-29T00:00:00\", \"2021-07-30T00:00:00\", \"2021-07-31T00:00:00\", \"2021-08-01T00:00:00\", \"2021-08-02T00:00:00\", \"2021-08-03T00:00:00\", \"2021-08-04T00:00:00\", \"2021-08-05T00:00:00\", \"2021-08-06T00:00:00\", \"2021-08-07T00:00:00\", \"2021-08-08T00:00:00\", \"2021-08-09T00:00:00\", \"2021-08-10T00:00:00\", \"2021-08-11T00:00:00\", \"2021-08-12T00:00:00\", \"2021-08-13T00:00:00\", \"2021-08-14T00:00:00\", \"2021-08-15T00:00:00\", \"2021-08-16T00:00:00\", \"2021-08-17T00:00:00\", \"2021-08-18T00:00:00\", \"2021-08-19T00:00:00\", \"2021-08-20T00:00:00\", \"2021-08-21T00:00:00\", \"2021-08-22T00:00:00\", \"2021-08-23T00:00:00\", \"2021-08-24T00:00:00\", \"2021-08-25T00:00:00\", \"2021-08-26T00:00:00\", \"2021-08-27T00:00:00\", \"2021-08-28T00:00:00\", \"2021-08-29T00:00:00\", \"2021-08-30T00:00:00\", \"2021-08-31T00:00:00\", \"2021-09-01T00:00:00\", \"2021-09-02T00:00:00\", \"2021-09-03T00:00:00\", \"2021-09-04T00:00:00\", \"2021-09-05T00:00:00\", \"2021-09-06T00:00:00\", \"2021-09-07T00:00:00\", \"2021-09-08T00:00:00\", \"2021-09-09T00:00:00\", \"2021-09-10T00:00:00\", \"2021-09-11T00:00:00\", \"2021-09-12T00:00:00\", \"2021-09-13T00:00:00\", \"2021-09-14T00:00:00\", \"2021-09-15T00:00:00\", \"2021-09-16T00:00:00\", \"2021-09-17T00:00:00\", \"2021-09-18T00:00:00\", \"2021-09-19T00:00:00\", \"2021-09-20T00:00:00\", \"2021-09-21T00:00:00\", \"2021-09-22T00:00:00\", \"2021-09-23T00:00:00\", \"2021-09-24T00:00:00\", \"2021-09-25T00:00:00\", \"2021-09-26T00:00:00\", \"2021-09-27T00:00:00\", \"2021-09-28T00:00:00\", \"2021-09-29T00:00:00\", \"2021-09-30T00:00:00\", \"2021-10-01T00:00:00\", \"2021-10-02T00:00:00\", \"2021-10-03T00:00:00\", \"2021-10-04T00:00:00\", \"2021-10-05T00:00:00\", \"2021-10-06T00:00:00\", \"2021-10-07T00:00:00\", \"2021-10-08T00:00:00\", \"2021-10-09T00:00:00\", \"2021-10-10T00:00:00\", \"2021-10-11T00:00:00\", \"2021-10-12T00:00:00\", \"2021-10-13T00:00:00\", \"2021-10-14T00:00:00\", \"2021-10-15T00:00:00\", \"2021-10-16T00:00:00\", \"2021-10-17T00:00:00\", \"2021-10-18T00:00:00\", \"2021-10-19T00:00:00\", \"2021-10-20T00:00:00\", \"2021-10-21T00:00:00\", \"2021-10-22T00:00:00\", \"2021-10-23T00:00:00\", \"2021-10-24T00:00:00\", \"2021-10-25T00:00:00\"], \"y\": [9231.62, 8858.57999997, 9231.00024873, 8195.92, 7006.0, 7714.43, 7565.00269501, 8287.46, 8696.60085007, 8567.99, 8025.2, 8879.0, 8539.6114781, 9450.0, 10059.89, 10150.0, 11083.97221351, 10413.46, 11168.00467202, 11285.99151033, 10500.0, 9850.0, 10174.99000029, 9713.5, 9531.42, 10270.41, 10636.47, 10354.99, 10871.43, 11086.3, 11489.0, 11552.80000011, 11494.65055152, 10721.8, 9900.0, 9321.08364263, 9243.89, 8818.00582128, 9520.0, 9155.82084202, 9137.0, 8240.0, 8240.97229849, 8280.01, 7883.56699997, 8177.19133472, 8607.35, 8870.0, 8905.60099727, 8730.02079366, 8888.57999994, 8533.0, 8469.79999972, 8150.0, 7823.72257923, 7945.00442653, 7127.02, 6880.00064762, 6930.79865807, 6800.01, 7044.0, 7410.0, 6816.77000024, 6790.0, 6606.0, 6881.02019261, 7033.05406138, 6773.8, 6849.91021478, 6962.65000011, 7938.99, 7861.11056667, 8000.0, 8336.38, 8075.29800527, 7933.8, 8158.26, 8298.68538254, 8880.0, 8920.31999988, 8794.0, 8926.0, 9681.0, 8870.0, 9282.0, 8922.04, 9362.31, 9400.0, 9240.0, 9099.98, 9244.99, 9776.0, 9715.0, 9867.65, 9660.0, 9370.99, 9193.28, 9291.33, 9042.92, 8379.7, 8451.92, 8682.95, 8673.02, 8480.1, 8334.99, 8079.79, 8225.0, 8242.98, 8509.99, 8392.03, 8000.76, 7493.19, 7553.77, 7457.6, 7364.48, 7375.75, 7108.02, 7450.2, 7398.22, 7480.9, 7529.0, 7662.68, 7705.53, 7496.0, 7628.0, 7648.0, 7680.68, 7600.68, 7504.62, 6785.57, 6869.76, 6537.97, 6309.98, 6629.87, 6381.19, 6499.82, 6441.98, 6701.9, 6745.48, 6750.0, 6710.31, 6059.64, 6143.02, 6130.83, 6250.0, 6080.51, 6137.73, 5851.89, 6194.44, 6388.49, 6344.36, 6617.57, 6500.0, 6598.34, 6554.11, 6600.0, 6762.0, 6695.64, 6645.55, 6294.0, 6361.22, 6235.73, 6218.1, 6265.96, 6342.0, 6737.95, 7320.0, 7362.95, 7466.46, 7340.0, 7401.31, 7389.93, 7711.96, 8412.68, 8180.16, 7940.82, 8174.19, 8238.0, 8227.18, 8179.56, 7738.23, 7617.41, 7539.31, 7418.27, 7014.0, 7028.16, 6938.0, 6732.26, 6278.0, 6527.99, 6150.0, 6218.02, 6314.35, 6257.0, 6179.64, 6261.19, 6304.47, 6577.55, 6398.58, 6468.37, 6250.03, 6466.44, 6354.99, 6520.46, 6687.33, 6735.0, 6701.05, 6897.77, 7076.11, 7032.11, 6991.89, 7020.98, 7214.86, 7303.81, 7270.0, 7358.54, 6702.87, 6511.71, 6401.51, 6186.01, 6253.3, 6323.38, 6295.16, 6337.44, 6485.0, 6488.78, 6520.0, 6501.0, 6257.48, 6335.75, 6389.85, 6498.31, 6766.0, 6728.84, 6711.99, 6588.36, 6448.41, 6469.0, 6680.09, 6635.0, 6591.92, 6621.37, 6603.33, 6538.19, 6512.0, 6588.98, 6639.68, 6599.83, 6615.77, 6673.21, 6653.02, 6625.02, 6250.01, 6300.01, 6332.73, 6336.92, 6745.82, 6759.58, 6740.27, 6614.1, 6533.82, 6584.05, 6587.43, 6575.22, 6553.15, 6563.52, 6525.93, 6536.81, 6506.36, 6484.81, 6345.58, 6330.22, 6369.65, 6399.78, 6427.27, 6384.15, 6481.09, 6469.01, 6513.15, 6572.42, 6484.52, 6421.05, 6434.0, 6450.57, 6450.0, 6462.0, 5925.96, 5756.63, 5651.27, 5633.83, 5662.2, 4927.62, 4569.69, 4660.0, 4370.41, 4424.95, 3938.0, 4089.34, 3862.91, 3879.3, 4261.25, 4292.2, 4041.94, 4190.0, 4166.47, 3884.68, 3952.97, 3763.23, 3506.8, 3404.48, 3412.22, 3546.74, 3436.67, 3384.0, 3448.0, 3300.0, 3223.24, 3211.78, 3224.66, 3510.51, 3650.0, 3666.41, 4053.4, 3838.23, 3952.31, 3926.18, 4010.0, 3740.0, 3781.02, 3568.0, 3841.26, 3691.16, 3801.02, 3698.53, 3792.25, 3859.9, 3766.32, 3789.8, 3774.5, 3985.0, 3971.89, 3956.0, 3966.0, 3585.1, 3601.24, 3583.31, 3477.02, 3620.93, 3553.86, 3585.0, 3612.86, 3593.41, 3663.76, 3535.0, 3527.58, 3566.99, 3550.0, 3571.88, 3568.5, 3565.82, 3554.82, 3433.99, 3411.31, 3457.11, 3432.49, 3466.84, 3505.75, 3460.0, 3465.1, 3469.16, 3408.9, 3394.7, 3655.94, 3662.33, 3678.58, 3634.99, 3630.68, 3610.0, 3592.64, 3600.37, 3614.02, 3667.51, 3895.04, 3910.03, 3973.19, 3939.87, 3965.18, 4114.79, 3748.04, 3828.69, 3808.08, 3814.2, 3815.0, 3818.04, 3820.0, 3807.92, 3713.35, 3856.23, 3862.5, 3874.0, 3864.52, 3939.86, 3912.96, 3869.05, 3886.17, 3864.0, 3877.85, 3923.43, 4005.92, 3980.87, 3989.42, 4015.84, 4039.7, 3981.42, 3990.35, 4001.63, 3995.99, 3935.69, 3940.03, 4042.16, 4024.05, 4102.94, 4105.99, 4102.1, 4145.21, 4861.64, 4970.68, 4896.91, 5003.25, 5046.98, 5175.0, 5235.63, 5147.64, 5304.67, 5012.79, 5054.73, 5045.0, 5123.0, 5035.16, 5171.72, 5198.0, 5267.83, 5253.74, 5288.0, 5257.0, 5358.41, 5495.05, 5413.81, 5223.94, 5315.68, 5289.23, 5313.63, 5239.25, 5320.0, 5392.0, 5495.46, 5775.0, 5840.0, 5770.07, 5747.68, 5849.63, 5982.93, 6180.0, 6375.0, 7200.0, 6971.28, 7806.02, 8000.0, 8167.21, 7873.9, 7352.94, 7253.04, 8163.26, 7935.15, 7911.78, 7632.35, 7844.5, 7972.62, 8030.0, 8617.0, 8752.28, 8726.32, 8639.1, 8266.34, 8558.97, 8549.51, 8729.41, 8122.68, 7686.71, 7781.4, 7787.0, 7972.99, 7895.51, 7630.4, 7982.34, 7878.82, 8124.46, 8216.12, 8647.0, 8802.94, 8962.7, 9304.1, 9078.76, 9247.53, 9518.45, 10166.56, 10732.87, 10901.05, 11060.0, 11816.17, 13112.58, 11330.0, 12418.0, 11903.52, 10838.69, 10628.95, 10827.59, 11943.78, 11166.73, 10985.25, 11262.24, 11415.3, 12255.0, 12553.25, 12108.5, 11350.0, 11752.94, 11360.14, 10185.71, 10844.93, 9581.04, 9581.04, 9581.04, 9581.04, 9581.04, 10574.36, 10588.36, 9863.48, 9757.14, 9870.29, 9820.2, 9487.96, 9539.76, 9507.04, 9579.99, 10078.85, 10375.0, 10522.85, 10811.42, 10924.76, 11824.16, 11485.96, 11970.0, 11989.66, 11866.82, 11305.07, 11534.25, 11386.3, 10900.0, 10055.0, 10305.45, 10338.51, 10219.0, 10303.01, 10895.27, 10750.01, 10140.0, 10098.0, 10387.5, 10134.36, 10141.04, 10380.51, 10185.72, 9730.0, 9489.22, 9581.0, 9584.35, 9733.0, 10337.0, 10610.61, 10552.45, 10572.37, 10300.0, 10452.01, 10399.99, 10302.03, 10111.04, 10152.12, 10412.0, 10345.59, 10336.72, 10305.0, 10255.0, 10194.39, 10152.87, 10234.7, 10174.45, 9988.97, 10020.4, 9703.2, 8492.52, 8430.38, 8063.12, 8177.59, 8204.0, 8049.35, 8290.82, 8299.97, 8352.14, 8212.99, 8142.76, 8129.0, 7853.35, 8180.0, 8173.69, 8566.0, 8559.0, 8255.0, 8301.02, 8284.61, 8349.0, 8162.01, 7990.54, 8066.07, 7949.44, 7944.64, 8214.0, 8199.1, 8026.5, 7471.0, 7412.58, 8651.68, 9230.65, 9530.39, 9208.08, 9411.41, 9161.04, 9144.12, 9227.4, 9288.0, 9196.5, 9386.15, 9314.56, 9334.26, 9217.8, 8780.46, 8812.0, 9035.0, 8729.99, 8810.0, 8774.97, 8652.46, 8467.52, 8489.99, 8498.75, 8182.87, 8129.35, 8102.16, 7621.64, 7268.09, 7312.59, 6915.0, 7115.61, 7152.22, 7509.37, 7417.39, 7737.77, 7544.73, 7393.03, 7295.63, 7291.94, 7190.0, 7389.81, 7530.96, 7484.67, 7505.0, 7344.06, 7221.85, 7205.81, 7200.16, 7255.0, 7069.61, 7117.04, 6899.71, 6623.65, 7273.15, 7148.77, 7185.39, 7133.59, 7500.0, 7325.01, 7256.39, 7203.0, 7207.87, 7253.06, 7312.0, 7391.36, 7246.58, 7196.05, 7195.86, 6965.74, 7342.67, 7352.0, 7360.21, 7762.84, 8148.69, 8048.25, 7820.91, 8192.87, 8030.0, 8180.65, 8106.74, 8811.78, 8829.63, 8719.6, 8910.0, 8917.75, 8705.0, 8647.45, 8736.72, 8682.0, 8405.92, 8443.5, 8339.12, 8611.0, 8908.0, 9377.22, 9301.14, 9509.9, 9347.77, 9388.92, 9333.34, 9301.16, 9195.82, 9610.52, 9771.68, 9816.62, 9893.0, 10156.24, 9854.69, 10218.39, 10328.11, 10239.34, 10340.0, 9901.54, 9922.2, 9704.97, 10163.0, 9612.0, 9598.45, 9680.62, 9655.18, 9941.78, 9657.0, 9310.98, 8785.71, 8822.03, 8694.85, 8530.0, 8535.7, 8910.0, 8761.52, 8752.76, 9058.85, 9129.3, 8887.14, 8030.63, 7929.36, 7887.76, 7930.0, 4799.83, 5586.02, 5181.63, 5360.46, 5027.4, 5316.9, 5392.96, 6164.5, 6203.95, 6185.81, 5821.67, 6471.2, 6748.49, 6677.52, 6737.0, 6361.81, 6238.0, 5881.66, 6392.81, 6412.75, 6642.03, 6793.0, 6732.99, 6857.38, 6773.17, 7330.01, 7201.03, 7359.51, 7287.14, 6860.64, 6877.71, 6905.84, 6839.09, 6865.25, 6623.71, 7102.0, 7027.32, 7249.65, 7118.66, 6829.01, 6842.68, 7126.41, 7482.91, 7503.6, 7540.06, 7695.27, 7774.81, 7740.96, 8777.14, 8623.7, 8817.49, 8974.68, 8896.54, 8876.99, 9022.98, 9136.61, 9982.4, 9802.0, 9541.51, 8719.16, 8560.56, 8809.99, 9305.0, 9787.51, 9322.03, 9384.14, 9675.4, 9732.97, 9772.94, 9514.61, 9066.27, 9168.97, 9177.47, 8716.06, 8898.84, 8842.42, 9202.0, 9574.86, 9426.69, 9695.6, 9455.33, 10190.35, 9522.03, 9661.42, 9791.59, 9623.01, 9668.93, 9744.75, 9774.62, 9771.24, 9884.32, 9278.58, 9466.57, 9471.13, 9342.2, 9422.23, 9525.1, 9464.06, 9385.18, 9309.98, 9355.13, 9296.97, 9684.5, 9623.99, 9303.18, 9246.01, 9161.95, 9012.75, 9120.18, 9190.04, 9137.38, 9231.37, 9083.16, 9062.6, 9137.61, 9072.99, 9339.34, 9255.52, 9434.0, 9235.7, 9285.82, 9231.67, 9299.58, 9241.67, 9252.97, 9201.74, 9135.61, 9156.65, 9168.29, 9207.05, 9159.83, 9385.68, 9515.74, 9601.88, 9538.24, 9696.9, 9927.64, 11028.2, 10910.22, 11102.06, 11098.3, 11337.23, 11801.28, 11068.07, 11222.23, 11188.53, 11739.39, 11764.15, 11593.35, 11763.23, 11681.29, 11892.46, 11393.04, 11564.88, 11774.07, 11757.55, 11851.21, 11908.87, 12280.09, 11948.47, 11753.8, 11857.14, 11529.51, 11665.01, 11646.89, 11755.0, 11319.94, 11462.8, 11325.8, 11523.08, 11468.6, 11709.71, 11649.79, 11925.01, 11388.14, 10146.0, 10444.46, 10164.33, 10249.6, 10368.87, 10125.01, 10218.32, 10338.76, 10386.41, 10441.37, 10330.13, 10673.62, 10782.55, 10953.7, 10942.6, 10933.25, 11083.38, 10920.23, 10413.87, 10528.3, 10237.74, 10735.27, 10687.09, 10733.94, 10776.57, 10707.78, 10839.2, 10777.75, 10621.47, 10571.01, 10541.0, 10667.62, 10788.14, 10602.76, 10671.53, 10918.75, 11052.71, 11293.35, 11369.5, 11531.4, 11416.97, 11419.02, 11502.12, 11317.4, 11362.1, 11500.0, 11749.8, 11909.7, 12788.0, 12975.0, 12929.98, 13109.1, 13029.07, 13055.0, 13638.1, 13271.57, 13460.5, 13554.9, 13801.16, 13759.35, 13558.16, 14013.43, 14136.1, 15589.18, 15571.5, 14818.25, 15480.4, 15324.4, 15294.1, 15685.04, 16288.1, 16317.5, 16071.42, 15952.6, 16706.5, 17664.27, 17771.5, 17805.93, 18660.1, 18700.0, 18431.81, 18373.73, 19154.58, 18725.09, 17147.8, 17137.26, 17723.08, 18174.76, 19691.45, 18776.58, 19219.59, 19424.7, 18655.7, 19146.17, 19357.95, 19171.91, 18330.5, 18541.27, 18246.52, 18030.78, 18803.64, 19176.23, 19271.6, 19425.97, 21344.84, 22813.1, 23103.745, 23823.59, 23470.6, 22726.67, 23821.75, 23235.0, 23734.53, 24710.78, 26469.53, 26282.94, 27073.6, 27381.06, 28865.98, 28921.17, 29330.0, 32178.82, 33004.14, 32000.08, 33932.3, 36733.03, 39439.56, 40586.09, 40091.83, 38180.08, 35395.69, 34060.98, 37369.25, 39157.15, 36739.21, 36008.08, 35839.32, 36626.12, 35892.35, 35473.55, 30838.73, 32949.21, 32079.22, 32262.785, 32273.955, 32473.685, 30353.185, 33331.04, 34235.665, 34269.02, 33102.95625, 33523.01, 35476.6525, 37619.295, 36933.845, 38291.685, 39196.32, 38800.2225, 46364.605, 46437.1125, 44815.84, 47958.7475, 47313.985, 47151.835, 48588.205, 47913.175, 49150.26, 52104.14, 51566.98, 55904.95, 55854.69, 57418.94, 54103.26, 48899.65, 49687.99, 47106.56, 46293.99, 46116.28, 45139.06, 49590.49, 48443.08, 50339.39, 48378.81, 48756.89, 48869.0, 50982.35, 52375.09, 54881.38, 55876.32, 57791.73, 57248.49, 61181.27, 58999.99, 55623.9, 56886.66, 58897.54, 57644.26, 58033.58, 58121.84, 57342.46, 54090.9, 54345.36, 52311.24, 51301.7, 55012.71, 55831.7, 55781.92, 57636.16, 58751.63, 58741.86, 58726.04, 58971.5, 57067.39, 58199.97, 59085.5, 57988.88, 55959.19, 58077.4, 58149.34, 59770.81, 60000.49, 59878.83, 63577.9, 62964.92, 63133.09, 61333.34, 60005.67, 56139.16, 55631.09, 56435.86, 53794.14, 51701.45, 51111.69, 50041.14, 49061.34, 53996.36, 55012.43, 54825.96, 53545.07, 57697.11, 57797.09, 56574.43, 57179.55, 53200.39, 57423.56, 56398.06, 57298.05, 58853.71, 58230.06, 55819.35, 56656.94, 49631.67, 49679.9, 49845.28, 46790.72, 46434.14, 43550.75, 42849.89, 36662.15, 40548.02, 37253.6, 37447.7, 34682.58, 38802.02, 38318.9, 39238.98, 38527.72, 35652.84, 34589.46, 35648.14, 37258.41, 36698.52, 37575.07, 39245.3, 36827.08, 35512.98, 35799.37, 33577.47, 33379.29, 37390.2, 36676.8, 37328.01, 35543.84, 39000.98, 40527.84, 40146.88, 38359.94, 38094.23, 35825.6, 35489.6, 35586.42, 31619.39, 32503.78, 33673.74, 34656.6, 31586.44, 32285.03, 34703.34, 34487.48, 35902.08, 35049.64, 33507.45, 33783.23, 34670.34, 35283.36, 33689.47, 34225.47, 33866.95, 32869.89, 33817.93, 33507.83, 34256.17, 33094.47, 32726.23, 32816.38, 31874.05, 31386.09, 31519.85, 31778.38, 30836.65, 29786.9, 32134.25, 32284.65, 33621.31, 34244.98, 35381.56, 37232.82, 39460.63, 40019.08, 40021.6, 42211.22, 41468.62, 39850.71, 39152.06, 38201.7, 39723.82, 40861.04, 42838.86, 44576.16, 43813.68, 46263.13, 45581.51, 45529.03, 44406.77, 47801.17, 47066.32, 46974.19, 45897.5, 44675.28, 44717.33, 46762.33, 49319.72, 48832.14, 49243.79, 49496.05, 47702.94, 48979.86, 46835.66, 49055.81, 48884.23, 48754.03, 46983.05, 47112.83, 48814.84, 49253.05, 49996.68, 49909.24, 51756.15, 52663.69, 46850.03685, 46056.91, 46390.09, 44850.03495, 45163.9901, 46026.86, 44939.991, 47128.22, 48122.999, 47746.008, 47288.0, 48296.999, 47236.991, 43017.999, 40734.169, 43566.01, 44857.991, 42805.009, 42674.059, 43167.009, 42157.129, 41029.919, 41531.669, 43818.001, 48140.991, 47642.009, 48195.991, 49214.921, 51460.141, 55309.781, 53789.557, 53944.031, 54943.541, 54670.619, 57470.0, 56021.879, 57362.001, 57346.009, 61670.901, 60880.218, 61517.991, 62020.001, 64270.531, 66006.001, 62206.001, 60702.009, 61298.009, 60864.009, 63077.991]}, {\"line\": {\"color\": \"orange\"}, \"name\": \"Futures-close\", \"type\": \"scatter\", \"x\": [\"2018-02-01T00:00:00\", \"2018-02-02T00:00:00\", \"2018-02-03T00:00:00\", \"2018-02-04T00:00:00\", \"2018-02-05T00:00:00\", \"2018-02-06T00:00:00\", \"2018-02-07T00:00:00\", \"2018-02-08T00:00:00\", \"2018-02-09T00:00:00\", \"2018-02-10T00:00:00\", \"2018-02-11T00:00:00\", \"2018-02-12T00:00:00\", \"2018-02-13T00:00:00\", \"2018-02-14T00:00:00\", \"2018-02-15T00:00:00\", \"2018-02-16T00:00:00\", \"2018-02-17T00:00:00\", \"2018-02-18T00:00:00\", \"2018-02-19T00:00:00\", \"2018-02-20T00:00:00\", \"2018-02-21T00:00:00\", \"2018-02-22T00:00:00\", \"2018-02-23T00:00:00\", \"2018-02-24T00:00:00\", \"2018-02-25T00:00:00\", \"2018-02-26T00:00:00\", \"2018-02-27T00:00:00\", \"2018-02-28T00:00:00\", \"2018-03-01T00:00:00\", \"2018-03-02T00:00:00\", \"2018-03-03T00:00:00\", \"2018-03-04T00:00:00\", \"2018-03-05T00:00:00\", \"2018-03-06T00:00:00\", \"2018-03-07T00:00:00\", \"2018-03-08T00:00:00\", \"2018-03-09T00:00:00\", \"2018-03-10T00:00:00\", \"2018-03-11T00:00:00\", \"2018-03-12T00:00:00\", \"2018-03-13T00:00:00\", \"2018-03-14T00:00:00\", \"2018-03-15T00:00:00\", \"2018-03-16T00:00:00\", \"2018-03-17T00:00:00\", \"2018-03-18T00:00:00\", \"2018-03-19T00:00:00\", \"2018-03-20T00:00:00\", \"2018-03-21T00:00:00\", \"2018-03-22T00:00:00\", \"2018-03-23T00:00:00\", \"2018-03-24T00:00:00\", \"2018-03-25T00:00:00\", \"2018-03-26T00:00:00\", \"2018-03-27T00:00:00\", \"2018-03-28T00:00:00\", \"2018-03-29T00:00:00\", \"2018-03-30T00:00:00\", \"2018-03-31T00:00:00\", \"2018-04-01T00:00:00\", \"2018-04-02T00:00:00\", \"2018-04-03T00:00:00\", \"2018-04-04T00:00:00\", \"2018-04-05T00:00:00\", \"2018-04-06T00:00:00\", \"2018-04-07T00:00:00\", \"2018-04-08T00:00:00\", \"2018-04-09T00:00:00\", \"2018-04-10T00:00:00\", \"2018-04-11T00:00:00\", \"2018-04-12T00:00:00\", \"2018-04-13T00:00:00\", \"2018-04-14T00:00:00\", \"2018-04-15T00:00:00\", \"2018-04-16T00:00:00\", \"2018-04-17T00:00:00\", \"2018-04-18T00:00:00\", \"2018-04-19T00:00:00\", \"2018-04-20T00:00:00\", \"2018-04-21T00:00:00\", \"2018-04-22T00:00:00\", \"2018-04-23T00:00:00\", \"2018-04-24T00:00:00\", \"2018-04-25T00:00:00\", \"2018-04-26T00:00:00\", \"2018-04-27T00:00:00\", \"2018-04-28T00:00:00\", \"2018-04-29T00:00:00\", \"2018-04-30T00:00:00\", \"2018-05-01T00:00:00\", \"2018-05-02T00:00:00\", \"2018-05-03T00:00:00\", \"2018-05-04T00:00:00\", \"2018-05-05T00:00:00\", \"2018-05-06T00:00:00\", \"2018-05-07T00:00:00\", \"2018-05-08T00:00:00\", \"2018-05-09T00:00:00\", \"2018-05-10T00:00:00\", \"2018-05-11T00:00:00\", \"2018-05-12T00:00:00\", \"2018-05-13T00:00:00\", \"2018-05-14T00:00:00\", \"2018-05-15T00:00:00\", \"2018-05-16T00:00:00\", \"2018-05-17T00:00:00\", \"2018-05-18T00:00:00\", \"2018-05-19T00:00:00\", \"2018-05-20T00:00:00\", \"2018-05-21T00:00:00\", \"2018-05-22T00:00:00\", \"2018-05-23T00:00:00\", \"2018-05-24T00:00:00\", \"2018-05-25T00:00:00\", \"2018-05-26T00:00:00\", \"2018-05-27T00:00:00\", \"2018-05-28T00:00:00\", \"2018-05-29T00:00:00\", \"2018-05-30T00:00:00\", \"2018-05-31T00:00:00\", \"2018-06-01T00:00:00\", \"2018-06-02T00:00:00\", \"2018-06-03T00:00:00\", \"2018-06-04T00:00:00\", \"2018-06-05T00:00:00\", \"2018-06-06T00:00:00\", \"2018-06-07T00:00:00\", \"2018-06-08T00:00:00\", \"2018-06-09T00:00:00\", \"2018-06-10T00:00:00\", \"2018-06-11T00:00:00\", \"2018-06-12T00:00:00\", \"2018-06-13T00:00:00\", \"2018-06-14T00:00:00\", \"2018-06-15T00:00:00\", \"2018-06-16T00:00:00\", \"2018-06-17T00:00:00\", \"2018-06-18T00:00:00\", \"2018-06-19T00:00:00\", \"2018-06-20T00:00:00\", \"2018-06-21T00:00:00\", \"2018-06-22T00:00:00\", \"2018-06-23T00:00:00\", \"2018-06-24T00:00:00\", \"2018-06-25T00:00:00\", \"2018-06-26T00:00:00\", \"2018-06-27T00:00:00\", \"2018-06-28T00:00:00\", \"2018-06-29T00:00:00\", \"2018-06-30T00:00:00\", \"2018-07-01T00:00:00\", \"2018-07-02T00:00:00\", \"2018-07-03T00:00:00\", \"2018-07-04T00:00:00\", \"2018-07-05T00:00:00\", \"2018-07-06T00:00:00\", \"2018-07-07T00:00:00\", \"2018-07-08T00:00:00\", \"2018-07-09T00:00:00\", \"2018-07-10T00:00:00\", \"2018-07-11T00:00:00\", \"2018-07-12T00:00:00\", \"2018-07-13T00:00:00\", \"2018-07-14T00:00:00\", \"2018-07-15T00:00:00\", \"2018-07-16T00:00:00\", \"2018-07-17T00:00:00\", \"2018-07-18T00:00:00\", \"2018-07-19T00:00:00\", \"2018-07-20T00:00:00\", \"2018-07-21T00:00:00\", \"2018-07-22T00:00:00\", \"2018-07-23T00:00:00\", \"2018-07-24T00:00:00\", \"2018-07-25T00:00:00\", \"2018-07-26T00:00:00\", \"2018-07-27T00:00:00\", \"2018-07-28T00:00:00\", \"2018-07-29T00:00:00\", \"2018-07-30T00:00:00\", \"2018-07-31T00:00:00\", \"2018-08-01T00:00:00\", \"2018-08-02T00:00:00\", \"2018-08-03T00:00:00\", \"2018-08-04T00:00:00\", \"2018-08-05T00:00:00\", \"2018-08-06T00:00:00\", \"2018-08-07T00:00:00\", \"2018-08-08T00:00:00\", \"2018-08-09T00:00:00\", \"2018-08-10T00:00:00\", \"2018-08-11T00:00:00\", \"2018-08-12T00:00:00\", \"2018-08-13T00:00:00\", \"2018-08-14T00:00:00\", \"2018-08-15T00:00:00\", \"2018-08-16T00:00:00\", \"2018-08-17T00:00:00\", \"2018-08-18T00:00:00\", \"2018-08-19T00:00:00\", \"2018-08-20T00:00:00\", \"2018-08-21T00:00:00\", \"2018-08-22T00:00:00\", \"2018-08-23T00:00:00\", \"2018-08-24T00:00:00\", \"2018-08-25T00:00:00\", \"2018-08-26T00:00:00\", \"2018-08-27T00:00:00\", \"2018-08-28T00:00:00\", \"2018-08-29T00:00:00\", \"2018-08-30T00:00:00\", \"2018-08-31T00:00:00\", \"2018-09-01T00:00:00\", \"2018-09-02T00:00:00\", \"2018-09-03T00:00:00\", \"2018-09-04T00:00:00\", \"2018-09-05T00:00:00\", \"2018-09-06T00:00:00\", \"2018-09-07T00:00:00\", \"2018-09-08T00:00:00\", \"2018-09-09T00:00:00\", \"2018-09-10T00:00:00\", \"2018-09-11T00:00:00\", \"2018-09-12T00:00:00\", \"2018-09-13T00:00:00\", \"2018-09-14T00:00:00\", \"2018-09-15T00:00:00\", \"2018-09-16T00:00:00\", \"2018-09-17T00:00:00\", \"2018-09-18T00:00:00\", \"2018-09-19T00:00:00\", \"2018-09-20T00:00:00\", \"2018-09-21T00:00:00\", \"2018-09-22T00:00:00\", \"2018-09-23T00:00:00\", \"2018-09-24T00:00:00\", \"2018-09-25T00:00:00\", \"2018-09-26T00:00:00\", \"2018-09-27T00:00:00\", \"2018-09-28T00:00:00\", \"2018-09-29T00:00:00\", \"2018-09-30T00:00:00\", \"2018-10-01T00:00:00\", \"2018-10-02T00:00:00\", \"2018-10-03T00:00:00\", \"2018-10-04T00:00:00\", \"2018-10-05T00:00:00\", \"2018-10-06T00:00:00\", \"2018-10-07T00:00:00\", \"2018-10-08T00:00:00\", \"2018-10-09T00:00:00\", \"2018-10-10T00:00:00\", \"2018-10-11T00:00:00\", \"2018-10-12T00:00:00\", \"2018-10-13T00:00:00\", \"2018-10-14T00:00:00\", \"2018-10-15T00:00:00\", \"2018-10-16T00:00:00\", \"2018-10-17T00:00:00\", \"2018-10-18T00:00:00\", \"2018-10-19T00:00:00\", \"2018-10-20T00:00:00\", \"2018-10-21T00:00:00\", \"2018-10-22T00:00:00\", \"2018-10-23T00:00:00\", \"2018-10-24T00:00:00\", \"2018-10-25T00:00:00\", \"2018-10-26T00:00:00\", \"2018-10-27T00:00:00\", \"2018-10-28T00:00:00\", \"2018-10-29T00:00:00\", \"2018-10-30T00:00:00\", \"2018-10-31T00:00:00\", \"2018-11-01T00:00:00\", \"2018-11-02T00:00:00\", \"2018-11-03T00:00:00\", \"2018-11-04T00:00:00\", \"2018-11-05T00:00:00\", \"2018-11-06T00:00:00\", \"2018-11-07T00:00:00\", \"2018-11-08T00:00:00\", \"2018-11-09T00:00:00\", \"2018-11-10T00:00:00\", \"2018-11-11T00:00:00\", \"2018-11-12T00:00:00\", \"2018-11-13T00:00:00\", \"2018-11-14T00:00:00\", \"2018-11-15T00:00:00\", \"2018-11-16T00:00:00\", \"2018-11-17T00:00:00\", \"2018-11-18T00:00:00\", \"2018-11-19T00:00:00\", \"2018-11-20T00:00:00\", \"2018-11-21T00:00:00\", \"2018-11-22T00:00:00\", \"2018-11-23T00:00:00\", \"2018-11-24T00:00:00\", \"2018-11-25T00:00:00\", \"2018-11-26T00:00:00\", \"2018-11-27T00:00:00\", \"2018-11-28T00:00:00\", \"2018-11-29T00:00:00\", \"2018-11-30T00:00:00\", \"2018-12-01T00:00:00\", \"2018-12-02T00:00:00\", \"2018-12-03T00:00:00\", \"2018-12-04T00:00:00\", \"2018-12-05T00:00:00\", \"2018-12-06T00:00:00\", \"2018-12-07T00:00:00\", \"2018-12-08T00:00:00\", \"2018-12-09T00:00:00\", \"2018-12-10T00:00:00\", \"2018-12-11T00:00:00\", \"2018-12-12T00:00:00\", \"2018-12-13T00:00:00\", \"2018-12-14T00:00:00\", \"2018-12-15T00:00:00\", \"2018-12-16T00:00:00\", \"2018-12-17T00:00:00\", \"2018-12-18T00:00:00\", \"2018-12-19T00:00:00\", \"2018-12-20T00:00:00\", \"2018-12-21T00:00:00\", \"2018-12-22T00:00:00\", \"2018-12-23T00:00:00\", \"2018-12-24T00:00:00\", \"2018-12-25T00:00:00\", \"2018-12-26T00:00:00\", \"2018-12-27T00:00:00\", \"2018-12-28T00:00:00\", \"2018-12-29T00:00:00\", \"2018-12-30T00:00:00\", \"2018-12-31T00:00:00\", \"2019-01-01T00:00:00\", \"2019-01-02T00:00:00\", \"2019-01-03T00:00:00\", \"2019-01-04T00:00:00\", \"2019-01-05T00:00:00\", \"2019-01-06T00:00:00\", \"2019-01-07T00:00:00\", \"2019-01-08T00:00:00\", \"2019-01-09T00:00:00\", \"2019-01-10T00:00:00\", \"2019-01-11T00:00:00\", \"2019-01-12T00:00:00\", \"2019-01-13T00:00:00\", \"2019-01-14T00:00:00\", \"2019-01-15T00:00:00\", \"2019-01-16T00:00:00\", \"2019-01-17T00:00:00\", \"2019-01-18T00:00:00\", \"2019-01-19T00:00:00\", \"2019-01-20T00:00:00\", \"2019-01-21T00:00:00\", \"2019-01-22T00:00:00\", \"2019-01-23T00:00:00\", \"2019-01-24T00:00:00\", \"2019-01-25T00:00:00\", \"2019-01-26T00:00:00\", \"2019-01-27T00:00:00\", \"2019-01-28T00:00:00\", \"2019-01-29T00:00:00\", \"2019-01-30T00:00:00\", \"2019-01-31T00:00:00\", \"2019-02-01T00:00:00\", \"2019-02-02T00:00:00\", \"2019-02-03T00:00:00\", \"2019-02-04T00:00:00\", \"2019-02-05T00:00:00\", \"2019-02-06T00:00:00\", \"2019-02-07T00:00:00\", \"2019-02-08T00:00:00\", \"2019-02-09T00:00:00\", \"2019-02-10T00:00:00\", \"2019-02-11T00:00:00\", \"2019-02-12T00:00:00\", \"2019-02-13T00:00:00\", \"2019-02-14T00:00:00\", \"2019-02-15T00:00:00\", \"2019-02-16T00:00:00\", \"2019-02-17T00:00:00\", \"2019-02-18T00:00:00\", \"2019-02-19T00:00:00\", \"2019-02-20T00:00:00\", \"2019-02-21T00:00:00\", \"2019-02-22T00:00:00\", \"2019-02-23T00:00:00\", \"2019-02-24T00:00:00\", \"2019-02-25T00:00:00\", \"2019-02-26T00:00:00\", \"2019-02-27T00:00:00\", \"2019-02-28T00:00:00\", \"2019-03-01T00:00:00\", \"2019-03-02T00:00:00\", \"2019-03-03T00:00:00\", \"2019-03-04T00:00:00\", \"2019-03-05T00:00:00\", \"2019-03-06T00:00:00\", \"2019-03-07T00:00:00\", \"2019-03-08T00:00:00\", \"2019-03-09T00:00:00\", \"2019-03-10T00:00:00\", \"2019-03-11T00:00:00\", \"2019-03-12T00:00:00\", \"2019-03-13T00:00:00\", \"2019-03-14T00:00:00\", \"2019-03-15T00:00:00\", \"2019-03-16T00:00:00\", \"2019-03-17T00:00:00\", \"2019-03-18T00:00:00\", \"2019-03-19T00:00:00\", \"2019-03-20T00:00:00\", \"2019-03-21T00:00:00\", \"2019-03-22T00:00:00\", \"2019-03-23T00:00:00\", \"2019-03-24T00:00:00\", \"2019-03-25T00:00:00\", \"2019-03-26T00:00:00\", \"2019-03-27T00:00:00\", \"2019-03-28T00:00:00\", \"2019-03-29T00:00:00\", \"2019-03-30T00:00:00\", \"2019-03-31T00:00:00\", \"2019-04-01T00:00:00\", \"2019-04-02T00:00:00\", \"2019-04-03T00:00:00\", \"2019-04-04T00:00:00\", \"2019-04-05T00:00:00\", \"2019-04-06T00:00:00\", \"2019-04-07T00:00:00\", \"2019-04-08T00:00:00\", \"2019-04-09T00:00:00\", \"2019-04-10T00:00:00\", \"2019-04-11T00:00:00\", \"2019-04-12T00:00:00\", \"2019-04-13T00:00:00\", \"2019-04-14T00:00:00\", \"2019-04-15T00:00:00\", \"2019-04-16T00:00:00\", \"2019-04-17T00:00:00\", \"2019-04-18T00:00:00\", \"2019-04-19T00:00:00\", \"2019-04-20T00:00:00\", \"2019-04-21T00:00:00\", \"2019-04-22T00:00:00\", \"2019-04-23T00:00:00\", \"2019-04-24T00:00:00\", \"2019-04-25T00:00:00\", \"2019-04-26T00:00:00\", \"2019-04-27T00:00:00\", \"2019-04-28T00:00:00\", \"2019-04-29T00:00:00\", \"2019-04-30T00:00:00\", \"2019-05-01T00:00:00\", \"2019-05-02T00:00:00\", \"2019-05-03T00:00:00\", \"2019-05-04T00:00:00\", \"2019-05-05T00:00:00\", \"2019-05-06T00:00:00\", \"2019-05-07T00:00:00\", \"2019-05-08T00:00:00\", \"2019-05-09T00:00:00\", \"2019-05-10T00:00:00\", \"2019-05-11T00:00:00\", \"2019-05-12T00:00:00\", \"2019-05-13T00:00:00\", \"2019-05-14T00:00:00\", \"2019-05-15T00:00:00\", \"2019-05-16T00:00:00\", \"2019-05-17T00:00:00\", \"2019-05-18T00:00:00\", \"2019-05-19T00:00:00\", \"2019-05-20T00:00:00\", \"2019-05-21T00:00:00\", \"2019-05-22T00:00:00\", \"2019-05-23T00:00:00\", \"2019-05-24T00:00:00\", \"2019-05-25T00:00:00\", \"2019-05-26T00:00:00\", \"2019-05-27T00:00:00\", \"2019-05-28T00:00:00\", \"2019-05-29T00:00:00\", \"2019-05-30T00:00:00\", \"2019-05-31T00:00:00\", \"2019-06-01T00:00:00\", \"2019-06-02T00:00:00\", \"2019-06-03T00:00:00\", \"2019-06-04T00:00:00\", \"2019-06-05T00:00:00\", \"2019-06-06T00:00:00\", \"2019-06-07T00:00:00\", \"2019-06-08T00:00:00\", \"2019-06-09T00:00:00\", \"2019-06-10T00:00:00\", \"2019-06-11T00:00:00\", \"2019-06-12T00:00:00\", \"2019-06-13T00:00:00\", \"2019-06-14T00:00:00\", \"2019-06-15T00:00:00\", \"2019-06-16T00:00:00\", \"2019-06-17T00:00:00\", \"2019-06-18T00:00:00\", \"2019-06-19T00:00:00\", \"2019-06-20T00:00:00\", \"2019-06-21T00:00:00\", \"2019-06-22T00:00:00\", \"2019-06-23T00:00:00\", \"2019-06-24T00:00:00\", \"2019-06-25T00:00:00\", \"2019-06-26T00:00:00\", \"2019-06-27T00:00:00\", \"2019-06-28T00:00:00\", \"2019-06-29T00:00:00\", \"2019-06-30T00:00:00\", \"2019-07-01T00:00:00\", \"2019-07-02T00:00:00\", \"2019-07-03T00:00:00\", \"2019-07-04T00:00:00\", \"2019-07-05T00:00:00\", \"2019-07-06T00:00:00\", \"2019-07-07T00:00:00\", \"2019-07-08T00:00:00\", \"2019-07-09T00:00:00\", \"2019-07-10T00:00:00\", \"2019-07-11T00:00:00\", \"2019-07-12T00:00:00\", \"2019-07-13T00:00:00\", \"2019-07-14T00:00:00\", \"2019-07-15T00:00:00\", \"2019-07-16T00:00:00\", \"2019-07-17T00:00:00\", \"2019-07-18T00:00:00\", \"2019-07-19T00:00:00\", \"2019-07-20T00:00:00\", \"2019-07-21T00:00:00\", \"2019-07-22T00:00:00\", \"2019-07-23T00:00:00\", \"2019-07-24T00:00:00\", \"2019-07-25T00:00:00\", \"2019-07-26T00:00:00\", \"2019-07-27T00:00:00\", \"2019-07-28T00:00:00\", \"2019-07-29T00:00:00\", \"2019-07-30T00:00:00\", \"2019-07-31T00:00:00\", \"2019-08-01T00:00:00\", \"2019-08-02T00:00:00\", \"2019-08-03T00:00:00\", \"2019-08-04T00:00:00\", \"2019-08-05T00:00:00\", \"2019-08-06T00:00:00\", \"2019-08-07T00:00:00\", \"2019-08-08T00:00:00\", \"2019-08-09T00:00:00\", \"2019-08-10T00:00:00\", \"2019-08-11T00:00:00\", \"2019-08-12T00:00:00\", \"2019-08-13T00:00:00\", \"2019-08-14T00:00:00\", \"2019-08-15T00:00:00\", \"2019-08-16T00:00:00\", \"2019-08-17T00:00:00\", \"2019-08-18T00:00:00\", \"2019-08-19T00:00:00\", \"2019-08-20T00:00:00\", \"2019-08-21T00:00:00\", \"2019-08-22T00:00:00\", \"2019-08-23T00:00:00\", \"2019-08-24T00:00:00\", \"2019-08-25T00:00:00\", \"2019-08-26T00:00:00\", \"2019-08-27T00:00:00\", \"2019-08-28T00:00:00\", \"2019-08-29T00:00:00\", \"2019-08-30T00:00:00\", \"2019-08-31T00:00:00\", \"2019-09-01T00:00:00\", \"2019-09-02T00:00:00\", \"2019-09-03T00:00:00\", \"2019-09-04T00:00:00\", \"2019-09-05T00:00:00\", \"2019-09-06T00:00:00\", \"2019-09-07T00:00:00\", \"2019-09-08T00:00:00\", \"2019-09-09T00:00:00\", \"2019-09-10T00:00:00\", \"2019-09-11T00:00:00\", \"2019-09-12T00:00:00\", \"2019-09-13T00:00:00\", \"2019-09-14T00:00:00\", \"2019-09-15T00:00:00\", \"2019-09-16T00:00:00\", \"2019-09-17T00:00:00\", \"2019-09-18T00:00:00\", \"2019-09-19T00:00:00\", \"2019-09-20T00:00:00\", \"2019-09-21T00:00:00\", \"2019-09-22T00:00:00\", \"2019-09-23T00:00:00\", \"2019-09-24T00:00:00\", \"2019-09-25T00:00:00\", \"2019-09-26T00:00:00\", \"2019-09-27T00:00:00\", \"2019-09-28T00:00:00\", \"2019-09-29T00:00:00\", \"2019-09-30T00:00:00\", \"2019-10-01T00:00:00\", \"2019-10-02T00:00:00\", \"2019-10-03T00:00:00\", \"2019-10-04T00:00:00\", \"2019-10-05T00:00:00\", \"2019-10-06T00:00:00\", \"2019-10-07T00:00:00\", \"2019-10-08T00:00:00\", \"2019-10-09T00:00:00\", \"2019-10-10T00:00:00\", \"2019-10-11T00:00:00\", \"2019-10-12T00:00:00\", \"2019-10-13T00:00:00\", \"2019-10-14T00:00:00\", \"2019-10-15T00:00:00\", \"2019-10-16T00:00:00\", \"2019-10-17T00:00:00\", \"2019-10-18T00:00:00\", \"2019-10-19T00:00:00\", \"2019-10-20T00:00:00\", \"2019-10-21T00:00:00\", \"2019-10-22T00:00:00\", \"2019-10-23T00:00:00\", \"2019-10-24T00:00:00\", \"2019-10-25T00:00:00\", \"2019-10-26T00:00:00\", \"2019-10-27T00:00:00\", \"2019-10-28T00:00:00\", \"2019-10-29T00:00:00\", \"2019-10-30T00:00:00\", \"2019-10-31T00:00:00\", \"2019-11-01T00:00:00\", \"2019-11-02T00:00:00\", \"2019-11-03T00:00:00\", \"2019-11-04T00:00:00\", \"2019-11-05T00:00:00\", \"2019-11-06T00:00:00\", \"2019-11-07T00:00:00\", \"2019-11-08T00:00:00\", \"2019-11-09T00:00:00\", \"2019-11-10T00:00:00\", \"2019-11-11T00:00:00\", \"2019-11-12T00:00:00\", \"2019-11-13T00:00:00\", \"2019-11-14T00:00:00\", \"2019-11-15T00:00:00\", \"2019-11-16T00:00:00\", \"2019-11-17T00:00:00\", \"2019-11-18T00:00:00\", \"2019-11-19T00:00:00\", \"2019-11-20T00:00:00\", \"2019-11-21T00:00:00\", \"2019-11-22T00:00:00\", \"2019-11-23T00:00:00\", \"2019-11-24T00:00:00\", \"2019-11-25T00:00:00\", \"2019-11-26T00:00:00\", \"2019-11-27T00:00:00\", \"2019-11-28T00:00:00\", \"2019-11-29T00:00:00\", \"2019-11-30T00:00:00\", \"2019-12-01T00:00:00\", \"2019-12-02T00:00:00\", \"2019-12-03T00:00:00\", \"2019-12-04T00:00:00\", \"2019-12-05T00:00:00\", \"2019-12-06T00:00:00\", \"2019-12-07T00:00:00\", \"2019-12-08T00:00:00\", \"2019-12-09T00:00:00\", \"2019-12-10T00:00:00\", \"2019-12-11T00:00:00\", \"2019-12-12T00:00:00\", \"2019-12-13T00:00:00\", \"2019-12-14T00:00:00\", \"2019-12-15T00:00:00\", \"2019-12-16T00:00:00\", \"2019-12-17T00:00:00\", \"2019-12-18T00:00:00\", \"2019-12-19T00:00:00\", \"2019-12-20T00:00:00\", \"2019-12-21T00:00:00\", \"2019-12-22T00:00:00\", \"2019-12-23T00:00:00\", \"2019-12-24T00:00:00\", \"2019-12-25T00:00:00\", \"2019-12-26T00:00:00\", \"2019-12-27T00:00:00\", \"2019-12-28T00:00:00\", \"2019-12-29T00:00:00\", \"2019-12-30T00:00:00\", \"2019-12-31T00:00:00\", \"2020-01-01T00:00:00\", \"2020-01-02T00:00:00\", \"2020-01-03T00:00:00\", \"2020-01-04T00:00:00\", \"2020-01-05T00:00:00\", \"2020-01-06T00:00:00\", \"2020-01-07T00:00:00\", \"2020-01-08T00:00:00\", \"2020-01-09T00:00:00\", \"2020-01-10T00:00:00\", \"2020-01-11T00:00:00\", \"2020-01-12T00:00:00\", \"2020-01-13T00:00:00\", \"2020-01-14T00:00:00\", \"2020-01-15T00:00:00\", \"2020-01-16T00:00:00\", \"2020-01-17T00:00:00\", \"2020-01-18T00:00:00\", \"2020-01-19T00:00:00\", \"2020-01-20T00:00:00\", \"2020-01-21T00:00:00\", \"2020-01-22T00:00:00\", \"2020-01-23T00:00:00\", \"2020-01-24T00:00:00\", \"2020-01-25T00:00:00\", \"2020-01-26T00:00:00\", \"2020-01-27T00:00:00\", \"2020-01-28T00:00:00\", \"2020-01-29T00:00:00\", \"2020-01-30T00:00:00\", \"2020-01-31T00:00:00\", \"2020-02-01T00:00:00\", \"2020-02-02T00:00:00\", \"2020-02-03T00:00:00\", \"2020-02-04T00:00:00\", \"2020-02-05T00:00:00\", \"2020-02-06T00:00:00\", \"2020-02-07T00:00:00\", \"2020-02-08T00:00:00\", \"2020-02-09T00:00:00\", \"2020-02-10T00:00:00\", \"2020-02-11T00:00:00\", \"2020-02-12T00:00:00\", \"2020-02-13T00:00:00\", \"2020-02-14T00:00:00\", \"2020-02-15T00:00:00\", \"2020-02-16T00:00:00\", \"2020-02-17T00:00:00\", \"2020-02-18T00:00:00\", \"2020-02-19T00:00:00\", \"2020-02-20T00:00:00\", \"2020-02-21T00:00:00\", \"2020-02-22T00:00:00\", \"2020-02-23T00:00:00\", \"2020-02-24T00:00:00\", \"2020-02-25T00:00:00\", \"2020-02-26T00:00:00\", \"2020-02-27T00:00:00\", \"2020-02-28T00:00:00\", \"2020-02-29T00:00:00\", \"2020-03-01T00:00:00\", \"2020-03-02T00:00:00\", \"2020-03-03T00:00:00\", \"2020-03-04T00:00:00\", \"2020-03-05T00:00:00\", \"2020-03-06T00:00:00\", \"2020-03-07T00:00:00\", \"2020-03-08T00:00:00\", \"2020-03-09T00:00:00\", \"2020-03-10T00:00:00\", \"2020-03-11T00:00:00\", \"2020-03-12T00:00:00\", \"2020-03-13T00:00:00\", \"2020-03-14T00:00:00\", \"2020-03-15T00:00:00\", \"2020-03-16T00:00:00\", \"2020-03-17T00:00:00\", \"2020-03-18T00:00:00\", \"2020-03-19T00:00:00\", \"2020-03-20T00:00:00\", \"2020-03-21T00:00:00\", \"2020-03-22T00:00:00\", \"2020-03-23T00:00:00\", \"2020-03-24T00:00:00\", \"2020-03-25T00:00:00\", \"2020-03-26T00:00:00\", \"2020-03-27T00:00:00\", \"2020-03-28T00:00:00\", \"2020-03-29T00:00:00\", \"2020-03-30T00:00:00\", \"2020-03-31T00:00:00\", \"2020-04-01T00:00:00\", \"2020-04-02T00:00:00\", \"2020-04-03T00:00:00\", \"2020-04-04T00:00:00\", \"2020-04-05T00:00:00\", \"2020-04-06T00:00:00\", \"2020-04-07T00:00:00\", \"2020-04-08T00:00:00\", \"2020-04-09T00:00:00\", \"2020-04-10T00:00:00\", \"2020-04-11T00:00:00\", \"2020-04-12T00:00:00\", \"2020-04-13T00:00:00\", \"2020-04-14T00:00:00\", \"2020-04-15T00:00:00\", \"2020-04-16T00:00:00\", \"2020-04-17T00:00:00\", \"2020-04-18T00:00:00\", \"2020-04-19T00:00:00\", \"2020-04-20T00:00:00\", \"2020-04-21T00:00:00\", \"2020-04-22T00:00:00\", \"2020-04-23T00:00:00\", \"2020-04-24T00:00:00\", \"2020-04-25T00:00:00\", \"2020-04-26T00:00:00\", \"2020-04-27T00:00:00\", \"2020-04-28T00:00:00\", \"2020-04-29T00:00:00\", \"2020-04-30T00:00:00\", \"2020-05-01T00:00:00\", \"2020-05-02T00:00:00\", \"2020-05-03T00:00:00\", \"2020-05-04T00:00:00\", \"2020-05-05T00:00:00\", \"2020-05-06T00:00:00\", \"2020-05-07T00:00:00\", \"2020-05-08T00:00:00\", \"2020-05-09T00:00:00\", \"2020-05-10T00:00:00\", \"2020-05-11T00:00:00\", \"2020-05-12T00:00:00\", \"2020-05-13T00:00:00\", \"2020-05-14T00:00:00\", \"2020-05-15T00:00:00\", \"2020-05-16T00:00:00\", \"2020-05-17T00:00:00\", \"2020-05-18T00:00:00\", \"2020-05-19T00:00:00\", \"2020-05-20T00:00:00\", \"2020-05-21T00:00:00\", \"2020-05-22T00:00:00\", \"2020-05-23T00:00:00\", \"2020-05-24T00:00:00\", \"2020-05-25T00:00:00\", \"2020-05-26T00:00:00\", \"2020-05-27T00:00:00\", \"2020-05-28T00:00:00\", \"2020-05-29T00:00:00\", \"2020-05-30T00:00:00\", \"2020-05-31T00:00:00\", \"2020-06-01T00:00:00\", \"2020-06-02T00:00:00\", \"2020-06-03T00:00:00\", \"2020-06-04T00:00:00\", \"2020-06-05T00:00:00\", \"2020-06-06T00:00:00\", \"2020-06-07T00:00:00\", \"2020-06-08T00:00:00\", \"2020-06-09T00:00:00\", \"2020-06-10T00:00:00\", \"2020-06-11T00:00:00\", \"2020-06-12T00:00:00\", \"2020-06-13T00:00:00\", \"2020-06-14T00:00:00\", \"2020-06-15T00:00:00\", \"2020-06-16T00:00:00\", \"2020-06-17T00:00:00\", \"2020-06-18T00:00:00\", \"2020-06-19T00:00:00\", \"2020-06-20T00:00:00\", \"2020-06-21T00:00:00\", \"2020-06-22T00:00:00\", \"2020-06-23T00:00:00\", \"2020-06-24T00:00:00\", \"2020-06-25T00:00:00\", \"2020-06-26T00:00:00\", \"2020-06-27T00:00:00\", \"2020-06-28T00:00:00\", \"2020-06-29T00:00:00\", \"2020-06-30T00:00:00\", \"2020-07-01T00:00:00\", \"2020-07-02T00:00:00\", \"2020-07-03T00:00:00\", \"2020-07-04T00:00:00\", \"2020-07-05T00:00:00\", \"2020-07-06T00:00:00\", \"2020-07-07T00:00:00\", \"2020-07-08T00:00:00\", \"2020-07-09T00:00:00\", \"2020-07-10T00:00:00\", \"2020-07-11T00:00:00\", \"2020-07-12T00:00:00\", \"2020-07-13T00:00:00\", \"2020-07-14T00:00:00\", \"2020-07-15T00:00:00\", \"2020-07-16T00:00:00\", \"2020-07-17T00:00:00\", \"2020-07-18T00:00:00\", \"2020-07-19T00:00:00\", \"2020-07-20T00:00:00\", \"2020-07-21T00:00:00\", \"2020-07-22T00:00:00\", \"2020-07-23T00:00:00\", \"2020-07-24T00:00:00\", \"2020-07-25T00:00:00\", \"2020-07-26T00:00:00\", \"2020-07-27T00:00:00\", \"2020-07-28T00:00:00\", \"2020-07-29T00:00:00\", \"2020-07-30T00:00:00\", \"2020-07-31T00:00:00\", \"2020-08-01T00:00:00\", \"2020-08-02T00:00:00\", \"2020-08-03T00:00:00\", \"2020-08-04T00:00:00\", \"2020-08-05T00:00:00\", \"2020-08-06T00:00:00\", \"2020-08-07T00:00:00\", \"2020-08-08T00:00:00\", \"2020-08-09T00:00:00\", \"2020-08-10T00:00:00\", \"2020-08-11T00:00:00\", \"2020-08-12T00:00:00\", \"2020-08-13T00:00:00\", \"2020-08-14T00:00:00\", \"2020-08-15T00:00:00\", \"2020-08-16T00:00:00\", \"2020-08-17T00:00:00\", \"2020-08-18T00:00:00\", \"2020-08-19T00:00:00\", \"2020-08-20T00:00:00\", \"2020-08-21T00:00:00\", \"2020-08-22T00:00:00\", \"2020-08-23T00:00:00\", \"2020-08-24T00:00:00\", \"2020-08-25T00:00:00\", \"2020-08-26T00:00:00\", \"2020-08-27T00:00:00\", \"2020-08-28T00:00:00\", \"2020-08-29T00:00:00\", \"2020-08-30T00:00:00\", \"2020-08-31T00:00:00\", \"2020-09-01T00:00:00\", \"2020-09-02T00:00:00\", \"2020-09-03T00:00:00\", \"2020-09-04T00:00:00\", \"2020-09-05T00:00:00\", \"2020-09-06T00:00:00\", \"2020-09-07T00:00:00\", \"2020-09-08T00:00:00\", \"2020-09-09T00:00:00\", \"2020-09-10T00:00:00\", \"2020-09-11T00:00:00\", \"2020-09-12T00:00:00\", \"2020-09-13T00:00:00\", \"2020-09-14T00:00:00\", \"2020-09-15T00:00:00\", \"2020-09-16T00:00:00\", \"2020-09-17T00:00:00\", \"2020-09-18T00:00:00\", \"2020-09-19T00:00:00\", \"2020-09-20T00:00:00\", \"2020-09-21T00:00:00\", \"2020-09-22T00:00:00\", \"2020-09-23T00:00:00\", \"2020-09-24T00:00:00\", \"2020-09-25T00:00:00\", \"2020-09-26T00:00:00\", \"2020-09-27T00:00:00\", \"2020-09-28T00:00:00\", \"2020-09-29T00:00:00\", \"2020-09-30T00:00:00\", \"2020-10-01T00:00:00\", \"2020-10-02T00:00:00\", \"2020-10-03T00:00:00\", \"2020-10-04T00:00:00\", \"2020-10-05T00:00:00\", \"2020-10-06T00:00:00\", \"2020-10-07T00:00:00\", \"2020-10-08T00:00:00\", \"2020-10-09T00:00:00\", \"2020-10-10T00:00:00\", \"2020-10-11T00:00:00\", \"2020-10-12T00:00:00\", \"2020-10-13T00:00:00\", \"2020-10-14T00:00:00\", \"2020-10-15T00:00:00\", \"2020-10-16T00:00:00\", \"2020-10-17T00:00:00\", \"2020-10-18T00:00:00\", \"2020-10-19T00:00:00\", \"2020-10-20T00:00:00\", \"2020-10-21T00:00:00\", \"2020-10-22T00:00:00\", \"2020-10-23T00:00:00\", \"2020-10-24T00:00:00\", \"2020-10-25T00:00:00\", \"2020-10-26T00:00:00\", \"2020-10-27T00:00:00\", \"2020-10-28T00:00:00\", \"2020-10-29T00:00:00\", \"2020-10-30T00:00:00\", \"2020-10-31T00:00:00\", \"2020-11-01T00:00:00\", \"2020-11-02T00:00:00\", \"2020-11-03T00:00:00\", \"2020-11-04T00:00:00\", \"2020-11-05T00:00:00\", \"2020-11-06T00:00:00\", \"2020-11-07T00:00:00\", \"2020-11-08T00:00:00\", \"2020-11-09T00:00:00\", \"2020-11-10T00:00:00\", \"2020-11-11T00:00:00\", \"2020-11-12T00:00:00\", \"2020-11-13T00:00:00\", \"2020-11-14T00:00:00\", \"2020-11-15T00:00:00\", \"2020-11-16T00:00:00\", \"2020-11-17T00:00:00\", \"2020-11-18T00:00:00\", \"2020-11-19T00:00:00\", \"2020-11-20T00:00:00\", \"2020-11-21T00:00:00\", \"2020-11-22T00:00:00\", \"2020-11-23T00:00:00\", \"2020-11-24T00:00:00\", \"2020-11-25T00:00:00\", \"2020-11-26T00:00:00\", \"2020-11-27T00:00:00\", \"2020-11-28T00:00:00\", \"2020-11-29T00:00:00\", \"2020-11-30T00:00:00\", \"2020-12-01T00:00:00\", \"2020-12-02T00:00:00\", \"2020-12-03T00:00:00\", \"2020-12-04T00:00:00\", \"2020-12-05T00:00:00\", \"2020-12-06T00:00:00\", \"2020-12-07T00:00:00\", \"2020-12-08T00:00:00\", \"2020-12-09T00:00:00\", \"2020-12-10T00:00:00\", \"2020-12-11T00:00:00\", \"2020-12-12T00:00:00\", \"2020-12-13T00:00:00\", \"2020-12-14T00:00:00\", \"2020-12-15T00:00:00\", \"2020-12-16T00:00:00\", \"2020-12-17T00:00:00\", \"2020-12-18T00:00:00\", \"2020-12-19T00:00:00\", \"2020-12-20T00:00:00\", \"2020-12-21T00:00:00\", \"2020-12-22T00:00:00\", \"2020-12-23T00:00:00\", \"2020-12-24T00:00:00\", \"2020-12-25T00:00:00\", \"2020-12-26T00:00:00\", \"2020-12-27T00:00:00\", \"2020-12-28T00:00:00\", \"2020-12-29T00:00:00\", \"2020-12-30T00:00:00\", \"2020-12-31T00:00:00\", \"2021-01-01T00:00:00\", \"2021-01-02T00:00:00\", \"2021-01-03T00:00:00\", \"2021-01-04T00:00:00\", \"2021-01-05T00:00:00\", \"2021-01-06T00:00:00\", \"2021-01-07T00:00:00\", \"2021-01-08T00:00:00\", \"2021-01-09T00:00:00\", \"2021-01-10T00:00:00\", \"2021-01-11T00:00:00\", \"2021-01-12T00:00:00\", \"2021-01-13T00:00:00\", \"2021-01-14T00:00:00\", \"2021-01-15T00:00:00\", \"2021-01-16T00:00:00\", \"2021-01-17T00:00:00\", \"2021-01-18T00:00:00\", \"2021-01-19T00:00:00\", \"2021-01-20T00:00:00\", \"2021-01-21T00:00:00\", \"2021-01-22T00:00:00\", \"2021-01-23T00:00:00\", \"2021-01-24T00:00:00\", \"2021-01-25T00:00:00\", \"2021-01-26T00:00:00\", \"2021-01-27T00:00:00\", \"2021-01-28T00:00:00\", \"2021-01-29T00:00:00\", \"2021-01-30T00:00:00\", \"2021-01-31T00:00:00\", \"2021-02-01T00:00:00\", \"2021-02-02T00:00:00\", \"2021-02-03T00:00:00\", \"2021-02-04T00:00:00\", \"2021-02-05T00:00:00\", \"2021-02-06T00:00:00\", \"2021-02-07T00:00:00\", \"2021-02-08T00:00:00\", \"2021-02-09T00:00:00\", \"2021-02-10T00:00:00\", \"2021-02-11T00:00:00\", \"2021-02-12T00:00:00\", \"2021-02-13T00:00:00\", \"2021-02-14T00:00:00\", \"2021-02-15T00:00:00\", \"2021-02-16T00:00:00\", \"2021-02-17T00:00:00\", \"2021-02-18T00:00:00\", \"2021-02-19T00:00:00\", \"2021-02-20T00:00:00\", \"2021-02-21T00:00:00\", \"2021-02-22T00:00:00\", \"2021-02-23T00:00:00\", \"2021-02-24T00:00:00\", \"2021-02-25T00:00:00\", \"2021-02-26T00:00:00\", \"2021-02-27T00:00:00\", \"2021-02-28T00:00:00\", \"2021-03-01T00:00:00\", \"2021-03-02T00:00:00\", \"2021-03-03T00:00:00\", \"2021-03-04T00:00:00\", \"2021-03-05T00:00:00\", \"2021-03-06T00:00:00\", \"2021-03-07T00:00:00\", \"2021-03-08T00:00:00\", \"2021-03-09T00:00:00\", \"2021-03-10T00:00:00\", \"2021-03-11T00:00:00\", \"2021-03-12T00:00:00\", \"2021-03-13T00:00:00\", \"2021-03-14T00:00:00\", \"2021-03-15T00:00:00\", \"2021-03-16T00:00:00\", \"2021-03-17T00:00:00\", \"2021-03-18T00:00:00\", \"2021-03-19T00:00:00\", \"2021-03-20T00:00:00\", \"2021-03-21T00:00:00\", \"2021-03-22T00:00:00\", \"2021-03-23T00:00:00\", \"2021-03-24T00:00:00\", \"2021-03-25T00:00:00\", \"2021-03-26T00:00:00\", \"2021-03-27T00:00:00\", \"2021-03-28T00:00:00\", \"2021-03-29T00:00:00\", \"2021-03-30T00:00:00\", \"2021-03-31T00:00:00\", \"2021-04-01T00:00:00\", \"2021-04-02T00:00:00\", \"2021-04-03T00:00:00\", \"2021-04-04T00:00:00\", \"2021-04-05T00:00:00\", \"2021-04-06T00:00:00\", \"2021-04-07T00:00:00\", \"2021-04-08T00:00:00\", \"2021-04-09T00:00:00\", \"2021-04-10T00:00:00\", \"2021-04-11T00:00:00\", \"2021-04-12T00:00:00\", \"2021-04-13T00:00:00\", \"2021-04-14T00:00:00\", \"2021-04-15T00:00:00\", \"2021-04-16T00:00:00\", \"2021-04-17T00:00:00\", \"2021-04-18T00:00:00\", \"2021-04-19T00:00:00\", \"2021-04-20T00:00:00\", \"2021-04-21T00:00:00\", \"2021-04-22T00:00:00\", \"2021-04-23T00:00:00\", \"2021-04-24T00:00:00\", \"2021-04-25T00:00:00\", \"2021-04-26T00:00:00\", \"2021-04-27T00:00:00\", \"2021-04-28T00:00:00\", \"2021-04-29T00:00:00\", \"2021-04-30T00:00:00\", \"2021-05-01T00:00:00\", \"2021-05-02T00:00:00\", \"2021-05-03T00:00:00\", \"2021-05-04T00:00:00\", \"2021-05-05T00:00:00\", \"2021-05-06T00:00:00\", \"2021-05-07T00:00:00\", \"2021-05-08T00:00:00\", \"2021-05-09T00:00:00\", \"2021-05-10T00:00:00\", \"2021-05-11T00:00:00\", \"2021-05-12T00:00:00\", \"2021-05-13T00:00:00\", \"2021-05-14T00:00:00\", \"2021-05-15T00:00:00\", \"2021-05-16T00:00:00\", \"2021-05-17T00:00:00\", \"2021-05-18T00:00:00\", \"2021-05-19T00:00:00\", \"2021-05-20T00:00:00\", \"2021-05-21T00:00:00\", \"2021-05-22T00:00:00\", \"2021-05-23T00:00:00\", \"2021-05-24T00:00:00\", \"2021-05-25T00:00:00\", \"2021-05-26T00:00:00\", \"2021-05-27T00:00:00\", \"2021-05-28T00:00:00\", \"2021-05-29T00:00:00\", \"2021-05-30T00:00:00\", \"2021-05-31T00:00:00\", \"2021-06-01T00:00:00\", \"2021-06-02T00:00:00\", \"2021-06-03T00:00:00\", \"2021-06-04T00:00:00\", \"2021-06-05T00:00:00\", \"2021-06-06T00:00:00\", \"2021-06-07T00:00:00\", \"2021-06-08T00:00:00\", \"2021-06-09T00:00:00\", \"2021-06-10T00:00:00\", \"2021-06-11T00:00:00\", \"2021-06-12T00:00:00\", \"2021-06-13T00:00:00\", \"2021-06-14T00:00:00\", \"2021-06-15T00:00:00\", \"2021-06-16T00:00:00\", \"2021-06-17T00:00:00\", \"2021-06-18T00:00:00\", \"2021-06-19T00:00:00\", \"2021-06-20T00:00:00\", \"2021-06-21T00:00:00\", \"2021-06-22T00:00:00\", \"2021-06-23T00:00:00\", \"2021-06-24T00:00:00\", \"2021-06-25T00:00:00\", \"2021-06-26T00:00:00\", \"2021-06-27T00:00:00\", \"2021-06-28T00:00:00\", \"2021-06-29T00:00:00\", \"2021-06-30T00:00:00\", \"2021-07-01T00:00:00\", \"2021-07-02T00:00:00\", \"2021-07-03T00:00:00\", \"2021-07-04T00:00:00\", \"2021-07-05T00:00:00\", \"2021-07-06T00:00:00\", \"2021-07-07T00:00:00\", \"2021-07-08T00:00:00\", \"2021-07-09T00:00:00\", \"2021-07-10T00:00:00\", \"2021-07-11T00:00:00\", \"2021-07-12T00:00:00\", \"2021-07-13T00:00:00\", \"2021-07-14T00:00:00\", \"2021-07-15T00:00:00\", \"2021-07-16T00:00:00\", \"2021-07-17T00:00:00\", \"2021-07-18T00:00:00\", \"2021-07-19T00:00:00\", \"2021-07-20T00:00:00\", \"2021-07-21T00:00:00\", \"2021-07-22T00:00:00\", \"2021-07-23T00:00:00\", \"2021-07-24T00:00:00\", \"2021-07-25T00:00:00\", \"2021-07-26T00:00:00\", \"2021-07-27T00:00:00\", \"2021-07-28T00:00:00\", \"2021-07-29T00:00:00\", \"2021-07-30T00:00:00\", \"2021-07-31T00:00:00\", \"2021-08-01T00:00:00\", \"2021-08-02T00:00:00\", \"2021-08-03T00:00:00\", \"2021-08-04T00:00:00\", \"2021-08-05T00:00:00\", \"2021-08-06T00:00:00\", \"2021-08-07T00:00:00\", \"2021-08-08T00:00:00\", \"2021-08-09T00:00:00\", \"2021-08-10T00:00:00\", \"2021-08-11T00:00:00\", \"2021-08-12T00:00:00\", \"2021-08-13T00:00:00\", \"2021-08-14T00:00:00\", \"2021-08-15T00:00:00\", \"2021-08-16T00:00:00\", \"2021-08-17T00:00:00\", \"2021-08-18T00:00:00\", \"2021-08-19T00:00:00\", \"2021-08-20T00:00:00\", \"2021-08-21T00:00:00\", \"2021-08-22T00:00:00\", \"2021-08-23T00:00:00\", \"2021-08-24T00:00:00\", \"2021-08-25T00:00:00\", \"2021-08-26T00:00:00\", \"2021-08-27T00:00:00\", \"2021-08-28T00:00:00\", \"2021-08-29T00:00:00\", \"2021-08-30T00:00:00\", \"2021-08-31T00:00:00\", \"2021-09-01T00:00:00\", \"2021-09-02T00:00:00\", \"2021-09-03T00:00:00\", \"2021-09-04T00:00:00\", \"2021-09-05T00:00:00\", \"2021-09-06T00:00:00\", \"2021-09-07T00:00:00\", \"2021-09-08T00:00:00\", \"2021-09-09T00:00:00\", \"2021-09-10T00:00:00\", \"2021-09-11T00:00:00\", \"2021-09-12T00:00:00\", \"2021-09-13T00:00:00\", \"2021-09-14T00:00:00\", \"2021-09-15T00:00:00\", \"2021-09-16T00:00:00\", \"2021-09-17T00:00:00\", \"2021-09-18T00:00:00\", \"2021-09-19T00:00:00\", \"2021-09-20T00:00:00\", \"2021-09-21T00:00:00\", \"2021-09-22T00:00:00\", \"2021-09-23T00:00:00\", \"2021-09-24T00:00:00\", \"2021-09-25T00:00:00\", \"2021-09-26T00:00:00\", \"2021-09-27T00:00:00\", \"2021-09-28T00:00:00\", \"2021-09-29T00:00:00\", \"2021-09-30T00:00:00\", \"2021-10-01T00:00:00\", \"2021-10-02T00:00:00\", \"2021-10-03T00:00:00\", \"2021-10-04T00:00:00\", \"2021-10-05T00:00:00\", \"2021-10-06T00:00:00\", \"2021-10-07T00:00:00\", \"2021-10-08T00:00:00\", \"2021-10-09T00:00:00\", \"2021-10-10T00:00:00\", \"2021-10-11T00:00:00\", \"2021-10-12T00:00:00\", \"2021-10-13T00:00:00\", \"2021-10-14T00:00:00\", \"2021-10-15T00:00:00\", \"2021-10-16T00:00:00\", \"2021-10-17T00:00:00\", \"2021-10-18T00:00:00\", \"2021-10-19T00:00:00\", \"2021-10-20T00:00:00\", \"2021-10-21T00:00:00\", \"2021-10-22T00:00:00\", \"2021-10-23T00:00:00\", \"2021-10-24T00:00:00\", \"2021-10-25T00:00:00\"], \"y\": [9917.995999999992, 9475.678499999995, 9862.684999999992, 8928.114999999998, 7201.940999999997, 8392.196000000002, 8301.695999999998, 8937.3195, 9315.036500000004, 9216.751999999997, 8821.828999999996, 9635.144499999997, 9319.208499999995, 10186.943000000012, 10845.5275, 10941.7405, 12081.743999999988, 11230.454000000005, 12126.176999999985, 12751.102499999997, 11451.445999999989, 10704.577999999998, 10907.136500000004, 10497.099499999984, 10285.468499999995, 10955.723499999998, 11552.203999999992, 11207.938999999998, 11899.768499999998, 12349.71549999999, 12617.325999999995, 12651.432499999995, 12547.631499999994, 11734.266999999993, 10601.960999999994, 9437.26199999998, 9428.705999999995, 8835.041499999994, 9688.146499999995, 9267.125500000015, 9146.832500000024, 8260.717499999999, 8185.311000000001, 8304.987500000003, 7999.897499999993, 8115.9845000000005, 8529.732999999995, 8897.053499999998, 8924.209, 8720.219000000008, 8903.578499999998, 8556.619999999997, 8495.663499999997, 8191.021499999999, 7948.817999999998, 7941.767999999994, 7140.267499999998, 6868.795499999992, 6884.885999999993, 6822.977499999991, 7029.0109999999995, 7405.1705, 6867.136499999996, 6819.800999999994, 6705.516999999993, 6860.063999999995, 7017.777500000002, 6807.252499999993, 6859.009499999995, 6895.554999999996, 7815.669000000003, 7960.134999999996, 7991.6979999999985, 8322.985, 8126.0745, 7977.690499999996, 8308.6655, 8444.712999999998, 9012.846, 9020.9325, 8915.647000000004, 9024.5655, 9901.066499999984, 8920.626499999998, 9372.977999999996, 9028.6225, 9451.558499999992, 9489.69149999999, 9244.130999999992, 9089.985500000015, 9344.331499999997, 10544.390999999989, 10487.266999999985, 10651.451999999992, 10349.187499999982, 10021.662499999986, 9938.389, 9926.245999999992, 9273.107500000018, 8458.065500000002, 8439.959499999999, 8890.7045, 8888.738500000003, 8616.299000000003, 8469.050000000003, 8153.604, 8283.301, 8348.599000000002, 8629.016499999998, 8564.0125, 8101.414499999997, 7569.699499999999, 7542.584499999997, 7507.434999999999, 7373.387, 7391.1225, 7106.695, 7479.150499999998, 7402.34, 7508.233499999998, 7524.586499999998, 7686.611500000002, 7763.757500000003, 7539.993999999999, 7621.556, 7671.615499999999, 7743.155000000003, 7622.403499999998, 7537.769999999998, 6828.702999999991, 6865.271499999994, 6590.833999999994, 6395.273499999997, 6630.260999999993, 6494.295499999996, 6506.045999999994, 6538.9414999999935, 6720.064499999995, 6767.988999999994, 6760.809999999993, 6762.885499999995, 6336.509499999995, 6293.450999999993, 6294.340999999993, 6340.247499999993, 6285.494499999993, 6297.797999999993, 6202.7124999999905, 6341.461499999993, 6458.072499999996, 6464.5674999999965, 6658.135999999996, 6580.136999999993, 6715.115999999993, 6693.648499999992, 6719.345499999993, 6784.737499999992, 6749.261499999994, 6727.600499999993, 6419.516999999995, 6461.497999999997, 6319.754499999995, 6317.459499999996, 6302.473999999995, 6421.958999999994, 6729.328499999992, 7323.876500000001, 7363.9075, 7502.343999999999, 7355.593000000001, 7383.423000000001, 7397.2395, 7722.6765000000005, 8363.5265, 8223.720500000001, 8024.212999999996, 8182.4375, 8228.1425, 8232.091499999999, 8191.049499999999, 7892.939999999999, 7613.365999999997, 7548.594499999994, 7404.416499999999, 6999.789500000002, 7012.385000000001, 6894.720499999995, 6766.829999999993, 6356.207499999999, 6526.231499999995, 6342.600499999998, 6313.538999999998, 6371.790999999997, 6342.653999999998, 6323.690499999997, 6366.855999999996, 6442.4689999999955, 6666.220499999996, 6526.577999999997, 6547.515499999996, 6419.9074999999975, 6545.206499999997, 6529.502999999998, 6596.103500000001, 6718.951999999995, 6767.666499999993, 6735.712499999998, 6860.329499999997, 7089.817000000002, 7021.170000000001, 6930.636499999998, 7029.145000000003, 7348.813500000003, 7295.426000000002, 7395.524000000005, 7492.718000000001, 6750.272499999997, 6583.234499999996, 6657.029999999995, 6544.977999999995, 6533.0174999999945, 6632.025499999994, 6553.124999999996, 6627.460499999998, 6703.952999999997, 6732.431999999995, 6770.566499999994, 6731.912999999996, 6568.178999999996, 6655.779999999998, 6666.012499999998, 6724.033500000001, 6913.260999999996, 6891.7414999999955, 6888.620999999997, 6839.828999999995, 6718.177999999997, 6731.029499999996, 6846.089999999996, 6838.9689999999955, 6839.020499999997, 6838.424499999996, 6840.619499999995, 6773.053999999995, 6729.937499999996, 6841.833499999995, 6839.711499999996, 6840.215999999995, 6842.273499999997, 6846.993999999997, 6849.510499999997, 6848.442999999996, 6444.283999999999, 6613.158499999996, 6629.684499999995, 6635.216499999997, 6864.9759999999915, 6782.952999999996, 6779.079499999997, 6717.281999999997, 6650.963, 6727.353999999997, 6718.646499999997, 6717.591499999997, 6686.873999999998, 6708.012999999995, 6644.629499999997, 6645.965499999995, 6603.167499999994, 6585.272999999995, 6485.4864999999945, 6444.268999999997, 6447.389999999997, 6503.010999999996, 6571.174999999996, 6502.487999999996, 6561.203999999998, 6585.720999999996, 6601.619999999995, 6704.158999999994, 6596.884499999995, 6568.319999999994, 6576.849499999994, 6555.094499999995, 6580.159999999994, 6582.6384999999955, 6276.857999999995, 6207.432499999993, 6167.455999999995, 6157.969499999995, 6158.551499999994, 5893.207999999997, 5821.275999999996, 5833.447999999996, 5809.776999999994, 5809.3029999999935, 5795.416999999994, 5806.359499999994, 5788.0399999999945, 5787.659999999994, 5876.710999999998, 5895.701999999999, 5848.784999999999, 5907.047999999997, 5922.473499999996, 5850.222499999995, 5865.380499999997, 5814.556499999994, 5809.816499999994, 5813.560499999995, 5810.805999999994, 5867.559999999995, 5811.582999999995, 5811.582999999995, 5809.750499999997, 5782.273499999995, 5795.114499999993, 5767.606999999994, 5767.180499999995, 5946.690499999998, 5973.543999999998, 5976.652999999998, 5982.610499999999, 5972.496999999999, 5978.337999999998, 6004.373999999998, 6006.698999999999, 5987.349499999998, 6000.224499999998, 5978.9254999999985, 6004.5764999999965, 6001.167999999998, 5997.543499999997, 6001.705499999998, 6009.830999999997, 6011.252999999997, 6010.584499999998, 6016.091499999998, 6028.879999999999, 6100.058999999999, 6066.823499999999, 6141.276499999999, 6137.207999999998, 5945.378999999995, 5947.2814999999955, 5911.382499999995, 5906.465999999995, 5988.126499999998, 5943.645999999997, 5976.308999999999, 6006.180499999997, 5997.866499999998, 6022.017499999998, 5968.005999999997, 5952.334499999997, 5962.353499999997, 6011.651999999998, 6015.857499999999, 6012.018499999998, 6016.180999999998, 5978.934999999997, 5868.657499999996, 5833.153499999995, 5882.497499999998, 5839.845999999998, 5882.3889999999965, 5978.893499999998, 5964.902999999998, 5975.421999999999, 5981.460499999999, 5601.323999999996, 5601.416499999995, 6144.025499999996, 6139.964999999996, 6151.814999999995, 6139.5364999999965, 6145.791499999996, 6141.300999999998, 6141.248499999998, 6136.680499999997, 6140.070499999996, 6176.733499999997, 6174.724499999995, 6176.7949999999955, 6179.109499999995, 6180.113499999996, 6184.3929999999955, 6179.148499999995, 6150.406499999995, 6165.764499999996, 6153.113999999997, 6180.921999999996, 6181.180999999995, 6192.443999999996, 6198.975499999992, 6173.297499999994, 6113.217499999992, 6192.969499999994, 6207.239999999994, 6202.370499999994, 6205.717499999993, 6210.284499999993, 6209.640999999992, 6215.371499999995, 6227.6244999999935, 6221.899999999994, 6222.307499999995, 6226.191499999994, 6228.3654999999935, 6219.664999999993, 6225.215499999994, 6227.043499999994, 6208.527499999994, 6199.413499999994, 6198.594499999996, 6200.315499999994, 6197.839999999994, 6186.283499999996, 6188.058999999996, 6226.992499999996, 6223.285499999995, 6224.6064999999935, 6223.231999999994, 6222.256499999994, 6225.441999999995, 6216.873499999994, 6216.4999999999945, 6222.760999999994, 6222.042999999994, 6221.320999999993, 6224.207999999993, 6228.526499999994, 6229.806999999995, 6238.626499999995, 6229.258499999994, 6231.190499999994, 6225.103499999994, 6222.779999999994, 6226.769499999995, 6233.439499999995, 6231.687999999994, 6258.238499999994, 6260.055999999994, 6255.123999999993, 6268.147999999995, 6266.482999999995, 6270.357999999994, 6250.008499999994, 6240.659499999995, 6233.979499999994, 6243.520999999995, 6244.149999999994, 6210.935999999994, 6245.693999999993, 6252.794499999994, 6231.779999999992, 6260.096999999991, 6254.631499999991, 6257.329999999992, 6263.873999999991, 6269.91799999999, 6273.478999999988, 6348.05699999999, 6439.741499999991, 7126.473000000003, 6910.013499999994, 7763.940000000005, 8057.583, 8169.125, 7984.0825, 7369.693, 7246.714500000005, 8082.188000000002, 7950.954500000001, 7943.554499999998, 7744.929499999998, 7815.603500000003, 7955.7564999999995, 8013.879000000002, 8523.751499999995, 8759.034000000009, 8722.151000000007, 8626.411499999993, 8336.104999999998, 8535.281499999996, 8559.158999999994, 8709.787000000004, 8208.761, 7781.375000000001, 7807.134499999999, 7780.553999999999, 7923.135499999997, 7910.354499999994, 7671.53, 7932.4275, 7899.692499999991, 8129.2325, 8172.237000000001, 8577.581999999995, 8811.847000000007, 8973.319000000003, 9298.514999999998, 9067.003000000006, 9241.657999999996, 9522.393499999993, 10110.751499999998, 10817.864999999993, 11127.0945, 11233.230999999982, 12055.049, 12973.793499999985, 12270.208499999992, 12636.23699999999, 12643.517999999987, 11687.982499999991, 10924.68449999999, 11144.817999999992, 12418.382499999996, 12121.77249999999, 11870.446999999995, 12105.763999999994, 12172.845499999989, 12657.068999999987, 12926.15299999998, 12690.368999999988, 12059.171499999997, 12241.105499999989, 11823.604499999994, 10289.629000000004, 11020.482499999998, 9645.144499999988, 9597.46499999999, 9596.918999999987, 9596.776499999987, 9597.285499999987, 10678.575999999986, 10734.799499999986, 9933.598500000002, 9786.17549999999, 9911.946499999995, 9828.686999999989, 9475.16500000001, 9535.360999999994, 9521.1055, 9596.143999999987, 10116.123499999998, 10355.855499999998, 10571.753999999983, 10896.8375, 11027.151500000002, 11925.794500000009, 11620.176499999994, 12021.713000000007, 12077.037500000002, 12088.12750000001, 11472.5865, 11605.251499999995, 11458.478999999992, 11095.921, 10140.297000000002, 10326.339999999991, 10342.534499999992, 10241.656000000003, 10343.633499999994, 10940.218999999997, 10812.206999999993, 10169.231000000005, 10145.655000000002, 10366.751999999997, 10156.792000000001, 10157.502000000002, 10380.899499999998, 10220.426500000003, 9769.211499999987, 9481.694000000014, 9595.186499999989, 9596.605999999989, 9730.598499999987, 10338.861999999992, 10658.288999999982, 10617.087499999981, 10625.31149999998, 10388.33499999999, 10457.02599999999, 10412.463999999994, 10348.380499999992, 10150.876500000002, 10154.5865, 10396.837999999996, 10357.61999999999, 10369.738499999985, 10369.841999999988, 10245.742499999995, 10233.623, 10165.100500000004, 10216.931999999993, 10175.536500000006, 9978.144999999993, 9968.20699999999, 9726.70949999998, 8439.029499999999, 8458.283500000001, 8065.880499999997, 8157.529499999999, 8168.2825, 8069.792999999997, 8231.374500000002, 8351.808, 8341.779, 8211.0265, 8149.360500000001, 8110.390500000003, 7913.573499999998, 8161.284999999999, 8193.9005, 8493.859000000002, 8542.361, 8302.049500000001, 8357.572, 8317.8575, 8377.015500000001, 8193.483499999998, 8021.084499999998, 7999.8695, 7957.166999999995, 7926.985999999996, 8165.080999999998, 8195.539999999999, 8058.4095, 7536.753999999999, 7405.636499999999, 8434.912999999999, 9232.216499999991, 9522.895499999993, 9206.453999999992, 9412.905999999999, 9161.300000000001, 9137.72150000002, 9231.214499999993, 9292.269999999991, 9197.702499999994, 9387.37149999999, 9319.963499999993, 9338.032, 9210.737499999992, 8785.891000000001, 8828.012000000004, 9030.393500000011, 8717.851000000008, 8811.954500000003, 8783.1955, 8615.014499999996, 8490.303500000002, 8519.545999999998, 8524.819499999998, 8195.0, 8131.0, 8085.0, 7618.5, 7232.5, 7295.0, 6870.0, 7086.0, 7143.0, 7450.0, 7415.5, 7725.0, 7540.0, 7382.0, 7290.0, 7280.0, 7196.5, 7378.0, 7504.0, 7484.5, 7491.5, 7342.0, 7220.5, 7200.0, 7184.5, 7246.0, 7080.0, 7110.5, 6893.0, 6612.5, 7268.0, 7135.5, 7167.5, 7125.0, 7461.0, 7320.5, 7254.5, 7195.0, 7204.0, 7236.5, 7298.5, 7380.0, 7238.5, 7190.0, 7198.0, 6962.0, 7330.0, 7339.0, 7350.0, 7753.0, 8143.0, 8040.0, 7811.5, 8190.0, 8024.5, 8166.0, 8100.5, 8833.5, 8814.0, 8721.5, 8912.0, 8911.0, 8705.5, 8646.0, 8733.0, 8679.5, 8413.0, 8438.5, 8345.0, 8598.5, 8908.0, 9386.5, 9308.5, 9509.0, 9355.0, 9384.5, 9337.5, 9308.0, 9198.5, 9633.0, 9773.0, 9819.7, 9898.7, 10164.4, 9866.6, 10239.7, 10341.9, 10256.4, 10347.0, 9928.7, 9935.0, 9719.9, 10164.6, 9609.1, 9611.9, 9683.7, 9664.0, 9946.4, 9674.7, 9334.9, 8790.4, 8820.4, 8701.1, 8544.0, 8550.4, 8911.0, 8764.8, 8763.5, 9064.6, 9136.8, 8897.9, 8038.0, 7934.1, 7893.4, 7934.4, 4774.7, 5576.7, 5173.3, 5351.1, 5019.7, 5312.9, 5385.3, 6166.4, 6203.4, 6190.0, 5823.2, 6464.7, 6735.2, 6670.6, 6731.9, 6360.9, 6234.2, 5875.6, 6392.6, 6407.3, 6633.4, 6795.7, 6737.7, 6848.3, 6767.4, 7329.0, 7204.3, 7350.0, 7276.3, 6856.0, 6880.0, 6899.9, 6838.1, 6868.2, 6639.1, 7100.0, 7031.3, 7247.8, 7119.2, 6840.2, 6841.9, 7119.9, 7483.9, 7505.0, 7539.2, 7682.6, 7766.1, 7728.0, 8780.8, 8634.4, 8831.3, 8973.0, 8903.0, 8873.0, 9022.0, 9144.5, 9989.9, 9818.0, 9561.7, 8725.1, 8558.1, 8807.3, 9293.6, 9779.9, 9313.9, 9380.0, 9672.7, 9722.7, 9768.0, 9513.6, 9061.7, 9163.2, 9172.9, 8713.2, 8887.1, 8841.1, 9192.0, 9561.9, 9416.9, 9700.0, 9448.6, 10225.4, 9516.2, 9660.0, 9780.0, 9627.7, 9667.9, 9742.1, 9778.5, 9763.4, 9876.3, 9276.2, 9459.9, 9464.6, 9338.4, 9414.0, 9516.3, 9453.6, 9384.4, 9308.5, 9345.9, 9296.9, 9681.2, 9618.2, 9302.3, 9251.0, 9162.9, 9010.1, 9117.1, 9180.0, 9135.1, 9224.9, 9085.6, 9065.6, 9139.3, 9071.0, 9337.1, 9254.2, 9425.1, 9238.9, 9287.2, 9234.3, 9297.9, 9245.0, 9249.3, 9206.5, 9133.1, 9152.3, 9169.1, 9203.7, 9160.4, 9379.2, 9510.2, 9588.9, 9536.5, 9690.0, 9932.5, 11050.0, 10936.5, 11119.9, 11111.5, 11343.7, 11814.6, 11080.0, 11229.4, 11197.0, 11744.1, 11770.0, 11589.9, 11769.8, 11683.7, 11892.0, 11388.1, 11562.9, 11782.9, 11755.9, 11867.1, 11912.1, 12291.2, 11966.7, 11760.0, 11856.8, 11540.1, 11670.1, 11650.0, 11754.5, 11330.0, 11457.2, 11330.6, 11516.7, 11470.0, 11710.4, 11657.9, 11931.8, 11396.8, 10151.3, 10450.8, 10160.0, 10253.8, 10368.0, 10135.0, 10220.6, 10340.6, 10379.5, 10430.5, 10323.7, 10654.2, 10776.9, 10940.1, 10928.0, 10903.1, 11059.9, 10917.8, 10410.1, 10522.9, 10243.3, 10720.0, 10681.7, 10722.2, 10768.0, 10691.2, 10838.0, 10772.8, 10614.5, 10564.4, 10538.9, 10664.9, 10779.0, 10594.9, 10658.8, 10910.4, 11050.9, 11295.8, 11367.9, 11533.3, 11420.4, 11414.2, 11496.8, 11315.6, 11352.0, 11496.6, 11735.9, 11908.0, 12795.0, 12972.9, 12921.8, 13102.2, 13012.8, 13041.8, 13633.0, 13273.9, 13439.9, 13541.3, 13782.5, 13752.8, 13543.9, 14013.3, 14129.3, 15610.3, 15581.6, 14831.9, 15478.5, 15324.0, 15307.4, 15710.0, 16284.7, 16322.4, 16084.5, 15967.2, 16711.0, 17672.9, 17780.0, 17814.9, 18668.8, 18724.3, 18450.5, 18422.2, 19185.3, 18751.0, 17162.8, 17135.5, 17719.9, 18184.9, 19723.1, 18789.1, 19224.6, 19441.4, 18683.6, 19143.9, 19367.5, 19174.8, 18336.1, 18529.0, 18240.9, 18012.9, 18798.7, 19178.3, 19260.7, 19412.1, 21347.5, 22833.3, 23145.5, 23862.6, 23482.3, 22718.7, 23795.7, 23250.0, 23725.9, 24719.4, 26504.0, 26311.8, 27086.8, 27395.3, 28890.1, 28944.0, 29335.0, 32228.9, 33155.0, 32059.9, 34055.9, 36811.0, 39573.3, 40701.7, 40290.1, 38326.0, 35394.8, 34154.1, 37447.7, 39224.2, 36757.5, 36079.3, 35885.6, 36676.8, 35958.0, 35502.6, 30867.3, 33027.4, 32109.1, 32286.9, 32345.0, 32479.9, 30400.3, 33405.8, 34277.1, 34312.7, 33143.4, 33598.0, 35512.1, 37639.3, 37014.3, 38308.7, 39257.3, 38841.3, 46391.0, 46510.0, 44907.7, 48079.7, 47437.2, 47253.3, 48611.7, 48018.0, 49282.1, 52151.0, 51649.0, 56049.4, 55945.2, 57488.1, 54176.5, 48957.5, 49765.3, 47200.3, 46434.9, 46202.7, 45216.0, 49600.1, 48470.9, 50387.2, 48409.5, 48783.2, 48880.0, 51004.1, 52406.1, 54939.2, 55968.7, 57683.0, 57252.3, 61257.7, 59041.7, 55682.1, 56932.4, 58875.0, 57685.0, 58100.0, 58168.8, 57405.0, 54183.1, 54433.8, 52333.5, 51371.0, 55027.6, 55844.0, 55789.0, 57698.5, 58808.8, 58847.3, 58837.2, 59075.5, 57244.7, 58226.8, 59244.9, 58037.5, 56043.9, 58027.6, 58132.6, 59816.2, 60112.5, 59923.0, 63536.9, 63009.9, 63244.3, 61387.5, 60112.4, 56158.6, 55674.6, 56446.9, 53915.9, 51801.0, 51126.4, 50114.5, 49090.0, 54009.0, 55020.6, 54899.3, 53597.0, 57667.3, 57826.1, 56679.9, 57246.0, 53333.5, 57533.6, 56456.1, 57400.2, 58928.0, 58276.4, 55864.7, 56714.7, 49614.1, 49718.5, 49871.4, 46852.6, 46476.0, 43614.2, 42974.8, 36680.3, 40522.7, 37240.8, 37433.5, 34658.2, 38810.0, 38347.0, 39243.8, 38529.1, 35669.9, 34596.1, 35653.4, 37264.0, 36688.4, 37569.5, 39234.3, 36829.8, 35507.4, 35799.3, 33550.1, 33369.9, 37369.9, 36655.5, 37307.5, 35526.0, 39000.2, 40494.4, 40130.0, 38345.1, 38067.7, 35795.2, 35489.5, 35585.4, 31620.2, 32497.5, 33643.1, 34659.1, 31565.6, 32265.3, 34690.9, 34478.5, 35916.9, 35028.8, 33486.9, 33761.7, 34653.1, 35280.1, 33678.1, 34211.4, 33849.0, 32859.6, 33805.2, 33500.1, 34244.1, 33080.0, 32711.5, 32804.2, 31892.3, 31388.1, 31498.0, 31763.5, 30808.0, 29764.8, 32108.8, 32281.4, 33615.5, 34210.6, 35363.4, 37224.0, 39449.3, 39998.1, 40000.0, 42205.8, 41425.8, 39830.8, 39150.0, 38199.8, 39730.0, 40867.4, 42822.8, 44602.5, 43796.9, 46254.2, 45590.6, 45518.4, 44394.2, 47801.6, 47076.3, 47000.0, 45937.1, 44697.5, 44713.2, 46771.6, 49299.3, 48843.8, 49270.8, 49531.8, 47727.4, 48997.9, 46850.1, 49071.1, 48905.6, 48785.0, 47036.7, 47177.8, 48850.2, 49301.4, 50034.4, 49938.5, 51801.7, 52679.3, 46828.0, 46066.2, 46394.1, 44868.2, 45178.8, 46041.5, 44962.4, 47089.4, 48110.1, 47743.2, 47289.0, 48273.1, 47245.4, 43026.6, 40717.9, 43535.9, 44812.6, 42800.0, 42646.9, 43173.8, 42132.8, 41005.8, 41518.1, 43781.9, 48121.3, 47638.7, 48186.2, 49189.3, 51445.7, 55313.8, 53811.8, 53940.2, 54942.3, 54705.4, 57486.5, 56023.0, 57330.6, 57354.6, 61683.0, 60900.0, 61573.8, 62029.7, 64124.8, 66094.5, 62290.7, 60757.6, 61353.6, 60922.0, 60922.0]}],\n",
              "                        {\"height\": 500, \"template\": {\"data\": {\"bar\": [{\"error_x\": {\"color\": \"#2a3f5f\"}, \"error_y\": {\"color\": \"#2a3f5f\"}, \"marker\": {\"line\": {\"color\": \"white\", \"width\": 0.5}}, \"type\": \"bar\"}], \"barpolar\": [{\"marker\": {\"line\": {\"color\": \"white\", \"width\": 0.5}}, \"type\": \"barpolar\"}], \"carpet\": [{\"aaxis\": {\"endlinecolor\": \"#2a3f5f\", \"gridcolor\": \"#C8D4E3\", \"linecolor\": \"#C8D4E3\", \"minorgridcolor\": \"#C8D4E3\", \"startlinecolor\": \"#2a3f5f\"}, \"baxis\": {\"endlinecolor\": \"#2a3f5f\", \"gridcolor\": \"#C8D4E3\", \"linecolor\": \"#C8D4E3\", \"minorgridcolor\": \"#C8D4E3\", \"startlinecolor\": \"#2a3f5f\"}, \"type\": \"carpet\"}], \"choropleth\": [{\"colorbar\": {\"outlinewidth\": 0, \"ticks\": \"\"}, \"type\": \"choropleth\"}], \"contour\": [{\"colorbar\": {\"outlinewidth\": 0, \"ticks\": \"\"}, \"colorscale\": [[0.0, \"#0d0887\"], [0.1111111111111111, \"#46039f\"], [0.2222222222222222, \"#7201a8\"], [0.3333333333333333, \"#9c179e\"], [0.4444444444444444, \"#bd3786\"], [0.5555555555555556, \"#d8576b\"], [0.6666666666666666, \"#ed7953\"], [0.7777777777777778, \"#fb9f3a\"], [0.8888888888888888, \"#fdca26\"], [1.0, \"#f0f921\"]], \"type\": \"contour\"}], \"contourcarpet\": [{\"colorbar\": {\"outlinewidth\": 0, \"ticks\": \"\"}, \"type\": \"contourcarpet\"}], \"heatmap\": [{\"colorbar\": {\"outlinewidth\": 0, \"ticks\": \"\"}, \"colorscale\": [[0.0, \"#0d0887\"], [0.1111111111111111, \"#46039f\"], [0.2222222222222222, \"#7201a8\"], [0.3333333333333333, \"#9c179e\"], [0.4444444444444444, \"#bd3786\"], [0.5555555555555556, \"#d8576b\"], [0.6666666666666666, \"#ed7953\"], [0.7777777777777778, \"#fb9f3a\"], [0.8888888888888888, \"#fdca26\"], [1.0, \"#f0f921\"]], \"type\": \"heatmap\"}], \"heatmapgl\": [{\"colorbar\": {\"outlinewidth\": 0, \"ticks\": \"\"}, \"colorscale\": [[0.0, \"#0d0887\"], [0.1111111111111111, \"#46039f\"], [0.2222222222222222, \"#7201a8\"], [0.3333333333333333, \"#9c179e\"], [0.4444444444444444, \"#bd3786\"], [0.5555555555555556, \"#d8576b\"], [0.6666666666666666, \"#ed7953\"], [0.7777777777777778, \"#fb9f3a\"], [0.8888888888888888, \"#fdca26\"], [1.0, \"#f0f921\"]], \"type\": \"heatmapgl\"}], \"histogram\": [{\"marker\": {\"colorbar\": {\"outlinewidth\": 0, \"ticks\": \"\"}}, \"type\": \"histogram\"}], \"histogram2d\": [{\"colorbar\": {\"outlinewidth\": 0, \"ticks\": \"\"}, \"colorscale\": [[0.0, \"#0d0887\"], [0.1111111111111111, \"#46039f\"], [0.2222222222222222, \"#7201a8\"], [0.3333333333333333, \"#9c179e\"], [0.4444444444444444, \"#bd3786\"], [0.5555555555555556, \"#d8576b\"], [0.6666666666666666, \"#ed7953\"], [0.7777777777777778, \"#fb9f3a\"], [0.8888888888888888, \"#fdca26\"], [1.0, \"#f0f921\"]], \"type\": \"histogram2d\"}], \"histogram2dcontour\": [{\"colorbar\": {\"outlinewidth\": 0, \"ticks\": \"\"}, \"colorscale\": [[0.0, \"#0d0887\"], [0.1111111111111111, \"#46039f\"], [0.2222222222222222, \"#7201a8\"], [0.3333333333333333, \"#9c179e\"], [0.4444444444444444, \"#bd3786\"], [0.5555555555555556, \"#d8576b\"], [0.6666666666666666, \"#ed7953\"], [0.7777777777777778, \"#fb9f3a\"], [0.8888888888888888, \"#fdca26\"], [1.0, \"#f0f921\"]], \"type\": \"histogram2dcontour\"}], \"mesh3d\": [{\"colorbar\": {\"outlinewidth\": 0, \"ticks\": \"\"}, \"type\": \"mesh3d\"}], \"parcoords\": [{\"line\": {\"colorbar\": {\"outlinewidth\": 0, \"ticks\": \"\"}}, \"type\": \"parcoords\"}], \"pie\": [{\"automargin\": true, \"type\": \"pie\"}], \"scatter\": [{\"marker\": {\"colorbar\": {\"outlinewidth\": 0, \"ticks\": \"\"}}, \"type\": \"scatter\"}], \"scatter3d\": [{\"line\": {\"colorbar\": {\"outlinewidth\": 0, \"ticks\": \"\"}}, \"marker\": {\"colorbar\": {\"outlinewidth\": 0, \"ticks\": \"\"}}, \"type\": \"scatter3d\"}], \"scattercarpet\": [{\"marker\": {\"colorbar\": {\"outlinewidth\": 0, \"ticks\": \"\"}}, \"type\": \"scattercarpet\"}], \"scattergeo\": [{\"marker\": {\"colorbar\": {\"outlinewidth\": 0, \"ticks\": \"\"}}, \"type\": \"scattergeo\"}], \"scattergl\": [{\"marker\": {\"colorbar\": {\"outlinewidth\": 0, \"ticks\": \"\"}}, \"type\": \"scattergl\"}], \"scattermapbox\": [{\"marker\": {\"colorbar\": {\"outlinewidth\": 0, \"ticks\": \"\"}}, \"type\": \"scattermapbox\"}], \"scatterpolar\": [{\"marker\": {\"colorbar\": {\"outlinewidth\": 0, \"ticks\": \"\"}}, \"type\": \"scatterpolar\"}], \"scatterpolargl\": [{\"marker\": {\"colorbar\": {\"outlinewidth\": 0, \"ticks\": \"\"}}, \"type\": \"scatterpolargl\"}], \"scatterternary\": [{\"marker\": {\"colorbar\": {\"outlinewidth\": 0, \"ticks\": \"\"}}, \"type\": \"scatterternary\"}], \"surface\": [{\"colorbar\": {\"outlinewidth\": 0, \"ticks\": \"\"}, \"colorscale\": [[0.0, \"#0d0887\"], [0.1111111111111111, \"#46039f\"], [0.2222222222222222, \"#7201a8\"], [0.3333333333333333, \"#9c179e\"], [0.4444444444444444, \"#bd3786\"], [0.5555555555555556, \"#d8576b\"], [0.6666666666666666, \"#ed7953\"], [0.7777777777777778, \"#fb9f3a\"], [0.8888888888888888, \"#fdca26\"], [1.0, \"#f0f921\"]], \"type\": \"surface\"}], \"table\": [{\"cells\": {\"fill\": {\"color\": \"#EBF0F8\"}, \"line\": {\"color\": \"white\"}}, \"header\": {\"fill\": {\"color\": \"#C8D4E3\"}, \"line\": {\"color\": \"white\"}}, \"type\": \"table\"}]}, \"layout\": {\"annotationdefaults\": {\"arrowcolor\": \"#2a3f5f\", \"arrowhead\": 0, \"arrowwidth\": 1}, \"coloraxis\": {\"colorbar\": {\"outlinewidth\": 0, \"ticks\": \"\"}}, \"colorscale\": {\"diverging\": [[0, \"#8e0152\"], [0.1, \"#c51b7d\"], [0.2, \"#de77ae\"], [0.3, \"#f1b6da\"], [0.4, \"#fde0ef\"], [0.5, \"#f7f7f7\"], [0.6, \"#e6f5d0\"], [0.7, \"#b8e186\"], [0.8, \"#7fbc41\"], [0.9, \"#4d9221\"], [1, \"#276419\"]], \"sequential\": [[0.0, \"#0d0887\"], [0.1111111111111111, \"#46039f\"], [0.2222222222222222, \"#7201a8\"], [0.3333333333333333, \"#9c179e\"], [0.4444444444444444, \"#bd3786\"], [0.5555555555555556, \"#d8576b\"], [0.6666666666666666, \"#ed7953\"], [0.7777777777777778, \"#fb9f3a\"], [0.8888888888888888, \"#fdca26\"], [1.0, \"#f0f921\"]], \"sequentialminus\": [[0.0, \"#0d0887\"], [0.1111111111111111, \"#46039f\"], [0.2222222222222222, \"#7201a8\"], [0.3333333333333333, \"#9c179e\"], [0.4444444444444444, \"#bd3786\"], [0.5555555555555556, \"#d8576b\"], [0.6666666666666666, \"#ed7953\"], [0.7777777777777778, \"#fb9f3a\"], [0.8888888888888888, \"#fdca26\"], [1.0, \"#f0f921\"]]}, \"colorway\": [\"#636efa\", \"#EF553B\", \"#00cc96\", \"#ab63fa\", \"#FFA15A\", \"#19d3f3\", \"#FF6692\", \"#B6E880\", \"#FF97FF\", \"#FECB52\"], \"font\": {\"color\": \"#2a3f5f\"}, \"geo\": {\"bgcolor\": \"white\", \"lakecolor\": \"white\", \"landcolor\": \"white\", \"showlakes\": true, \"showland\": true, \"subunitcolor\": \"#C8D4E3\"}, \"hoverlabel\": {\"align\": \"left\"}, \"hovermode\": \"closest\", \"mapbox\": {\"style\": \"light\"}, \"paper_bgcolor\": \"white\", \"plot_bgcolor\": \"white\", \"polar\": {\"angularaxis\": {\"gridcolor\": \"#EBF0F8\", \"linecolor\": \"#EBF0F8\", \"ticks\": \"\"}, \"bgcolor\": \"white\", \"radialaxis\": {\"gridcolor\": \"#EBF0F8\", \"linecolor\": \"#EBF0F8\", \"ticks\": \"\"}}, \"scene\": {\"xaxis\": {\"backgroundcolor\": \"white\", \"gridcolor\": \"#DFE8F3\", \"gridwidth\": 2, \"linecolor\": \"#EBF0F8\", \"showbackground\": true, \"ticks\": \"\", \"zerolinecolor\": \"#EBF0F8\"}, \"yaxis\": {\"backgroundcolor\": \"white\", \"gridcolor\": \"#DFE8F3\", \"gridwidth\": 2, \"linecolor\": \"#EBF0F8\", \"showbackground\": true, \"ticks\": \"\", \"zerolinecolor\": \"#EBF0F8\"}, \"zaxis\": {\"backgroundcolor\": \"white\", \"gridcolor\": \"#DFE8F3\", \"gridwidth\": 2, \"linecolor\": \"#EBF0F8\", \"showbackground\": true, \"ticks\": \"\", \"zerolinecolor\": \"#EBF0F8\"}}, \"shapedefaults\": {\"line\": {\"color\": \"#2a3f5f\"}}, \"ternary\": {\"aaxis\": {\"gridcolor\": \"#DFE8F3\", \"linecolor\": \"#A2B1C6\", \"ticks\": \"\"}, \"baxis\": {\"gridcolor\": \"#DFE8F3\", \"linecolor\": \"#A2B1C6\", \"ticks\": \"\"}, \"bgcolor\": \"white\", \"caxis\": {\"gridcolor\": \"#DFE8F3\", \"linecolor\": \"#A2B1C6\", \"ticks\": \"\"}}, \"title\": {\"x\": 0.05}, \"xaxis\": {\"automargin\": true, \"gridcolor\": \"#EBF0F8\", \"linecolor\": \"#EBF0F8\", \"ticks\": \"\", \"title\": {\"standoff\": 15}, \"zerolinecolor\": \"#EBF0F8\", \"zerolinewidth\": 2}, \"yaxis\": {\"automargin\": true, \"gridcolor\": \"#EBF0F8\", \"linecolor\": \"#EBF0F8\", \"ticks\": \"\", \"title\": {\"standoff\": 15}, \"zerolinecolor\": \"#EBF0F8\", \"zerolinewidth\": 2}}}, \"title\": {\"text\": \"Spot vs Futures close price (corr=0.9992)\"}, \"width\": 700},\n",
              "                        {\"responsive\": true}\n",
              "                    ).then(function(){\n",
              "                            \n",
              "var gd = document.getElementById('de856815-bea6-4a5a-b15b-4161f7d17488');\n",
              "var x = new MutationObserver(function (mutations, observer) {{\n",
              "        var display = window.getComputedStyle(gd).display;\n",
              "        if (!display || display === 'none') {{\n",
              "            console.log([gd, 'removed!']);\n",
              "            Plotly.purge(gd);\n",
              "            observer.disconnect();\n",
              "        }}\n",
              "}});\n",
              "\n",
              "// Listen for the removal of the full notebook cells\n",
              "var notebookContainer = gd.closest('#notebook-container');\n",
              "if (notebookContainer) {{\n",
              "    x.observe(notebookContainer, {childList: true});\n",
              "}}\n",
              "\n",
              "// Listen for the clearing of the current output cell\n",
              "var outputEl = gd.closest('.output');\n",
              "if (outputEl) {{\n",
              "    x.observe(outputEl, {childList: true});\n",
              "}}\n",
              "\n",
              "                        })\n",
              "                };\n",
              "                \n",
              "            </script>\n",
              "        </div>\n",
              "</body>\n",
              "</html>"
            ]
          },
          "metadata": {}
        }
      ]
    }
  ]
}