{
  "nbformat": 4,
  "nbformat_minor": 0,
  "metadata": {
    "colab": {
      "name": "models.ipynb",
      "provenance": [],
      "collapsed_sections": [
        "Y4YnXCmxlALn",
        "2el4dgOclKAx",
        "XistoU0MFgaz"
      ],
      "toc_visible": true,
      "authorship_tag": "ABX9TyNBmt0aWuIbOEnlpmZJqoHt",
      "include_colab_link": true
    },
    "kernelspec": {
      "name": "python3",
      "display_name": "Python 3"
    },
    "language_info": {
      "name": "python"
    },
    "accelerator": "GPU"
  },
  "cells": [
    {
      "cell_type": "markdown",
      "metadata": {
        "id": "view-in-github",
        "colab_type": "text"
      },
      "source": [
        "<a href=\"https://colab.research.google.com/github/kconstable/crypto-ensemble-model-predictions/blob/main/models.ipynb\" target=\"_parent\"><img src=\"https://colab.research.google.com/assets/colab-badge.svg\" alt=\"Open In Colab\"/></a>"
      ]
    },
    {
      "cell_type": "markdown",
      "metadata": {
        "id": "6uO_lG1OeY2k"
      },
      "source": [
        "# Deep Learning LSTM Models\n",
        "This notebook contains code to train the LSTM model.  It takes the data output from the market_data notebook as input to the model.  The data is transformed,scaled and partitioned in preparation for training.  Visualizations are created to evaluate the model training performance.  The model hyper-parameters are optimized. The final output of this notebook are trained and optimized LSTM models"
      ]
    },
    {
      "cell_type": "markdown",
      "metadata": {
        "id": "f73-G2tyedvW"
      },
      "source": [
        "## Import Libraries "
      ]
    },
    {
      "cell_type": "code",
      "metadata": {
        "colab": {
          "base_uri": "https://localhost:8080/"
        },
        "id": "WT4tUzjSeLJg",
        "outputId": "7709e808-8089-4911-a638-19c009a4c79a"
      },
      "source": [
        "# install keras tuner\n",
        "!pip install -q -U keras-tuner"
      ],
      "execution_count": null,
      "outputs": [
        {
          "output_type": "stream",
          "name": "stdout",
          "text": [
            "\u001b[?25l\r\u001b[K     |███▍                            | 10 kB 24.0 MB/s eta 0:00:01\r\u001b[K     |██████▊                         | 20 kB 10.1 MB/s eta 0:00:01\r\u001b[K     |██████████                      | 30 kB 8.5 MB/s eta 0:00:01\r\u001b[K     |█████████████▍                  | 40 kB 7.7 MB/s eta 0:00:01\r\u001b[K     |████████████████▊               | 51 kB 4.2 MB/s eta 0:00:01\r\u001b[K     |████████████████████            | 61 kB 4.4 MB/s eta 0:00:01\r\u001b[K     |███████████████████████▍        | 71 kB 4.6 MB/s eta 0:00:01\r\u001b[K     |██████████████████████████▊     | 81 kB 5.2 MB/s eta 0:00:01\r\u001b[K     |██████████████████████████████▏ | 92 kB 3.9 MB/s eta 0:00:01\r\u001b[K     |████████████████████████████████| 97 kB 2.7 MB/s \n",
            "\u001b[?25h"
          ]
        }
      ]
    },
    {
      "cell_type": "code",
      "metadata": {
        "id": "zlQXV9s_ejre"
      },
      "source": [
        "# deep learning /RNN\n",
        "import tensorflow as tf\n",
        "from keras import backend as K\n",
        "from tensorflow import keras\n",
        "from keras.models import Sequential,backend\n",
        "from keras.layers import LSTM, Dense, Dropout\n",
        "from keras.callbacks import EarlyStopping\n",
        "import keras_tuner as kt\n",
        "from kerastuner.tuners import Hyperband\n",
        "from sklearn.preprocessing import MinMaxScaler\n",
        "from sklearn.metrics import mean_absolute_error, mean_squared_error\n",
        "\n",
        "# stats, data structures and plotting\n",
        "import random as rn\n",
        "import math\n",
        "import numpy as np\n",
        "import pandas as pd\n",
        "import timeit\n",
        "import plotly.graph_objects as go\n",
        "from plotly.subplots import make_subplots\n",
        "from statsmodels.tsa.stattools import adfuller\n",
        "from scipy import stats\n",
        "\n",
        "# File operations\n",
        "import os\n",
        "import pickle\n",
        "from google.colab import files\n",
        "from google.colab import drive\n",
        "drive.mount('/content/drive')\n",
        "\n",
        "\n",
        "# Set Seeds\n",
        "seed = 1985\n",
        "np.random.seed(seed)\n",
        "rn.seed(seed)\n",
        "os.environ['PYTHONHASHSEED']=str(seed)\n",
        "\n",
        "# constants\n",
        "ticker = 'BTC'\n",
        "path = '/content/drive/MyDrive/Colab Notebooks/capstone2/data/'"
      ],
      "execution_count": null,
      "outputs": []
    },
    {
      "cell_type": "code",
      "metadata": {
        "colab": {
          "base_uri": "https://localhost:8080/"
        },
        "id": "8ieTku_se310",
        "outputId": "a0319200-1e11-4a08-9a8c-6e406ced83ec"
      },
      "source": [
        "# check the collab connection\n",
        "gpu_info = !nvidia-smi\n",
        "gpu_info = '\\n'.join(gpu_info)\n",
        "if gpu_info.find('failed') >= 0:\n",
        "  print('Not connected to a GPU')\n",
        "else:\n",
        "  print(gpu_info)"
      ],
      "execution_count": null,
      "outputs": [
        {
          "output_type": "stream",
          "name": "stdout",
          "text": [
            "Wed Nov  3 00:02:09 2021       \n",
            "+-----------------------------------------------------------------------------+\n",
            "| NVIDIA-SMI 495.44       Driver Version: 460.32.03    CUDA Version: 11.2     |\n",
            "|-------------------------------+----------------------+----------------------+\n",
            "| GPU  Name        Persistence-M| Bus-Id        Disp.A | Volatile Uncorr. ECC |\n",
            "| Fan  Temp  Perf  Pwr:Usage/Cap|         Memory-Usage | GPU-Util  Compute M. |\n",
            "|                               |                      |               MIG M. |\n",
            "|===============================+======================+======================|\n",
            "|   0  Tesla P100-PCIE...  Off  | 00000000:00:04.0 Off |                    0 |\n",
            "| N/A   42C    P0    27W / 250W |      0MiB / 16280MiB |      0%      Default |\n",
            "|                               |                      |                  N/A |\n",
            "+-------------------------------+----------------------+----------------------+\n",
            "                                                                               \n",
            "+-----------------------------------------------------------------------------+\n",
            "| Processes:                                                                  |\n",
            "|  GPU   GI   CI        PID   Type   Process name                  GPU Memory |\n",
            "|        ID   ID                                                   Usage      |\n",
            "|=============================================================================|\n",
            "|  No running processes found                                                 |\n",
            "+-----------------------------------------------------------------------------+\n"
          ]
        }
      ]
    },
    {
      "cell_type": "markdown",
      "metadata": {
        "id": "w6Rv_HTJe8D0"
      },
      "source": [
        "## Load Data\n",
        "+ Load market data (output from market_data notebook)\n",
        "+ The data was collected, cleaned and consolidated \n",
        "+ Optimal features were selected using RFE"
      ]
    },
    {
      "cell_type": "code",
      "metadata": {
        "colab": {
          "base_uri": "https://localhost:8080/"
        },
        "id": "fVKf8kGqe_mf",
        "outputId": "d9a6d3b0-9853-4ad6-bcd9-a8847ae2c753"
      },
      "source": [
        "# get the final dataset\n",
        "df_features = pd.read_pickle(f'{path}{ticker}_market_data_final.pickle')\n",
        "\n",
        "print(f\"\\n{ticker}\")\n",
        "print(\"=\"*60)\n",
        "print(f\"{ticker}-optimal features: \",df_features.shape)"
      ],
      "execution_count": null,
      "outputs": [
        {
          "output_type": "stream",
          "name": "stdout",
          "text": [
            "\n",
            "BTC\n",
            "============================================================\n",
            "BTC-optimal features:  (1363, 44)\n"
          ]
        }
      ]
    },
    {
      "cell_type": "markdown",
      "metadata": {
        "id": "hVIfoYKue_Cc"
      },
      "source": [
        "# Data Preprocessing for LSTM Deep Learning"
      ]
    },
    {
      "cell_type": "markdown",
      "metadata": {
        "id": "KkMxmciNk6XA"
      },
      "source": [
        "### Prepare the Data \n",
        "+ Reverse the date-time index\n",
        "+ Convert the date-time index to an integer index\n",
        "+ Convert to numpy arrays"
      ]
    },
    {
      "cell_type": "code",
      "metadata": {
        "id": "u3gDMeFck318"
      },
      "source": [
        "def prepare_data(df,y='close',features=[]):\n",
        "  \"\"\"\n",
        "  Filter, scale and convert dataframe data to numpy arrays\n",
        "\n",
        "  Inputs: \n",
        "    df       => A dataframe of observations with features and y-labels\n",
        "    y        => The name of the column that is the truth labels\n",
        "    features => A list of features.  Used to subset columns\n",
        "\n",
        "  Outputs:\n",
        "    scaled_y => numpy array of the y-label data\n",
        "    scaled_x => numpy array of the training features\n",
        "\n",
        "  \"\"\"\n",
        "\n",
        "  # reverse the index such that dates are in chronological order\n",
        "  df = df.iloc[::-1]\n",
        "\n",
        "  # Subset features, get the y-label values\n",
        "  df_y = df[y]\n",
        "  df_X = df[features]\n",
        "\n",
        "  # replace the date index with an integer index\n",
        "  df_X.reset_index(drop=True,inplace=True)\n",
        "\n",
        "  # convert to numpay arrays\n",
        "  array_X = np.array(df_X)\n",
        "  array_y = np.array(df_y).reshape(-1,1)\n",
        "\n",
        "  # print the output\n",
        "  print(\"\\nData Preparation\")\n",
        "  print(\"=\"*60)\n",
        "  print(f\"=> {len(features)} Features\")\n",
        "  print(f\"=> Input Dimensions :{array_X.shape}\")\n",
        "  print(f\"=> Output Dimensions:{array_y.shape}\")\n",
        "  print(\"\\n\")\n",
        "\n",
        "  return array_y, array_X"
      ],
      "execution_count": null,
      "outputs": []
    },
    {
      "cell_type": "markdown",
      "metadata": {
        "id": "Y4YnXCmxlALn"
      },
      "source": [
        "### Split the Data into Train/Test Sets\n",
        "+ Time series data cannot be split randomly like  observational data because the order is important.  \n",
        "+ The data is split into train/test based on dates\n",
        "+ The close price at time t is the target variable, while the close price at t-1 is also included as a feature"
      ]
    },
    {
      "cell_type": "code",
      "metadata": {
        "id": "KN22I7T7lBEW"
      },
      "source": [
        "def split_train_test(X,idx_close,train_pct=0.80):\n",
        "  \"\"\"\n",
        "  Split the dataset into train/test based on input train percentage\n",
        "  Input:\n",
        "    X: time-series dataset of all features in a numpy array\n",
        "    idx_close:  The index position of the target variable in the dataset\n",
        "    train_pct: The percent of data allocated to train.  The remainder is test\n",
        "  Output:\n",
        "    Two numpay arrays, train_X and test_X\n",
        "  \"\"\"\n",
        "\n",
        "  # Train\n",
        "  train_num = math.ceil(X.shape[0]*train_pct)\n",
        "  train_X = X[0:train_num,:]\n",
        "  train_str = f'{round(train_X.shape[0]/X.shape[0],3)*100}%'\n",
        "\n",
        "  # Test\n",
        "  # test_X = X[train_num-n_steps:,:]  # if you use this, need to add n_steps as a param!\n",
        "  test_X = X[train_num:,:]\n",
        "  test_str =f'{round(test_X.shape[0]/X.shape[0],3)*100}%'\n",
        "\n",
        "  # print the results\n",
        "  print(\"\\nSplit Data (X)\")\n",
        "  print(\"=\"*60)\n",
        "  print(f'Data  :100.0% {X.shape}')\n",
        "  print(f'Train :{train_str:>6} {train_X.shape}')\n",
        "  print(f'Test  :{test_str:>6} {test_X.shape}')\n",
        "  print('\\n')\n",
        "\n",
        "  # create the line plots\n",
        "  plot_train_test_data(train_X,test_X,idx_close)\n",
        "\n",
        "  return train_X,test_X\n"
      ],
      "execution_count": null,
      "outputs": []
    },
    {
      "cell_type": "code",
      "metadata": {
        "id": "bZNiostslI_-"
      },
      "source": [
        "def plot_train_test_data(train_x,test_x,idx_close):\n",
        "  \"\"\"\n",
        "  Plots the close price by date, showing the train/test split\n",
        "  Input:\n",
        "    train_x: the training dataset\n",
        "    test_x:  the test dataset\n",
        "    idx_close: the index position of the close price\n",
        "  Output: \n",
        "     A time-series plot of close price\n",
        "  \"\"\"\n",
        "\n",
        "  ts0 = list(range(0,train_x.shape[0]))\n",
        "  ts1 = list(range(train_x.shape[0],train_x.shape[0]+test_x.shape[0]))\n",
        "\n",
        "  fig = go.Figure()\n",
        "  fig.add_trace(go.Scatter(x=ts0,y=train_x[:,idx_close],name='Train',line_color = '#a8b8d0'))\n",
        "  fig.add_trace(go.Scatter(x=ts1,y=test_x[:,idx_close],name='Test',line_color= 'orange'))\n",
        "  fig.add_shape(type ='rect',\n",
        "                  x0=ts1[0],x1=ts1[-1],\n",
        "                  y0=0,y1=1,\n",
        "                  line=dict(color='#F6B28D'),\n",
        "                  fillcolor='#F6B28D',\n",
        "                  opacity=0.1)\n",
        "  fig.add_shape(type ='rect',\n",
        "                  x0=ts0[0],x1=ts0[-1],\n",
        "                  y0=0,y1=1,\n",
        "                  line=dict(color='#7BA1AA'),\n",
        "                  fillcolor='#7BA1AA',\n",
        "                  opacity=0.1)\n",
        "  fig.update_layout(title = 'Train/Test Datasets (Scaled)',\n",
        "                      template=\"plotly_white\",\n",
        "                      yaxis_title='Closing Price (Scaled)',\n",
        "                      xaxis_title='time steps',\n",
        "                      width = 600,\n",
        "                      height =600)\n",
        "  fig.update_shapes(dict(xref='x',yref='paper'))\n",
        "  fig.show()"
      ],
      "execution_count": null,
      "outputs": []
    },
    {
      "cell_type": "markdown",
      "metadata": {
        "id": "2el4dgOclKAx"
      },
      "source": [
        "### Partition the Data"
      ]
    },
    {
      "cell_type": "code",
      "metadata": {
        "id": "VB-fJwTLlMPW"
      },
      "source": [
        "def create_partitions(data,idx_close,n_steps,n_predict,visualize=False):\n",
        "  \"\"\"\n",
        "  This function partitions the train/test data into batches with times-step windows for training\n",
        "\n",
        "  Each batch consists of n_steps of training data, and n_predict steps of label data\n",
        "  The function outputs an x array [samples, time steps, features] and a y array [samples, time steps]\n",
        "\n",
        "  Inputs:\n",
        "    data      => train or test array\n",
        "    idx_close => the position of y value in the data\n",
        "    n_steps   => the number of time steps in each training batch\n",
        "    n_predict => the number of time steps that will be predicted\n",
        "    visualize => boolean, will plot a visual of training/prediction windows\n",
        "  Outputs:\n",
        "    array(i)  => np.array of batched & partitioned training data with features\n",
        "    array(p)  => np.array of batched & partitioned y-lables \n",
        "\n",
        "  Reference:\n",
        "    https://www.relataly.com/time-series-forecasting-multi-step-regression-using-neural-networks-with-multiple-outputs-in-python/5800/\n",
        "  \"\"\"\n",
        "  n = data.shape[0]\n",
        "  window = n_steps + n_predict\n",
        "  i, p = [],[]\n",
        "\n",
        "  # print the moving window\n",
        "  if visualize:\n",
        "    print(\"Data Window: I(Input), P(Predict),-(scanned), +(to be scanned)\")\n",
        "    print(\"=\"*max(n,100))\n",
        "\n",
        "  # create the partitions\n",
        "  for step in range(n_steps, n-n_predict):\n",
        "    # get the input window + all features\n",
        "\n",
        "    # train window\n",
        "    i.append(data[step-n_steps:step,:])\n",
        "\n",
        "    # get the prediction window + the closing price\n",
        "    p.append(data[step:step+n_predict,idx_close])\n",
        "\n",
        "    # print the moving window\n",
        "    if visualize and step <= 50:\n",
        "      scanned = n-((step-n_steps)+window)\n",
        "      print(\"-\"*(step-n_steps),'I'*n_steps,'P'*n_predict,\"+\"*scanned,sep=\"\")\n",
        "    \n",
        "  return np.array(i),np.array(p)"
      ],
      "execution_count": null,
      "outputs": []
    },
    {
      "cell_type": "code",
      "metadata": {
        "id": "N7ft4kWLlRxG"
      },
      "source": [
        "def plot_training_window(x_array,y_array,idx_close,n_steps,n_predict,batch):\n",
        "  \"\"\"\n",
        "  Plots a single training batch showing the train/prediction windows\n",
        "  Inputs: \n",
        "    x_array/y_array => partitioned data from create_partitions\n",
        "    idx_close       => the position of the y-label (close price)\n",
        "    n_steps         => the number of time steps in each training batch\n",
        "    n_predict       => the number of time steps predicted each training batch\n",
        "    batch           => the batch number to plot\n",
        "  Outputs:\n",
        "    A line chart with the train/predict values\n",
        "  \"\"\"\n",
        "  # convert the arrays to dataframes\n",
        "  # align the x indexes to compare\n",
        "  df_y = pd.DataFrame(y_array[batch],index=range(n_steps-1,n_predict+n_steps-1),columns=['y'])\n",
        "  df_x = pd.DataFrame(x_array[batch+1])[idx_close]\n",
        "  df_x = pd.DataFrame(df_x)\n",
        "  df_x.columns = ['x']\n",
        "\n",
        "  # create the plots\n",
        "  fig = go.Figure()\n",
        "  fig.add_trace(go.Scatter(x=df_x.index,y=df_x['x'],name='train window',line_color='#a8b8d0',fill='tozeroy'))\n",
        "  fig.add_trace(go.Scatter(x=df_y.index,y=df_y['y'],name='predict window',line_color='orange',fill='tozeroy'))\n",
        "  fig.update_layout(template='plotly_white',\n",
        "                    title='Train/Predict Windows',\n",
        "                    yaxis_title = 'Closing Price (Scaled)',\n",
        "                    xaxis_title='Period',\n",
        "                    width = 700,\n",
        "                    height = 500)\n",
        "  fig.show()\n"
      ],
      "execution_count": null,
      "outputs": []
    },
    {
      "cell_type": "markdown",
      "metadata": {
        "id": "YqAf4XLZlO3t"
      },
      "source": [
        "### Data Transformations\n",
        "\n",
        "#### Check for stationarity\n",
        "+ Deep learning performs better with stationary data where the mean and variance is constant over time.  Market price data is rarely stationary as it includes trending. The time-series data is transformed to make it stationary \n",
        "+ The transform_stationary funciton applies data transformations and performs the Augmented Dickey-Fuller (ADF) to test for stationarity\n",
        "  + null hypothesis: the data is non-stationary\n",
        "  + alternative: the data is stationary\n",
        "  + => if the test stat is less than all critical values,  we cannot reject the null, therefore the data is non-stationary\n",
        "\n",
        "**Reference**\n",
        "+ [Checking time-series data for stationarity](https://analyzingalpha.com/check-time-series-stationarity-python#augmented-dickey-fuller-adf)"
      ]
    },
    {
      "cell_type": "code",
      "metadata": {
        "id": "mvVugjBNlO-O"
      },
      "source": [
        "def transform_stationary(df,features_to_transform,transform='log',verbose=False):\n",
        "  \"\"\"\n",
        "  Transform time-series data using a log or boxcox transform.  Calculate the augmented\n",
        "  dickey-fuller (ADF) test for stationarity after the transform\n",
        "  Inputs:\n",
        "    df: a dataframe of features\n",
        "    features_to_transform: A list of features to apply the transform\n",
        "    transform: The transform to apply (log, boxbox)\n",
        "  Output\n",
        "    Applies the transforms inplace in df\n",
        "  \"\"\"\n",
        "  # transform each column in the features_to_transform list\n",
        "  for feature in df.columns:\n",
        "    if feature in features_to_transform:\n",
        "      # log transform\n",
        "      if transform=='log':\n",
        "        df[feature] = df[feature].apply(np.log)\n",
        "\n",
        "      # boxcox transform  \n",
        "      elif transform=='boxcox':\n",
        "        bc,_ = stats.boxcox(df[feature])\n",
        "        df[feature] = bc\n",
        "\n",
        "      else:\n",
        "        print(\"Transformation not recognized\")\n",
        "        \n",
        "  if verbose:\n",
        "    # check the closing price for stationarity using the augmented dicky fuller test\n",
        "    t_stat, p_value, _, _, critical_values, _  = adfuller(df.close.values, autolag='AIC')\n",
        "    print('Augmented Dicky Fuller Test for Stationarity')\n",
        "    print(\"=\"*60)\n",
        "    print(f'ADF Statistic: {t_stat:.2f}')\n",
        "    for key, value in critical_values.items():\n",
        "      print('Critial Values:')\n",
        "      if t_stat < value:\n",
        "        print(f'   {key}, {value:.2f} => non-stationary')\n",
        "      else:\n",
        "        print(f'   {key}, {value:.2f} => stationary')"
      ],
      "execution_count": null,
      "outputs": []
    },
    {
      "cell_type": "markdown",
      "metadata": {
        "id": "A2oma_IJlYWn"
      },
      "source": [
        "### Process the Data\n",
        "+ Select the dataset (BTC,VMW,BLX.TO) for all features or the features selected using RFE\n",
        "+ Transform the data to be stationary\n",
        "+ Convert to numpy arrays\n",
        "+ Scale the data for deep learning\n",
        "+ Split the data into train/test sets\n",
        "+ Partition the data into time-series windows\n",
        "+ Plot the close price split into train/test sets\n",
        "+ Plot a single time-series train/predict batch"
      ]
    },
    {
      "cell_type": "code",
      "metadata": {
        "id": "sfrnnQLwMp_3"
      },
      "source": [
        "def pre_process(df_features,features_to_transform,n_steps,n_predict,transform='log',train_pct=0.80,visualize=False):\n",
        "  \"\"\"\n",
        "  \"\"\"\n",
        "\n",
        "  # Training Config\n",
        "  df = df_features.copy()\n",
        "\n",
        "  # index postiion variable (closing price)\n",
        "  idx_close = df.columns.get_loc(\"close\") \n",
        "\n",
        "  # transform the data\n",
        "  transform_stationary(df,features_to_transform,transform,False)\n",
        "\n",
        "  # Convert to numpy arrays\n",
        "  array_y,array_X = prepare_data(df,'close',df.columns)\n",
        "\n",
        "  # scale the input and outputs\n",
        "  scaler_X = MinMaxScaler(feature_range=(0,1))\n",
        "  scaler_y = MinMaxScaler(feature_range=(0,1))\n",
        "  scaled_X = scaler_X.fit_transform(array_X)\n",
        "  scaled_y = scaler_y.fit_transform(array_y)\n",
        "\n",
        "  # split into train, test\n",
        "  train_x,test_x=split_train_test(scaled_X,idx_close,train_pct)\n",
        "\n",
        "  # Partition the train/test data into time series windows for training\n",
        "  # LSTM input format: [samples, time steps, features]\n",
        "  x_train, y_train = create_partitions(train_x,idx_close,n_steps, n_predict)\n",
        "  x_test,  y_test  = create_partitions(test_x, idx_close,n_steps, n_predict)\n",
        "\n",
        "  # Print the results\n",
        "  print('Train/Test Dimensions')\n",
        "  print('='*60)\n",
        "  print(\"Train Data Dimensions: \",\"x\",x_train.shape,\"y\",y_train.shape)\n",
        "  print(\"Test Data Dimensions : \",\"x\",x_test.shape,\" y\",y_test.shape)\n",
        "\n",
        "  print(\"\\n\\nCheck the dimensions of the training windows\")\n",
        "  print(\"=\"*60)\n",
        "  print('The last value in the training batch should match the first value in the predict batch')\n",
        "  print(\"Last Training Value:   \",x_train[1][n_steps-1][idx_close])\n",
        "  print(\"First Prediction Value:\",y_train[0][0])\n",
        "\n",
        "  # Make sure the train/predict batch windows are aligned\n",
        "  if visualize:\n",
        "    plot_training_window(x_train,y_train,idx_close,n_steps,n_predict,seed//10)\n",
        "\n",
        "  return x_train, y_train, x_test, y_test, scaler_y,idx_close"
      ],
      "execution_count": null,
      "outputs": []
    },
    {
      "cell_type": "markdown",
      "metadata": {
        "id": "Ol0bdkaaFWE4"
      },
      "source": [
        "# Deep Learning LSTM"
      ]
    },
    {
      "cell_type": "markdown",
      "metadata": {
        "id": "GuID2xmzFWvY"
      },
      "source": [
        "### Build the LSTM Model"
      ]
    },
    {
      "cell_type": "code",
      "metadata": {
        "id": "545X-j0PFZV5"
      },
      "source": [
        "def create_lstm_model(config,lr=0.001):\n",
        "  \"\"\"\n",
        "  Builds an LSTM deep learning model\n",
        "  Inputs:\n",
        "    config: A dictionary containing the network topology\n",
        "    x_train: The train set with all features\n",
        "    lr: the learning rate for the adam optimizer\n",
        "  Output:\n",
        "    An LSTM model built according to config\n",
        "  \"\"\"\n",
        "  # get window size\n",
        "  n_steps = config['window']['n_steps']\n",
        "  n_predict = config['window']['n_predict']\n",
        "  n_features = config['data']['x_train'].shape[2]\n",
        "\n",
        "  # clear previous models\n",
        "  backend.clear_session()\n",
        "\n",
        "  # LSTM Model+ first layer\n",
        "  model = Sequential(name='LSTM')\n",
        "  model.add(LSTM(n_steps,return_sequences=True,input_shape=(n_steps,n_features)))\n",
        "\n",
        "  # add additional layers\n",
        "  for layer,nodes,ret_seq,drop in config['layers']:\n",
        "    # add LSTM layers + dropout\n",
        "    if layer=='lstm':\n",
        "      model.add(LSTM(nodes,return_sequences =ret_seq))\n",
        "      if drop is not None:\n",
        "        model.add(Dropout(drop))\n",
        "\n",
        "    # Add Dense Layers + dropout\n",
        "    elif layer =='dense':\n",
        "      model.add(Dense(nodes))\n",
        "      if drop is not None:\n",
        "        model.add(Dropout(drop))\n",
        "\n",
        "  # add the prediction layer\n",
        "  model.add(Dense(n_predict))\n",
        "  \n",
        "  # compile\n",
        "  model.compile(optimizer=tf.keras.optimizers.Adam(learning_rate=lr),\n",
        "                loss='mse')\n",
        "  \n",
        "  # print the model summary\n",
        "  model.summary()\n",
        "\n",
        "  return model\n"
      ],
      "execution_count": null,
      "outputs": []
    },
    {
      "cell_type": "markdown",
      "metadata": {
        "id": "XistoU0MFgaz"
      },
      "source": [
        "### Calculate Model Performance"
      ]
    },
    {
      "cell_type": "code",
      "metadata": {
        "id": "SKEeM2RKFhEC"
      },
      "source": [
        "def calculate_performance(x_test,y_test,model,scaler_y):\n",
        "  \"\"\"\n",
        "  Predicts the price output and calculates the performance of the model\n",
        "  Inputs:\n",
        "    x_test: the test dataset\n",
        "    y_test: the test labels\n",
        "    model: the trained LSTM model\n",
        "    scaler_y: the transfrom applied to the labels\n",
        "  Output:\n",
        "    Prints the performance metrics and returns the predictions\n",
        "  \"\"\"\n",
        "\n",
        "  # Predict the prices\n",
        "  y_pred = model.predict(x_test)\n",
        "\n",
        "  # convert units back to the original scale\n",
        "  y_pred_unscaled = scaler_y.inverse_transform(y_pred)\n",
        "  y_test_unscaled = scaler_y.inverse_transform(y_test)\n",
        "\n",
        "  # # Root mean squarred error,mean abs error, mean abs percent error, median abs percent error\n",
        "  rmse  = math.sqrt(mean_squared_error(y_test_unscaled, y_pred_unscaled))\n",
        "  mae   = mean_absolute_error(y_test_unscaled, y_pred_unscaled)\n",
        "  mape  = np.mean((np.abs(np.subtract(y_test_unscaled, y_pred_unscaled)/ y_test_unscaled))) * 100\n",
        "  mdape = np.median((np.abs(np.subtract(y_test_unscaled, y_pred_unscaled)/ y_test_unscaled)) ) * 100\n",
        "\n",
        "  print(\"\\nModel Error\")\n",
        "  print(\"=\"*62)\n",
        "  print(f'{\"Mean Absolute Error (MAE)\" :-<55} {np.round(mae, 2):>5}')\n",
        "  print(f'{\"Root Mean Squared Error (MSE)\" :-<55} {np.round(rmse,2):>5}')\n",
        "  print(f'{\"Mean Absolute Percentage Error (MAPE)\" :-<55} {np.round(mape, 2):>5}%')\n",
        "  print(f'{\"Median Absolute Percentage Error (MDAPE)\" :-<55} {np.round(mdape, 2):>5}%')\n",
        "\n",
        "  return y_pred"
      ],
      "execution_count": null,
      "outputs": []
    },
    {
      "cell_type": "markdown",
      "metadata": {
        "id": "SdHFW_faFj4H"
      },
      "source": [
        "### Plot Training Metrics"
      ]
    },
    {
      "cell_type": "code",
      "metadata": {
        "id": "PxPlNb21FkD3"
      },
      "source": [
        "\n",
        "def plot_training_metrics(history):\n",
        "  \"\"\"\n",
        "  Plots the training metrics: loss and val_loss by epochs\n",
        "  Input:\n",
        "    history: the train history\n",
        "  \"\"\"\n",
        "  # get the number of epochs\n",
        "  epochs = list(range(1, len(history.history['loss']) + 1))\n",
        "\n",
        "  # create the line plots\n",
        "  fig = go.Figure()\n",
        "  fig.add_trace(go.Scatter(x=epochs,\n",
        "                           y=history.history['loss'],\n",
        "                           name = 'train-loss',\n",
        "                           line=dict(width=3,color='orange')))\n",
        "  fig.add_trace(go.Scatter(x=epochs,\n",
        "                           y=history.history['val_loss'],\n",
        "                           name='val-loss',\n",
        "                           line=dict(width=3,color='#8D4004')))\n",
        "\n",
        "  fig.update_layout(title = 'Training Metrics',\n",
        "                    template=\"plotly_white\",\n",
        "                    width = 500,\n",
        "                    height= 500,\n",
        "                    yaxis_title='loss',\n",
        "                    xaxis_title='epochs')\n",
        "\n",
        "  fig.show()"
      ],
      "execution_count": null,
      "outputs": []
    },
    {
      "cell_type": "code",
      "metadata": {
        "id": "gB97cI8_Fu5K"
      },
      "source": [
        "def plot_price_predictions(batch, idx_close, x_test, y_pred_scaled,scaler_y): \n",
        "  \"\"\"\n",
        "  Plots the predicted vs actual prices for a single batch\n",
        "  Inputs:\n",
        "    batch: the batch index to plot\n",
        "    idx_close: the index position of the close price in the feature set\n",
        "    x_test: the test dataset\n",
        "    y_pred_scaled: the predicted y values (scaled)\n",
        "    scaler_y: the scaler used to scale y\n",
        "  \"\"\"\n",
        "\n",
        "  # unscale the y predictions\n",
        "  y_pred_unscaled = scaler_y.inverse_transform(y_pred_scaled)\n",
        "\n",
        "  # unscale the x_test data\n",
        "  x_test_np = np.array(pd.DataFrame(x_test[batch])[idx_close]).reshape(-1,1)\n",
        "  x_test_unscaled = scaler_y.inverse_transform(x_test_np)\n",
        "  x_test_df = pd.DataFrame(x_test_unscaled)\n",
        "\n",
        "  # set the indexes for plotting\n",
        "  max_test_idx=x_test_df.shape[0]\n",
        "  max_pred_idx =y_pred_unscaled[0].shape[0]\n",
        "  test_idx = list(range(batch,batch + max_test_idx))\n",
        "  pred_idx = list(range(batch + max_test_idx,batch + max_test_idx + max_pred_idx))\n",
        "\n",
        "\n",
        "  # combine the actual + predicted prices\n",
        "  data = pd.DataFrame(list(zip(y_pred_unscaled[batch], x_test_df[0])), columns=['pred', 'actual'])\n",
        "\n",
        "  # create the plot\n",
        "  fig = go.Figure()\n",
        "  fig.add_trace(go.Scatter(x=test_idx, y=x_test_df[0],\n",
        "                        mode='lines',\n",
        "                        name='Test Data',\n",
        "                        fill='tozeroy',\n",
        "                        line_color='#ccc'))\n",
        "  fig.add_trace(go.Scatter(x=pred_idx, y=data['actual'],\n",
        "                        mode='lines+markers', \n",
        "                        name='Actual Price',\n",
        "                        fill='tozeroy',\n",
        "                        line_color ='#ccc')) \n",
        "  fig.add_trace(go.Scatter(x=pred_idx, y=data['pred'],\n",
        "                        mode='lines+markers',\n",
        "                        name='Predicted Price',\n",
        "                        line_color='orange'))\n",
        "\n",
        "  fig.update_layout(template = 'plotly_white',\n",
        "                      title= 'Actual vs Predicted Price',\n",
        "                      xaxis_title = 'Batch',\n",
        "                      yaxis_title = 'Price',\n",
        "                      width=500,\n",
        "                      height=500)\n",
        "\n",
        "  fig.show()"
      ],
      "execution_count": null,
      "outputs": []
    },
    {
      "cell_type": "code",
      "metadata": {
        "id": "27lCAxlyFxg8"
      },
      "source": [
        "def plot_n_price_predictions(idx_close,x_test,y_pred_scaled,scaler_y,n_batches=2):\n",
        "  \"\"\"\n",
        "  Plots random batches of predictions\n",
        "  \"\"\"\n",
        "\n",
        "  # select random batch numbers\n",
        "  batches=[]\n",
        "  [batches.append(rn.randint(0,y_pred_scaled.shape[0]-1)) for r in list(range(n_batches))]\n",
        "\n",
        "  # plot predictions\n",
        "  for batch in batches:\n",
        "    plot_price_predictions(batch, idx_close, x_test, y_pred_scaled,scaler_y)"
      ],
      "execution_count": null,
      "outputs": []
    },
    {
      "cell_type": "markdown",
      "metadata": {
        "id": "cXDVXdqZFyT2"
      },
      "source": [
        "## Train the Model\n",
        "Training config file."
      ]
    },
    {
      "cell_type": "code",
      "metadata": {
        "id": "25XcRrwEQ8j_"
      },
      "source": [
        "def train_lstm_model(config):\n",
        "  \"\"\"\n",
        "  \"\"\"\n",
        "  # create the lstm model\n",
        "  model = create_lstm_model(config)\n",
        "\n",
        "  # Train the model\n",
        "  tic = timeit.default_timer()\n",
        "  history = model.fit(config['data']['x_train'],\n",
        "                      config['data']['y_train'],\n",
        "                      batch_size=config['train']['batch_size'],\n",
        "                      epochs=config['train']['epochs'],\n",
        "                      callbacks = [config['train']['early_stop']],\n",
        "                      validation_split =config['window']['val_split'], \n",
        "                      verbose = 0\n",
        "                      )\n",
        "\n",
        "  # print the training time\n",
        "  toc =timeit.default_timer()\n",
        "  print('\\nTraining Time')\n",
        "  print('='*60)\n",
        "  print(f'Minutes:{round((toc-tic)/60,2)}\\n')\n",
        "\n",
        "\n",
        "  # predict prices\n",
        "  # calculate the performance metrics\n",
        "  # plot training metrics\n",
        "  # plot predictions for random batches\n",
        "  y_pred_scaled = calculate_performance(config['data']['x_test'],config['data']['y_test'],model,config['data']['scaler_y'])\n",
        "  plot_training_metrics(history)\n",
        "  plot_n_price_predictions(config['data']['idx_close'],config['data']['x_test'],y_pred_scaled,config['data']['scaler_y'],1)\n",
        "\n",
        "  if config['model']['save_model']:\n",
        "    # save model and training performance\n",
        "    model.save(config['model']['model_name'])\n",
        "\n",
        "    df_hist = pd.DataFrame(history.history) \n",
        "    df_hist.to_csv(f\"{config['model']['model_name']}/train_history.csv\")\n"
      ],
      "execution_count": null,
      "outputs": []
    },
    {
      "cell_type": "code",
      "metadata": {
        "colab": {
          "base_uri": "https://localhost:8080/",
          "height": 1000
        },
        "id": "wXQ-T7FrFyd2",
        "outputId": "da80bcaf-e6ba-4e6e-d98a-815f9bd52b4f"
      },
      "source": [
        "# the network topology is contained in a config dictionary\n",
        "ticker = 'BTC'\n",
        "n_steps = 60\n",
        "n_predict = 3\n",
        "model_path = '/content/drive/MyDrive/Colab Notebooks/capstone2/models/'\n",
        "model_name = f'{path}{ticker}_model_512'\n",
        "\n",
        "# Transform the data to be stationary\n",
        "features_to_transform = ['open','high','low','close', 'b-upper', 'b-middle', 'b-lower',\n",
        "            'futures_open', 'futures_high', 'futures_low', 'futures_close', \n",
        "            'ETH', 'DOGE', 'LTC',\n",
        "            'USDEUR', 'USDGBP', 'OIL_shift', 'BOIL', 'VXX_shift', 'XLE', 'QQQ',\n",
        "            ]\n",
        "\n",
        "# pre-process the data\n",
        "x_train, y_train, x_test, y_test, scaler_y,idx_close = pre_process(df_features,features_to_transform,n_steps,n_predict,'log',0.80,True)\n",
        "\n",
        "# build training config file\n",
        "config ={\n",
        "    'window': {'n_steps':n_steps,'n_predict':n_predict,'val_split':0.10},\n",
        "    'layers': [('lstm',512,True,0.5),('lstm',256,False,0.1),('dense',128,None,0.1),('dense',64,None,0.1)],\n",
        "    'train':{'epochs':250,'batch_size':512,'early_stop':EarlyStopping(monitor='loss',patience=20)},\n",
        "    'data':{'x_train':x_train,'y_train':y_train,'x_test':x_test,'y_test':y_test,'scaler_y':scaler_y,'idx_close':idx_close},\n",
        "    'model':{'model_name':model_name,'save_model':True}\n",
        "}\n",
        "\n",
        "# train the model\n",
        "train_lstm_model(config)\n"
      ],
      "execution_count": null,
      "outputs": [
        {
          "output_type": "stream",
          "name": "stdout",
          "text": [
            "\n",
            "Data Preparation\n",
            "============================================================\n",
            "=> 44 Features\n",
            "=> Input Dimensions :(1363, 44)\n",
            "=> Output Dimensions:(1363, 1)\n",
            "\n",
            "\n",
            "\n",
            "Split Data (X)\n",
            "============================================================\n",
            "Data  :100.0% (1363, 44)\n",
            "Train : 80.0% (1091, 44)\n",
            "Test  : 20.0% (272, 44)\n",
            "\n",
            "\n"
          ]
        },
        {
          "output_type": "display_data",
          "data": {
            "text/html": [
              "<html>\n",
              "<head><meta charset=\"utf-8\" /></head>\n",
              "<body>\n",
              "    <div>\n",
              "            <script src=\"https://cdnjs.cloudflare.com/ajax/libs/mathjax/2.7.5/MathJax.js?config=TeX-AMS-MML_SVG\"></script><script type=\"text/javascript\">if (window.MathJax) {MathJax.Hub.Config({SVG: {font: \"STIX-Web\"}});}</script>\n",
              "                <script type=\"text/javascript\">window.PlotlyConfig = {MathJaxConfig: 'local'};</script>\n",
              "        <script src=\"https://cdn.plot.ly/plotly-latest.min.js\"></script>    \n",
              "            <div id=\"4ebceaf6-3e0c-46aa-9af4-8ad302baa15b\" class=\"plotly-graph-div\" style=\"height:600px; width:600px;\"></div>\n",
              "            <script type=\"text/javascript\">\n",
              "                \n",
              "                    window.PLOTLYENV=window.PLOTLYENV || {};\n",
              "                    \n",
              "                if (document.getElementById(\"4ebceaf6-3e0c-46aa-9af4-8ad302baa15b\")) {\n",
              "                    Plotly.newPlot(\n",
              "                        '4ebceaf6-3e0c-46aa-9af4-8ad302baa15b',\n",
              "                        [{\"line\": {\"color\": \"#a8b8d0\"}, \"name\": \"Train\", \"type\": \"scatter\", \"x\": [0, 1, 2, 3, 4, 5, 6, 7, 8, 9, 10, 11, 12, 13, 14, 15, 16, 17, 18, 19, 20, 21, 22, 23, 24, 25, 26, 27, 28, 29, 30, 31, 32, 33, 34, 35, 36, 37, 38, 39, 40, 41, 42, 43, 44, 45, 46, 47, 48, 49, 50, 51, 52, 53, 54, 55, 56, 57, 58, 59, 60, 61, 62, 63, 64, 65, 66, 67, 68, 69, 70, 71, 72, 73, 74, 75, 76, 77, 78, 79, 80, 81, 82, 83, 84, 85, 86, 87, 88, 89, 90, 91, 92, 93, 94, 95, 96, 97, 98, 99, 100, 101, 102, 103, 104, 105, 106, 107, 108, 109, 110, 111, 112, 113, 114, 115, 116, 117, 118, 119, 120, 121, 122, 123, 124, 125, 126, 127, 128, 129, 130, 131, 132, 133, 134, 135, 136, 137, 138, 139, 140, 141, 142, 143, 144, 145, 146, 147, 148, 149, 150, 151, 152, 153, 154, 155, 156, 157, 158, 159, 160, 161, 162, 163, 164, 165, 166, 167, 168, 169, 170, 171, 172, 173, 174, 175, 176, 177, 178, 179, 180, 181, 182, 183, 184, 185, 186, 187, 188, 189, 190, 191, 192, 193, 194, 195, 196, 197, 198, 199, 200, 201, 202, 203, 204, 205, 206, 207, 208, 209, 210, 211, 212, 213, 214, 215, 216, 217, 218, 219, 220, 221, 222, 223, 224, 225, 226, 227, 228, 229, 230, 231, 232, 233, 234, 235, 236, 237, 238, 239, 240, 241, 242, 243, 244, 245, 246, 247, 248, 249, 250, 251, 252, 253, 254, 255, 256, 257, 258, 259, 260, 261, 262, 263, 264, 265, 266, 267, 268, 269, 270, 271, 272, 273, 274, 275, 276, 277, 278, 279, 280, 281, 282, 283, 284, 285, 286, 287, 288, 289, 290, 291, 292, 293, 294, 295, 296, 297, 298, 299, 300, 301, 302, 303, 304, 305, 306, 307, 308, 309, 310, 311, 312, 313, 314, 315, 316, 317, 318, 319, 320, 321, 322, 323, 324, 325, 326, 327, 328, 329, 330, 331, 332, 333, 334, 335, 336, 337, 338, 339, 340, 341, 342, 343, 344, 345, 346, 347, 348, 349, 350, 351, 352, 353, 354, 355, 356, 357, 358, 359, 360, 361, 362, 363, 364, 365, 366, 367, 368, 369, 370, 371, 372, 373, 374, 375, 376, 377, 378, 379, 380, 381, 382, 383, 384, 385, 386, 387, 388, 389, 390, 391, 392, 393, 394, 395, 396, 397, 398, 399, 400, 401, 402, 403, 404, 405, 406, 407, 408, 409, 410, 411, 412, 413, 414, 415, 416, 417, 418, 419, 420, 421, 422, 423, 424, 425, 426, 427, 428, 429, 430, 431, 432, 433, 434, 435, 436, 437, 438, 439, 440, 441, 442, 443, 444, 445, 446, 447, 448, 449, 450, 451, 452, 453, 454, 455, 456, 457, 458, 459, 460, 461, 462, 463, 464, 465, 466, 467, 468, 469, 470, 471, 472, 473, 474, 475, 476, 477, 478, 479, 480, 481, 482, 483, 484, 485, 486, 487, 488, 489, 490, 491, 492, 493, 494, 495, 496, 497, 498, 499, 500, 501, 502, 503, 504, 505, 506, 507, 508, 509, 510, 511, 512, 513, 514, 515, 516, 517, 518, 519, 520, 521, 522, 523, 524, 525, 526, 527, 528, 529, 530, 531, 532, 533, 534, 535, 536, 537, 538, 539, 540, 541, 542, 543, 544, 545, 546, 547, 548, 549, 550, 551, 552, 553, 554, 555, 556, 557, 558, 559, 560, 561, 562, 563, 564, 565, 566, 567, 568, 569, 570, 571, 572, 573, 574, 575, 576, 577, 578, 579, 580, 581, 582, 583, 584, 585, 586, 587, 588, 589, 590, 591, 592, 593, 594, 595, 596, 597, 598, 599, 600, 601, 602, 603, 604, 605, 606, 607, 608, 609, 610, 611, 612, 613, 614, 615, 616, 617, 618, 619, 620, 621, 622, 623, 624, 625, 626, 627, 628, 629, 630, 631, 632, 633, 634, 635, 636, 637, 638, 639, 640, 641, 642, 643, 644, 645, 646, 647, 648, 649, 650, 651, 652, 653, 654, 655, 656, 657, 658, 659, 660, 661, 662, 663, 664, 665, 666, 667, 668, 669, 670, 671, 672, 673, 674, 675, 676, 677, 678, 679, 680, 681, 682, 683, 684, 685, 686, 687, 688, 689, 690, 691, 692, 693, 694, 695, 696, 697, 698, 699, 700, 701, 702, 703, 704, 705, 706, 707, 708, 709, 710, 711, 712, 713, 714, 715, 716, 717, 718, 719, 720, 721, 722, 723, 724, 725, 726, 727, 728, 729, 730, 731, 732, 733, 734, 735, 736, 737, 738, 739, 740, 741, 742, 743, 744, 745, 746, 747, 748, 749, 750, 751, 752, 753, 754, 755, 756, 757, 758, 759, 760, 761, 762, 763, 764, 765, 766, 767, 768, 769, 770, 771, 772, 773, 774, 775, 776, 777, 778, 779, 780, 781, 782, 783, 784, 785, 786, 787, 788, 789, 790, 791, 792, 793, 794, 795, 796, 797, 798, 799, 800, 801, 802, 803, 804, 805, 806, 807, 808, 809, 810, 811, 812, 813, 814, 815, 816, 817, 818, 819, 820, 821, 822, 823, 824, 825, 826, 827, 828, 829, 830, 831, 832, 833, 834, 835, 836, 837, 838, 839, 840, 841, 842, 843, 844, 845, 846, 847, 848, 849, 850, 851, 852, 853, 854, 855, 856, 857, 858, 859, 860, 861, 862, 863, 864, 865, 866, 867, 868, 869, 870, 871, 872, 873, 874, 875, 876, 877, 878, 879, 880, 881, 882, 883, 884, 885, 886, 887, 888, 889, 890, 891, 892, 893, 894, 895, 896, 897, 898, 899, 900, 901, 902, 903, 904, 905, 906, 907, 908, 909, 910, 911, 912, 913, 914, 915, 916, 917, 918, 919, 920, 921, 922, 923, 924, 925, 926, 927, 928, 929, 930, 931, 932, 933, 934, 935, 936, 937, 938, 939, 940, 941, 942, 943, 944, 945, 946, 947, 948, 949, 950, 951, 952, 953, 954, 955, 956, 957, 958, 959, 960, 961, 962, 963, 964, 965, 966, 967, 968, 969, 970, 971, 972, 973, 974, 975, 976, 977, 978, 979, 980, 981, 982, 983, 984, 985, 986, 987, 988, 989, 990, 991, 992, 993, 994, 995, 996, 997, 998, 999, 1000, 1001, 1002, 1003, 1004, 1005, 1006, 1007, 1008, 1009, 1010, 1011, 1012, 1013, 1014, 1015, 1016, 1017, 1018, 1019, 1020, 1021, 1022, 1023, 1024, 1025, 1026, 1027, 1028, 1029, 1030, 1031, 1032, 1033, 1034, 1035, 1036, 1037, 1038, 1039, 1040, 1041, 1042, 1043, 1044, 1045, 1046, 1047, 1048, 1049, 1050, 1051, 1052, 1053, 1054, 1055, 1056, 1057, 1058, 1059, 1060, 1061, 1062, 1063, 1064, 1065, 1066, 1067, 1068, 1069, 1070, 1071, 1072, 1073, 1074, 1075, 1076, 1077, 1078, 1079, 1080, 1081, 1082, 1083, 1084, 1085, 1086, 1087, 1088, 1089, 1090], \"y\": [0.9849900944889538, 0.9731704320187919, 0.9755209233195266, 0.9722887613964408, 0.9803851306508995, 1.0, 0.9911858608298956, 0.9793945175891192, 0.9767059713468296, 0.9732585188806047, 0.9775272071067853, 0.953474655500012, 0.9535668940204887, 0.9457467178560419, 0.95418913730663, 0.9376698012924511, 0.9393171140896959, 0.9332438199165631, 0.9322951658868597, 0.9415148675808189, 0.9176497937358858, 0.9028923103660578, 0.8959715172082832, 0.8921470931752755, 0.8955937945915826, 0.8644684945527086, 0.8467411105573603, 0.8427202595554943, 0.8516858519836776, 0.859516927870327, 0.8557175208361691, 0.8567310805821045, 0.8722282191978517, 0.8625605860288417, 0.8403271237747116, 0.858373029579854, 0.8893227975466527, 0.8966640868591922, 0.8896798265493464, 0.8928684311643376, 0.8954701375424223, 0.8885601836970922, 0.8728323774138169, 0.8807376708960812, 0.8744771523441206, 0.872169541982585, 0.8833380436393949, 0.8809535768854451, 0.8866017539664637, 0.9252975893001563, 0.9195472035701298, 0.9075266719775064, 0.9081057303243929, 0.9031485012886575, 0.9001921119119976, 0.8884521394127374, 0.8875396229112327, 0.8997797608910254, 0.9006620166463355, 0.9018210878614559, 0.8865002241167672, 0.9013085251202742, 0.8925699019228537, 0.9047765871088571, 0.9030863010601542, 0.9003093289064128, 0.9035959846073012, 0.8859818795613235, 0.8711892827696657, 0.870878062622058, 0.8798066209732109, 0.8874772340926032, 0.8881254049850122, 0.8932503978421042, 0.8688838343592842, 0.8771401581152016, 0.8775212489845399, 0.8824314556560413, 0.8644358713635882, 0.8701432958134081, 0.8569925847027684, 0.8413558536292691, 0.8320185140072822, 0.8190935984117576, 0.8272224999403459, 0.833073524971518, 0.8462385342957823, 0.8521100306372635, 0.8344890721788736, 0.8344682419970391, 0.8298194677313924, 0.8105953967442021, 0.7937243436512604, 0.7829232665670522, 0.776843089023036, 0.7634228853129463, 0.7618782050035358, 0.7367853375457463, 0.7482428732879169, 0.7581942656907112, 0.7554920184327885, 0.7540851983867718, 0.7591886732173192, 0.7688268966511651, 0.7679168879119054, 0.7716183754033339, 0.7830313441236494, 0.7757246509381894, 0.7787720326900494, 0.7693658655881177, 0.7792511976032039, 0.782734746585418, 0.7775130482869845, 0.7928049294967519, 0.7870069274971887, 0.7784324241096248, 0.7757208993682276, 0.7906063527836409, 0.7985555830887789, 0.7852575573045466, 0.787321646183444, 0.7634267789749791, 0.7561901540849307, 0.7868758017437161, 0.7773585551305673, 0.7656606237856409, 0.7565350607678232, 0.7956341934823401, 0.7947329429467773, 0.7978501358309873, 0.8181616551883808, 0.8204610405373183, 0.835522979804717, 0.8386472488735479, 0.8259435164719036, 0.7952381393011168, 0.8114400610046975, 0.8056180152706949, 0.8119907387020802, 0.7744531999510929, 0.7764114581423343, 0.7976078449066861, 0.7949508010320998, 0.8069706944856638, 0.8280093723561102, 0.8136223266996692, 0.8058138605533389, 0.8108226805261505, 0.7962074362309752, 0.7862343120326583, 0.7962510481954106, 0.8219047756713596, 0.827956095610225, 0.8201069330178385, 0.8242516204648509, 0.7871236944537952, 0.8124990732510051, 0.810779971262102, 0.8388119258545541, 0.805485853383225, 0.8570777484960428, 0.8624446933203269, 0.883652013441885, 0.886182655074566, 0.9071024636193639, 0.9060030687512759, 0.9056817613436277, 0.9494756204999653, 0.944548628935383, 0.9585354786435296, 0.9620596062523226, 0.9531978836733002, 0.9479606200059902, 0.9539217136405904, 0.9286517972053718, 0.952513024496819, 0.9489935137724776, 0.9560665787181564, 0.9554938402472306, 0.9307881426076339, 0.9386084198295164, 0.9397316235139215, 0.9335645663030956, 0.901858377098427, 0.9083997717756755, 0.915402196095287, 0.9191973967624798, 0.9323233501498733, 0.9481822637254127, 0.9434310454648149, 0.9464385314390715, 0.9684720095208044, 0.9757115386058715, 0.9852789293089628, 0.9843965733184339, 0.9876014806974243, 0.967772011763075, 0.9684434514076186, 0.9671747067159839, 0.9580765888495439, 0.9576670758221084, 0.9453763356891165, 0.957162485735437, 0.9633598965740133, 0.9583644926729984, 0.9518634980287217, 0.9627210206337722, 0.961341217066062, 0.9614303197050118, 0.9614853350765582, 0.9551441991821128, 0.944326730624494, 0.9446218114684206, 0.9397333072320624, 0.9166297017572553, 0.9230762400639816, 0.9356958167768896, 0.9341432543219352, 0.953454182120641, 0.9579201070212395, 0.9574173851070915, 0.9551906863147401, 0.9623058749730284, 0.9508141872413947, 0.9433882879276654, 0.9628807992600001, 0.9748903192502398, 0.952911628964658, 0.9560358989375546, 0.9448860818700342, 0.9389426411594459, 0.9234797686171365, 0.9145640186136785, 0.9005589371992881, 0.8997991659992448, 0.897223969857424, 0.9103655545978868, 0.8976631453504194, 0.9054071737065241, 0.8742945001464744, 0.8813797301116311, 0.8826520474714901, 0.8884081112520268, 0.9060569336371875, 0.9007663493354698, 0.9342188362459156, 0.9538950976504181, 0.9447580004629557, 0.9450555373460374, 0.9183358846939624, 0.9217639812912197, 0.9024573953788915, 0.8940246169163104, 0.898652686966328, 0.8887259023603815, 0.8898615561920407, 0.8943391126365565, 0.8719172298738855, 0.883673189438094, 0.8831562611540122, 0.8242362955553872, 0.8275962529723779, 0.819871903251912, 0.8079283430084967, 0.814011448789111, 0.7946122345888047, 0.7758744814996463, 0.7717031914467896, 0.7831554110931509, 0.7828332715819317, 0.7739746716871556, 0.7430153246250226, 0.7653541912290853, 0.7633132804192502, 0.7631987688296258, 0.7613112132144018, 0.7701631885401268, 0.7482651861248182, 0.7945833037223298, 0.7984659175874831, 0.8051605915415023, 0.7979767991273095, 0.7995308403994432, 0.8061804430966157, 0.8272655038786363, 0.8118053337922526, 0.7811410373304555, 0.7938564281258453, 0.8189063279781599, 0.8350690624962165, 0.8391223694623569, 0.8296427867566165, 0.8061247926716391, 0.7798889089236059, 0.7604941008210107, 0.7707142196635584, 0.7623367128288652, 0.7316718000698788, 0.7270282671921504, 0.7263963902034036, 0.7089257990957818, 0.7051901895466837, 0.6953854245241122, 0.6977256120844331, 0.6749811576370175, 0.6616468216235458, 0.6546101865997933, 0.6628602439559361, 0.6472925482967438, 0.6579476253487746, 0.662885794531197, 0.6527361587526301, 0.6485482240011944, 0.626541389507052, 0.5953797370789919, 0.5927404611121401, 0.5910993267837101, 0.5846085758683759, 0.570724594292503, 0.5746592263638073, 0.5799602861007944, 0.5761782747352222, 0.5910247947907603, 0.5942193880041637, 0.5905803598881585, 0.5819956262204111, 0.5953581094705611, 0.5918464785042574, 0.5841321757739464, 0.5998699978538875, 0.5733556662092307, 0.5650305797367698, 0.553911297540369, 0.5541146919446072, 0.583223778449034, 0.5907256352661832, 0.5769575171947894, 0.5780015570169197, 0.5827802299001568, 0.582073638543644, 0.5665733934253661, 0.5659331194125428, 0.5639310503844182, 0.5454899128802593, 0.5302146047744762, 0.5326694209844658, 0.5376962197267825, 0.5370996536671151, 0.5246192097653273, 0.5162695823470309, 0.5169243122087974, 0.5202748398663957, 0.5058135993546395, 0.5222158809777953, 0.5225912674955544, 0.4902234697915353, 0.48734027983683204, 0.4764145618326743, 0.4812873375481561, 0.4822910204842854, 0.47633501143467916, 0.47402312951029524, 0.469347082638119, 0.47835929266648813, 0.4639043487222958, 0.46324664455657105, 0.4652723779416643, 0.4607211500243298, 0.4618709596931536, 0.4570685844671898, 0.433530406627769, 0.4290589110712477, 0.42195016150812537, 0.4179593914702928, 0.41665539054508294, 0.4220111392429211, 0.4196124720094989, 0.41955307872978054, 0.42285217465797764, 0.4181747712951811, 0.4159516645949166, 0.4088266306636199, 0.40479273284122375, 0.39721659968606193, 0.39507790518993025, 0.4008117770483577, 0.3970953716873198, 0.3931453602954402, 0.39408581957233224, 0.39566114243038397, 0.40049302610024906, 0.40237377981713474, 0.3983384063931985, 0.40045680588963606, 0.3991456072691162, 0.3976985916196747, 0.3991865935835257, 0.38348863115479315, 0.3927465586363943, 0.38913141273654794, 0.40483756943947125, 0.4097433078683852, 0.40523174865466505, 0.4055145295012159, 0.40584992371899764, 0.4006403216870065, 0.3972813810915512, 0.3864605836228572, 0.3900038235566279, 0.38825796908261223, 0.3867368302325751, 0.3828605284596187, 0.3798258514063586, 0.3876988499090115, 0.38387163439880423, 0.3811080326593599, 0.39010170717916504, 0.3805109301548444, 0.41871667493967824, 0.4339553867998349, 0.42623116040362463, 0.42792828021930607, 0.42104568210015136, 0.4226134093066922, 0.4169008302347761, 0.42087834173101735, 0.41672962604106045, 0.4292052803997133, 0.4261488021259914, 0.42666306349203786, 0.4227979510197386, 0.43206725979401606, 0.4291715086101129, 0.43460554000408536, 0.443661688264843, 0.43350735159742193, 0.4319017755454655, 0.42927703400707573, 0.4297415081879783, 0.42381123737272297, 0.41885898092312246, 0.4330511984100345, 0.42712442323751043, 0.4294368057283928, 0.4246246026209146, 0.429462676986593, 0.42876569619066585, 0.41286692884466936, 0.41386182312312725, 0.40928603399346075, 0.4305051221761951, 0.41723451131540656, 0.41018832603753763, 0.410300381007068, 0.4045341979878909, 0.4080922354938381, 0.37331366711868696, 0.36553425630034075, 0.36007686319664245, 0.3622766997029374, 0.3592955947139229, 0.35474299505645535, 0.34668538817784667, 0.34838635107621085, 0.3469907788472977, 0.34657052299770186, 0.34580952791396147, 0.3481955096825633, 0.3500321391001515, 0.34962790224631224, 0.35169432538963674, 0.34926975805752347, 0.35120449030267364, 0.3494141368124519, 0.35644170385039065, 0.35012329241870166, 0.35310565866112054, 0.34353421302040044, 0.34588194119141047, 0.34315517114172245, 0.34390480884849595, 0.34925900773895835, 0.3458736144710879, 0.3477746227456118, 0.3452503259501216, 0.34133050741738025, 0.34676194281257056, 0.34978321624883835, 0.35182236030326, 0.36303756227736095, 0.3651109644671906, 0.35160146908038303, 0.35366447920787936, 0.35206406890788733, 0.35472537167978535, 0.35749409069075133, 0.35962082656413896, 0.35602872772804384, 0.35320694634775407, 0.35774112260086266, 0.35758181338191486, 0.35094646579351707, 0.37186701206883166, 0.3680606643516571, 0.36817507467437594, 0.3671626259094021, 0.36457869194118153, 0.3630038749684119, 0.36874889843927194, 0.36432165027300556, 0.35951418853177763, 0.38195379148694286, 0.35718880219812643, 0.36548990433771644, 0.3561852772282381, 0.3613444888778585, 0.3482048566461038, 0.33501884705124496, 0.33712288406271096, 0.3302574599918522, 0.34732184158299084, 0.3470153133782641, 0.3432891075428466, 0.359256308972121, 0.36811821295106695, 0.36676248724814675, 0.36479997791867147, 0.35468871204865193, 0.35249195748093376, 0.36861102813482693, 0.35188707021101484, 0.3338033701189076, 0.3243023932938365, 0.3303750952626161, 0.36019025413957273, 0.36910041034892904, 0.3751333499258398, 0.34584573653409034, 0.34170577862507434, 0.33630963220955135, 0.33703737269320966, 0.33993021834968795, 0.3340848674935253, 0.32673335986462426, 0.3325675814894855, 0.29101011773918994, 0.2924535264392638, 0.2890517940602404, 0.28231138663638555, 0.2807078927996218, 0.279794487454863, 0.2636464760576538, 0.2502064483055375, 0.2495449179967486, 0.2632865274918932, 0.26931833918190984, 0.2590144679898292, 0.2625114257150365, 0.23944737167099817, 0.25129578808550157, 0.25003284601023434, 0.2532458809004088, 0.251895636021227, 0.25107357802512276, 0.27102462262419724, 0.2742937142495627, 0.2670923061779642, 0.27296504071435423, 0.24682883759735397, 0.2509163501785334, 0.24486057693330343, 0.24779593242001674, 0.24036105889874637, 0.22874003043523405, 0.22770980985958023, 0.2001421347716672, 0.2196003328575049, 0.22610176442778096, 0.245057538006475, 0.24212393083609607, 0.2456212492436225, 0.23174155397694118, 0.19675075438365708, 0.21682101421651234, 0.21778968898808992, 0.21567942643538718, 0.17144649436022474, 0.16674773592148773, 0.1482267468825147, 0.16944690247994387, 0.15822261945212723, 0.18308181530284262, 0.13290300503525954, 0.29899157998195536, 0.29722479682725256, 0.29896488082143113, 0.3031630246503654, 0.33668766148730933, 0.3455809600710409, 0.343018259108951, 0.3316474331803274, 0.33197834718215935, 0.3375374865556622, 0.323340330086078, 0.3231193495337461, 0.32945148289177073, 0.3342551509233602, 0.3328904228389833, 0.35209959940002467, 0.3641702753403626, 0.3737845008648448, 0.3641079243467913, 0.3649784037550132, 0.3621585075288505, 0.3626251724094445, 0.3810647439543837, 0.36580944668749327, 0.37313234733600664, 0.3724428252665559, 0.38677650372956185, 0.38354032695310636, 0.38639589001942554, 0.38286279461845973, 0.3708738733806123, 0.3808446325515322, 0.372157384648113, 0.3695934504996905, 0.3680755602435619, 0.36257423290864876, 0.34798261501507577, 0.35175052459249834, 0.3528930661800205, 0.3548571717892375, 0.35340412045971936, 0.3590925101682694, 0.351749813269842, 0.3544446809995465, 0.3374632232404746, 0.32624582760133336, 0.315632659981647, 0.31974762759122166, 0.3182720031848305, 0.3289622276983475, 0.3310406537102737, 0.32764315984145753, 0.329837426521447, 0.33782509953726425, 0.3375374865556622, 0.33039178849217166, 0.3345400108481291, 0.33387057592487146, 0.3062834620557302, 0.30928578895599346, 0.30313707202710427, 0.3097795678489703, 0.2944092165993273, 0.30388805063819113, 0.3079908718046229, 0.2919438293050578, 0.2743251773691675, 0.2739559715166928, 0.27353589814332935, 0.2561028587987768, 0.2668547178150291, 0.2668634523232174, 0.26917822354645793, 0.27572226530301425, 0.2721512428936923, 0.26947390297142704, 0.2674063777272129, 0.26718279303451853, 0.2696257466025225, 0.27273931195455026, 0.2805491440469403, 0.26397960183914293, 0.26637304358461966, 0.2646827959892848, 0.27038892423214334, 0.2394443750956552, 0.252952109117083, 0.2632112371136448, 0.2609992724836121, 0.2695623729005403, 0.26705233709696863, 0.2673118203021789, 0.2680473698509469, 0.27359851524769097, 0.2807696078579087, 0.2798722847274009, 0.281911900153788, 0.2756528865998593, 0.26658521388647083, 0.27124245098520783, 0.2714098090757324, 0.2757969989803133, 0.28251621067052923, 0.2908737666365937, 0.2768852111810003, 0.2809621729780756, 0.2648424045900506, 0.2631447628463457, 0.2536843756400171, 0.272177934308961, 0.27015869928512437, 0.2858713315914376, 0.3060965164606899, 0.30720480790321947, 0.30937554827216474, 0.3219052032096341, 0.3215640525113259, 0.3206873655761604, 0.3278347605823009, 0.33248578518294236, 0.33380374560826453, 0.33078573174039816, 0.34214616984705426, 0.3338788349142541, 0.3326926869390907, 0.3487723693305518, 0.35292567256342977, 0.35222676728518376, 0.3547595601745077, 0.34800707609846926, 0.3512821433588611, 0.34911671227868446, 0.3461175366996172, 0.3467290842668733, 0.3556486290723888, 0.3484233565292869, 0.3598044968289287, 0.3492332055489351, 0.32780493781961617, 0.27667062185836455, 0.27926754840919843, 0.3029928536987341, 0.31003102280907857, 0.31063164180270375, 0.2996017355858247, 0.29980154187113595, 0.30461969357249297, 0.3015074604613228, 0.308531171859014, 0.3160243593499006, 0.31346319546238144, 0.31411780155006364, 0.31227874501490227, 0.3242421046810722, 0.32451254458551215, 0.30900422339549305, 0.30925950346506426, 0.2957785137642026, 0.30719056511995335, 0.3077500486381406, 0.31059096313961376, 0.3161487497390163, 0.31407595510194364, 0.31371106896664447, 0.3039332606732632, 0.31022866217421985, 0.30916202672040827, 0.3044986859431673, 0.3192332023663833, 0.32166261733178647, 0.3657491085403577, 0.37639023803098404, 0.37535100100122154, 0.3814372319869248, 0.38339038687583304, 0.38073484772935773, 0.3820849146702061, 0.3840458735545367, 0.3856548550149639, 0.3866715505764935, 0.3869552953645008, 0.38907200517257134, 0.3807104099480836, 0.3793691061757758, 0.3855594998243266, 0.388690207974538, 0.39034075089576836, 0.3854943085735143, 0.3941283762566212, 0.39350449816435473, 0.39532273443837385, 0.3866805112920413, 0.36676350689197434, 0.36167220057270066, 0.36155655437816003, 0.3583723642393486, 0.366661526948882, 0.3818034551845475, 0.3880700013844094, 0.3803491719608627, 0.38013119512852445, 0.38829268363280534, 0.37894219722754174, 0.38031524488672286, 0.3996404932081359, 0.4040805920822401, 0.38559096686517025, 0.3828825419170232, 0.3867288309672916, 0.38566930037363134, 0.3775305288070334, 0.40422417480476547, 0.4186632217769417, 0.42293392365900084, 0.4162947899920777, 0.432337214863852, 0.43574396727106324, 0.435201084261569, 0.42154604387104255, 0.43114585878762224, 0.4049747680293607, 0.401524862423686, 0.39257527180483365, 0.3878943621685278, 0.3783142562378665, 0.3615216799801475, 0.35899300888316077, 0.3601295757476395, 0.35832843616572374, 0.36971406934372064, 0.3713971259952493, 0.3675829632305443, 0.3711688078873192, 0.39462832006056825, 0.3941906368344803, 0.3615579354667542, 0.3615579354667542, 0.3615579354667542, 0.3615579354667542, 0.3615579354667542, 0.4025486098018338, 0.38180313041015923, 0.4179023214246995, 0.4291473033732158, 0.4176069139622087, 0.4390067305812253, 0.45093953282643895, 0.4429851124845783, 0.4195046870530623, 0.41503912990187874, 0.40680137622508417, 0.4122217498851568, 0.434475666939782, 0.40201925962416896, 0.39589402521616623, 0.40235821455432985, 0.4333587053012722, 0.4473560565989847, 0.4170234818248848, 0.4653601835028973, 0.4309222460436213, 0.409044747336035, 0.40425603989687664, 0.39911262963043237, 0.38118060176385926, 0.3593897919550897, 0.34983759469926223, 0.3437445233558414, 0.35185507238815106, 0.33948834158687147, 0.3335385439969434, 0.32762594476132634, 0.3107170104535051, 0.3070057602859033, 0.29684964820455706, 0.3011678086371763, 0.2862513280140808, 0.297549665654933, 0.30078009671185413, 0.29297178558598524, 0.2927338018083159, 0.2886836101066206, 0.3069332755816867, 0.33076375304204486, 0.32387511203756336, 0.32424094517698565, 0.31273286555290314, 0.32732357845808346, 0.33064663501223235, 0.3316292913366783, 0.3264762473479004, 0.30313707202710427, 0.30076474475023174, 0.2954055158256592, 0.28633585689372953, 0.29823064442880476, 0.2992063463889325, 0.30858183042955467, 0.26947299078707365, 0.273998264457755, 0.29664300893735707, 0.308741860541748, 0.30189886994727244, 0.2937788046272467, 0.2563658511719811, 0.2670449859356232, 0.22678691743817092, 0.21651015991254852, 0.20578944845797853, 0.19833572806572697, 0.19251945964039852, 0.19380560567405203, 0.19779068739541694, 0.19408812858022273, 0.17767487462182574, 0.1713876024033687, 0.16694055496293547, 0.1618808963526086, 0.16654422105530298, 0.16502167353700425, 0.16667182146914827, 0.16091280870507063, 0.17272297425683059, 0.17765019324964726, 0.1693203682133091, 0.16299973612173302, 0.16494473632314888, 0.16279453127672383, 0.16368053183103815, 0.15926606660083475, 0.1575893388563645, 0.14873696586717333, 0.15445822202540116, 0.14938281502935347, 0.15002020687135076, 0.1472640005325112, 0.16598593547454454, 0.1560454792759387, 0.16165225076690115, 0.15779907556651063, 0.14951262023346779, 0.14663383340361147, 0.13952702781365156, 0.14447332342666552, 0.1371357757995444, 0.08439790654464385, 0.08093952464951792, 0.08125307754375433, 0.08100725789330587, 0.07458468322469347, 0.07607011580562562, 0.06760450573079968, 0.06723991737365687, 0.07226986872415431, 0.07273644397753598, 0.07180263447420998, 0.07106149461564604, 0.07586873082049284, 0.07390907256844903, 0.07172552710846425, 0.07101579337513542, 0.0730908988611656, 0.06620782114237134, 0.06234222315272042, 0.061158612748754226, 0.06305121319705442, 0.0615906725996167, 0.06532385793685691, 0.06759023217897431, 0.06120312815067841, 0.06201362985982728, 0.061030169362898956, 0.06049273543901723, 0.04800296276708638, 0.05632229346255624, 0.05737005983896948, 0.0572002833913432, 0.05693678415671055, 0.056867407354461275, 0.0563361928716386, 0.058121745375117495, 0.05107899568042473, 0.08196130555854708, 0.06970939538287269, 0.06759107181671808, 0.07037697737956394, 0.06507605973229902, 0.06380540179350191, 0.043893864616507905, 0.0390335872231069, 0.037781781757570077, 0.0370707773600909, 0.03866541548480962, 0.04055504059192616, 0.040947509215436106, 0.04489086424072086, 0.043426303241542286, 0.04284861193773137, 0.018323370995720012, 0.01970424321445785, 0.025500899765159346, 0.02511352685035817, 0.024626281733554745, 0.028971711643678066, 0.025279599361351934, 0.02198557579769611, 0.024349857269869712, 0.019938031423095914, 0.02213010659427983, 0.033569898090834105, 0.034591960206566075, 0.034840494040340175, 0.03515367741365649, 0.03312105213648575, 0.03470048488301902, 0.03102522449605294, 0.031720319192062085, 0.04355544511521581, 0.037141670429797546, 0.03892739066548101, 0.03636654635758996, 0.03348054994164196, 0.03966548370161682, 0.026249551763124934, 0.03621056481036522, 0.03786170865331151, 0.036375773730600525, 0.06977779904249948, 0.0689426409717635, 0.07026872227809555, 0.07135881394628862, 0.053406178033360785, 0.054744395112214406, 0.052688485894096804, 0.06080741595297612, 0.05495818282706333, 0.046680072891201796, 0.05572232511351771, 0.04602022368033776, 0.059206037799393485, 0.0347941399540721, 0.05397711298922081, 0.050368614659908495, 0.07342765080876479, 0.06643960752705302, 0.06863393430931675, 0.05894499389193619, 0.07698870849375394, 0.043794630773636545, 0.042310696845767826, 0.02942056516321223, 0.0013239573877763533, 0.0, 0.0011782527593307002, 0.008963903988028044, 0.023476983752575897, 0.017279033156258894, 0.02238817785781233, 0.03281713021526933, 0.020026265344145422, 0.01927503995770774, 0.029070775817342298, 0.05241697155393732, 0.06868917129481078, 0.0629243542689184, 0.0860902117199358, 0.08795317161775218, 0.07605211075720675, 0.09592516068426615, 0.09353115863666872, 0.06246589450442874, 0.06106528217475882, 0.07990891534053723, 0.06743402248430952, 0.10600136293664297, 0.10189865718827118, 0.12312271017254428, 0.1166488117929445, 0.1415951335420802, 0.18756273433379445, 0.18590109141323552, 0.18692354759327268, 0.19303417346948182, 0.2026243914382686, 0.2312709179200354, 0.23065603682086078, 0.23068526954216084, 0.22983441345875066, 0.22916791456192342, 0.23242176883517818, 0.23687584169922182, 0.23387910530677525, 0.2316295828409234, 0.23224674207016793, 0.22726138083648983, 0.2294882075003577, 0.2280702869174509, 0.22650918335176362]}, {\"line\": {\"color\": \"orange\"}, \"name\": \"Test\", \"type\": \"scatter\", \"x\": [1091, 1092, 1093, 1094, 1095, 1096, 1097, 1098, 1099, 1100, 1101, 1102, 1103, 1104, 1105, 1106, 1107, 1108, 1109, 1110, 1111, 1112, 1113, 1114, 1115, 1116, 1117, 1118, 1119, 1120, 1121, 1122, 1123, 1124, 1125, 1126, 1127, 1128, 1129, 1130, 1131, 1132, 1133, 1134, 1135, 1136, 1137, 1138, 1139, 1140, 1141, 1142, 1143, 1144, 1145, 1146, 1147, 1148, 1149, 1150, 1151, 1152, 1153, 1154, 1155, 1156, 1157, 1158, 1159, 1160, 1161, 1162, 1163, 1164, 1165, 1166, 1167, 1168, 1169, 1170, 1171, 1172, 1173, 1174, 1175, 1176, 1177, 1178, 1179, 1180, 1181, 1182, 1183, 1184, 1185, 1186, 1187, 1188, 1189, 1190, 1191, 1192, 1193, 1194, 1195, 1196, 1197, 1198, 1199, 1200, 1201, 1202, 1203, 1204, 1205, 1206, 1207, 1208, 1209, 1210, 1211, 1212, 1213, 1214, 1215, 1216, 1217, 1218, 1219, 1220, 1221, 1222, 1223, 1224, 1225, 1226, 1227, 1228, 1229, 1230, 1231, 1232, 1233, 1234, 1235, 1236, 1237, 1238, 1239, 1240, 1241, 1242, 1243, 1244, 1245, 1246, 1247, 1248, 1249, 1250, 1251, 1252, 1253, 1254, 1255, 1256, 1257, 1258, 1259, 1260, 1261, 1262, 1263, 1264, 1265, 1266, 1267, 1268, 1269, 1270, 1271, 1272, 1273, 1274, 1275, 1276, 1277, 1278, 1279, 1280, 1281, 1282, 1283, 1284, 1285, 1286, 1287, 1288, 1289, 1290, 1291, 1292, 1293, 1294, 1295, 1296, 1297, 1298, 1299, 1300, 1301, 1302, 1303, 1304, 1305, 1306, 1307, 1308, 1309, 1310, 1311, 1312, 1313, 1314, 1315, 1316, 1317, 1318, 1319, 1320, 1321, 1322, 1323, 1324, 1325, 1326, 1327, 1328, 1329, 1330, 1331, 1332, 1333, 1334, 1335, 1336, 1337, 1338, 1339, 1340, 1341, 1342, 1343, 1344, 1345, 1346, 1347, 1348, 1349, 1350, 1351, 1352, 1353, 1354, 1355, 1356, 1357, 1358, 1359, 1360, 1361, 1362], \"y\": [0.2244550331954578, 0.22525674695959275, 0.232436562771563, 0.23353405814142736, 0.23507863036652088, 0.23452757148956183, 0.23642757940784165, 0.23590451093509124, 0.23701674252022453, 0.23763047024807493, 0.23746069068061448, 0.2349272819210011, 0.2389670738567049, 0.24521806538810642, 0.24616442656736437, 0.24549034194107033, 0.22480497800993904, 0.2245861752927607, 0.22287253368622295, 0.2202366200670145, 0.23951279013415938, 0.24090796290677385, 0.24191034346908546, 0.2390505887992167, 0.23825258504929447, 0.240243996568974, 0.23770829861002518, 0.2338206911115419, 0.2351484601475584, 0.23842797045756337, 0.2393304851140936, 0.2378558711533727, 0.240010744717305, 0.24225122475563765, 0.23162907147026246, 0.2305744792581712, 0.2376771694624824, 0.24382719044888512, 0.24465661585544618, 0.24647846474825474, 0.23312451478110452, 0.2275566045660966, 0.22474389491594993, 0.2206317625994627, 0.23326142481415202, 0.23422683718602677, 0.2326390201649855, 0.23244625499186045, 0.22483212243172845, 0.22261776795150778, 0.22409739381640215, 0.22041071021673186, 0.2168317096820509, 0.22815969888655063, 0.233805958946669, 0.2433773981137941, 0.27425011040822556, 0.2702456212042499, 0.27178050724505676, 0.26772702904280754, 0.25871588242753996, 0.25734240811350695, 0.2592398769139881, 0.2613032851087844, 0.2528590829238522, 0.24328756367619242, 0.24495931771593327, 0.24260956394325328, 0.23425017543186666, 0.22574694297889586, 0.23149813457016322, 0.22023767864262256, 0.23159685352489712, 0.22800825285613335, 0.2371339464003519, 0.22310664005739245, 0.2208278361534286, 0.21649088910255188, 0.22060638609969452, 0.22362465415327026, 0.21853907761349944, 0.21490039548968376, 0.23463197847750905, 0.22171479154965468, 0.2448247085560209, 0.25478284435029996, 0.25905400801075595, 0.2583868437506851, 0.27692445570724633, 0.2822784801618723, 0.285687683772748, 0.29089343201920626, 0.3092417090241466, 0.3111620201784593, 0.31159679474442026, 0.30902445879826246, 0.29944263679985106, 0.3092659739335408, 0.31853792879677867, 0.28976849047268294, 0.2756582583739684, 0.2761672856490005, 0.2734155859849601, 0.27906646214738373, 0.27444830423533206, 0.27251297714090583, 0.24510418243036192, 0.2250700627719513, 0.22107976007731, 0.21854333367968204, 0.21947993110385644, 0.22607108376406382, 0.22255680520467225, 0.24053632586569762, 0.2430203842144505, 0.2462828373409489, 0.238261105917994, 0.23595296861415438, 0.23817789274772538, 0.233210535507673, 0.23914058130128746, 0.2251931401587246, 0.2274861891483173, 0.2172822093767186, 0.19846350999917028, 0.21423973803949314, 0.21114127966122398, 0.22023609077794015, 0.21386763875484105, 0.2145247309772662, 0.21000390875762065, 0.24374437990589692, 0.24569526003529107, 0.24547366837835893, 0.24332952235634453, 0.23024445319291864, 0.23320137460105972, 0.22710796767421648, 0.2397548757134067, 0.22339563257373918, 0.23513732885122218, 0.2515130336245286, 0.24743390779582786, 0.28075285776620085, 0.28496034078282584, 0.2884240006482619, 0.28701347418788803, 0.28614726281022973, 0.2803726671496558, 0.2894925593979698, 0.2876478330315564, 0.28182579373140104, 0.27970561704878527, 0.27602914743009155, 0.27834526763712963, 0.26279171411076696, 0.27502288911009076, 0.27451703762385593, 0.27867368150480987, 0.2829123408847649, 0.28024863580555115, 0.30193029501853585, 0.3177249250592422, 0.32234242069466656, 0.3117967116925615, 0.3110743531404192, 0.3051819006690377, 0.31546878574259196, 0.321178471635966, 0.32861989014167303, 0.32899842309650573, 0.32007734845198454, 0.3172385306411214, 0.34243602434155873, 0.35140072500621367, 0.3478912296745129, 0.3542248284314513, 0.36427302605903744, 0.37130863371322276, 0.366151155128263, 0.3682217752079242, 0.3497467204340978, 0.3445168216727379, 0.3495681191298714, 0.3552473304781909, 0.35391827318160685, 0.3379841997837678, 0.35106837537978164, 0.3360490433871073, 0.36499138885189497, 0.33813099366460886, 0.3332024167699026, 0.33792042052456894, 0.3364217825094884, 0.31402475106493544, 0.30837914958459534, 0.2991500618817877, 0.30499793651366014, 0.3155239486059034, 0.30189886994727244, 0.29610524998525944, 0.29936639220173955, 0.25595608084052524, 0.2505558048777248, 0.24685960576763888, 0.25928428465892006, 0.25205481224910065, 0.23856170197331084, 0.2476498059642287, 0.24895146483181518, 0.2765554625104243, 0.259798736359655, 0.24813712981746372, 0.2544393038705133, 0.2520057938602238, 0.2636747908732673, 0.299616909551482, 0.2945281606410477, 0.30804404856634315, 0.3207764277709213, 0.3232356734883344, 0.3367412582506697, 0.3307868986039981, 0.3373741222946567, 0.3360490433871073, 0.3261055770332004, 0.3091458992236875, 0.29704889922108, 0.31327946563999554, 0.31171612912732316, 0.31167709719319747, 0.34585985682177345, 0.34654056632125796, 0.35944365655038135, 0.33410421900404463, 0.3497073576895562, 0.35245837289394366, 0.37239137056731053, 0.3987712566764081, 0.4217962448969481, 0.4234655161727092, 0.4216335870094552, 0.40983044970706217, 0.40335596072604885, 0.38725572907343153, 0.3961279882174402, 0.38454259643932387, 0.3598402468562898, 0.3661000746119951, 0.3814547887650446, 0.37071640022374686, 0.3918561572588177, 0.4157360487277546, 0.41225950892527674, 0.38911838846182567, 0.4097609832084723, 0.3806413227210239, 0.377691368966683, 0.35700227324716893, 0.32349188693454334, 0.3363845274910231, 0.3029392708735026, 0.3245893864438103, 0.32951808936449734, 0.31357697689429864, 0.28340389439198876, 0.2898744246114129, 0.25800931910358926, 0.3099026956841304, 0.3492457574451584, 0.3356228609942846, 0.34926796636202395]}],\n",
              "                        {\"height\": 600, \"shapes\": [{\"fillcolor\": \"#F6B28D\", \"line\": {\"color\": \"#F6B28D\"}, \"opacity\": 0.1, \"type\": \"rect\", \"x0\": 1091, \"x1\": 1362, \"xref\": \"x\", \"y0\": 0, \"y1\": 1, \"yref\": \"paper\"}, {\"fillcolor\": \"#7BA1AA\", \"line\": {\"color\": \"#7BA1AA\"}, \"opacity\": 0.1, \"type\": \"rect\", \"x0\": 0, \"x1\": 1090, \"xref\": \"x\", \"y0\": 0, \"y1\": 1, \"yref\": \"paper\"}], \"template\": {\"data\": {\"bar\": [{\"error_x\": {\"color\": \"#2a3f5f\"}, \"error_y\": {\"color\": \"#2a3f5f\"}, \"marker\": {\"line\": {\"color\": \"white\", \"width\": 0.5}}, \"type\": \"bar\"}], \"barpolar\": [{\"marker\": {\"line\": {\"color\": \"white\", \"width\": 0.5}}, \"type\": \"barpolar\"}], \"carpet\": [{\"aaxis\": {\"endlinecolor\": \"#2a3f5f\", \"gridcolor\": \"#C8D4E3\", \"linecolor\": \"#C8D4E3\", \"minorgridcolor\": \"#C8D4E3\", \"startlinecolor\": \"#2a3f5f\"}, \"baxis\": {\"endlinecolor\": \"#2a3f5f\", \"gridcolor\": \"#C8D4E3\", \"linecolor\": \"#C8D4E3\", \"minorgridcolor\": \"#C8D4E3\", \"startlinecolor\": \"#2a3f5f\"}, \"type\": \"carpet\"}], \"choropleth\": [{\"colorbar\": {\"outlinewidth\": 0, \"ticks\": \"\"}, \"type\": \"choropleth\"}], \"contour\": [{\"colorbar\": {\"outlinewidth\": 0, \"ticks\": \"\"}, \"colorscale\": [[0.0, \"#0d0887\"], [0.1111111111111111, \"#46039f\"], [0.2222222222222222, \"#7201a8\"], [0.3333333333333333, \"#9c179e\"], [0.4444444444444444, \"#bd3786\"], [0.5555555555555556, \"#d8576b\"], [0.6666666666666666, \"#ed7953\"], [0.7777777777777778, \"#fb9f3a\"], [0.8888888888888888, \"#fdca26\"], [1.0, \"#f0f921\"]], \"type\": \"contour\"}], \"contourcarpet\": [{\"colorbar\": {\"outlinewidth\": 0, \"ticks\": \"\"}, \"type\": \"contourcarpet\"}], \"heatmap\": [{\"colorbar\": {\"outlinewidth\": 0, \"ticks\": \"\"}, \"colorscale\": [[0.0, \"#0d0887\"], [0.1111111111111111, \"#46039f\"], [0.2222222222222222, \"#7201a8\"], [0.3333333333333333, \"#9c179e\"], [0.4444444444444444, \"#bd3786\"], [0.5555555555555556, \"#d8576b\"], [0.6666666666666666, \"#ed7953\"], [0.7777777777777778, \"#fb9f3a\"], [0.8888888888888888, \"#fdca26\"], [1.0, \"#f0f921\"]], \"type\": \"heatmap\"}], \"heatmapgl\": [{\"colorbar\": {\"outlinewidth\": 0, \"ticks\": \"\"}, \"colorscale\": [[0.0, \"#0d0887\"], [0.1111111111111111, \"#46039f\"], [0.2222222222222222, \"#7201a8\"], [0.3333333333333333, \"#9c179e\"], [0.4444444444444444, \"#bd3786\"], [0.5555555555555556, \"#d8576b\"], [0.6666666666666666, \"#ed7953\"], [0.7777777777777778, \"#fb9f3a\"], [0.8888888888888888, \"#fdca26\"], [1.0, \"#f0f921\"]], \"type\": \"heatmapgl\"}], \"histogram\": [{\"marker\": {\"colorbar\": {\"outlinewidth\": 0, \"ticks\": \"\"}}, \"type\": \"histogram\"}], \"histogram2d\": [{\"colorbar\": {\"outlinewidth\": 0, \"ticks\": \"\"}, \"colorscale\": [[0.0, \"#0d0887\"], [0.1111111111111111, \"#46039f\"], [0.2222222222222222, \"#7201a8\"], [0.3333333333333333, \"#9c179e\"], [0.4444444444444444, \"#bd3786\"], [0.5555555555555556, \"#d8576b\"], [0.6666666666666666, \"#ed7953\"], [0.7777777777777778, \"#fb9f3a\"], [0.8888888888888888, \"#fdca26\"], [1.0, \"#f0f921\"]], \"type\": \"histogram2d\"}], \"histogram2dcontour\": [{\"colorbar\": {\"outlinewidth\": 0, \"ticks\": \"\"}, \"colorscale\": [[0.0, \"#0d0887\"], [0.1111111111111111, \"#46039f\"], [0.2222222222222222, \"#7201a8\"], [0.3333333333333333, \"#9c179e\"], [0.4444444444444444, \"#bd3786\"], [0.5555555555555556, \"#d8576b\"], [0.6666666666666666, \"#ed7953\"], [0.7777777777777778, \"#fb9f3a\"], [0.8888888888888888, \"#fdca26\"], [1.0, \"#f0f921\"]], \"type\": \"histogram2dcontour\"}], \"mesh3d\": [{\"colorbar\": {\"outlinewidth\": 0, \"ticks\": \"\"}, \"type\": \"mesh3d\"}], \"parcoords\": [{\"line\": {\"colorbar\": {\"outlinewidth\": 0, \"ticks\": \"\"}}, \"type\": \"parcoords\"}], \"pie\": [{\"automargin\": true, \"type\": \"pie\"}], \"scatter\": [{\"marker\": {\"colorbar\": {\"outlinewidth\": 0, \"ticks\": \"\"}}, \"type\": \"scatter\"}], \"scatter3d\": [{\"line\": {\"colorbar\": {\"outlinewidth\": 0, \"ticks\": \"\"}}, \"marker\": {\"colorbar\": {\"outlinewidth\": 0, \"ticks\": \"\"}}, \"type\": \"scatter3d\"}], \"scattercarpet\": [{\"marker\": {\"colorbar\": {\"outlinewidth\": 0, \"ticks\": \"\"}}, \"type\": \"scattercarpet\"}], \"scattergeo\": [{\"marker\": {\"colorbar\": {\"outlinewidth\": 0, \"ticks\": \"\"}}, \"type\": \"scattergeo\"}], \"scattergl\": [{\"marker\": {\"colorbar\": {\"outlinewidth\": 0, \"ticks\": \"\"}}, \"type\": \"scattergl\"}], \"scattermapbox\": [{\"marker\": {\"colorbar\": {\"outlinewidth\": 0, \"ticks\": \"\"}}, \"type\": \"scattermapbox\"}], \"scatterpolar\": [{\"marker\": {\"colorbar\": {\"outlinewidth\": 0, \"ticks\": \"\"}}, \"type\": \"scatterpolar\"}], \"scatterpolargl\": [{\"marker\": {\"colorbar\": {\"outlinewidth\": 0, \"ticks\": \"\"}}, \"type\": \"scatterpolargl\"}], \"scatterternary\": [{\"marker\": {\"colorbar\": {\"outlinewidth\": 0, \"ticks\": \"\"}}, \"type\": \"scatterternary\"}], \"surface\": [{\"colorbar\": {\"outlinewidth\": 0, \"ticks\": \"\"}, \"colorscale\": [[0.0, \"#0d0887\"], [0.1111111111111111, \"#46039f\"], [0.2222222222222222, \"#7201a8\"], [0.3333333333333333, \"#9c179e\"], [0.4444444444444444, \"#bd3786\"], [0.5555555555555556, \"#d8576b\"], [0.6666666666666666, \"#ed7953\"], [0.7777777777777778, \"#fb9f3a\"], [0.8888888888888888, \"#fdca26\"], [1.0, \"#f0f921\"]], \"type\": \"surface\"}], \"table\": [{\"cells\": {\"fill\": {\"color\": \"#EBF0F8\"}, \"line\": {\"color\": \"white\"}}, \"header\": {\"fill\": {\"color\": \"#C8D4E3\"}, \"line\": {\"color\": \"white\"}}, \"type\": \"table\"}]}, \"layout\": {\"annotationdefaults\": {\"arrowcolor\": \"#2a3f5f\", \"arrowhead\": 0, \"arrowwidth\": 1}, \"coloraxis\": {\"colorbar\": {\"outlinewidth\": 0, \"ticks\": \"\"}}, \"colorscale\": {\"diverging\": [[0, \"#8e0152\"], [0.1, \"#c51b7d\"], [0.2, \"#de77ae\"], [0.3, \"#f1b6da\"], [0.4, \"#fde0ef\"], [0.5, \"#f7f7f7\"], [0.6, \"#e6f5d0\"], [0.7, \"#b8e186\"], [0.8, \"#7fbc41\"], [0.9, \"#4d9221\"], [1, \"#276419\"]], \"sequential\": [[0.0, \"#0d0887\"], [0.1111111111111111, \"#46039f\"], [0.2222222222222222, \"#7201a8\"], [0.3333333333333333, \"#9c179e\"], [0.4444444444444444, \"#bd3786\"], [0.5555555555555556, \"#d8576b\"], [0.6666666666666666, \"#ed7953\"], [0.7777777777777778, \"#fb9f3a\"], [0.8888888888888888, \"#fdca26\"], [1.0, \"#f0f921\"]], \"sequentialminus\": [[0.0, \"#0d0887\"], [0.1111111111111111, \"#46039f\"], [0.2222222222222222, \"#7201a8\"], [0.3333333333333333, \"#9c179e\"], [0.4444444444444444, \"#bd3786\"], [0.5555555555555556, \"#d8576b\"], [0.6666666666666666, \"#ed7953\"], [0.7777777777777778, \"#fb9f3a\"], [0.8888888888888888, \"#fdca26\"], [1.0, \"#f0f921\"]]}, \"colorway\": [\"#636efa\", \"#EF553B\", \"#00cc96\", \"#ab63fa\", \"#FFA15A\", \"#19d3f3\", \"#FF6692\", \"#B6E880\", \"#FF97FF\", \"#FECB52\"], \"font\": {\"color\": \"#2a3f5f\"}, \"geo\": {\"bgcolor\": \"white\", \"lakecolor\": \"white\", \"landcolor\": \"white\", \"showlakes\": true, \"showland\": true, \"subunitcolor\": \"#C8D4E3\"}, \"hoverlabel\": {\"align\": \"left\"}, \"hovermode\": \"closest\", \"mapbox\": {\"style\": \"light\"}, \"paper_bgcolor\": \"white\", \"plot_bgcolor\": \"white\", \"polar\": {\"angularaxis\": {\"gridcolor\": \"#EBF0F8\", \"linecolor\": \"#EBF0F8\", \"ticks\": \"\"}, \"bgcolor\": \"white\", \"radialaxis\": {\"gridcolor\": \"#EBF0F8\", \"linecolor\": \"#EBF0F8\", \"ticks\": \"\"}}, \"scene\": {\"xaxis\": {\"backgroundcolor\": \"white\", \"gridcolor\": \"#DFE8F3\", \"gridwidth\": 2, \"linecolor\": \"#EBF0F8\", \"showbackground\": true, \"ticks\": \"\", \"zerolinecolor\": \"#EBF0F8\"}, \"yaxis\": {\"backgroundcolor\": \"white\", \"gridcolor\": \"#DFE8F3\", \"gridwidth\": 2, \"linecolor\": \"#EBF0F8\", \"showbackground\": true, \"ticks\": \"\", \"zerolinecolor\": \"#EBF0F8\"}, \"zaxis\": {\"backgroundcolor\": \"white\", \"gridcolor\": \"#DFE8F3\", \"gridwidth\": 2, \"linecolor\": \"#EBF0F8\", \"showbackground\": true, \"ticks\": \"\", \"zerolinecolor\": \"#EBF0F8\"}}, \"shapedefaults\": {\"line\": {\"color\": \"#2a3f5f\"}}, \"ternary\": {\"aaxis\": {\"gridcolor\": \"#DFE8F3\", \"linecolor\": \"#A2B1C6\", \"ticks\": \"\"}, \"baxis\": {\"gridcolor\": \"#DFE8F3\", \"linecolor\": \"#A2B1C6\", \"ticks\": \"\"}, \"bgcolor\": \"white\", \"caxis\": {\"gridcolor\": \"#DFE8F3\", \"linecolor\": \"#A2B1C6\", \"ticks\": \"\"}}, \"title\": {\"x\": 0.05}, \"xaxis\": {\"automargin\": true, \"gridcolor\": \"#EBF0F8\", \"linecolor\": \"#EBF0F8\", \"ticks\": \"\", \"title\": {\"standoff\": 15}, \"zerolinecolor\": \"#EBF0F8\", \"zerolinewidth\": 2}, \"yaxis\": {\"automargin\": true, \"gridcolor\": \"#EBF0F8\", \"linecolor\": \"#EBF0F8\", \"ticks\": \"\", \"title\": {\"standoff\": 15}, \"zerolinecolor\": \"#EBF0F8\", \"zerolinewidth\": 2}}}, \"title\": {\"text\": \"Train/Test Datasets (Scaled)\"}, \"width\": 600, \"xaxis\": {\"title\": {\"text\": \"time steps\"}}, \"yaxis\": {\"title\": {\"text\": \"Closing Price (Scaled)\"}}},\n",
              "                        {\"responsive\": true}\n",
              "                    ).then(function(){\n",
              "                            \n",
              "var gd = document.getElementById('4ebceaf6-3e0c-46aa-9af4-8ad302baa15b');\n",
              "var x = new MutationObserver(function (mutations, observer) {{\n",
              "        var display = window.getComputedStyle(gd).display;\n",
              "        if (!display || display === 'none') {{\n",
              "            console.log([gd, 'removed!']);\n",
              "            Plotly.purge(gd);\n",
              "            observer.disconnect();\n",
              "        }}\n",
              "}});\n",
              "\n",
              "// Listen for the removal of the full notebook cells\n",
              "var notebookContainer = gd.closest('#notebook-container');\n",
              "if (notebookContainer) {{\n",
              "    x.observe(notebookContainer, {childList: true});\n",
              "}}\n",
              "\n",
              "// Listen for the clearing of the current output cell\n",
              "var outputEl = gd.closest('.output');\n",
              "if (outputEl) {{\n",
              "    x.observe(outputEl, {childList: true});\n",
              "}}\n",
              "\n",
              "                        })\n",
              "                };\n",
              "                \n",
              "            </script>\n",
              "        </div>\n",
              "</body>\n",
              "</html>"
            ]
          },
          "metadata": {}
        },
        {
          "output_type": "stream",
          "name": "stdout",
          "text": [
            "Train/Test Dimensions\n",
            "============================================================\n",
            "Train Data Dimensions:  x (1028, 60, 44) y (1028, 3)\n",
            "Test Data Dimensions :  x (209, 60, 44)  y (209, 3)\n",
            "\n",
            "\n",
            "Check the dimensions of the training windows\n",
            "============================================================\n",
            "The last value in the training batch should match the first value in the predict batch\n",
            "Last Training Value:    0.8865002241167672\n",
            "First Prediction Value: 0.8865002241167672\n"
          ]
        },
        {
          "output_type": "display_data",
          "data": {
            "text/html": [
              "<html>\n",
              "<head><meta charset=\"utf-8\" /></head>\n",
              "<body>\n",
              "    <div>\n",
              "            <script src=\"https://cdnjs.cloudflare.com/ajax/libs/mathjax/2.7.5/MathJax.js?config=TeX-AMS-MML_SVG\"></script><script type=\"text/javascript\">if (window.MathJax) {MathJax.Hub.Config({SVG: {font: \"STIX-Web\"}});}</script>\n",
              "                <script type=\"text/javascript\">window.PlotlyConfig = {MathJaxConfig: 'local'};</script>\n",
              "        <script src=\"https://cdn.plot.ly/plotly-latest.min.js\"></script>    \n",
              "            <div id=\"3b0ee0a4-8c7b-4305-94c3-648aaeaf1b93\" class=\"plotly-graph-div\" style=\"height:500px; width:700px;\"></div>\n",
              "            <script type=\"text/javascript\">\n",
              "                \n",
              "                    window.PLOTLYENV=window.PLOTLYENV || {};\n",
              "                    \n",
              "                if (document.getElementById(\"3b0ee0a4-8c7b-4305-94c3-648aaeaf1b93\")) {\n",
              "                    Plotly.newPlot(\n",
              "                        '3b0ee0a4-8c7b-4305-94c3-648aaeaf1b93',\n",
              "                        [{\"fill\": \"tozeroy\", \"line\": {\"color\": \"#a8b8d0\"}, \"name\": \"train window\", \"type\": \"scatter\", \"x\": [0, 1, 2, 3, 4, 5, 6, 7, 8, 9, 10, 11, 12, 13, 14, 15, 16, 17, 18, 19, 20, 21, 22, 23, 24, 25, 26, 27, 28, 29, 30, 31, 32, 33, 34, 35, 36, 37, 38, 39, 40, 41, 42, 43, 44, 45, 46, 47, 48, 49, 50, 51, 52, 53, 54, 55, 56, 57, 58, 59], \"y\": [0.9580765888495439, 0.9576670758221084, 0.9453763356891165, 0.957162485735437, 0.9633598965740133, 0.9583644926729984, 0.9518634980287217, 0.9627210206337722, 0.961341217066062, 0.9614303197050118, 0.9614853350765582, 0.9551441991821128, 0.944326730624494, 0.9446218114684206, 0.9397333072320624, 0.9166297017572553, 0.9230762400639816, 0.9356958167768896, 0.9341432543219352, 0.953454182120641, 0.9579201070212395, 0.9574173851070915, 0.9551906863147401, 0.9623058749730284, 0.9508141872413947, 0.9433882879276654, 0.9628807992600001, 0.9748903192502398, 0.952911628964658, 0.9560358989375546, 0.9448860818700342, 0.9389426411594459, 0.9234797686171365, 0.9145640186136785, 0.9005589371992881, 0.8997991659992448, 0.897223969857424, 0.9103655545978868, 0.8976631453504194, 0.9054071737065241, 0.8742945001464744, 0.8813797301116311, 0.8826520474714901, 0.8884081112520268, 0.9060569336371875, 0.9007663493354698, 0.9342188362459156, 0.9538950976504181, 0.9447580004629557, 0.9450555373460374, 0.9183358846939624, 0.9217639812912197, 0.9024573953788915, 0.8940246169163104, 0.898652686966328, 0.8887259023603815, 0.8898615561920407, 0.8943391126365565, 0.8719172298738855, 0.883673189438094]}, {\"fill\": \"tozeroy\", \"line\": {\"color\": \"orange\"}, \"name\": \"predict window\", \"type\": \"scatter\", \"x\": [59, 60, 61], \"y\": [0.883673189438094, 0.8831562611540122, 0.8242362955553872]}],\n",
              "                        {\"height\": 500, \"template\": {\"data\": {\"bar\": [{\"error_x\": {\"color\": \"#2a3f5f\"}, \"error_y\": {\"color\": \"#2a3f5f\"}, \"marker\": {\"line\": {\"color\": \"white\", \"width\": 0.5}}, \"type\": \"bar\"}], \"barpolar\": [{\"marker\": {\"line\": {\"color\": \"white\", \"width\": 0.5}}, \"type\": \"barpolar\"}], \"carpet\": [{\"aaxis\": {\"endlinecolor\": \"#2a3f5f\", \"gridcolor\": \"#C8D4E3\", \"linecolor\": \"#C8D4E3\", \"minorgridcolor\": \"#C8D4E3\", \"startlinecolor\": \"#2a3f5f\"}, \"baxis\": {\"endlinecolor\": \"#2a3f5f\", \"gridcolor\": \"#C8D4E3\", \"linecolor\": \"#C8D4E3\", \"minorgridcolor\": \"#C8D4E3\", \"startlinecolor\": \"#2a3f5f\"}, \"type\": \"carpet\"}], \"choropleth\": [{\"colorbar\": {\"outlinewidth\": 0, \"ticks\": \"\"}, \"type\": \"choropleth\"}], \"contour\": [{\"colorbar\": {\"outlinewidth\": 0, \"ticks\": \"\"}, \"colorscale\": [[0.0, \"#0d0887\"], [0.1111111111111111, \"#46039f\"], [0.2222222222222222, \"#7201a8\"], [0.3333333333333333, \"#9c179e\"], [0.4444444444444444, \"#bd3786\"], [0.5555555555555556, \"#d8576b\"], [0.6666666666666666, \"#ed7953\"], [0.7777777777777778, \"#fb9f3a\"], [0.8888888888888888, \"#fdca26\"], [1.0, \"#f0f921\"]], \"type\": \"contour\"}], \"contourcarpet\": [{\"colorbar\": {\"outlinewidth\": 0, \"ticks\": \"\"}, \"type\": \"contourcarpet\"}], \"heatmap\": [{\"colorbar\": {\"outlinewidth\": 0, \"ticks\": \"\"}, \"colorscale\": [[0.0, \"#0d0887\"], [0.1111111111111111, \"#46039f\"], [0.2222222222222222, \"#7201a8\"], [0.3333333333333333, \"#9c179e\"], [0.4444444444444444, \"#bd3786\"], [0.5555555555555556, \"#d8576b\"], [0.6666666666666666, \"#ed7953\"], [0.7777777777777778, \"#fb9f3a\"], [0.8888888888888888, \"#fdca26\"], [1.0, \"#f0f921\"]], \"type\": \"heatmap\"}], \"heatmapgl\": [{\"colorbar\": {\"outlinewidth\": 0, \"ticks\": \"\"}, \"colorscale\": [[0.0, \"#0d0887\"], [0.1111111111111111, \"#46039f\"], [0.2222222222222222, \"#7201a8\"], [0.3333333333333333, \"#9c179e\"], [0.4444444444444444, \"#bd3786\"], [0.5555555555555556, \"#d8576b\"], [0.6666666666666666, \"#ed7953\"], [0.7777777777777778, \"#fb9f3a\"], [0.8888888888888888, \"#fdca26\"], [1.0, \"#f0f921\"]], \"type\": \"heatmapgl\"}], \"histogram\": [{\"marker\": {\"colorbar\": {\"outlinewidth\": 0, \"ticks\": \"\"}}, \"type\": \"histogram\"}], \"histogram2d\": [{\"colorbar\": {\"outlinewidth\": 0, \"ticks\": \"\"}, \"colorscale\": [[0.0, \"#0d0887\"], [0.1111111111111111, \"#46039f\"], [0.2222222222222222, \"#7201a8\"], [0.3333333333333333, \"#9c179e\"], [0.4444444444444444, \"#bd3786\"], [0.5555555555555556, \"#d8576b\"], [0.6666666666666666, \"#ed7953\"], [0.7777777777777778, \"#fb9f3a\"], [0.8888888888888888, \"#fdca26\"], [1.0, \"#f0f921\"]], \"type\": \"histogram2d\"}], \"histogram2dcontour\": [{\"colorbar\": {\"outlinewidth\": 0, \"ticks\": \"\"}, \"colorscale\": [[0.0, \"#0d0887\"], [0.1111111111111111, \"#46039f\"], [0.2222222222222222, \"#7201a8\"], [0.3333333333333333, \"#9c179e\"], [0.4444444444444444, \"#bd3786\"], [0.5555555555555556, \"#d8576b\"], [0.6666666666666666, \"#ed7953\"], [0.7777777777777778, \"#fb9f3a\"], [0.8888888888888888, \"#fdca26\"], [1.0, \"#f0f921\"]], \"type\": \"histogram2dcontour\"}], \"mesh3d\": [{\"colorbar\": {\"outlinewidth\": 0, \"ticks\": \"\"}, \"type\": \"mesh3d\"}], \"parcoords\": [{\"line\": {\"colorbar\": {\"outlinewidth\": 0, \"ticks\": \"\"}}, \"type\": \"parcoords\"}], \"pie\": [{\"automargin\": true, \"type\": \"pie\"}], \"scatter\": [{\"marker\": {\"colorbar\": {\"outlinewidth\": 0, \"ticks\": \"\"}}, \"type\": \"scatter\"}], \"scatter3d\": [{\"line\": {\"colorbar\": {\"outlinewidth\": 0, \"ticks\": \"\"}}, \"marker\": {\"colorbar\": {\"outlinewidth\": 0, \"ticks\": \"\"}}, \"type\": \"scatter3d\"}], \"scattercarpet\": [{\"marker\": {\"colorbar\": {\"outlinewidth\": 0, \"ticks\": \"\"}}, \"type\": \"scattercarpet\"}], \"scattergeo\": [{\"marker\": {\"colorbar\": {\"outlinewidth\": 0, \"ticks\": \"\"}}, \"type\": \"scattergeo\"}], \"scattergl\": [{\"marker\": {\"colorbar\": {\"outlinewidth\": 0, \"ticks\": \"\"}}, \"type\": \"scattergl\"}], \"scattermapbox\": [{\"marker\": {\"colorbar\": {\"outlinewidth\": 0, \"ticks\": \"\"}}, \"type\": \"scattermapbox\"}], \"scatterpolar\": [{\"marker\": {\"colorbar\": {\"outlinewidth\": 0, \"ticks\": \"\"}}, \"type\": \"scatterpolar\"}], \"scatterpolargl\": [{\"marker\": {\"colorbar\": {\"outlinewidth\": 0, \"ticks\": \"\"}}, \"type\": \"scatterpolargl\"}], \"scatterternary\": [{\"marker\": {\"colorbar\": {\"outlinewidth\": 0, \"ticks\": \"\"}}, \"type\": \"scatterternary\"}], \"surface\": [{\"colorbar\": {\"outlinewidth\": 0, \"ticks\": \"\"}, \"colorscale\": [[0.0, \"#0d0887\"], [0.1111111111111111, \"#46039f\"], [0.2222222222222222, \"#7201a8\"], [0.3333333333333333, \"#9c179e\"], [0.4444444444444444, \"#bd3786\"], [0.5555555555555556, \"#d8576b\"], [0.6666666666666666, \"#ed7953\"], [0.7777777777777778, \"#fb9f3a\"], [0.8888888888888888, \"#fdca26\"], [1.0, \"#f0f921\"]], \"type\": \"surface\"}], \"table\": [{\"cells\": {\"fill\": {\"color\": \"#EBF0F8\"}, \"line\": {\"color\": \"white\"}}, \"header\": {\"fill\": {\"color\": \"#C8D4E3\"}, \"line\": {\"color\": \"white\"}}, \"type\": \"table\"}]}, \"layout\": {\"annotationdefaults\": {\"arrowcolor\": \"#2a3f5f\", \"arrowhead\": 0, \"arrowwidth\": 1}, \"coloraxis\": {\"colorbar\": {\"outlinewidth\": 0, \"ticks\": \"\"}}, \"colorscale\": {\"diverging\": [[0, \"#8e0152\"], [0.1, \"#c51b7d\"], [0.2, \"#de77ae\"], [0.3, \"#f1b6da\"], [0.4, \"#fde0ef\"], [0.5, \"#f7f7f7\"], [0.6, \"#e6f5d0\"], [0.7, \"#b8e186\"], [0.8, \"#7fbc41\"], [0.9, \"#4d9221\"], [1, \"#276419\"]], \"sequential\": [[0.0, \"#0d0887\"], [0.1111111111111111, \"#46039f\"], [0.2222222222222222, \"#7201a8\"], [0.3333333333333333, \"#9c179e\"], [0.4444444444444444, \"#bd3786\"], [0.5555555555555556, \"#d8576b\"], [0.6666666666666666, \"#ed7953\"], [0.7777777777777778, \"#fb9f3a\"], [0.8888888888888888, \"#fdca26\"], [1.0, \"#f0f921\"]], \"sequentialminus\": [[0.0, \"#0d0887\"], [0.1111111111111111, \"#46039f\"], [0.2222222222222222, \"#7201a8\"], [0.3333333333333333, \"#9c179e\"], [0.4444444444444444, \"#bd3786\"], [0.5555555555555556, \"#d8576b\"], [0.6666666666666666, \"#ed7953\"], [0.7777777777777778, \"#fb9f3a\"], [0.8888888888888888, \"#fdca26\"], [1.0, \"#f0f921\"]]}, \"colorway\": [\"#636efa\", \"#EF553B\", \"#00cc96\", \"#ab63fa\", \"#FFA15A\", \"#19d3f3\", \"#FF6692\", \"#B6E880\", \"#FF97FF\", \"#FECB52\"], \"font\": {\"color\": \"#2a3f5f\"}, \"geo\": {\"bgcolor\": \"white\", \"lakecolor\": \"white\", \"landcolor\": \"white\", \"showlakes\": true, \"showland\": true, \"subunitcolor\": \"#C8D4E3\"}, \"hoverlabel\": {\"align\": \"left\"}, \"hovermode\": \"closest\", \"mapbox\": {\"style\": \"light\"}, \"paper_bgcolor\": \"white\", \"plot_bgcolor\": \"white\", \"polar\": {\"angularaxis\": {\"gridcolor\": \"#EBF0F8\", \"linecolor\": \"#EBF0F8\", \"ticks\": \"\"}, \"bgcolor\": \"white\", \"radialaxis\": {\"gridcolor\": \"#EBF0F8\", \"linecolor\": \"#EBF0F8\", \"ticks\": \"\"}}, \"scene\": {\"xaxis\": {\"backgroundcolor\": \"white\", \"gridcolor\": \"#DFE8F3\", \"gridwidth\": 2, \"linecolor\": \"#EBF0F8\", \"showbackground\": true, \"ticks\": \"\", \"zerolinecolor\": \"#EBF0F8\"}, \"yaxis\": {\"backgroundcolor\": \"white\", \"gridcolor\": \"#DFE8F3\", \"gridwidth\": 2, \"linecolor\": \"#EBF0F8\", \"showbackground\": true, \"ticks\": \"\", \"zerolinecolor\": \"#EBF0F8\"}, \"zaxis\": {\"backgroundcolor\": \"white\", \"gridcolor\": \"#DFE8F3\", \"gridwidth\": 2, \"linecolor\": \"#EBF0F8\", \"showbackground\": true, \"ticks\": \"\", \"zerolinecolor\": \"#EBF0F8\"}}, \"shapedefaults\": {\"line\": {\"color\": \"#2a3f5f\"}}, \"ternary\": {\"aaxis\": {\"gridcolor\": \"#DFE8F3\", \"linecolor\": \"#A2B1C6\", \"ticks\": \"\"}, \"baxis\": {\"gridcolor\": \"#DFE8F3\", \"linecolor\": \"#A2B1C6\", \"ticks\": \"\"}, \"bgcolor\": \"white\", \"caxis\": {\"gridcolor\": \"#DFE8F3\", \"linecolor\": \"#A2B1C6\", \"ticks\": \"\"}}, \"title\": {\"x\": 0.05}, \"xaxis\": {\"automargin\": true, \"gridcolor\": \"#EBF0F8\", \"linecolor\": \"#EBF0F8\", \"ticks\": \"\", \"title\": {\"standoff\": 15}, \"zerolinecolor\": \"#EBF0F8\", \"zerolinewidth\": 2}, \"yaxis\": {\"automargin\": true, \"gridcolor\": \"#EBF0F8\", \"linecolor\": \"#EBF0F8\", \"ticks\": \"\", \"title\": {\"standoff\": 15}, \"zerolinecolor\": \"#EBF0F8\", \"zerolinewidth\": 2}}}, \"title\": {\"text\": \"Train/Predict Windows\"}, \"width\": 700, \"xaxis\": {\"title\": {\"text\": \"Period\"}}, \"yaxis\": {\"title\": {\"text\": \"Closing Price (Scaled)\"}}},\n",
              "                        {\"responsive\": true}\n",
              "                    ).then(function(){\n",
              "                            \n",
              "var gd = document.getElementById('3b0ee0a4-8c7b-4305-94c3-648aaeaf1b93');\n",
              "var x = new MutationObserver(function (mutations, observer) {{\n",
              "        var display = window.getComputedStyle(gd).display;\n",
              "        if (!display || display === 'none') {{\n",
              "            console.log([gd, 'removed!']);\n",
              "            Plotly.purge(gd);\n",
              "            observer.disconnect();\n",
              "        }}\n",
              "}});\n",
              "\n",
              "// Listen for the removal of the full notebook cells\n",
              "var notebookContainer = gd.closest('#notebook-container');\n",
              "if (notebookContainer) {{\n",
              "    x.observe(notebookContainer, {childList: true});\n",
              "}}\n",
              "\n",
              "// Listen for the clearing of the current output cell\n",
              "var outputEl = gd.closest('.output');\n",
              "if (outputEl) {{\n",
              "    x.observe(outputEl, {childList: true});\n",
              "}}\n",
              "\n",
              "                        })\n",
              "                };\n",
              "                \n",
              "            </script>\n",
              "        </div>\n",
              "</body>\n",
              "</html>"
            ]
          },
          "metadata": {}
        },
        {
          "output_type": "stream",
          "name": "stdout",
          "text": [
            "Model: \"LSTM\"\n",
            "_________________________________________________________________\n",
            "Layer (type)                 Output Shape              Param #   \n",
            "=================================================================\n",
            "lstm (LSTM)                  (None, 60, 60)            25200     \n",
            "_________________________________________________________________\n",
            "lstm_1 (LSTM)                (None, 60, 512)           1173504   \n",
            "_________________________________________________________________\n",
            "dropout (Dropout)            (None, 60, 512)           0         \n",
            "_________________________________________________________________\n",
            "lstm_2 (LSTM)                (None, 256)               787456    \n",
            "_________________________________________________________________\n",
            "dropout_1 (Dropout)          (None, 256)               0         \n",
            "_________________________________________________________________\n",
            "dense (Dense)                (None, 128)               32896     \n",
            "_________________________________________________________________\n",
            "dropout_2 (Dropout)          (None, 128)               0         \n",
            "_________________________________________________________________\n",
            "dense_1 (Dense)              (None, 64)                8256      \n",
            "_________________________________________________________________\n",
            "dropout_3 (Dropout)          (None, 64)                0         \n",
            "_________________________________________________________________\n",
            "dense_2 (Dense)              (None, 3)                 195       \n",
            "=================================================================\n",
            "Total params: 2,027,507\n",
            "Trainable params: 2,027,507\n",
            "Non-trainable params: 0\n",
            "_________________________________________________________________\n",
            "\n",
            "Training Time\n",
            "============================================================\n",
            "Minutes:0.41\n",
            "\n",
            "\n",
            "Model Error\n",
            "==============================================================\n",
            "Mean Absolute Error (MAE)------------------------------  0.06\n",
            "Root Mean Squared Error (MSE)--------------------------  0.08\n",
            "Mean Absolute Percentage Error (MAPE)------------------  0.68%\n",
            "Median Absolute Percentage Error (MDAPE)---------------  0.53%\n"
          ]
        },
        {
          "output_type": "display_data",
          "data": {
            "text/html": [
              "<html>\n",
              "<head><meta charset=\"utf-8\" /></head>\n",
              "<body>\n",
              "    <div>\n",
              "            <script src=\"https://cdnjs.cloudflare.com/ajax/libs/mathjax/2.7.5/MathJax.js?config=TeX-AMS-MML_SVG\"></script><script type=\"text/javascript\">if (window.MathJax) {MathJax.Hub.Config({SVG: {font: \"STIX-Web\"}});}</script>\n",
              "                <script type=\"text/javascript\">window.PlotlyConfig = {MathJaxConfig: 'local'};</script>\n",
              "        <script src=\"https://cdn.plot.ly/plotly-latest.min.js\"></script>    \n",
              "            <div id=\"24e1f001-a0eb-4c34-842b-82cfb3844796\" class=\"plotly-graph-div\" style=\"height:500px; width:500px;\"></div>\n",
              "            <script type=\"text/javascript\">\n",
              "                \n",
              "                    window.PLOTLYENV=window.PLOTLYENV || {};\n",
              "                    \n",
              "                if (document.getElementById(\"24e1f001-a0eb-4c34-842b-82cfb3844796\")) {\n",
              "                    Plotly.newPlot(\n",
              "                        '24e1f001-a0eb-4c34-842b-82cfb3844796',\n",
              "                        [{\"line\": {\"color\": \"orange\", \"width\": 3}, \"name\": \"train-loss\", \"type\": \"scatter\", \"x\": [1, 2, 3, 4, 5, 6, 7, 8, 9, 10, 11, 12, 13, 14, 15, 16, 17, 18, 19, 20, 21, 22, 23, 24, 25, 26, 27, 28, 29, 30, 31, 32, 33, 34, 35, 36, 37, 38, 39, 40, 41, 42, 43, 44, 45, 46, 47, 48, 49, 50, 51, 52, 53, 54, 55, 56, 57, 58, 59, 60, 61, 62, 63, 64, 65, 66, 67, 68, 69, 70, 71, 72, 73, 74, 75, 76, 77, 78, 79, 80, 81, 82, 83, 84, 85, 86, 87, 88, 89, 90, 91, 92, 93, 94, 95, 96, 97, 98, 99, 100, 101, 102, 103, 104, 105, 106, 107, 108, 109], \"y\": [0.4480634331703186, 0.11740344762802124, 0.14502771198749542, 0.04582586511969566, 0.05114709213376045, 0.018490485846996307, 0.03028799593448639, 0.019158508628606796, 0.016735633835196495, 0.012654544785618782, 0.011342688463628292, 0.012939168140292168, 0.009884320199489594, 0.009712007828056812, 0.00820876657962799, 0.0071149724535644054, 0.008069527335464954, 0.00731739541515708, 0.006498819217085838, 0.006752104964107275, 0.006105706561356783, 0.006054939702153206, 0.00661515025421977, 0.005618851166218519, 0.005845275241881609, 0.0054225376807153225, 0.005755244754254818, 0.005184351932257414, 0.0051429797895252705, 0.004836365580558777, 0.004946887958794832, 0.004872987046837807, 0.00459255138412118, 0.00484096072614193, 0.004766716156154871, 0.00485165324062109, 0.004575113765895367, 0.004638384561985731, 0.004503611009567976, 0.004452168941497803, 0.004192212130874395, 0.00423680804669857, 0.0042599779553711414, 0.004591537639498711, 0.004303949885070324, 0.004201218951493502, 0.00397469149902463, 0.004273660015314817, 0.0043652793392539024, 0.004154001362621784, 0.004093371797353029, 0.0040709590539336205, 0.004153152462095022, 0.0038380164187401533, 0.003784119850024581, 0.0039526023901999, 0.0036545542534440756, 0.003864206839352846, 0.0037896970752626657, 0.004325081594288349, 0.0037340293638408184, 0.004023799207061529, 0.0037766583263874054, 0.003740862477570772, 0.003732298733666539, 0.0037215601187199354, 0.003757431637495756, 0.003921843599528074, 0.0037084631621837616, 0.003681241301819682, 0.003847078885883093, 0.003258233657106757, 0.003480047220364213, 0.0033591606188565493, 0.00350718991830945, 0.0032974130008369684, 0.0034759207628667355, 0.003603007411584258, 0.0034454590640962124, 0.003251704853028059, 0.0036515085957944393, 0.0034615080803632736, 0.003645211225375533, 0.0037073928397148848, 0.0035287770442664623, 0.0033600127790123224, 0.003665993455797434, 0.003429700853303075, 0.0030234470032155514, 0.003387229051440954, 0.00332455663010478, 0.00339788431301713, 0.0033387362491339445, 0.003575544571503997, 0.0034947553649544716, 0.0033548215869814157, 0.003211782081052661, 0.0033087607007473707, 0.003165929578244686, 0.0035399766638875008, 0.003340695984661579, 0.003239346668124199, 0.0032911484595388174, 0.00325462082400918, 0.0033524162136018276, 0.0031341887079179287, 0.0031829869840294123, 0.003399711800739169, 0.0032688614446669817]}, {\"line\": {\"color\": \"#8D4004\", \"width\": 3}, \"name\": \"val-loss\", \"type\": \"scatter\", \"x\": [1, 2, 3, 4, 5, 6, 7, 8, 9, 10, 11, 12, 13, 14, 15, 16, 17, 18, 19, 20, 21, 22, 23, 24, 25, 26, 27, 28, 29, 30, 31, 32, 33, 34, 35, 36, 37, 38, 39, 40, 41, 42, 43, 44, 45, 46, 47, 48, 49, 50, 51, 52, 53, 54, 55, 56, 57, 58, 59, 60, 61, 62, 63, 64, 65, 66, 67, 68, 69, 70, 71, 72, 73, 74, 75, 76, 77, 78, 79, 80, 81, 82, 83, 84, 85, 86, 87, 88, 89, 90, 91, 92, 93, 94, 95, 96, 97, 98, 99, 100, 101, 102, 103, 104, 105, 106, 107, 108, 109], \"y\": [0.039706215262413025, 0.009135941043496132, 0.013451777398586273, 0.08948421478271484, 0.02340501733124256, 0.001923967502079904, 0.0026438117492944, 0.0015669119311496615, 0.0032542685512453318, 0.00520812114700675, 0.006609066389501095, 0.008556260727345943, 0.009522316977381706, 0.006980882026255131, 0.0031320564448833466, 0.0015274860197678208, 0.0013763561146333814, 0.0012241184012964368, 0.0013022487983107567, 0.001961036119610071, 0.002637318568304181, 0.0030440667178481817, 0.0032550403848290443, 0.0028544855304062366, 0.002078496152535081, 0.001527972868643701, 0.001293110428377986, 0.0012733215698972344, 0.0014258257579058409, 0.0017077554948627949, 0.0020145897287875414, 0.0020806053653359413, 0.0016229544999077916, 0.0011972726788371801, 0.0010856622830033302, 0.0011343013029545546, 0.0013397136935964227, 0.0014665222261101007, 0.0014994930243119597, 0.001319536124356091, 0.0011064850259572268, 0.0010335076367482543, 0.0010156146017834544, 0.000983564998023212, 0.0009574774303473532, 0.0009747102740220726, 0.0010188011219725013, 0.0009825178422033787, 0.0009610859560780227, 0.0009747117874212563, 0.001015002024360001, 0.0011215395061299205, 0.001138131134212017, 0.0010643420973792672, 0.0010189433814957738, 0.0009750660392455757, 0.0010029732948169112, 0.001011026673950255, 0.001159448060207069, 0.0010874210856854916, 0.0009872419759631157, 0.000952119124121964, 0.0010100150248035789, 0.0009803223656490445, 0.0009970699902623892, 0.0009949306258931756, 0.001006772625260055, 0.0009774353820830584, 0.0009954350534826517, 0.0009706603595986962, 0.0009795690421015024, 0.0010035799350589514, 0.0010564030380919576, 0.0010043449001386762, 0.0010107882553711534, 0.0009724187548272312, 0.0010050971759483218, 0.0009560402831993997, 0.0009632672881707549, 0.0009922917233780026, 0.0009996597655117512, 0.0008872855687513947, 0.0010738872224465013, 0.0008969479822553694, 0.0009136671433225274, 0.000932050752453506, 0.0009248813148587942, 0.0009168892283923924, 0.0009310184977948666, 0.0009254551841877401, 0.00101531483232975, 0.0010148541769012809, 0.0009775550570338964, 0.0009130316320806742, 0.0008885838906280696, 0.0009038592106662691, 0.0009954815031960607, 0.0009372976492159069, 0.0008956747478805482, 0.0008462666301056743, 0.0009212798904627562, 0.0008782152435742319, 0.0010201649274677038, 0.0009068226208910346, 0.0009029833017848432, 0.0009381633717566729, 0.0009100237512029707, 0.0010615051724016666, 0.0010719827841967344]}],\n",
              "                        {\"height\": 500, \"template\": {\"data\": {\"bar\": [{\"error_x\": {\"color\": \"#2a3f5f\"}, \"error_y\": {\"color\": \"#2a3f5f\"}, \"marker\": {\"line\": {\"color\": \"white\", \"width\": 0.5}}, \"type\": \"bar\"}], \"barpolar\": [{\"marker\": {\"line\": {\"color\": \"white\", \"width\": 0.5}}, \"type\": \"barpolar\"}], \"carpet\": [{\"aaxis\": {\"endlinecolor\": \"#2a3f5f\", \"gridcolor\": \"#C8D4E3\", \"linecolor\": \"#C8D4E3\", \"minorgridcolor\": \"#C8D4E3\", \"startlinecolor\": \"#2a3f5f\"}, \"baxis\": {\"endlinecolor\": \"#2a3f5f\", \"gridcolor\": \"#C8D4E3\", \"linecolor\": \"#C8D4E3\", \"minorgridcolor\": \"#C8D4E3\", \"startlinecolor\": \"#2a3f5f\"}, \"type\": \"carpet\"}], \"choropleth\": [{\"colorbar\": {\"outlinewidth\": 0, \"ticks\": \"\"}, \"type\": \"choropleth\"}], \"contour\": [{\"colorbar\": {\"outlinewidth\": 0, \"ticks\": \"\"}, \"colorscale\": [[0.0, \"#0d0887\"], [0.1111111111111111, \"#46039f\"], [0.2222222222222222, \"#7201a8\"], [0.3333333333333333, \"#9c179e\"], [0.4444444444444444, \"#bd3786\"], [0.5555555555555556, \"#d8576b\"], [0.6666666666666666, \"#ed7953\"], [0.7777777777777778, \"#fb9f3a\"], [0.8888888888888888, \"#fdca26\"], [1.0, \"#f0f921\"]], \"type\": \"contour\"}], \"contourcarpet\": [{\"colorbar\": {\"outlinewidth\": 0, \"ticks\": \"\"}, \"type\": \"contourcarpet\"}], \"heatmap\": [{\"colorbar\": {\"outlinewidth\": 0, \"ticks\": \"\"}, \"colorscale\": [[0.0, \"#0d0887\"], [0.1111111111111111, \"#46039f\"], [0.2222222222222222, \"#7201a8\"], [0.3333333333333333, \"#9c179e\"], [0.4444444444444444, \"#bd3786\"], [0.5555555555555556, \"#d8576b\"], [0.6666666666666666, \"#ed7953\"], [0.7777777777777778, \"#fb9f3a\"], [0.8888888888888888, \"#fdca26\"], [1.0, \"#f0f921\"]], \"type\": \"heatmap\"}], \"heatmapgl\": [{\"colorbar\": {\"outlinewidth\": 0, \"ticks\": \"\"}, \"colorscale\": [[0.0, \"#0d0887\"], [0.1111111111111111, \"#46039f\"], [0.2222222222222222, \"#7201a8\"], [0.3333333333333333, \"#9c179e\"], [0.4444444444444444, \"#bd3786\"], [0.5555555555555556, \"#d8576b\"], [0.6666666666666666, \"#ed7953\"], [0.7777777777777778, \"#fb9f3a\"], [0.8888888888888888, \"#fdca26\"], [1.0, \"#f0f921\"]], \"type\": \"heatmapgl\"}], \"histogram\": [{\"marker\": {\"colorbar\": {\"outlinewidth\": 0, \"ticks\": \"\"}}, \"type\": \"histogram\"}], \"histogram2d\": [{\"colorbar\": {\"outlinewidth\": 0, \"ticks\": \"\"}, \"colorscale\": [[0.0, \"#0d0887\"], [0.1111111111111111, \"#46039f\"], [0.2222222222222222, \"#7201a8\"], [0.3333333333333333, \"#9c179e\"], [0.4444444444444444, \"#bd3786\"], [0.5555555555555556, \"#d8576b\"], [0.6666666666666666, \"#ed7953\"], [0.7777777777777778, \"#fb9f3a\"], [0.8888888888888888, \"#fdca26\"], [1.0, \"#f0f921\"]], \"type\": \"histogram2d\"}], \"histogram2dcontour\": [{\"colorbar\": {\"outlinewidth\": 0, \"ticks\": \"\"}, \"colorscale\": [[0.0, \"#0d0887\"], [0.1111111111111111, \"#46039f\"], [0.2222222222222222, \"#7201a8\"], [0.3333333333333333, \"#9c179e\"], [0.4444444444444444, \"#bd3786\"], [0.5555555555555556, \"#d8576b\"], [0.6666666666666666, \"#ed7953\"], [0.7777777777777778, \"#fb9f3a\"], [0.8888888888888888, \"#fdca26\"], [1.0, \"#f0f921\"]], \"type\": \"histogram2dcontour\"}], \"mesh3d\": [{\"colorbar\": {\"outlinewidth\": 0, \"ticks\": \"\"}, \"type\": \"mesh3d\"}], \"parcoords\": [{\"line\": {\"colorbar\": {\"outlinewidth\": 0, \"ticks\": \"\"}}, \"type\": \"parcoords\"}], \"pie\": [{\"automargin\": true, \"type\": \"pie\"}], \"scatter\": [{\"marker\": {\"colorbar\": {\"outlinewidth\": 0, \"ticks\": \"\"}}, \"type\": \"scatter\"}], \"scatter3d\": [{\"line\": {\"colorbar\": {\"outlinewidth\": 0, \"ticks\": \"\"}}, \"marker\": {\"colorbar\": {\"outlinewidth\": 0, \"ticks\": \"\"}}, \"type\": \"scatter3d\"}], \"scattercarpet\": [{\"marker\": {\"colorbar\": {\"outlinewidth\": 0, \"ticks\": \"\"}}, \"type\": \"scattercarpet\"}], \"scattergeo\": [{\"marker\": {\"colorbar\": {\"outlinewidth\": 0, \"ticks\": \"\"}}, \"type\": \"scattergeo\"}], \"scattergl\": [{\"marker\": {\"colorbar\": {\"outlinewidth\": 0, \"ticks\": \"\"}}, \"type\": \"scattergl\"}], \"scattermapbox\": [{\"marker\": {\"colorbar\": {\"outlinewidth\": 0, \"ticks\": \"\"}}, \"type\": \"scattermapbox\"}], \"scatterpolar\": [{\"marker\": {\"colorbar\": {\"outlinewidth\": 0, \"ticks\": \"\"}}, \"type\": \"scatterpolar\"}], \"scatterpolargl\": [{\"marker\": {\"colorbar\": {\"outlinewidth\": 0, \"ticks\": \"\"}}, \"type\": \"scatterpolargl\"}], \"scatterternary\": [{\"marker\": {\"colorbar\": {\"outlinewidth\": 0, \"ticks\": \"\"}}, \"type\": \"scatterternary\"}], \"surface\": [{\"colorbar\": {\"outlinewidth\": 0, \"ticks\": \"\"}, \"colorscale\": [[0.0, \"#0d0887\"], [0.1111111111111111, \"#46039f\"], [0.2222222222222222, \"#7201a8\"], [0.3333333333333333, \"#9c179e\"], [0.4444444444444444, \"#bd3786\"], [0.5555555555555556, \"#d8576b\"], [0.6666666666666666, \"#ed7953\"], [0.7777777777777778, \"#fb9f3a\"], [0.8888888888888888, \"#fdca26\"], [1.0, \"#f0f921\"]], \"type\": \"surface\"}], \"table\": [{\"cells\": {\"fill\": {\"color\": \"#EBF0F8\"}, \"line\": {\"color\": \"white\"}}, \"header\": {\"fill\": {\"color\": \"#C8D4E3\"}, \"line\": {\"color\": \"white\"}}, \"type\": \"table\"}]}, \"layout\": {\"annotationdefaults\": {\"arrowcolor\": \"#2a3f5f\", \"arrowhead\": 0, \"arrowwidth\": 1}, \"coloraxis\": {\"colorbar\": {\"outlinewidth\": 0, \"ticks\": \"\"}}, \"colorscale\": {\"diverging\": [[0, \"#8e0152\"], [0.1, \"#c51b7d\"], [0.2, \"#de77ae\"], [0.3, \"#f1b6da\"], [0.4, \"#fde0ef\"], [0.5, \"#f7f7f7\"], [0.6, \"#e6f5d0\"], [0.7, \"#b8e186\"], [0.8, \"#7fbc41\"], [0.9, \"#4d9221\"], [1, \"#276419\"]], \"sequential\": [[0.0, \"#0d0887\"], [0.1111111111111111, \"#46039f\"], [0.2222222222222222, \"#7201a8\"], [0.3333333333333333, \"#9c179e\"], [0.4444444444444444, \"#bd3786\"], [0.5555555555555556, \"#d8576b\"], [0.6666666666666666, \"#ed7953\"], [0.7777777777777778, \"#fb9f3a\"], [0.8888888888888888, \"#fdca26\"], [1.0, \"#f0f921\"]], \"sequentialminus\": [[0.0, \"#0d0887\"], [0.1111111111111111, \"#46039f\"], [0.2222222222222222, \"#7201a8\"], [0.3333333333333333, \"#9c179e\"], [0.4444444444444444, \"#bd3786\"], [0.5555555555555556, \"#d8576b\"], [0.6666666666666666, \"#ed7953\"], [0.7777777777777778, \"#fb9f3a\"], [0.8888888888888888, \"#fdca26\"], [1.0, \"#f0f921\"]]}, \"colorway\": [\"#636efa\", \"#EF553B\", \"#00cc96\", \"#ab63fa\", \"#FFA15A\", \"#19d3f3\", \"#FF6692\", \"#B6E880\", \"#FF97FF\", \"#FECB52\"], \"font\": {\"color\": \"#2a3f5f\"}, \"geo\": {\"bgcolor\": \"white\", \"lakecolor\": \"white\", \"landcolor\": \"white\", \"showlakes\": true, \"showland\": true, \"subunitcolor\": \"#C8D4E3\"}, \"hoverlabel\": {\"align\": \"left\"}, \"hovermode\": \"closest\", \"mapbox\": {\"style\": \"light\"}, \"paper_bgcolor\": \"white\", \"plot_bgcolor\": \"white\", \"polar\": {\"angularaxis\": {\"gridcolor\": \"#EBF0F8\", \"linecolor\": \"#EBF0F8\", \"ticks\": \"\"}, \"bgcolor\": \"white\", \"radialaxis\": {\"gridcolor\": \"#EBF0F8\", \"linecolor\": \"#EBF0F8\", \"ticks\": \"\"}}, \"scene\": {\"xaxis\": {\"backgroundcolor\": \"white\", \"gridcolor\": \"#DFE8F3\", \"gridwidth\": 2, \"linecolor\": \"#EBF0F8\", \"showbackground\": true, \"ticks\": \"\", \"zerolinecolor\": \"#EBF0F8\"}, \"yaxis\": {\"backgroundcolor\": \"white\", \"gridcolor\": \"#DFE8F3\", \"gridwidth\": 2, \"linecolor\": \"#EBF0F8\", \"showbackground\": true, \"ticks\": \"\", \"zerolinecolor\": \"#EBF0F8\"}, \"zaxis\": {\"backgroundcolor\": \"white\", \"gridcolor\": \"#DFE8F3\", \"gridwidth\": 2, \"linecolor\": \"#EBF0F8\", \"showbackground\": true, \"ticks\": \"\", \"zerolinecolor\": \"#EBF0F8\"}}, \"shapedefaults\": {\"line\": {\"color\": \"#2a3f5f\"}}, \"ternary\": {\"aaxis\": {\"gridcolor\": \"#DFE8F3\", \"linecolor\": \"#A2B1C6\", \"ticks\": \"\"}, \"baxis\": {\"gridcolor\": \"#DFE8F3\", \"linecolor\": \"#A2B1C6\", \"ticks\": \"\"}, \"bgcolor\": \"white\", \"caxis\": {\"gridcolor\": \"#DFE8F3\", \"linecolor\": \"#A2B1C6\", \"ticks\": \"\"}}, \"title\": {\"x\": 0.05}, \"xaxis\": {\"automargin\": true, \"gridcolor\": \"#EBF0F8\", \"linecolor\": \"#EBF0F8\", \"ticks\": \"\", \"title\": {\"standoff\": 15}, \"zerolinecolor\": \"#EBF0F8\", \"zerolinewidth\": 2}, \"yaxis\": {\"automargin\": true, \"gridcolor\": \"#EBF0F8\", \"linecolor\": \"#EBF0F8\", \"ticks\": \"\", \"title\": {\"standoff\": 15}, \"zerolinecolor\": \"#EBF0F8\", \"zerolinewidth\": 2}}}, \"title\": {\"text\": \"Training Metrics\"}, \"width\": 500, \"xaxis\": {\"title\": {\"text\": \"epochs\"}}, \"yaxis\": {\"title\": {\"text\": \"loss\"}}},\n",
              "                        {\"responsive\": true}\n",
              "                    ).then(function(){\n",
              "                            \n",
              "var gd = document.getElementById('24e1f001-a0eb-4c34-842b-82cfb3844796');\n",
              "var x = new MutationObserver(function (mutations, observer) {{\n",
              "        var display = window.getComputedStyle(gd).display;\n",
              "        if (!display || display === 'none') {{\n",
              "            console.log([gd, 'removed!']);\n",
              "            Plotly.purge(gd);\n",
              "            observer.disconnect();\n",
              "        }}\n",
              "}});\n",
              "\n",
              "// Listen for the removal of the full notebook cells\n",
              "var notebookContainer = gd.closest('#notebook-container');\n",
              "if (notebookContainer) {{\n",
              "    x.observe(notebookContainer, {childList: true});\n",
              "}}\n",
              "\n",
              "// Listen for the clearing of the current output cell\n",
              "var outputEl = gd.closest('.output');\n",
              "if (outputEl) {{\n",
              "    x.observe(outputEl, {childList: true});\n",
              "}}\n",
              "\n",
              "                        })\n",
              "                };\n",
              "                \n",
              "            </script>\n",
              "        </div>\n",
              "</body>\n",
              "</html>"
            ]
          },
          "metadata": {}
        },
        {
          "output_type": "display_data",
          "data": {
            "text/html": [
              "<html>\n",
              "<head><meta charset=\"utf-8\" /></head>\n",
              "<body>\n",
              "    <div>\n",
              "            <script src=\"https://cdnjs.cloudflare.com/ajax/libs/mathjax/2.7.5/MathJax.js?config=TeX-AMS-MML_SVG\"></script><script type=\"text/javascript\">if (window.MathJax) {MathJax.Hub.Config({SVG: {font: \"STIX-Web\"}});}</script>\n",
              "                <script type=\"text/javascript\">window.PlotlyConfig = {MathJaxConfig: 'local'};</script>\n",
              "        <script src=\"https://cdn.plot.ly/plotly-latest.min.js\"></script>    \n",
              "            <div id=\"f933b05e-92ea-4080-819d-fdecbb8bddc9\" class=\"plotly-graph-div\" style=\"height:500px; width:500px;\"></div>\n",
              "            <script type=\"text/javascript\">\n",
              "                \n",
              "                    window.PLOTLYENV=window.PLOTLYENV || {};\n",
              "                    \n",
              "                if (document.getElementById(\"f933b05e-92ea-4080-819d-fdecbb8bddc9\")) {\n",
              "                    Plotly.newPlot(\n",
              "                        'f933b05e-92ea-4080-819d-fdecbb8bddc9',\n",
              "                        [{\"fill\": \"tozeroy\", \"line\": {\"color\": \"#ccc\"}, \"mode\": \"lines\", \"name\": \"Test Data\", \"type\": \"scatter\", \"x\": [150, 151, 152, 153, 154, 155, 156, 157, 158, 159, 160, 161, 162, 163, 164, 165, 166, 167, 168, 169, 170, 171, 172, 173, 174, 175, 176, 177, 178, 179, 180, 181, 182, 183, 184, 185, 186, 187, 188, 189, 190, 191, 192, 193, 194, 195, 196, 197, 198, 199, 200, 201, 202, 203, 204, 205, 206, 207, 208, 209], \"y\": [8.94411707099629, 8.926517509850122, 8.920108384586165, 8.908994709717204, 8.915996156650852, 8.868979003001591, 8.905952870952698, 8.90442372219504, 8.916988925618476, 8.929802055363806, 8.921749887042694, 8.987291816149758, 9.035037724902917, 9.048996046478598, 9.01711720800918, 9.014933575633572, 8.997121161078383, 9.028217595424127, 9.045477521169248, 9.067972336688946, 9.069116611665626, 9.042148913475819, 9.033567393312637, 9.109737410079653, 9.136836986254016, 9.126228061357061, 9.145374026001281, 9.175748927206564, 9.19701700884026, 9.18142636181154, 9.187685681411377, 9.131837062154874, 9.116027494700328, 9.131297164635729, 9.148464968258095, 9.144447333894588, 9.096279898977869, 9.135832319801121, 9.090430075303626, 9.177920480720072, 9.096723645189215, 9.081824949740755, 9.096087099356593, 9.091556835986216, 9.02385239359426, 9.006786189926157, 8.978887392790833, 8.996565052087297, 9.028384348366833, 8.987196820661973, 8.969683168911736, 8.979541342119836, 8.848315428004907, 8.831990823838982, 8.820817508288771, 8.858376323094912, 8.836522203744025, 8.795733605950735, 8.823206220552741, 8.827141031647356]}, {\"fill\": \"tozeroy\", \"line\": {\"color\": \"#ccc\"}, \"mode\": \"lines+markers\", \"name\": \"Actual Price\", \"type\": \"scatter\", \"x\": [210, 211, 212], \"y\": [8.94411707099629, 8.926517509850122, 8.920108384586165]}, {\"line\": {\"color\": \"orange\"}, \"mode\": \"lines+markers\", \"name\": \"Predicted Price\", \"type\": \"scatter\", \"x\": [210, 211, 212], \"y\": [8.922795295715332, 8.902737617492676, 8.938828468322754]}],\n",
              "                        {\"height\": 500, \"template\": {\"data\": {\"bar\": [{\"error_x\": {\"color\": \"#2a3f5f\"}, \"error_y\": {\"color\": \"#2a3f5f\"}, \"marker\": {\"line\": {\"color\": \"white\", \"width\": 0.5}}, \"type\": \"bar\"}], \"barpolar\": [{\"marker\": {\"line\": {\"color\": \"white\", \"width\": 0.5}}, \"type\": \"barpolar\"}], \"carpet\": [{\"aaxis\": {\"endlinecolor\": \"#2a3f5f\", \"gridcolor\": \"#C8D4E3\", \"linecolor\": \"#C8D4E3\", \"minorgridcolor\": \"#C8D4E3\", \"startlinecolor\": \"#2a3f5f\"}, \"baxis\": {\"endlinecolor\": \"#2a3f5f\", \"gridcolor\": \"#C8D4E3\", \"linecolor\": \"#C8D4E3\", \"minorgridcolor\": \"#C8D4E3\", \"startlinecolor\": \"#2a3f5f\"}, \"type\": \"carpet\"}], \"choropleth\": [{\"colorbar\": {\"outlinewidth\": 0, \"ticks\": \"\"}, \"type\": \"choropleth\"}], \"contour\": [{\"colorbar\": {\"outlinewidth\": 0, \"ticks\": \"\"}, \"colorscale\": [[0.0, \"#0d0887\"], [0.1111111111111111, \"#46039f\"], [0.2222222222222222, \"#7201a8\"], [0.3333333333333333, \"#9c179e\"], [0.4444444444444444, \"#bd3786\"], [0.5555555555555556, \"#d8576b\"], [0.6666666666666666, \"#ed7953\"], [0.7777777777777778, \"#fb9f3a\"], [0.8888888888888888, \"#fdca26\"], [1.0, \"#f0f921\"]], \"type\": \"contour\"}], \"contourcarpet\": [{\"colorbar\": {\"outlinewidth\": 0, \"ticks\": \"\"}, \"type\": \"contourcarpet\"}], \"heatmap\": [{\"colorbar\": {\"outlinewidth\": 0, \"ticks\": \"\"}, \"colorscale\": [[0.0, \"#0d0887\"], [0.1111111111111111, \"#46039f\"], [0.2222222222222222, \"#7201a8\"], [0.3333333333333333, \"#9c179e\"], [0.4444444444444444, \"#bd3786\"], [0.5555555555555556, \"#d8576b\"], [0.6666666666666666, \"#ed7953\"], [0.7777777777777778, \"#fb9f3a\"], [0.8888888888888888, \"#fdca26\"], [1.0, \"#f0f921\"]], \"type\": \"heatmap\"}], \"heatmapgl\": [{\"colorbar\": {\"outlinewidth\": 0, \"ticks\": \"\"}, \"colorscale\": [[0.0, \"#0d0887\"], [0.1111111111111111, \"#46039f\"], [0.2222222222222222, \"#7201a8\"], [0.3333333333333333, \"#9c179e\"], [0.4444444444444444, \"#bd3786\"], [0.5555555555555556, \"#d8576b\"], [0.6666666666666666, \"#ed7953\"], [0.7777777777777778, \"#fb9f3a\"], [0.8888888888888888, \"#fdca26\"], [1.0, \"#f0f921\"]], \"type\": \"heatmapgl\"}], \"histogram\": [{\"marker\": {\"colorbar\": {\"outlinewidth\": 0, \"ticks\": \"\"}}, \"type\": \"histogram\"}], \"histogram2d\": [{\"colorbar\": {\"outlinewidth\": 0, \"ticks\": \"\"}, \"colorscale\": [[0.0, \"#0d0887\"], [0.1111111111111111, \"#46039f\"], [0.2222222222222222, \"#7201a8\"], [0.3333333333333333, \"#9c179e\"], [0.4444444444444444, \"#bd3786\"], [0.5555555555555556, \"#d8576b\"], [0.6666666666666666, \"#ed7953\"], [0.7777777777777778, \"#fb9f3a\"], [0.8888888888888888, \"#fdca26\"], [1.0, \"#f0f921\"]], \"type\": \"histogram2d\"}], \"histogram2dcontour\": [{\"colorbar\": {\"outlinewidth\": 0, \"ticks\": \"\"}, \"colorscale\": [[0.0, \"#0d0887\"], [0.1111111111111111, \"#46039f\"], [0.2222222222222222, \"#7201a8\"], [0.3333333333333333, \"#9c179e\"], [0.4444444444444444, \"#bd3786\"], [0.5555555555555556, \"#d8576b\"], [0.6666666666666666, \"#ed7953\"], [0.7777777777777778, \"#fb9f3a\"], [0.8888888888888888, \"#fdca26\"], [1.0, \"#f0f921\"]], \"type\": \"histogram2dcontour\"}], \"mesh3d\": [{\"colorbar\": {\"outlinewidth\": 0, \"ticks\": \"\"}, \"type\": \"mesh3d\"}], \"parcoords\": [{\"line\": {\"colorbar\": {\"outlinewidth\": 0, \"ticks\": \"\"}}, \"type\": \"parcoords\"}], \"pie\": [{\"automargin\": true, \"type\": \"pie\"}], \"scatter\": [{\"marker\": {\"colorbar\": {\"outlinewidth\": 0, \"ticks\": \"\"}}, \"type\": \"scatter\"}], \"scatter3d\": [{\"line\": {\"colorbar\": {\"outlinewidth\": 0, \"ticks\": \"\"}}, \"marker\": {\"colorbar\": {\"outlinewidth\": 0, \"ticks\": \"\"}}, \"type\": \"scatter3d\"}], \"scattercarpet\": [{\"marker\": {\"colorbar\": {\"outlinewidth\": 0, \"ticks\": \"\"}}, \"type\": \"scattercarpet\"}], \"scattergeo\": [{\"marker\": {\"colorbar\": {\"outlinewidth\": 0, \"ticks\": \"\"}}, \"type\": \"scattergeo\"}], \"scattergl\": [{\"marker\": {\"colorbar\": {\"outlinewidth\": 0, \"ticks\": \"\"}}, \"type\": \"scattergl\"}], \"scattermapbox\": [{\"marker\": {\"colorbar\": {\"outlinewidth\": 0, \"ticks\": \"\"}}, \"type\": \"scattermapbox\"}], \"scatterpolar\": [{\"marker\": {\"colorbar\": {\"outlinewidth\": 0, \"ticks\": \"\"}}, \"type\": \"scatterpolar\"}], \"scatterpolargl\": [{\"marker\": {\"colorbar\": {\"outlinewidth\": 0, \"ticks\": \"\"}}, \"type\": \"scatterpolargl\"}], \"scatterternary\": [{\"marker\": {\"colorbar\": {\"outlinewidth\": 0, \"ticks\": \"\"}}, \"type\": \"scatterternary\"}], \"surface\": [{\"colorbar\": {\"outlinewidth\": 0, \"ticks\": \"\"}, \"colorscale\": [[0.0, \"#0d0887\"], [0.1111111111111111, \"#46039f\"], [0.2222222222222222, \"#7201a8\"], [0.3333333333333333, \"#9c179e\"], [0.4444444444444444, \"#bd3786\"], [0.5555555555555556, \"#d8576b\"], [0.6666666666666666, \"#ed7953\"], [0.7777777777777778, \"#fb9f3a\"], [0.8888888888888888, \"#fdca26\"], [1.0, \"#f0f921\"]], \"type\": \"surface\"}], \"table\": [{\"cells\": {\"fill\": {\"color\": \"#EBF0F8\"}, \"line\": {\"color\": \"white\"}}, \"header\": {\"fill\": {\"color\": \"#C8D4E3\"}, \"line\": {\"color\": \"white\"}}, \"type\": \"table\"}]}, \"layout\": {\"annotationdefaults\": {\"arrowcolor\": \"#2a3f5f\", \"arrowhead\": 0, \"arrowwidth\": 1}, \"coloraxis\": {\"colorbar\": {\"outlinewidth\": 0, \"ticks\": \"\"}}, \"colorscale\": {\"diverging\": [[0, \"#8e0152\"], [0.1, \"#c51b7d\"], [0.2, \"#de77ae\"], [0.3, \"#f1b6da\"], [0.4, \"#fde0ef\"], [0.5, \"#f7f7f7\"], [0.6, \"#e6f5d0\"], [0.7, \"#b8e186\"], [0.8, \"#7fbc41\"], [0.9, \"#4d9221\"], [1, \"#276419\"]], \"sequential\": [[0.0, \"#0d0887\"], [0.1111111111111111, \"#46039f\"], [0.2222222222222222, \"#7201a8\"], [0.3333333333333333, \"#9c179e\"], [0.4444444444444444, \"#bd3786\"], [0.5555555555555556, \"#d8576b\"], [0.6666666666666666, \"#ed7953\"], [0.7777777777777778, \"#fb9f3a\"], [0.8888888888888888, \"#fdca26\"], [1.0, \"#f0f921\"]], \"sequentialminus\": [[0.0, \"#0d0887\"], [0.1111111111111111, \"#46039f\"], [0.2222222222222222, \"#7201a8\"], [0.3333333333333333, \"#9c179e\"], [0.4444444444444444, \"#bd3786\"], [0.5555555555555556, \"#d8576b\"], [0.6666666666666666, \"#ed7953\"], [0.7777777777777778, \"#fb9f3a\"], [0.8888888888888888, \"#fdca26\"], [1.0, \"#f0f921\"]]}, \"colorway\": [\"#636efa\", \"#EF553B\", \"#00cc96\", \"#ab63fa\", \"#FFA15A\", \"#19d3f3\", \"#FF6692\", \"#B6E880\", \"#FF97FF\", \"#FECB52\"], \"font\": {\"color\": \"#2a3f5f\"}, \"geo\": {\"bgcolor\": \"white\", \"lakecolor\": \"white\", \"landcolor\": \"white\", \"showlakes\": true, \"showland\": true, \"subunitcolor\": \"#C8D4E3\"}, \"hoverlabel\": {\"align\": \"left\"}, \"hovermode\": \"closest\", \"mapbox\": {\"style\": \"light\"}, \"paper_bgcolor\": \"white\", \"plot_bgcolor\": \"white\", \"polar\": {\"angularaxis\": {\"gridcolor\": \"#EBF0F8\", \"linecolor\": \"#EBF0F8\", \"ticks\": \"\"}, \"bgcolor\": \"white\", \"radialaxis\": {\"gridcolor\": \"#EBF0F8\", \"linecolor\": \"#EBF0F8\", \"ticks\": \"\"}}, \"scene\": {\"xaxis\": {\"backgroundcolor\": \"white\", \"gridcolor\": \"#DFE8F3\", \"gridwidth\": 2, \"linecolor\": \"#EBF0F8\", \"showbackground\": true, \"ticks\": \"\", \"zerolinecolor\": \"#EBF0F8\"}, \"yaxis\": {\"backgroundcolor\": \"white\", \"gridcolor\": \"#DFE8F3\", \"gridwidth\": 2, \"linecolor\": \"#EBF0F8\", \"showbackground\": true, \"ticks\": \"\", \"zerolinecolor\": \"#EBF0F8\"}, \"zaxis\": {\"backgroundcolor\": \"white\", \"gridcolor\": \"#DFE8F3\", \"gridwidth\": 2, \"linecolor\": \"#EBF0F8\", \"showbackground\": true, \"ticks\": \"\", \"zerolinecolor\": \"#EBF0F8\"}}, \"shapedefaults\": {\"line\": {\"color\": \"#2a3f5f\"}}, \"ternary\": {\"aaxis\": {\"gridcolor\": \"#DFE8F3\", \"linecolor\": \"#A2B1C6\", \"ticks\": \"\"}, \"baxis\": {\"gridcolor\": \"#DFE8F3\", \"linecolor\": \"#A2B1C6\", \"ticks\": \"\"}, \"bgcolor\": \"white\", \"caxis\": {\"gridcolor\": \"#DFE8F3\", \"linecolor\": \"#A2B1C6\", \"ticks\": \"\"}}, \"title\": {\"x\": 0.05}, \"xaxis\": {\"automargin\": true, \"gridcolor\": \"#EBF0F8\", \"linecolor\": \"#EBF0F8\", \"ticks\": \"\", \"title\": {\"standoff\": 15}, \"zerolinecolor\": \"#EBF0F8\", \"zerolinewidth\": 2}, \"yaxis\": {\"automargin\": true, \"gridcolor\": \"#EBF0F8\", \"linecolor\": \"#EBF0F8\", \"ticks\": \"\", \"title\": {\"standoff\": 15}, \"zerolinecolor\": \"#EBF0F8\", \"zerolinewidth\": 2}}}, \"title\": {\"text\": \"Actual vs Predicted Price\"}, \"width\": 500, \"xaxis\": {\"title\": {\"text\": \"Batch\"}}, \"yaxis\": {\"title\": {\"text\": \"Price\"}}},\n",
              "                        {\"responsive\": true}\n",
              "                    ).then(function(){\n",
              "                            \n",
              "var gd = document.getElementById('f933b05e-92ea-4080-819d-fdecbb8bddc9');\n",
              "var x = new MutationObserver(function (mutations, observer) {{\n",
              "        var display = window.getComputedStyle(gd).display;\n",
              "        if (!display || display === 'none') {{\n",
              "            console.log([gd, 'removed!']);\n",
              "            Plotly.purge(gd);\n",
              "            observer.disconnect();\n",
              "        }}\n",
              "}});\n",
              "\n",
              "// Listen for the removal of the full notebook cells\n",
              "var notebookContainer = gd.closest('#notebook-container');\n",
              "if (notebookContainer) {{\n",
              "    x.observe(notebookContainer, {childList: true});\n",
              "}}\n",
              "\n",
              "// Listen for the clearing of the current output cell\n",
              "var outputEl = gd.closest('.output');\n",
              "if (outputEl) {{\n",
              "    x.observe(outputEl, {childList: true});\n",
              "}}\n",
              "\n",
              "                        })\n",
              "                };\n",
              "                \n",
              "            </script>\n",
              "        </div>\n",
              "</body>\n",
              "</html>"
            ]
          },
          "metadata": {}
        },
        {
          "output_type": "stream",
          "name": "stderr",
          "text": [
            "WARNING:absl:Found untraced functions such as lstm_cell_layer_call_and_return_conditional_losses, lstm_cell_layer_call_fn, lstm_cell_1_layer_call_and_return_conditional_losses, lstm_cell_1_layer_call_fn, lstm_cell_2_layer_call_and_return_conditional_losses while saving (showing 5 of 15). These functions will not be directly callable after loading.\n"
          ]
        },
        {
          "output_type": "stream",
          "name": "stdout",
          "text": [
            "INFO:tensorflow:Assets written to: /content/drive/MyDrive/Colab Notebooks/capstone2/data/BTC_model_512/assets\n"
          ]
        },
        {
          "output_type": "stream",
          "name": "stderr",
          "text": [
            "INFO:tensorflow:Assets written to: /content/drive/MyDrive/Colab Notebooks/capstone2/data/BTC_model_512/assets\n"
          ]
        }
      ]
    },
    {
      "cell_type": "markdown",
      "metadata": {
        "id": "nv8mdzKqa471"
      },
      "source": [
        "# Hyperparameter Tuning"
      ]
    },
    {
      "cell_type": "markdown",
      "metadata": {
        "id": "du4kpYJDa6pM"
      },
      "source": [
        "## Load Saved Model"
      ]
    },
    {
      "cell_type": "code",
      "metadata": {
        "id": "Y3E5R1Ega6vh"
      },
      "source": [
        "# get saved training evaluation\n",
        "modelname = 'model_BTC_512'\n",
        "model = keras.models.load_model(f'{model_path}{modelname}')\n",
        "df_hist = pd.read_csv(f'{model_path}{modelname}/train_history.csv')"
      ],
      "execution_count": null,
      "outputs": []
    },
    {
      "cell_type": "markdown",
      "metadata": {
        "id": "iDYWn6zcblhB"
      },
      "source": [
        "## Seach for hyper-parmameters"
      ]
    },
    {
      "cell_type": "code",
      "metadata": {
        "id": "w1RLjBARbDXn"
      },
      "source": [
        "def build_tuner_model(hp):\n",
        "  \"\"\"\n",
        "  Builds an LSTM model for hyper-parameter tuning using keras-tuner\n",
        "  \"\"\"\n",
        "  # Clear previous session\n",
        "  backend.clear_session()\n",
        "\n",
        "  # searchable parameters\n",
        "  lstm_nodes    = hp.Choice('lstm_units',values=LSTM_UNITS)\n",
        "  dense_nodes   = hp.Choice('dense_units',values=DENSE)\n",
        "  dropout_lstm  = hp.Choice('lstm_dropout',values=DROPOUT_LSTM)\n",
        "  dropout_dense = hp.Choice('dense_dropout',values=DROPOUT_DENSE)\n",
        "  learn_rate    = hp.Choice('learn_rate',values = LEARN_RATE)\n",
        "\n",
        "\n",
        "  # LSTM Model+ first layer\n",
        "  model = Sequential()\n",
        "  model.add(LSTM(N_STEPS,return_sequences=True,input_shape=(N_STEPS,N_FEATURES)))\n",
        "\n",
        "\n",
        "  # add layers\n",
        "  model.add(LSTM(units=lstm_nodes,return_sequences=True))\n",
        "  model.add(Dropout(dropout_lstm))\n",
        "  model.add(LSTM(lstm_nodes//2,return_sequences=False))\n",
        "  model.add(Dropout(max(0.1,dropout_lstm//2)))\n",
        "  model.add(Dense(units=dense_nodes))\n",
        "  model.add(Dropout(dropout_dense))\n",
        "  model.add(Dense(dense_nodes//2))\n",
        "  model.add(Dropout(max(0.1,dropout_dense//2)))\n",
        "\n",
        "  # add prediction layer\n",
        "  model.add(Dense(N_PREDICT))\n",
        "\n",
        "  # compile\n",
        "  model.compile(loss='mse',optimizer =tf.keras.optimizers.Adam(learning_rate=learn_rate))\n",
        "  model.summary()\n",
        "\n",
        "  return model"
      ],
      "execution_count": null,
      "outputs": []
    },
    {
      "cell_type": "code",
      "metadata": {
        "colab": {
          "base_uri": "https://localhost:8080/"
        },
        "id": "W6-C3DQfbj7h",
        "outputId": "3a9fff22-d0ef-4dc3-b999-a00451a5e698"
      },
      "source": [
        "# BTC - tuned with optimzed features\n",
        "\n",
        "# Searchable hyperparameters\n",
        "LSTM_UNITS    = [256,512,1024,2048]\n",
        "DENSE         = [128,256,512,1024,2048]\n",
        "DROPOUT_LSTM  = [0.1,0.20,0.3,0.50]\n",
        "DROPOUT_DENSE = [0.1,0.20,0.3,0.50]\n",
        "N_FEATURES    = x_train.shape[2]\n",
        "N_STEPS       = config['window']['n_steps']\n",
        "N_PREDICT     = config['window']['n_predict']\n",
        "LEARN_RATE    = [0.001,0.0001]\n",
        "\n",
        "# initialize\n",
        "hp = kt.HyperParameters()\n",
        "\n",
        "\n",
        "# Setup the Tuner\n",
        "tuner = Hyperband(\n",
        "    build_tuner_model,\n",
        "    max_epochs = 50,\n",
        "    objective = 'val_loss', \n",
        "    directory = 'tune_hyperband',\n",
        "    project_name = 'prices_tune_hyperband',\n",
        "    overwrite = True\n",
        ")\n",
        "\n",
        "# Implement early stopping\n",
        "stop_early = tf.keras.callbacks.EarlyStopping(monitor='val_loss', patience=10)\n",
        "\n",
        "\n",
        "# Perform hyper\n",
        "tuner.search(x_train,\n",
        "             y_train,\n",
        "             batch_size = config['train']['batch_size'],\n",
        "             epochs = 50,\n",
        "             validation_split=0.10,\n",
        "             callbacks=[stop_early]\n",
        ")\n",
        "\n",
        "\n",
        "\n",
        "# Get the optimal hyperparameters\n",
        "best_hps=tuner.get_best_hyperparameters(num_trials=1)[0]\n",
        "best_model = tuner.get_best_models(num_models=1)[0]\n",
        "\n",
        "print(\"Hyperparmeter Search\")\n",
        "print(\"=\"*60)\n",
        "print(f\"First LSTM Node Size:          {best_hps.get('lstm_units')}\")\n",
        "print(f\"First LSTM Dropout Rate:       {best_hps.get('lstm_dropout')}\")\n",
        "print(f\"Second LSTM Node Size:         {best_hps.get('lstm_units')//2}\")\n",
        "print(f\"Second LSTM Dropout Rate:      {max(0.1,best_hps.get('lstm_dropout')//2)}\")\n",
        "print(f\"First Dense Node Size:         {best_hps.get('dense_units')}\")\n",
        "print(f\"First Dense Node Droput Rate:  {best_hps.get('dense_dropout')}\")\n",
        "print(f\"Second Dense Node Size:        {best_hps.get('dense_units')//2}\")\n",
        "print(f\"Second Dense Node Dropout Rate:{max(0.1,best_hps.get('dense_dropout')//2)}\")\n",
        "print(f\"Learning Rate:                 {best_hps.get('learn_rate')}\")\n",
        "\n",
        "\n",
        "print('\\n\\n')\n",
        "# show the optimal hyperparameters\n",
        "tuner.oracle.get_best_trials(num_trials=1)[0].hyperparameters.values"
      ],
      "execution_count": null,
      "outputs": [
        {
          "output_type": "stream",
          "name": "stdout",
          "text": [
            "Trial 90 Complete [00h 00m 14s]\n",
            "val_loss: 0.002193701220676303\n",
            "\n",
            "Best val_loss So Far: 0.0006298419903032482\n",
            "Total elapsed time: 00h 29m 30s\n",
            "INFO:tensorflow:Oracle triggered exit\n"
          ]
        },
        {
          "output_type": "stream",
          "name": "stderr",
          "text": [
            "INFO:tensorflow:Oracle triggered exit\n"
          ]
        },
        {
          "output_type": "stream",
          "name": "stdout",
          "text": [
            "Model: \"sequential\"\n",
            "_________________________________________________________________\n",
            "Layer (type)                 Output Shape              Param #   \n",
            "=================================================================\n",
            "lstm (LSTM)                  (None, 60, 60)            25200     \n",
            "_________________________________________________________________\n",
            "lstm_1 (LSTM)                (None, 60, 256)           324608    \n",
            "_________________________________________________________________\n",
            "dropout (Dropout)            (None, 60, 256)           0         \n",
            "_________________________________________________________________\n",
            "lstm_2 (LSTM)                (None, 128)               197120    \n",
            "_________________________________________________________________\n",
            "dropout_1 (Dropout)          (None, 128)               0         \n",
            "_________________________________________________________________\n",
            "dense (Dense)                (None, 256)               33024     \n",
            "_________________________________________________________________\n",
            "dropout_2 (Dropout)          (None, 256)               0         \n",
            "_________________________________________________________________\n",
            "dense_1 (Dense)              (None, 128)               32896     \n",
            "_________________________________________________________________\n",
            "dropout_3 (Dropout)          (None, 128)               0         \n",
            "_________________________________________________________________\n",
            "dense_2 (Dense)              (None, 3)                 387       \n",
            "=================================================================\n",
            "Total params: 613,235\n",
            "Trainable params: 613,235\n",
            "Non-trainable params: 0\n",
            "_________________________________________________________________\n",
            "Hyperparmeter Search\n",
            "============================================================\n",
            "First LSTM Node Size:          256\n",
            "First LSTM Dropout Rate:       0.3\n",
            "Second LSTM Node Size:         128\n",
            "Second LSTM Dropout Rate:      0.1\n",
            "First Dense Node Size:         256\n",
            "First Dense Node Droput Rate:  0.2\n",
            "Second Dense Node Size:        128\n",
            "Second Dense Node Dropout Rate:0.1\n",
            "Learning Rate:                 0.001\n",
            "\n",
            "\n",
            "\n"
          ]
        },
        {
          "output_type": "execute_result",
          "data": {
            "text/plain": [
              "{'dense_dropout': 0.2,\n",
              " 'dense_units': 256,\n",
              " 'learn_rate': 0.001,\n",
              " 'lstm_dropout': 0.3,\n",
              " 'lstm_units': 256,\n",
              " 'tuner/bracket': 3,\n",
              " 'tuner/epochs': 50,\n",
              " 'tuner/initial_epoch': 17,\n",
              " 'tuner/round': 3,\n",
              " 'tuner/trial_id': 'ca5f42d4c82c53e77ce20d2df456b716'}"
            ]
          },
          "metadata": {},
          "execution_count": 116
        }
      ]
    },
    {
      "cell_type": "markdown",
      "metadata": {
        "id": "ciZjmFOInrJ7"
      },
      "source": [
        "## Train with optimal Parameters"
      ]
    },
    {
      "cell_type": "code",
      "metadata": {
        "colab": {
          "base_uri": "https://localhost:8080/",
          "height": 1000
        },
        "id": "vfb_CmYvnqVh",
        "outputId": "5015c026-4369-45d7-fb59-ef0d2e4a785d"
      },
      "source": [
        "# the network topology is contained in a config dictionary\n",
        "ticker = 'BTC'\n",
        "n_steps = 60\n",
        "n_predict = 3\n",
        "model_path = '/content/drive/MyDrive/Colab Notebooks/capstone2/models/'\n",
        "model_name = f'{path}{ticker}_model_optimal'\n",
        "\n",
        "# Transform the data to be stationary\n",
        "features_to_transform = ['open','high','low','close', 'b-upper', 'b-middle', 'b-lower',\n",
        "            'futures_open', 'futures_high', 'futures_low', 'futures_close', \n",
        "            'ETH', 'DOGE', 'LTC',\n",
        "            'USDEUR', 'USDGBP', 'OIL_shift', 'BOIL', 'VXX_shift', 'XLE', 'QQQ',\n",
        "            ]\n",
        "\n",
        "# pre-process the data\n",
        "x_train, y_train, x_test, y_test, scaler_y,idx_close = pre_process(df_features,features_to_transform,n_steps,n_predict,'log',0.80,True)\n",
        "\n",
        "# build training config file\n",
        "config ={\n",
        "    'window': {'n_steps':n_steps,'n_predict':n_predict,'val_split':0.10},\n",
        "    'layers': [('lstm',256,True,0.3),('lstm',128,False,0.1),('dense',256,None,0.2),('dense',128,None,0.1)],\n",
        "    'train':{'epochs':250,'batch_size':256,'early_stop':EarlyStopping(monitor='loss',patience=20)},\n",
        "    'data':{'x_train':x_train,'y_train':y_train,'x_test':x_test,'y_test':y_test,'scaler_y':scaler_y,'idx_close':idx_close},\n",
        "    'model':{'model_name':model_name,'save_model':True}\n",
        "}\n",
        "\n",
        "# train the model\n",
        "train_lstm_model(config)"
      ],
      "execution_count": null,
      "outputs": [
        {
          "output_type": "stream",
          "name": "stdout",
          "text": [
            "\n",
            "Data Preparation\n",
            "============================================================\n",
            "=> 44 Features\n",
            "=> Input Dimensions :(1363, 44)\n",
            "=> Output Dimensions:(1363, 1)\n",
            "\n",
            "\n",
            "\n",
            "Split Data (X)\n",
            "============================================================\n",
            "Data  :100.0% (1363, 44)\n",
            "Train : 80.0% (1091, 44)\n",
            "Test  : 20.0% (272, 44)\n",
            "\n",
            "\n"
          ]
        },
        {
          "output_type": "display_data",
          "data": {
            "text/html": [
              "<html>\n",
              "<head><meta charset=\"utf-8\" /></head>\n",
              "<body>\n",
              "    <div>\n",
              "            <script src=\"https://cdnjs.cloudflare.com/ajax/libs/mathjax/2.7.5/MathJax.js?config=TeX-AMS-MML_SVG\"></script><script type=\"text/javascript\">if (window.MathJax) {MathJax.Hub.Config({SVG: {font: \"STIX-Web\"}});}</script>\n",
              "                <script type=\"text/javascript\">window.PlotlyConfig = {MathJaxConfig: 'local'};</script>\n",
              "        <script src=\"https://cdn.plot.ly/plotly-latest.min.js\"></script>    \n",
              "            <div id=\"8e2a9a39-0b5d-45bf-aa0d-67528f58f656\" class=\"plotly-graph-div\" style=\"height:600px; width:600px;\"></div>\n",
              "            <script type=\"text/javascript\">\n",
              "                \n",
              "                    window.PLOTLYENV=window.PLOTLYENV || {};\n",
              "                    \n",
              "                if (document.getElementById(\"8e2a9a39-0b5d-45bf-aa0d-67528f58f656\")) {\n",
              "                    Plotly.newPlot(\n",
              "                        '8e2a9a39-0b5d-45bf-aa0d-67528f58f656',\n",
              "                        [{\"line\": {\"color\": \"#a8b8d0\"}, \"name\": \"Train\", \"type\": \"scatter\", \"x\": [0, 1, 2, 3, 4, 5, 6, 7, 8, 9, 10, 11, 12, 13, 14, 15, 16, 17, 18, 19, 20, 21, 22, 23, 24, 25, 26, 27, 28, 29, 30, 31, 32, 33, 34, 35, 36, 37, 38, 39, 40, 41, 42, 43, 44, 45, 46, 47, 48, 49, 50, 51, 52, 53, 54, 55, 56, 57, 58, 59, 60, 61, 62, 63, 64, 65, 66, 67, 68, 69, 70, 71, 72, 73, 74, 75, 76, 77, 78, 79, 80, 81, 82, 83, 84, 85, 86, 87, 88, 89, 90, 91, 92, 93, 94, 95, 96, 97, 98, 99, 100, 101, 102, 103, 104, 105, 106, 107, 108, 109, 110, 111, 112, 113, 114, 115, 116, 117, 118, 119, 120, 121, 122, 123, 124, 125, 126, 127, 128, 129, 130, 131, 132, 133, 134, 135, 136, 137, 138, 139, 140, 141, 142, 143, 144, 145, 146, 147, 148, 149, 150, 151, 152, 153, 154, 155, 156, 157, 158, 159, 160, 161, 162, 163, 164, 165, 166, 167, 168, 169, 170, 171, 172, 173, 174, 175, 176, 177, 178, 179, 180, 181, 182, 183, 184, 185, 186, 187, 188, 189, 190, 191, 192, 193, 194, 195, 196, 197, 198, 199, 200, 201, 202, 203, 204, 205, 206, 207, 208, 209, 210, 211, 212, 213, 214, 215, 216, 217, 218, 219, 220, 221, 222, 223, 224, 225, 226, 227, 228, 229, 230, 231, 232, 233, 234, 235, 236, 237, 238, 239, 240, 241, 242, 243, 244, 245, 246, 247, 248, 249, 250, 251, 252, 253, 254, 255, 256, 257, 258, 259, 260, 261, 262, 263, 264, 265, 266, 267, 268, 269, 270, 271, 272, 273, 274, 275, 276, 277, 278, 279, 280, 281, 282, 283, 284, 285, 286, 287, 288, 289, 290, 291, 292, 293, 294, 295, 296, 297, 298, 299, 300, 301, 302, 303, 304, 305, 306, 307, 308, 309, 310, 311, 312, 313, 314, 315, 316, 317, 318, 319, 320, 321, 322, 323, 324, 325, 326, 327, 328, 329, 330, 331, 332, 333, 334, 335, 336, 337, 338, 339, 340, 341, 342, 343, 344, 345, 346, 347, 348, 349, 350, 351, 352, 353, 354, 355, 356, 357, 358, 359, 360, 361, 362, 363, 364, 365, 366, 367, 368, 369, 370, 371, 372, 373, 374, 375, 376, 377, 378, 379, 380, 381, 382, 383, 384, 385, 386, 387, 388, 389, 390, 391, 392, 393, 394, 395, 396, 397, 398, 399, 400, 401, 402, 403, 404, 405, 406, 407, 408, 409, 410, 411, 412, 413, 414, 415, 416, 417, 418, 419, 420, 421, 422, 423, 424, 425, 426, 427, 428, 429, 430, 431, 432, 433, 434, 435, 436, 437, 438, 439, 440, 441, 442, 443, 444, 445, 446, 447, 448, 449, 450, 451, 452, 453, 454, 455, 456, 457, 458, 459, 460, 461, 462, 463, 464, 465, 466, 467, 468, 469, 470, 471, 472, 473, 474, 475, 476, 477, 478, 479, 480, 481, 482, 483, 484, 485, 486, 487, 488, 489, 490, 491, 492, 493, 494, 495, 496, 497, 498, 499, 500, 501, 502, 503, 504, 505, 506, 507, 508, 509, 510, 511, 512, 513, 514, 515, 516, 517, 518, 519, 520, 521, 522, 523, 524, 525, 526, 527, 528, 529, 530, 531, 532, 533, 534, 535, 536, 537, 538, 539, 540, 541, 542, 543, 544, 545, 546, 547, 548, 549, 550, 551, 552, 553, 554, 555, 556, 557, 558, 559, 560, 561, 562, 563, 564, 565, 566, 567, 568, 569, 570, 571, 572, 573, 574, 575, 576, 577, 578, 579, 580, 581, 582, 583, 584, 585, 586, 587, 588, 589, 590, 591, 592, 593, 594, 595, 596, 597, 598, 599, 600, 601, 602, 603, 604, 605, 606, 607, 608, 609, 610, 611, 612, 613, 614, 615, 616, 617, 618, 619, 620, 621, 622, 623, 624, 625, 626, 627, 628, 629, 630, 631, 632, 633, 634, 635, 636, 637, 638, 639, 640, 641, 642, 643, 644, 645, 646, 647, 648, 649, 650, 651, 652, 653, 654, 655, 656, 657, 658, 659, 660, 661, 662, 663, 664, 665, 666, 667, 668, 669, 670, 671, 672, 673, 674, 675, 676, 677, 678, 679, 680, 681, 682, 683, 684, 685, 686, 687, 688, 689, 690, 691, 692, 693, 694, 695, 696, 697, 698, 699, 700, 701, 702, 703, 704, 705, 706, 707, 708, 709, 710, 711, 712, 713, 714, 715, 716, 717, 718, 719, 720, 721, 722, 723, 724, 725, 726, 727, 728, 729, 730, 731, 732, 733, 734, 735, 736, 737, 738, 739, 740, 741, 742, 743, 744, 745, 746, 747, 748, 749, 750, 751, 752, 753, 754, 755, 756, 757, 758, 759, 760, 761, 762, 763, 764, 765, 766, 767, 768, 769, 770, 771, 772, 773, 774, 775, 776, 777, 778, 779, 780, 781, 782, 783, 784, 785, 786, 787, 788, 789, 790, 791, 792, 793, 794, 795, 796, 797, 798, 799, 800, 801, 802, 803, 804, 805, 806, 807, 808, 809, 810, 811, 812, 813, 814, 815, 816, 817, 818, 819, 820, 821, 822, 823, 824, 825, 826, 827, 828, 829, 830, 831, 832, 833, 834, 835, 836, 837, 838, 839, 840, 841, 842, 843, 844, 845, 846, 847, 848, 849, 850, 851, 852, 853, 854, 855, 856, 857, 858, 859, 860, 861, 862, 863, 864, 865, 866, 867, 868, 869, 870, 871, 872, 873, 874, 875, 876, 877, 878, 879, 880, 881, 882, 883, 884, 885, 886, 887, 888, 889, 890, 891, 892, 893, 894, 895, 896, 897, 898, 899, 900, 901, 902, 903, 904, 905, 906, 907, 908, 909, 910, 911, 912, 913, 914, 915, 916, 917, 918, 919, 920, 921, 922, 923, 924, 925, 926, 927, 928, 929, 930, 931, 932, 933, 934, 935, 936, 937, 938, 939, 940, 941, 942, 943, 944, 945, 946, 947, 948, 949, 950, 951, 952, 953, 954, 955, 956, 957, 958, 959, 960, 961, 962, 963, 964, 965, 966, 967, 968, 969, 970, 971, 972, 973, 974, 975, 976, 977, 978, 979, 980, 981, 982, 983, 984, 985, 986, 987, 988, 989, 990, 991, 992, 993, 994, 995, 996, 997, 998, 999, 1000, 1001, 1002, 1003, 1004, 1005, 1006, 1007, 1008, 1009, 1010, 1011, 1012, 1013, 1014, 1015, 1016, 1017, 1018, 1019, 1020, 1021, 1022, 1023, 1024, 1025, 1026, 1027, 1028, 1029, 1030, 1031, 1032, 1033, 1034, 1035, 1036, 1037, 1038, 1039, 1040, 1041, 1042, 1043, 1044, 1045, 1046, 1047, 1048, 1049, 1050, 1051, 1052, 1053, 1054, 1055, 1056, 1057, 1058, 1059, 1060, 1061, 1062, 1063, 1064, 1065, 1066, 1067, 1068, 1069, 1070, 1071, 1072, 1073, 1074, 1075, 1076, 1077, 1078, 1079, 1080, 1081, 1082, 1083, 1084, 1085, 1086, 1087, 1088, 1089, 1090], \"y\": [0.9849900944889538, 0.9731704320187919, 0.9755209233195266, 0.9722887613964408, 0.9803851306508995, 1.0, 0.9911858608298956, 0.9793945175891192, 0.9767059713468296, 0.9732585188806047, 0.9775272071067853, 0.953474655500012, 0.9535668940204887, 0.9457467178560419, 0.95418913730663, 0.9376698012924511, 0.9393171140896959, 0.9332438199165631, 0.9322951658868597, 0.9415148675808189, 0.9176497937358858, 0.9028923103660578, 0.8959715172082832, 0.8921470931752755, 0.8955937945915826, 0.8644684945527086, 0.8467411105573603, 0.8427202595554943, 0.8516858519836776, 0.859516927870327, 0.8557175208361691, 0.8567310805821045, 0.8722282191978517, 0.8625605860288417, 0.8403271237747116, 0.858373029579854, 0.8893227975466527, 0.8966640868591922, 0.8896798265493464, 0.8928684311643376, 0.8954701375424223, 0.8885601836970922, 0.8728323774138169, 0.8807376708960812, 0.8744771523441206, 0.872169541982585, 0.8833380436393949, 0.8809535768854451, 0.8866017539664637, 0.9252975893001563, 0.9195472035701298, 0.9075266719775064, 0.9081057303243929, 0.9031485012886575, 0.9001921119119976, 0.8884521394127374, 0.8875396229112327, 0.8997797608910254, 0.9006620166463355, 0.9018210878614559, 0.8865002241167672, 0.9013085251202742, 0.8925699019228537, 0.9047765871088571, 0.9030863010601542, 0.9003093289064128, 0.9035959846073012, 0.8859818795613235, 0.8711892827696657, 0.870878062622058, 0.8798066209732109, 0.8874772340926032, 0.8881254049850122, 0.8932503978421042, 0.8688838343592842, 0.8771401581152016, 0.8775212489845399, 0.8824314556560413, 0.8644358713635882, 0.8701432958134081, 0.8569925847027684, 0.8413558536292691, 0.8320185140072822, 0.8190935984117576, 0.8272224999403459, 0.833073524971518, 0.8462385342957823, 0.8521100306372635, 0.8344890721788736, 0.8344682419970391, 0.8298194677313924, 0.8105953967442021, 0.7937243436512604, 0.7829232665670522, 0.776843089023036, 0.7634228853129463, 0.7618782050035358, 0.7367853375457463, 0.7482428732879169, 0.7581942656907112, 0.7554920184327885, 0.7540851983867718, 0.7591886732173192, 0.7688268966511651, 0.7679168879119054, 0.7716183754033339, 0.7830313441236494, 0.7757246509381894, 0.7787720326900494, 0.7693658655881177, 0.7792511976032039, 0.782734746585418, 0.7775130482869845, 0.7928049294967519, 0.7870069274971887, 0.7784324241096248, 0.7757208993682276, 0.7906063527836409, 0.7985555830887789, 0.7852575573045466, 0.787321646183444, 0.7634267789749791, 0.7561901540849307, 0.7868758017437161, 0.7773585551305673, 0.7656606237856409, 0.7565350607678232, 0.7956341934823401, 0.7947329429467773, 0.7978501358309873, 0.8181616551883808, 0.8204610405373183, 0.835522979804717, 0.8386472488735479, 0.8259435164719036, 0.7952381393011168, 0.8114400610046975, 0.8056180152706949, 0.8119907387020802, 0.7744531999510929, 0.7764114581423343, 0.7976078449066861, 0.7949508010320998, 0.8069706944856638, 0.8280093723561102, 0.8136223266996692, 0.8058138605533389, 0.8108226805261505, 0.7962074362309752, 0.7862343120326583, 0.7962510481954106, 0.8219047756713596, 0.827956095610225, 0.8201069330178385, 0.8242516204648509, 0.7871236944537952, 0.8124990732510051, 0.810779971262102, 0.8388119258545541, 0.805485853383225, 0.8570777484960428, 0.8624446933203269, 0.883652013441885, 0.886182655074566, 0.9071024636193639, 0.9060030687512759, 0.9056817613436277, 0.9494756204999653, 0.944548628935383, 0.9585354786435296, 0.9620596062523226, 0.9531978836733002, 0.9479606200059902, 0.9539217136405904, 0.9286517972053718, 0.952513024496819, 0.9489935137724776, 0.9560665787181564, 0.9554938402472306, 0.9307881426076339, 0.9386084198295164, 0.9397316235139215, 0.9335645663030956, 0.901858377098427, 0.9083997717756755, 0.915402196095287, 0.9191973967624798, 0.9323233501498733, 0.9481822637254127, 0.9434310454648149, 0.9464385314390715, 0.9684720095208044, 0.9757115386058715, 0.9852789293089628, 0.9843965733184339, 0.9876014806974243, 0.967772011763075, 0.9684434514076186, 0.9671747067159839, 0.9580765888495439, 0.9576670758221084, 0.9453763356891165, 0.957162485735437, 0.9633598965740133, 0.9583644926729984, 0.9518634980287217, 0.9627210206337722, 0.961341217066062, 0.9614303197050118, 0.9614853350765582, 0.9551441991821128, 0.944326730624494, 0.9446218114684206, 0.9397333072320624, 0.9166297017572553, 0.9230762400639816, 0.9356958167768896, 0.9341432543219352, 0.953454182120641, 0.9579201070212395, 0.9574173851070915, 0.9551906863147401, 0.9623058749730284, 0.9508141872413947, 0.9433882879276654, 0.9628807992600001, 0.9748903192502398, 0.952911628964658, 0.9560358989375546, 0.9448860818700342, 0.9389426411594459, 0.9234797686171365, 0.9145640186136785, 0.9005589371992881, 0.8997991659992448, 0.897223969857424, 0.9103655545978868, 0.8976631453504194, 0.9054071737065241, 0.8742945001464744, 0.8813797301116311, 0.8826520474714901, 0.8884081112520268, 0.9060569336371875, 0.9007663493354698, 0.9342188362459156, 0.9538950976504181, 0.9447580004629557, 0.9450555373460374, 0.9183358846939624, 0.9217639812912197, 0.9024573953788915, 0.8940246169163104, 0.898652686966328, 0.8887259023603815, 0.8898615561920407, 0.8943391126365565, 0.8719172298738855, 0.883673189438094, 0.8831562611540122, 0.8242362955553872, 0.8275962529723779, 0.819871903251912, 0.8079283430084967, 0.814011448789111, 0.7946122345888047, 0.7758744814996463, 0.7717031914467896, 0.7831554110931509, 0.7828332715819317, 0.7739746716871556, 0.7430153246250226, 0.7653541912290853, 0.7633132804192502, 0.7631987688296258, 0.7613112132144018, 0.7701631885401268, 0.7482651861248182, 0.7945833037223298, 0.7984659175874831, 0.8051605915415023, 0.7979767991273095, 0.7995308403994432, 0.8061804430966157, 0.8272655038786363, 0.8118053337922526, 0.7811410373304555, 0.7938564281258453, 0.8189063279781599, 0.8350690624962165, 0.8391223694623569, 0.8296427867566165, 0.8061247926716391, 0.7798889089236059, 0.7604941008210107, 0.7707142196635584, 0.7623367128288652, 0.7316718000698788, 0.7270282671921504, 0.7263963902034036, 0.7089257990957818, 0.7051901895466837, 0.6953854245241122, 0.6977256120844331, 0.6749811576370175, 0.6616468216235458, 0.6546101865997933, 0.6628602439559361, 0.6472925482967438, 0.6579476253487746, 0.662885794531197, 0.6527361587526301, 0.6485482240011944, 0.626541389507052, 0.5953797370789919, 0.5927404611121401, 0.5910993267837101, 0.5846085758683759, 0.570724594292503, 0.5746592263638073, 0.5799602861007944, 0.5761782747352222, 0.5910247947907603, 0.5942193880041637, 0.5905803598881585, 0.5819956262204111, 0.5953581094705611, 0.5918464785042574, 0.5841321757739464, 0.5998699978538875, 0.5733556662092307, 0.5650305797367698, 0.553911297540369, 0.5541146919446072, 0.583223778449034, 0.5907256352661832, 0.5769575171947894, 0.5780015570169197, 0.5827802299001568, 0.582073638543644, 0.5665733934253661, 0.5659331194125428, 0.5639310503844182, 0.5454899128802593, 0.5302146047744762, 0.5326694209844658, 0.5376962197267825, 0.5370996536671151, 0.5246192097653273, 0.5162695823470309, 0.5169243122087974, 0.5202748398663957, 0.5058135993546395, 0.5222158809777953, 0.5225912674955544, 0.4902234697915353, 0.48734027983683204, 0.4764145618326743, 0.4812873375481561, 0.4822910204842854, 0.47633501143467916, 0.47402312951029524, 0.469347082638119, 0.47835929266648813, 0.4639043487222958, 0.46324664455657105, 0.4652723779416643, 0.4607211500243298, 0.4618709596931536, 0.4570685844671898, 0.433530406627769, 0.4290589110712477, 0.42195016150812537, 0.4179593914702928, 0.41665539054508294, 0.4220111392429211, 0.4196124720094989, 0.41955307872978054, 0.42285217465797764, 0.4181747712951811, 0.4159516645949166, 0.4088266306636199, 0.40479273284122375, 0.39721659968606193, 0.39507790518993025, 0.4008117770483577, 0.3970953716873198, 0.3931453602954402, 0.39408581957233224, 0.39566114243038397, 0.40049302610024906, 0.40237377981713474, 0.3983384063931985, 0.40045680588963606, 0.3991456072691162, 0.3976985916196747, 0.3991865935835257, 0.38348863115479315, 0.3927465586363943, 0.38913141273654794, 0.40483756943947125, 0.4097433078683852, 0.40523174865466505, 0.4055145295012159, 0.40584992371899764, 0.4006403216870065, 0.3972813810915512, 0.3864605836228572, 0.3900038235566279, 0.38825796908261223, 0.3867368302325751, 0.3828605284596187, 0.3798258514063586, 0.3876988499090115, 0.38387163439880423, 0.3811080326593599, 0.39010170717916504, 0.3805109301548444, 0.41871667493967824, 0.4339553867998349, 0.42623116040362463, 0.42792828021930607, 0.42104568210015136, 0.4226134093066922, 0.4169008302347761, 0.42087834173101735, 0.41672962604106045, 0.4292052803997133, 0.4261488021259914, 0.42666306349203786, 0.4227979510197386, 0.43206725979401606, 0.4291715086101129, 0.43460554000408536, 0.443661688264843, 0.43350735159742193, 0.4319017755454655, 0.42927703400707573, 0.4297415081879783, 0.42381123737272297, 0.41885898092312246, 0.4330511984100345, 0.42712442323751043, 0.4294368057283928, 0.4246246026209146, 0.429462676986593, 0.42876569619066585, 0.41286692884466936, 0.41386182312312725, 0.40928603399346075, 0.4305051221761951, 0.41723451131540656, 0.41018832603753763, 0.410300381007068, 0.4045341979878909, 0.4080922354938381, 0.37331366711868696, 0.36553425630034075, 0.36007686319664245, 0.3622766997029374, 0.3592955947139229, 0.35474299505645535, 0.34668538817784667, 0.34838635107621085, 0.3469907788472977, 0.34657052299770186, 0.34580952791396147, 0.3481955096825633, 0.3500321391001515, 0.34962790224631224, 0.35169432538963674, 0.34926975805752347, 0.35120449030267364, 0.3494141368124519, 0.35644170385039065, 0.35012329241870166, 0.35310565866112054, 0.34353421302040044, 0.34588194119141047, 0.34315517114172245, 0.34390480884849595, 0.34925900773895835, 0.3458736144710879, 0.3477746227456118, 0.3452503259501216, 0.34133050741738025, 0.34676194281257056, 0.34978321624883835, 0.35182236030326, 0.36303756227736095, 0.3651109644671906, 0.35160146908038303, 0.35366447920787936, 0.35206406890788733, 0.35472537167978535, 0.35749409069075133, 0.35962082656413896, 0.35602872772804384, 0.35320694634775407, 0.35774112260086266, 0.35758181338191486, 0.35094646579351707, 0.37186701206883166, 0.3680606643516571, 0.36817507467437594, 0.3671626259094021, 0.36457869194118153, 0.3630038749684119, 0.36874889843927194, 0.36432165027300556, 0.35951418853177763, 0.38195379148694286, 0.35718880219812643, 0.36548990433771644, 0.3561852772282381, 0.3613444888778585, 0.3482048566461038, 0.33501884705124496, 0.33712288406271096, 0.3302574599918522, 0.34732184158299084, 0.3470153133782641, 0.3432891075428466, 0.359256308972121, 0.36811821295106695, 0.36676248724814675, 0.36479997791867147, 0.35468871204865193, 0.35249195748093376, 0.36861102813482693, 0.35188707021101484, 0.3338033701189076, 0.3243023932938365, 0.3303750952626161, 0.36019025413957273, 0.36910041034892904, 0.3751333499258398, 0.34584573653409034, 0.34170577862507434, 0.33630963220955135, 0.33703737269320966, 0.33993021834968795, 0.3340848674935253, 0.32673335986462426, 0.3325675814894855, 0.29101011773918994, 0.2924535264392638, 0.2890517940602404, 0.28231138663638555, 0.2807078927996218, 0.279794487454863, 0.2636464760576538, 0.2502064483055375, 0.2495449179967486, 0.2632865274918932, 0.26931833918190984, 0.2590144679898292, 0.2625114257150365, 0.23944737167099817, 0.25129578808550157, 0.25003284601023434, 0.2532458809004088, 0.251895636021227, 0.25107357802512276, 0.27102462262419724, 0.2742937142495627, 0.2670923061779642, 0.27296504071435423, 0.24682883759735397, 0.2509163501785334, 0.24486057693330343, 0.24779593242001674, 0.24036105889874637, 0.22874003043523405, 0.22770980985958023, 0.2001421347716672, 0.2196003328575049, 0.22610176442778096, 0.245057538006475, 0.24212393083609607, 0.2456212492436225, 0.23174155397694118, 0.19675075438365708, 0.21682101421651234, 0.21778968898808992, 0.21567942643538718, 0.17144649436022474, 0.16674773592148773, 0.1482267468825147, 0.16944690247994387, 0.15822261945212723, 0.18308181530284262, 0.13290300503525954, 0.29899157998195536, 0.29722479682725256, 0.29896488082143113, 0.3031630246503654, 0.33668766148730933, 0.3455809600710409, 0.343018259108951, 0.3316474331803274, 0.33197834718215935, 0.3375374865556622, 0.323340330086078, 0.3231193495337461, 0.32945148289177073, 0.3342551509233602, 0.3328904228389833, 0.35209959940002467, 0.3641702753403626, 0.3737845008648448, 0.3641079243467913, 0.3649784037550132, 0.3621585075288505, 0.3626251724094445, 0.3810647439543837, 0.36580944668749327, 0.37313234733600664, 0.3724428252665559, 0.38677650372956185, 0.38354032695310636, 0.38639589001942554, 0.38286279461845973, 0.3708738733806123, 0.3808446325515322, 0.372157384648113, 0.3695934504996905, 0.3680755602435619, 0.36257423290864876, 0.34798261501507577, 0.35175052459249834, 0.3528930661800205, 0.3548571717892375, 0.35340412045971936, 0.3590925101682694, 0.351749813269842, 0.3544446809995465, 0.3374632232404746, 0.32624582760133336, 0.315632659981647, 0.31974762759122166, 0.3182720031848305, 0.3289622276983475, 0.3310406537102737, 0.32764315984145753, 0.329837426521447, 0.33782509953726425, 0.3375374865556622, 0.33039178849217166, 0.3345400108481291, 0.33387057592487146, 0.3062834620557302, 0.30928578895599346, 0.30313707202710427, 0.3097795678489703, 0.2944092165993273, 0.30388805063819113, 0.3079908718046229, 0.2919438293050578, 0.2743251773691675, 0.2739559715166928, 0.27353589814332935, 0.2561028587987768, 0.2668547178150291, 0.2668634523232174, 0.26917822354645793, 0.27572226530301425, 0.2721512428936923, 0.26947390297142704, 0.2674063777272129, 0.26718279303451853, 0.2696257466025225, 0.27273931195455026, 0.2805491440469403, 0.26397960183914293, 0.26637304358461966, 0.2646827959892848, 0.27038892423214334, 0.2394443750956552, 0.252952109117083, 0.2632112371136448, 0.2609992724836121, 0.2695623729005403, 0.26705233709696863, 0.2673118203021789, 0.2680473698509469, 0.27359851524769097, 0.2807696078579087, 0.2798722847274009, 0.281911900153788, 0.2756528865998593, 0.26658521388647083, 0.27124245098520783, 0.2714098090757324, 0.2757969989803133, 0.28251621067052923, 0.2908737666365937, 0.2768852111810003, 0.2809621729780756, 0.2648424045900506, 0.2631447628463457, 0.2536843756400171, 0.272177934308961, 0.27015869928512437, 0.2858713315914376, 0.3060965164606899, 0.30720480790321947, 0.30937554827216474, 0.3219052032096341, 0.3215640525113259, 0.3206873655761604, 0.3278347605823009, 0.33248578518294236, 0.33380374560826453, 0.33078573174039816, 0.34214616984705426, 0.3338788349142541, 0.3326926869390907, 0.3487723693305518, 0.35292567256342977, 0.35222676728518376, 0.3547595601745077, 0.34800707609846926, 0.3512821433588611, 0.34911671227868446, 0.3461175366996172, 0.3467290842668733, 0.3556486290723888, 0.3484233565292869, 0.3598044968289287, 0.3492332055489351, 0.32780493781961617, 0.27667062185836455, 0.27926754840919843, 0.3029928536987341, 0.31003102280907857, 0.31063164180270375, 0.2996017355858247, 0.29980154187113595, 0.30461969357249297, 0.3015074604613228, 0.308531171859014, 0.3160243593499006, 0.31346319546238144, 0.31411780155006364, 0.31227874501490227, 0.3242421046810722, 0.32451254458551215, 0.30900422339549305, 0.30925950346506426, 0.2957785137642026, 0.30719056511995335, 0.3077500486381406, 0.31059096313961376, 0.3161487497390163, 0.31407595510194364, 0.31371106896664447, 0.3039332606732632, 0.31022866217421985, 0.30916202672040827, 0.3044986859431673, 0.3192332023663833, 0.32166261733178647, 0.3657491085403577, 0.37639023803098404, 0.37535100100122154, 0.3814372319869248, 0.38339038687583304, 0.38073484772935773, 0.3820849146702061, 0.3840458735545367, 0.3856548550149639, 0.3866715505764935, 0.3869552953645008, 0.38907200517257134, 0.3807104099480836, 0.3793691061757758, 0.3855594998243266, 0.388690207974538, 0.39034075089576836, 0.3854943085735143, 0.3941283762566212, 0.39350449816435473, 0.39532273443837385, 0.3866805112920413, 0.36676350689197434, 0.36167220057270066, 0.36155655437816003, 0.3583723642393486, 0.366661526948882, 0.3818034551845475, 0.3880700013844094, 0.3803491719608627, 0.38013119512852445, 0.38829268363280534, 0.37894219722754174, 0.38031524488672286, 0.3996404932081359, 0.4040805920822401, 0.38559096686517025, 0.3828825419170232, 0.3867288309672916, 0.38566930037363134, 0.3775305288070334, 0.40422417480476547, 0.4186632217769417, 0.42293392365900084, 0.4162947899920777, 0.432337214863852, 0.43574396727106324, 0.435201084261569, 0.42154604387104255, 0.43114585878762224, 0.4049747680293607, 0.401524862423686, 0.39257527180483365, 0.3878943621685278, 0.3783142562378665, 0.3615216799801475, 0.35899300888316077, 0.3601295757476395, 0.35832843616572374, 0.36971406934372064, 0.3713971259952493, 0.3675829632305443, 0.3711688078873192, 0.39462832006056825, 0.3941906368344803, 0.3615579354667542, 0.3615579354667542, 0.3615579354667542, 0.3615579354667542, 0.3615579354667542, 0.4025486098018338, 0.38180313041015923, 0.4179023214246995, 0.4291473033732158, 0.4176069139622087, 0.4390067305812253, 0.45093953282643895, 0.4429851124845783, 0.4195046870530623, 0.41503912990187874, 0.40680137622508417, 0.4122217498851568, 0.434475666939782, 0.40201925962416896, 0.39589402521616623, 0.40235821455432985, 0.4333587053012722, 0.4473560565989847, 0.4170234818248848, 0.4653601835028973, 0.4309222460436213, 0.409044747336035, 0.40425603989687664, 0.39911262963043237, 0.38118060176385926, 0.3593897919550897, 0.34983759469926223, 0.3437445233558414, 0.35185507238815106, 0.33948834158687147, 0.3335385439969434, 0.32762594476132634, 0.3107170104535051, 0.3070057602859033, 0.29684964820455706, 0.3011678086371763, 0.2862513280140808, 0.297549665654933, 0.30078009671185413, 0.29297178558598524, 0.2927338018083159, 0.2886836101066206, 0.3069332755816867, 0.33076375304204486, 0.32387511203756336, 0.32424094517698565, 0.31273286555290314, 0.32732357845808346, 0.33064663501223235, 0.3316292913366783, 0.3264762473479004, 0.30313707202710427, 0.30076474475023174, 0.2954055158256592, 0.28633585689372953, 0.29823064442880476, 0.2992063463889325, 0.30858183042955467, 0.26947299078707365, 0.273998264457755, 0.29664300893735707, 0.308741860541748, 0.30189886994727244, 0.2937788046272467, 0.2563658511719811, 0.2670449859356232, 0.22678691743817092, 0.21651015991254852, 0.20578944845797853, 0.19833572806572697, 0.19251945964039852, 0.19380560567405203, 0.19779068739541694, 0.19408812858022273, 0.17767487462182574, 0.1713876024033687, 0.16694055496293547, 0.1618808963526086, 0.16654422105530298, 0.16502167353700425, 0.16667182146914827, 0.16091280870507063, 0.17272297425683059, 0.17765019324964726, 0.1693203682133091, 0.16299973612173302, 0.16494473632314888, 0.16279453127672383, 0.16368053183103815, 0.15926606660083475, 0.1575893388563645, 0.14873696586717333, 0.15445822202540116, 0.14938281502935347, 0.15002020687135076, 0.1472640005325112, 0.16598593547454454, 0.1560454792759387, 0.16165225076690115, 0.15779907556651063, 0.14951262023346779, 0.14663383340361147, 0.13952702781365156, 0.14447332342666552, 0.1371357757995444, 0.08439790654464385, 0.08093952464951792, 0.08125307754375433, 0.08100725789330587, 0.07458468322469347, 0.07607011580562562, 0.06760450573079968, 0.06723991737365687, 0.07226986872415431, 0.07273644397753598, 0.07180263447420998, 0.07106149461564604, 0.07586873082049284, 0.07390907256844903, 0.07172552710846425, 0.07101579337513542, 0.0730908988611656, 0.06620782114237134, 0.06234222315272042, 0.061158612748754226, 0.06305121319705442, 0.0615906725996167, 0.06532385793685691, 0.06759023217897431, 0.06120312815067841, 0.06201362985982728, 0.061030169362898956, 0.06049273543901723, 0.04800296276708638, 0.05632229346255624, 0.05737005983896948, 0.0572002833913432, 0.05693678415671055, 0.056867407354461275, 0.0563361928716386, 0.058121745375117495, 0.05107899568042473, 0.08196130555854708, 0.06970939538287269, 0.06759107181671808, 0.07037697737956394, 0.06507605973229902, 0.06380540179350191, 0.043893864616507905, 0.0390335872231069, 0.037781781757570077, 0.0370707773600909, 0.03866541548480962, 0.04055504059192616, 0.040947509215436106, 0.04489086424072086, 0.043426303241542286, 0.04284861193773137, 0.018323370995720012, 0.01970424321445785, 0.025500899765159346, 0.02511352685035817, 0.024626281733554745, 0.028971711643678066, 0.025279599361351934, 0.02198557579769611, 0.024349857269869712, 0.019938031423095914, 0.02213010659427983, 0.033569898090834105, 0.034591960206566075, 0.034840494040340175, 0.03515367741365649, 0.03312105213648575, 0.03470048488301902, 0.03102522449605294, 0.031720319192062085, 0.04355544511521581, 0.037141670429797546, 0.03892739066548101, 0.03636654635758996, 0.03348054994164196, 0.03966548370161682, 0.026249551763124934, 0.03621056481036522, 0.03786170865331151, 0.036375773730600525, 0.06977779904249948, 0.0689426409717635, 0.07026872227809555, 0.07135881394628862, 0.053406178033360785, 0.054744395112214406, 0.052688485894096804, 0.06080741595297612, 0.05495818282706333, 0.046680072891201796, 0.05572232511351771, 0.04602022368033776, 0.059206037799393485, 0.0347941399540721, 0.05397711298922081, 0.050368614659908495, 0.07342765080876479, 0.06643960752705302, 0.06863393430931675, 0.05894499389193619, 0.07698870849375394, 0.043794630773636545, 0.042310696845767826, 0.02942056516321223, 0.0013239573877763533, 0.0, 0.0011782527593307002, 0.008963903988028044, 0.023476983752575897, 0.017279033156258894, 0.02238817785781233, 0.03281713021526933, 0.020026265344145422, 0.01927503995770774, 0.029070775817342298, 0.05241697155393732, 0.06868917129481078, 0.0629243542689184, 0.0860902117199358, 0.08795317161775218, 0.07605211075720675, 0.09592516068426615, 0.09353115863666872, 0.06246589450442874, 0.06106528217475882, 0.07990891534053723, 0.06743402248430952, 0.10600136293664297, 0.10189865718827118, 0.12312271017254428, 0.1166488117929445, 0.1415951335420802, 0.18756273433379445, 0.18590109141323552, 0.18692354759327268, 0.19303417346948182, 0.2026243914382686, 0.2312709179200354, 0.23065603682086078, 0.23068526954216084, 0.22983441345875066, 0.22916791456192342, 0.23242176883517818, 0.23687584169922182, 0.23387910530677525, 0.2316295828409234, 0.23224674207016793, 0.22726138083648983, 0.2294882075003577, 0.2280702869174509, 0.22650918335176362]}, {\"line\": {\"color\": \"orange\"}, \"name\": \"Test\", \"type\": \"scatter\", \"x\": [1091, 1092, 1093, 1094, 1095, 1096, 1097, 1098, 1099, 1100, 1101, 1102, 1103, 1104, 1105, 1106, 1107, 1108, 1109, 1110, 1111, 1112, 1113, 1114, 1115, 1116, 1117, 1118, 1119, 1120, 1121, 1122, 1123, 1124, 1125, 1126, 1127, 1128, 1129, 1130, 1131, 1132, 1133, 1134, 1135, 1136, 1137, 1138, 1139, 1140, 1141, 1142, 1143, 1144, 1145, 1146, 1147, 1148, 1149, 1150, 1151, 1152, 1153, 1154, 1155, 1156, 1157, 1158, 1159, 1160, 1161, 1162, 1163, 1164, 1165, 1166, 1167, 1168, 1169, 1170, 1171, 1172, 1173, 1174, 1175, 1176, 1177, 1178, 1179, 1180, 1181, 1182, 1183, 1184, 1185, 1186, 1187, 1188, 1189, 1190, 1191, 1192, 1193, 1194, 1195, 1196, 1197, 1198, 1199, 1200, 1201, 1202, 1203, 1204, 1205, 1206, 1207, 1208, 1209, 1210, 1211, 1212, 1213, 1214, 1215, 1216, 1217, 1218, 1219, 1220, 1221, 1222, 1223, 1224, 1225, 1226, 1227, 1228, 1229, 1230, 1231, 1232, 1233, 1234, 1235, 1236, 1237, 1238, 1239, 1240, 1241, 1242, 1243, 1244, 1245, 1246, 1247, 1248, 1249, 1250, 1251, 1252, 1253, 1254, 1255, 1256, 1257, 1258, 1259, 1260, 1261, 1262, 1263, 1264, 1265, 1266, 1267, 1268, 1269, 1270, 1271, 1272, 1273, 1274, 1275, 1276, 1277, 1278, 1279, 1280, 1281, 1282, 1283, 1284, 1285, 1286, 1287, 1288, 1289, 1290, 1291, 1292, 1293, 1294, 1295, 1296, 1297, 1298, 1299, 1300, 1301, 1302, 1303, 1304, 1305, 1306, 1307, 1308, 1309, 1310, 1311, 1312, 1313, 1314, 1315, 1316, 1317, 1318, 1319, 1320, 1321, 1322, 1323, 1324, 1325, 1326, 1327, 1328, 1329, 1330, 1331, 1332, 1333, 1334, 1335, 1336, 1337, 1338, 1339, 1340, 1341, 1342, 1343, 1344, 1345, 1346, 1347, 1348, 1349, 1350, 1351, 1352, 1353, 1354, 1355, 1356, 1357, 1358, 1359, 1360, 1361, 1362], \"y\": [0.2244550331954578, 0.22525674695959275, 0.232436562771563, 0.23353405814142736, 0.23507863036652088, 0.23452757148956183, 0.23642757940784165, 0.23590451093509124, 0.23701674252022453, 0.23763047024807493, 0.23746069068061448, 0.2349272819210011, 0.2389670738567049, 0.24521806538810642, 0.24616442656736437, 0.24549034194107033, 0.22480497800993904, 0.2245861752927607, 0.22287253368622295, 0.2202366200670145, 0.23951279013415938, 0.24090796290677385, 0.24191034346908546, 0.2390505887992167, 0.23825258504929447, 0.240243996568974, 0.23770829861002518, 0.2338206911115419, 0.2351484601475584, 0.23842797045756337, 0.2393304851140936, 0.2378558711533727, 0.240010744717305, 0.24225122475563765, 0.23162907147026246, 0.2305744792581712, 0.2376771694624824, 0.24382719044888512, 0.24465661585544618, 0.24647846474825474, 0.23312451478110452, 0.2275566045660966, 0.22474389491594993, 0.2206317625994627, 0.23326142481415202, 0.23422683718602677, 0.2326390201649855, 0.23244625499186045, 0.22483212243172845, 0.22261776795150778, 0.22409739381640215, 0.22041071021673186, 0.2168317096820509, 0.22815969888655063, 0.233805958946669, 0.2433773981137941, 0.27425011040822556, 0.2702456212042499, 0.27178050724505676, 0.26772702904280754, 0.25871588242753996, 0.25734240811350695, 0.2592398769139881, 0.2613032851087844, 0.2528590829238522, 0.24328756367619242, 0.24495931771593327, 0.24260956394325328, 0.23425017543186666, 0.22574694297889586, 0.23149813457016322, 0.22023767864262256, 0.23159685352489712, 0.22800825285613335, 0.2371339464003519, 0.22310664005739245, 0.2208278361534286, 0.21649088910255188, 0.22060638609969452, 0.22362465415327026, 0.21853907761349944, 0.21490039548968376, 0.23463197847750905, 0.22171479154965468, 0.2448247085560209, 0.25478284435029996, 0.25905400801075595, 0.2583868437506851, 0.27692445570724633, 0.2822784801618723, 0.285687683772748, 0.29089343201920626, 0.3092417090241466, 0.3111620201784593, 0.31159679474442026, 0.30902445879826246, 0.29944263679985106, 0.3092659739335408, 0.31853792879677867, 0.28976849047268294, 0.2756582583739684, 0.2761672856490005, 0.2734155859849601, 0.27906646214738373, 0.27444830423533206, 0.27251297714090583, 0.24510418243036192, 0.2250700627719513, 0.22107976007731, 0.21854333367968204, 0.21947993110385644, 0.22607108376406382, 0.22255680520467225, 0.24053632586569762, 0.2430203842144505, 0.2462828373409489, 0.238261105917994, 0.23595296861415438, 0.23817789274772538, 0.233210535507673, 0.23914058130128746, 0.2251931401587246, 0.2274861891483173, 0.2172822093767186, 0.19846350999917028, 0.21423973803949314, 0.21114127966122398, 0.22023609077794015, 0.21386763875484105, 0.2145247309772662, 0.21000390875762065, 0.24374437990589692, 0.24569526003529107, 0.24547366837835893, 0.24332952235634453, 0.23024445319291864, 0.23320137460105972, 0.22710796767421648, 0.2397548757134067, 0.22339563257373918, 0.23513732885122218, 0.2515130336245286, 0.24743390779582786, 0.28075285776620085, 0.28496034078282584, 0.2884240006482619, 0.28701347418788803, 0.28614726281022973, 0.2803726671496558, 0.2894925593979698, 0.2876478330315564, 0.28182579373140104, 0.27970561704878527, 0.27602914743009155, 0.27834526763712963, 0.26279171411076696, 0.27502288911009076, 0.27451703762385593, 0.27867368150480987, 0.2829123408847649, 0.28024863580555115, 0.30193029501853585, 0.3177249250592422, 0.32234242069466656, 0.3117967116925615, 0.3110743531404192, 0.3051819006690377, 0.31546878574259196, 0.321178471635966, 0.32861989014167303, 0.32899842309650573, 0.32007734845198454, 0.3172385306411214, 0.34243602434155873, 0.35140072500621367, 0.3478912296745129, 0.3542248284314513, 0.36427302605903744, 0.37130863371322276, 0.366151155128263, 0.3682217752079242, 0.3497467204340978, 0.3445168216727379, 0.3495681191298714, 0.3552473304781909, 0.35391827318160685, 0.3379841997837678, 0.35106837537978164, 0.3360490433871073, 0.36499138885189497, 0.33813099366460886, 0.3332024167699026, 0.33792042052456894, 0.3364217825094884, 0.31402475106493544, 0.30837914958459534, 0.2991500618817877, 0.30499793651366014, 0.3155239486059034, 0.30189886994727244, 0.29610524998525944, 0.29936639220173955, 0.25595608084052524, 0.2505558048777248, 0.24685960576763888, 0.25928428465892006, 0.25205481224910065, 0.23856170197331084, 0.2476498059642287, 0.24895146483181518, 0.2765554625104243, 0.259798736359655, 0.24813712981746372, 0.2544393038705133, 0.2520057938602238, 0.2636747908732673, 0.299616909551482, 0.2945281606410477, 0.30804404856634315, 0.3207764277709213, 0.3232356734883344, 0.3367412582506697, 0.3307868986039981, 0.3373741222946567, 0.3360490433871073, 0.3261055770332004, 0.3091458992236875, 0.29704889922108, 0.31327946563999554, 0.31171612912732316, 0.31167709719319747, 0.34585985682177345, 0.34654056632125796, 0.35944365655038135, 0.33410421900404463, 0.3497073576895562, 0.35245837289394366, 0.37239137056731053, 0.3987712566764081, 0.4217962448969481, 0.4234655161727092, 0.4216335870094552, 0.40983044970706217, 0.40335596072604885, 0.38725572907343153, 0.3961279882174402, 0.38454259643932387, 0.3598402468562898, 0.3661000746119951, 0.3814547887650446, 0.37071640022374686, 0.3918561572588177, 0.4157360487277546, 0.41225950892527674, 0.38911838846182567, 0.4097609832084723, 0.3806413227210239, 0.377691368966683, 0.35700227324716893, 0.32349188693454334, 0.3363845274910231, 0.3029392708735026, 0.3245893864438103, 0.32951808936449734, 0.31357697689429864, 0.28340389439198876, 0.2898744246114129, 0.25800931910358926, 0.3099026956841304, 0.3492457574451584, 0.3356228609942846, 0.34926796636202395]}],\n",
              "                        {\"height\": 600, \"shapes\": [{\"fillcolor\": \"#F6B28D\", \"line\": {\"color\": \"#F6B28D\"}, \"opacity\": 0.1, \"type\": \"rect\", \"x0\": 1091, \"x1\": 1362, \"xref\": \"x\", \"y0\": 0, \"y1\": 1, \"yref\": \"paper\"}, {\"fillcolor\": \"#7BA1AA\", \"line\": {\"color\": \"#7BA1AA\"}, \"opacity\": 0.1, \"type\": \"rect\", \"x0\": 0, \"x1\": 1090, \"xref\": \"x\", \"y0\": 0, \"y1\": 1, \"yref\": \"paper\"}], \"template\": {\"data\": {\"bar\": [{\"error_x\": {\"color\": \"#2a3f5f\"}, \"error_y\": {\"color\": \"#2a3f5f\"}, \"marker\": {\"line\": {\"color\": \"white\", \"width\": 0.5}}, \"type\": \"bar\"}], \"barpolar\": [{\"marker\": {\"line\": {\"color\": \"white\", \"width\": 0.5}}, \"type\": \"barpolar\"}], \"carpet\": [{\"aaxis\": {\"endlinecolor\": \"#2a3f5f\", \"gridcolor\": \"#C8D4E3\", \"linecolor\": \"#C8D4E3\", \"minorgridcolor\": \"#C8D4E3\", \"startlinecolor\": \"#2a3f5f\"}, \"baxis\": {\"endlinecolor\": \"#2a3f5f\", \"gridcolor\": \"#C8D4E3\", \"linecolor\": \"#C8D4E3\", \"minorgridcolor\": \"#C8D4E3\", \"startlinecolor\": \"#2a3f5f\"}, \"type\": \"carpet\"}], \"choropleth\": [{\"colorbar\": {\"outlinewidth\": 0, \"ticks\": \"\"}, \"type\": \"choropleth\"}], \"contour\": [{\"colorbar\": {\"outlinewidth\": 0, \"ticks\": \"\"}, \"colorscale\": [[0.0, \"#0d0887\"], [0.1111111111111111, \"#46039f\"], [0.2222222222222222, \"#7201a8\"], [0.3333333333333333, \"#9c179e\"], [0.4444444444444444, \"#bd3786\"], [0.5555555555555556, \"#d8576b\"], [0.6666666666666666, \"#ed7953\"], [0.7777777777777778, \"#fb9f3a\"], [0.8888888888888888, \"#fdca26\"], [1.0, \"#f0f921\"]], \"type\": \"contour\"}], \"contourcarpet\": [{\"colorbar\": {\"outlinewidth\": 0, \"ticks\": \"\"}, \"type\": \"contourcarpet\"}], \"heatmap\": [{\"colorbar\": {\"outlinewidth\": 0, \"ticks\": \"\"}, \"colorscale\": [[0.0, \"#0d0887\"], [0.1111111111111111, \"#46039f\"], [0.2222222222222222, \"#7201a8\"], [0.3333333333333333, \"#9c179e\"], [0.4444444444444444, \"#bd3786\"], [0.5555555555555556, \"#d8576b\"], [0.6666666666666666, \"#ed7953\"], [0.7777777777777778, \"#fb9f3a\"], [0.8888888888888888, \"#fdca26\"], [1.0, \"#f0f921\"]], \"type\": \"heatmap\"}], \"heatmapgl\": [{\"colorbar\": {\"outlinewidth\": 0, \"ticks\": \"\"}, \"colorscale\": [[0.0, \"#0d0887\"], [0.1111111111111111, \"#46039f\"], [0.2222222222222222, \"#7201a8\"], [0.3333333333333333, \"#9c179e\"], [0.4444444444444444, \"#bd3786\"], [0.5555555555555556, \"#d8576b\"], [0.6666666666666666, \"#ed7953\"], [0.7777777777777778, \"#fb9f3a\"], [0.8888888888888888, \"#fdca26\"], [1.0, \"#f0f921\"]], \"type\": \"heatmapgl\"}], \"histogram\": [{\"marker\": {\"colorbar\": {\"outlinewidth\": 0, \"ticks\": \"\"}}, \"type\": \"histogram\"}], \"histogram2d\": [{\"colorbar\": {\"outlinewidth\": 0, \"ticks\": \"\"}, \"colorscale\": [[0.0, \"#0d0887\"], [0.1111111111111111, \"#46039f\"], [0.2222222222222222, \"#7201a8\"], [0.3333333333333333, \"#9c179e\"], [0.4444444444444444, \"#bd3786\"], [0.5555555555555556, \"#d8576b\"], [0.6666666666666666, \"#ed7953\"], [0.7777777777777778, \"#fb9f3a\"], [0.8888888888888888, \"#fdca26\"], [1.0, \"#f0f921\"]], \"type\": \"histogram2d\"}], \"histogram2dcontour\": [{\"colorbar\": {\"outlinewidth\": 0, \"ticks\": \"\"}, \"colorscale\": [[0.0, \"#0d0887\"], [0.1111111111111111, \"#46039f\"], [0.2222222222222222, \"#7201a8\"], [0.3333333333333333, \"#9c179e\"], [0.4444444444444444, \"#bd3786\"], [0.5555555555555556, \"#d8576b\"], [0.6666666666666666, \"#ed7953\"], [0.7777777777777778, \"#fb9f3a\"], [0.8888888888888888, \"#fdca26\"], [1.0, \"#f0f921\"]], \"type\": \"histogram2dcontour\"}], \"mesh3d\": [{\"colorbar\": {\"outlinewidth\": 0, \"ticks\": \"\"}, \"type\": \"mesh3d\"}], \"parcoords\": [{\"line\": {\"colorbar\": {\"outlinewidth\": 0, \"ticks\": \"\"}}, \"type\": \"parcoords\"}], \"pie\": [{\"automargin\": true, \"type\": \"pie\"}], \"scatter\": [{\"marker\": {\"colorbar\": {\"outlinewidth\": 0, \"ticks\": \"\"}}, \"type\": \"scatter\"}], \"scatter3d\": [{\"line\": {\"colorbar\": {\"outlinewidth\": 0, \"ticks\": \"\"}}, \"marker\": {\"colorbar\": {\"outlinewidth\": 0, \"ticks\": \"\"}}, \"type\": \"scatter3d\"}], \"scattercarpet\": [{\"marker\": {\"colorbar\": {\"outlinewidth\": 0, \"ticks\": \"\"}}, \"type\": \"scattercarpet\"}], \"scattergeo\": [{\"marker\": {\"colorbar\": {\"outlinewidth\": 0, \"ticks\": \"\"}}, \"type\": \"scattergeo\"}], \"scattergl\": [{\"marker\": {\"colorbar\": {\"outlinewidth\": 0, \"ticks\": \"\"}}, \"type\": \"scattergl\"}], \"scattermapbox\": [{\"marker\": {\"colorbar\": {\"outlinewidth\": 0, \"ticks\": \"\"}}, \"type\": \"scattermapbox\"}], \"scatterpolar\": [{\"marker\": {\"colorbar\": {\"outlinewidth\": 0, \"ticks\": \"\"}}, \"type\": \"scatterpolar\"}], \"scatterpolargl\": [{\"marker\": {\"colorbar\": {\"outlinewidth\": 0, \"ticks\": \"\"}}, \"type\": \"scatterpolargl\"}], \"scatterternary\": [{\"marker\": {\"colorbar\": {\"outlinewidth\": 0, \"ticks\": \"\"}}, \"type\": \"scatterternary\"}], \"surface\": [{\"colorbar\": {\"outlinewidth\": 0, \"ticks\": \"\"}, \"colorscale\": [[0.0, \"#0d0887\"], [0.1111111111111111, \"#46039f\"], [0.2222222222222222, \"#7201a8\"], [0.3333333333333333, \"#9c179e\"], [0.4444444444444444, \"#bd3786\"], [0.5555555555555556, \"#d8576b\"], [0.6666666666666666, \"#ed7953\"], [0.7777777777777778, \"#fb9f3a\"], [0.8888888888888888, \"#fdca26\"], [1.0, \"#f0f921\"]], \"type\": \"surface\"}], \"table\": [{\"cells\": {\"fill\": {\"color\": \"#EBF0F8\"}, \"line\": {\"color\": \"white\"}}, \"header\": {\"fill\": {\"color\": \"#C8D4E3\"}, \"line\": {\"color\": \"white\"}}, \"type\": \"table\"}]}, \"layout\": {\"annotationdefaults\": {\"arrowcolor\": \"#2a3f5f\", \"arrowhead\": 0, \"arrowwidth\": 1}, \"coloraxis\": {\"colorbar\": {\"outlinewidth\": 0, \"ticks\": \"\"}}, \"colorscale\": {\"diverging\": [[0, \"#8e0152\"], [0.1, \"#c51b7d\"], [0.2, \"#de77ae\"], [0.3, \"#f1b6da\"], [0.4, \"#fde0ef\"], [0.5, \"#f7f7f7\"], [0.6, \"#e6f5d0\"], [0.7, \"#b8e186\"], [0.8, \"#7fbc41\"], [0.9, \"#4d9221\"], [1, \"#276419\"]], \"sequential\": [[0.0, \"#0d0887\"], [0.1111111111111111, \"#46039f\"], [0.2222222222222222, \"#7201a8\"], [0.3333333333333333, \"#9c179e\"], [0.4444444444444444, \"#bd3786\"], [0.5555555555555556, \"#d8576b\"], [0.6666666666666666, \"#ed7953\"], [0.7777777777777778, \"#fb9f3a\"], [0.8888888888888888, \"#fdca26\"], [1.0, \"#f0f921\"]], \"sequentialminus\": [[0.0, \"#0d0887\"], [0.1111111111111111, \"#46039f\"], [0.2222222222222222, \"#7201a8\"], [0.3333333333333333, \"#9c179e\"], [0.4444444444444444, \"#bd3786\"], [0.5555555555555556, \"#d8576b\"], [0.6666666666666666, \"#ed7953\"], [0.7777777777777778, \"#fb9f3a\"], [0.8888888888888888, \"#fdca26\"], [1.0, \"#f0f921\"]]}, \"colorway\": [\"#636efa\", \"#EF553B\", \"#00cc96\", \"#ab63fa\", \"#FFA15A\", \"#19d3f3\", \"#FF6692\", \"#B6E880\", \"#FF97FF\", \"#FECB52\"], \"font\": {\"color\": \"#2a3f5f\"}, \"geo\": {\"bgcolor\": \"white\", \"lakecolor\": \"white\", \"landcolor\": \"white\", \"showlakes\": true, \"showland\": true, \"subunitcolor\": \"#C8D4E3\"}, \"hoverlabel\": {\"align\": \"left\"}, \"hovermode\": \"closest\", \"mapbox\": {\"style\": \"light\"}, \"paper_bgcolor\": \"white\", \"plot_bgcolor\": \"white\", \"polar\": {\"angularaxis\": {\"gridcolor\": \"#EBF0F8\", \"linecolor\": \"#EBF0F8\", \"ticks\": \"\"}, \"bgcolor\": \"white\", \"radialaxis\": {\"gridcolor\": \"#EBF0F8\", \"linecolor\": \"#EBF0F8\", \"ticks\": \"\"}}, \"scene\": {\"xaxis\": {\"backgroundcolor\": \"white\", \"gridcolor\": \"#DFE8F3\", \"gridwidth\": 2, \"linecolor\": \"#EBF0F8\", \"showbackground\": true, \"ticks\": \"\", \"zerolinecolor\": \"#EBF0F8\"}, \"yaxis\": {\"backgroundcolor\": \"white\", \"gridcolor\": \"#DFE8F3\", \"gridwidth\": 2, \"linecolor\": \"#EBF0F8\", \"showbackground\": true, \"ticks\": \"\", \"zerolinecolor\": \"#EBF0F8\"}, \"zaxis\": {\"backgroundcolor\": \"white\", \"gridcolor\": \"#DFE8F3\", \"gridwidth\": 2, \"linecolor\": \"#EBF0F8\", \"showbackground\": true, \"ticks\": \"\", \"zerolinecolor\": \"#EBF0F8\"}}, \"shapedefaults\": {\"line\": {\"color\": \"#2a3f5f\"}}, \"ternary\": {\"aaxis\": {\"gridcolor\": \"#DFE8F3\", \"linecolor\": \"#A2B1C6\", \"ticks\": \"\"}, \"baxis\": {\"gridcolor\": \"#DFE8F3\", \"linecolor\": \"#A2B1C6\", \"ticks\": \"\"}, \"bgcolor\": \"white\", \"caxis\": {\"gridcolor\": \"#DFE8F3\", \"linecolor\": \"#A2B1C6\", \"ticks\": \"\"}}, \"title\": {\"x\": 0.05}, \"xaxis\": {\"automargin\": true, \"gridcolor\": \"#EBF0F8\", \"linecolor\": \"#EBF0F8\", \"ticks\": \"\", \"title\": {\"standoff\": 15}, \"zerolinecolor\": \"#EBF0F8\", \"zerolinewidth\": 2}, \"yaxis\": {\"automargin\": true, \"gridcolor\": \"#EBF0F8\", \"linecolor\": \"#EBF0F8\", \"ticks\": \"\", \"title\": {\"standoff\": 15}, \"zerolinecolor\": \"#EBF0F8\", \"zerolinewidth\": 2}}}, \"title\": {\"text\": \"Train/Test Datasets (Scaled)\"}, \"width\": 600, \"xaxis\": {\"title\": {\"text\": \"time steps\"}}, \"yaxis\": {\"title\": {\"text\": \"Closing Price (Scaled)\"}}},\n",
              "                        {\"responsive\": true}\n",
              "                    ).then(function(){\n",
              "                            \n",
              "var gd = document.getElementById('8e2a9a39-0b5d-45bf-aa0d-67528f58f656');\n",
              "var x = new MutationObserver(function (mutations, observer) {{\n",
              "        var display = window.getComputedStyle(gd).display;\n",
              "        if (!display || display === 'none') {{\n",
              "            console.log([gd, 'removed!']);\n",
              "            Plotly.purge(gd);\n",
              "            observer.disconnect();\n",
              "        }}\n",
              "}});\n",
              "\n",
              "// Listen for the removal of the full notebook cells\n",
              "var notebookContainer = gd.closest('#notebook-container');\n",
              "if (notebookContainer) {{\n",
              "    x.observe(notebookContainer, {childList: true});\n",
              "}}\n",
              "\n",
              "// Listen for the clearing of the current output cell\n",
              "var outputEl = gd.closest('.output');\n",
              "if (outputEl) {{\n",
              "    x.observe(outputEl, {childList: true});\n",
              "}}\n",
              "\n",
              "                        })\n",
              "                };\n",
              "                \n",
              "            </script>\n",
              "        </div>\n",
              "</body>\n",
              "</html>"
            ]
          },
          "metadata": {}
        },
        {
          "output_type": "stream",
          "name": "stdout",
          "text": [
            "Train/Test Dimensions\n",
            "============================================================\n",
            "Train Data Dimensions:  x (1028, 60, 44) y (1028, 3)\n",
            "Test Data Dimensions :  x (209, 60, 44)  y (209, 3)\n",
            "\n",
            "\n",
            "Check the dimensions of the training windows\n",
            "============================================================\n",
            "The last value in the training batch should match the first value in the predict batch\n",
            "Last Training Value:    0.8865002241167672\n",
            "First Prediction Value: 0.8865002241167672\n"
          ]
        },
        {
          "output_type": "display_data",
          "data": {
            "text/html": [
              "<html>\n",
              "<head><meta charset=\"utf-8\" /></head>\n",
              "<body>\n",
              "    <div>\n",
              "            <script src=\"https://cdnjs.cloudflare.com/ajax/libs/mathjax/2.7.5/MathJax.js?config=TeX-AMS-MML_SVG\"></script><script type=\"text/javascript\">if (window.MathJax) {MathJax.Hub.Config({SVG: {font: \"STIX-Web\"}});}</script>\n",
              "                <script type=\"text/javascript\">window.PlotlyConfig = {MathJaxConfig: 'local'};</script>\n",
              "        <script src=\"https://cdn.plot.ly/plotly-latest.min.js\"></script>    \n",
              "            <div id=\"b0dc79de-21d3-45ec-88f6-1acf09f48436\" class=\"plotly-graph-div\" style=\"height:500px; width:700px;\"></div>\n",
              "            <script type=\"text/javascript\">\n",
              "                \n",
              "                    window.PLOTLYENV=window.PLOTLYENV || {};\n",
              "                    \n",
              "                if (document.getElementById(\"b0dc79de-21d3-45ec-88f6-1acf09f48436\")) {\n",
              "                    Plotly.newPlot(\n",
              "                        'b0dc79de-21d3-45ec-88f6-1acf09f48436',\n",
              "                        [{\"fill\": \"tozeroy\", \"line\": {\"color\": \"#a8b8d0\"}, \"name\": \"train window\", \"type\": \"scatter\", \"x\": [0, 1, 2, 3, 4, 5, 6, 7, 8, 9, 10, 11, 12, 13, 14, 15, 16, 17, 18, 19, 20, 21, 22, 23, 24, 25, 26, 27, 28, 29, 30, 31, 32, 33, 34, 35, 36, 37, 38, 39, 40, 41, 42, 43, 44, 45, 46, 47, 48, 49, 50, 51, 52, 53, 54, 55, 56, 57, 58, 59], \"y\": [0.9580765888495439, 0.9576670758221084, 0.9453763356891165, 0.957162485735437, 0.9633598965740133, 0.9583644926729984, 0.9518634980287217, 0.9627210206337722, 0.961341217066062, 0.9614303197050118, 0.9614853350765582, 0.9551441991821128, 0.944326730624494, 0.9446218114684206, 0.9397333072320624, 0.9166297017572553, 0.9230762400639816, 0.9356958167768896, 0.9341432543219352, 0.953454182120641, 0.9579201070212395, 0.9574173851070915, 0.9551906863147401, 0.9623058749730284, 0.9508141872413947, 0.9433882879276654, 0.9628807992600001, 0.9748903192502398, 0.952911628964658, 0.9560358989375546, 0.9448860818700342, 0.9389426411594459, 0.9234797686171365, 0.9145640186136785, 0.9005589371992881, 0.8997991659992448, 0.897223969857424, 0.9103655545978868, 0.8976631453504194, 0.9054071737065241, 0.8742945001464744, 0.8813797301116311, 0.8826520474714901, 0.8884081112520268, 0.9060569336371875, 0.9007663493354698, 0.9342188362459156, 0.9538950976504181, 0.9447580004629557, 0.9450555373460374, 0.9183358846939624, 0.9217639812912197, 0.9024573953788915, 0.8940246169163104, 0.898652686966328, 0.8887259023603815, 0.8898615561920407, 0.8943391126365565, 0.8719172298738855, 0.883673189438094]}, {\"fill\": \"tozeroy\", \"line\": {\"color\": \"orange\"}, \"name\": \"predict window\", \"type\": \"scatter\", \"x\": [59, 60, 61], \"y\": [0.883673189438094, 0.8831562611540122, 0.8242362955553872]}],\n",
              "                        {\"height\": 500, \"template\": {\"data\": {\"bar\": [{\"error_x\": {\"color\": \"#2a3f5f\"}, \"error_y\": {\"color\": \"#2a3f5f\"}, \"marker\": {\"line\": {\"color\": \"white\", \"width\": 0.5}}, \"type\": \"bar\"}], \"barpolar\": [{\"marker\": {\"line\": {\"color\": \"white\", \"width\": 0.5}}, \"type\": \"barpolar\"}], \"carpet\": [{\"aaxis\": {\"endlinecolor\": \"#2a3f5f\", \"gridcolor\": \"#C8D4E3\", \"linecolor\": \"#C8D4E3\", \"minorgridcolor\": \"#C8D4E3\", \"startlinecolor\": \"#2a3f5f\"}, \"baxis\": {\"endlinecolor\": \"#2a3f5f\", \"gridcolor\": \"#C8D4E3\", \"linecolor\": \"#C8D4E3\", \"minorgridcolor\": \"#C8D4E3\", \"startlinecolor\": \"#2a3f5f\"}, \"type\": \"carpet\"}], \"choropleth\": [{\"colorbar\": {\"outlinewidth\": 0, \"ticks\": \"\"}, \"type\": \"choropleth\"}], \"contour\": [{\"colorbar\": {\"outlinewidth\": 0, \"ticks\": \"\"}, \"colorscale\": [[0.0, \"#0d0887\"], [0.1111111111111111, \"#46039f\"], [0.2222222222222222, \"#7201a8\"], [0.3333333333333333, \"#9c179e\"], [0.4444444444444444, \"#bd3786\"], [0.5555555555555556, \"#d8576b\"], [0.6666666666666666, \"#ed7953\"], [0.7777777777777778, \"#fb9f3a\"], [0.8888888888888888, \"#fdca26\"], [1.0, \"#f0f921\"]], \"type\": \"contour\"}], \"contourcarpet\": [{\"colorbar\": {\"outlinewidth\": 0, \"ticks\": \"\"}, \"type\": \"contourcarpet\"}], \"heatmap\": [{\"colorbar\": {\"outlinewidth\": 0, \"ticks\": \"\"}, \"colorscale\": [[0.0, \"#0d0887\"], [0.1111111111111111, \"#46039f\"], [0.2222222222222222, \"#7201a8\"], [0.3333333333333333, \"#9c179e\"], [0.4444444444444444, \"#bd3786\"], [0.5555555555555556, \"#d8576b\"], [0.6666666666666666, \"#ed7953\"], [0.7777777777777778, \"#fb9f3a\"], [0.8888888888888888, \"#fdca26\"], [1.0, \"#f0f921\"]], \"type\": \"heatmap\"}], \"heatmapgl\": [{\"colorbar\": {\"outlinewidth\": 0, \"ticks\": \"\"}, \"colorscale\": [[0.0, \"#0d0887\"], [0.1111111111111111, \"#46039f\"], [0.2222222222222222, \"#7201a8\"], [0.3333333333333333, \"#9c179e\"], [0.4444444444444444, \"#bd3786\"], [0.5555555555555556, \"#d8576b\"], [0.6666666666666666, \"#ed7953\"], [0.7777777777777778, \"#fb9f3a\"], [0.8888888888888888, \"#fdca26\"], [1.0, \"#f0f921\"]], \"type\": \"heatmapgl\"}], \"histogram\": [{\"marker\": {\"colorbar\": {\"outlinewidth\": 0, \"ticks\": \"\"}}, \"type\": \"histogram\"}], \"histogram2d\": [{\"colorbar\": {\"outlinewidth\": 0, \"ticks\": \"\"}, \"colorscale\": [[0.0, \"#0d0887\"], [0.1111111111111111, \"#46039f\"], [0.2222222222222222, \"#7201a8\"], [0.3333333333333333, \"#9c179e\"], [0.4444444444444444, \"#bd3786\"], [0.5555555555555556, \"#d8576b\"], [0.6666666666666666, \"#ed7953\"], [0.7777777777777778, \"#fb9f3a\"], [0.8888888888888888, \"#fdca26\"], [1.0, \"#f0f921\"]], \"type\": \"histogram2d\"}], \"histogram2dcontour\": [{\"colorbar\": {\"outlinewidth\": 0, \"ticks\": \"\"}, \"colorscale\": [[0.0, \"#0d0887\"], [0.1111111111111111, \"#46039f\"], [0.2222222222222222, \"#7201a8\"], [0.3333333333333333, \"#9c179e\"], [0.4444444444444444, \"#bd3786\"], [0.5555555555555556, \"#d8576b\"], [0.6666666666666666, \"#ed7953\"], [0.7777777777777778, \"#fb9f3a\"], [0.8888888888888888, \"#fdca26\"], [1.0, \"#f0f921\"]], \"type\": \"histogram2dcontour\"}], \"mesh3d\": [{\"colorbar\": {\"outlinewidth\": 0, \"ticks\": \"\"}, \"type\": \"mesh3d\"}], \"parcoords\": [{\"line\": {\"colorbar\": {\"outlinewidth\": 0, \"ticks\": \"\"}}, \"type\": \"parcoords\"}], \"pie\": [{\"automargin\": true, \"type\": \"pie\"}], \"scatter\": [{\"marker\": {\"colorbar\": {\"outlinewidth\": 0, \"ticks\": \"\"}}, \"type\": \"scatter\"}], \"scatter3d\": [{\"line\": {\"colorbar\": {\"outlinewidth\": 0, \"ticks\": \"\"}}, \"marker\": {\"colorbar\": {\"outlinewidth\": 0, \"ticks\": \"\"}}, \"type\": \"scatter3d\"}], \"scattercarpet\": [{\"marker\": {\"colorbar\": {\"outlinewidth\": 0, \"ticks\": \"\"}}, \"type\": \"scattercarpet\"}], \"scattergeo\": [{\"marker\": {\"colorbar\": {\"outlinewidth\": 0, \"ticks\": \"\"}}, \"type\": \"scattergeo\"}], \"scattergl\": [{\"marker\": {\"colorbar\": {\"outlinewidth\": 0, \"ticks\": \"\"}}, \"type\": \"scattergl\"}], \"scattermapbox\": [{\"marker\": {\"colorbar\": {\"outlinewidth\": 0, \"ticks\": \"\"}}, \"type\": \"scattermapbox\"}], \"scatterpolar\": [{\"marker\": {\"colorbar\": {\"outlinewidth\": 0, \"ticks\": \"\"}}, \"type\": \"scatterpolar\"}], \"scatterpolargl\": [{\"marker\": {\"colorbar\": {\"outlinewidth\": 0, \"ticks\": \"\"}}, \"type\": \"scatterpolargl\"}], \"scatterternary\": [{\"marker\": {\"colorbar\": {\"outlinewidth\": 0, \"ticks\": \"\"}}, \"type\": \"scatterternary\"}], \"surface\": [{\"colorbar\": {\"outlinewidth\": 0, \"ticks\": \"\"}, \"colorscale\": [[0.0, \"#0d0887\"], [0.1111111111111111, \"#46039f\"], [0.2222222222222222, \"#7201a8\"], [0.3333333333333333, \"#9c179e\"], [0.4444444444444444, \"#bd3786\"], [0.5555555555555556, \"#d8576b\"], [0.6666666666666666, \"#ed7953\"], [0.7777777777777778, \"#fb9f3a\"], [0.8888888888888888, \"#fdca26\"], [1.0, \"#f0f921\"]], \"type\": \"surface\"}], \"table\": [{\"cells\": {\"fill\": {\"color\": \"#EBF0F8\"}, \"line\": {\"color\": \"white\"}}, \"header\": {\"fill\": {\"color\": \"#C8D4E3\"}, \"line\": {\"color\": \"white\"}}, \"type\": \"table\"}]}, \"layout\": {\"annotationdefaults\": {\"arrowcolor\": \"#2a3f5f\", \"arrowhead\": 0, \"arrowwidth\": 1}, \"coloraxis\": {\"colorbar\": {\"outlinewidth\": 0, \"ticks\": \"\"}}, \"colorscale\": {\"diverging\": [[0, \"#8e0152\"], [0.1, \"#c51b7d\"], [0.2, \"#de77ae\"], [0.3, \"#f1b6da\"], [0.4, \"#fde0ef\"], [0.5, \"#f7f7f7\"], [0.6, \"#e6f5d0\"], [0.7, \"#b8e186\"], [0.8, \"#7fbc41\"], [0.9, \"#4d9221\"], [1, \"#276419\"]], \"sequential\": [[0.0, \"#0d0887\"], [0.1111111111111111, \"#46039f\"], [0.2222222222222222, \"#7201a8\"], [0.3333333333333333, \"#9c179e\"], [0.4444444444444444, \"#bd3786\"], [0.5555555555555556, \"#d8576b\"], [0.6666666666666666, \"#ed7953\"], [0.7777777777777778, \"#fb9f3a\"], [0.8888888888888888, \"#fdca26\"], [1.0, \"#f0f921\"]], \"sequentialminus\": [[0.0, \"#0d0887\"], [0.1111111111111111, \"#46039f\"], [0.2222222222222222, \"#7201a8\"], [0.3333333333333333, \"#9c179e\"], [0.4444444444444444, \"#bd3786\"], [0.5555555555555556, \"#d8576b\"], [0.6666666666666666, \"#ed7953\"], [0.7777777777777778, \"#fb9f3a\"], [0.8888888888888888, \"#fdca26\"], [1.0, \"#f0f921\"]]}, \"colorway\": [\"#636efa\", \"#EF553B\", \"#00cc96\", \"#ab63fa\", \"#FFA15A\", \"#19d3f3\", \"#FF6692\", \"#B6E880\", \"#FF97FF\", \"#FECB52\"], \"font\": {\"color\": \"#2a3f5f\"}, \"geo\": {\"bgcolor\": \"white\", \"lakecolor\": \"white\", \"landcolor\": \"white\", \"showlakes\": true, \"showland\": true, \"subunitcolor\": \"#C8D4E3\"}, \"hoverlabel\": {\"align\": \"left\"}, \"hovermode\": \"closest\", \"mapbox\": {\"style\": \"light\"}, \"paper_bgcolor\": \"white\", \"plot_bgcolor\": \"white\", \"polar\": {\"angularaxis\": {\"gridcolor\": \"#EBF0F8\", \"linecolor\": \"#EBF0F8\", \"ticks\": \"\"}, \"bgcolor\": \"white\", \"radialaxis\": {\"gridcolor\": \"#EBF0F8\", \"linecolor\": \"#EBF0F8\", \"ticks\": \"\"}}, \"scene\": {\"xaxis\": {\"backgroundcolor\": \"white\", \"gridcolor\": \"#DFE8F3\", \"gridwidth\": 2, \"linecolor\": \"#EBF0F8\", \"showbackground\": true, \"ticks\": \"\", \"zerolinecolor\": \"#EBF0F8\"}, \"yaxis\": {\"backgroundcolor\": \"white\", \"gridcolor\": \"#DFE8F3\", \"gridwidth\": 2, \"linecolor\": \"#EBF0F8\", \"showbackground\": true, \"ticks\": \"\", \"zerolinecolor\": \"#EBF0F8\"}, \"zaxis\": {\"backgroundcolor\": \"white\", \"gridcolor\": \"#DFE8F3\", \"gridwidth\": 2, \"linecolor\": \"#EBF0F8\", \"showbackground\": true, \"ticks\": \"\", \"zerolinecolor\": \"#EBF0F8\"}}, \"shapedefaults\": {\"line\": {\"color\": \"#2a3f5f\"}}, \"ternary\": {\"aaxis\": {\"gridcolor\": \"#DFE8F3\", \"linecolor\": \"#A2B1C6\", \"ticks\": \"\"}, \"baxis\": {\"gridcolor\": \"#DFE8F3\", \"linecolor\": \"#A2B1C6\", \"ticks\": \"\"}, \"bgcolor\": \"white\", \"caxis\": {\"gridcolor\": \"#DFE8F3\", \"linecolor\": \"#A2B1C6\", \"ticks\": \"\"}}, \"title\": {\"x\": 0.05}, \"xaxis\": {\"automargin\": true, \"gridcolor\": \"#EBF0F8\", \"linecolor\": \"#EBF0F8\", \"ticks\": \"\", \"title\": {\"standoff\": 15}, \"zerolinecolor\": \"#EBF0F8\", \"zerolinewidth\": 2}, \"yaxis\": {\"automargin\": true, \"gridcolor\": \"#EBF0F8\", \"linecolor\": \"#EBF0F8\", \"ticks\": \"\", \"title\": {\"standoff\": 15}, \"zerolinecolor\": \"#EBF0F8\", \"zerolinewidth\": 2}}}, \"title\": {\"text\": \"Train/Predict Windows\"}, \"width\": 700, \"xaxis\": {\"title\": {\"text\": \"Period\"}}, \"yaxis\": {\"title\": {\"text\": \"Closing Price (Scaled)\"}}},\n",
              "                        {\"responsive\": true}\n",
              "                    ).then(function(){\n",
              "                            \n",
              "var gd = document.getElementById('b0dc79de-21d3-45ec-88f6-1acf09f48436');\n",
              "var x = new MutationObserver(function (mutations, observer) {{\n",
              "        var display = window.getComputedStyle(gd).display;\n",
              "        if (!display || display === 'none') {{\n",
              "            console.log([gd, 'removed!']);\n",
              "            Plotly.purge(gd);\n",
              "            observer.disconnect();\n",
              "        }}\n",
              "}});\n",
              "\n",
              "// Listen for the removal of the full notebook cells\n",
              "var notebookContainer = gd.closest('#notebook-container');\n",
              "if (notebookContainer) {{\n",
              "    x.observe(notebookContainer, {childList: true});\n",
              "}}\n",
              "\n",
              "// Listen for the clearing of the current output cell\n",
              "var outputEl = gd.closest('.output');\n",
              "if (outputEl) {{\n",
              "    x.observe(outputEl, {childList: true});\n",
              "}}\n",
              "\n",
              "                        })\n",
              "                };\n",
              "                \n",
              "            </script>\n",
              "        </div>\n",
              "</body>\n",
              "</html>"
            ]
          },
          "metadata": {}
        },
        {
          "output_type": "stream",
          "name": "stdout",
          "text": [
            "Model: \"LSTM\"\n",
            "_________________________________________________________________\n",
            "Layer (type)                 Output Shape              Param #   \n",
            "=================================================================\n",
            "lstm (LSTM)                  (None, 60, 60)            25200     \n",
            "_________________________________________________________________\n",
            "lstm_1 (LSTM)                (None, 60, 256)           324608    \n",
            "_________________________________________________________________\n",
            "dropout (Dropout)            (None, 60, 256)           0         \n",
            "_________________________________________________________________\n",
            "lstm_2 (LSTM)                (None, 128)               197120    \n",
            "_________________________________________________________________\n",
            "dropout_1 (Dropout)          (None, 128)               0         \n",
            "_________________________________________________________________\n",
            "dense (Dense)                (None, 256)               33024     \n",
            "_________________________________________________________________\n",
            "dropout_2 (Dropout)          (None, 256)               0         \n",
            "_________________________________________________________________\n",
            "dense_1 (Dense)              (None, 128)               32896     \n",
            "_________________________________________________________________\n",
            "dropout_3 (Dropout)          (None, 128)               0         \n",
            "_________________________________________________________________\n",
            "dense_2 (Dense)              (None, 3)                 387       \n",
            "=================================================================\n",
            "Total params: 613,235\n",
            "Trainable params: 613,235\n",
            "Non-trainable params: 0\n",
            "_________________________________________________________________\n",
            "\n",
            "Training Time\n",
            "============================================================\n",
            "Minutes:0.39\n",
            "\n",
            "\n",
            "Model Error\n",
            "==============================================================\n",
            "Mean Absolute Error (MAE)------------------------------  0.08\n",
            "Root Mean Squared Error (MSE)--------------------------   0.1\n",
            "Mean Absolute Percentage Error (MAPE)------------------  0.87%\n",
            "Median Absolute Percentage Error (MDAPE)---------------  0.66%\n"
          ]
        },
        {
          "output_type": "display_data",
          "data": {
            "text/html": [
              "<html>\n",
              "<head><meta charset=\"utf-8\" /></head>\n",
              "<body>\n",
              "    <div>\n",
              "            <script src=\"https://cdnjs.cloudflare.com/ajax/libs/mathjax/2.7.5/MathJax.js?config=TeX-AMS-MML_SVG\"></script><script type=\"text/javascript\">if (window.MathJax) {MathJax.Hub.Config({SVG: {font: \"STIX-Web\"}});}</script>\n",
              "                <script type=\"text/javascript\">window.PlotlyConfig = {MathJaxConfig: 'local'};</script>\n",
              "        <script src=\"https://cdn.plot.ly/plotly-latest.min.js\"></script>    \n",
              "            <div id=\"fc673825-398a-4254-98bd-f1958b7a5167\" class=\"plotly-graph-div\" style=\"height:500px; width:500px;\"></div>\n",
              "            <script type=\"text/javascript\">\n",
              "                \n",
              "                    window.PLOTLYENV=window.PLOTLYENV || {};\n",
              "                    \n",
              "                if (document.getElementById(\"fc673825-398a-4254-98bd-f1958b7a5167\")) {\n",
              "                    Plotly.newPlot(\n",
              "                        'fc673825-398a-4254-98bd-f1958b7a5167',\n",
              "                        [{\"line\": {\"color\": \"orange\", \"width\": 3}, \"name\": \"train-loss\", \"type\": \"scatter\", \"x\": [1, 2, 3, 4, 5, 6, 7, 8, 9, 10, 11, 12, 13, 14, 15, 16, 17, 18, 19, 20, 21, 22, 23, 24, 25, 26, 27, 28, 29, 30, 31, 32, 33, 34, 35, 36, 37, 38, 39, 40, 41, 42, 43, 44, 45, 46, 47, 48, 49, 50, 51, 52, 53, 54, 55, 56, 57, 58, 59, 60, 61, 62, 63, 64, 65, 66, 67, 68, 69, 70, 71, 72, 73, 74, 75, 76, 77, 78, 79, 80, 81, 82, 83, 84, 85, 86, 87, 88, 89, 90, 91, 92, 93, 94, 95, 96, 97, 98, 99, 100, 101, 102, 103, 104, 105, 106, 107, 108, 109, 110, 111, 112, 113, 114, 115, 116, 117, 118, 119, 120, 121, 122, 123, 124, 125, 126, 127, 128, 129, 130, 131, 132, 133, 134, 135, 136, 137, 138, 139, 140, 141, 142, 143, 144, 145, 146, 147, 148, 149], \"y\": [0.15233615040779114, 0.04408792778849602, 0.017269622534513474, 0.010036117397248745, 0.009003530256450176, 0.006400815211236477, 0.005977069027721882, 0.0051931715570390224, 0.004628988914191723, 0.004037133418023586, 0.0039009724278002977, 0.0036390675231814384, 0.0036007906310260296, 0.003452233038842678, 0.003273359267041087, 0.0031402376480400562, 0.0030774404294788837, 0.003101700684055686, 0.0030027192551642656, 0.003043395234271884, 0.0029980663675814867, 0.0026216371916234493, 0.0027941414155066013, 0.002744178520515561, 0.00262730591930449, 0.002396496944129467, 0.002406697953119874, 0.0025043918285518885, 0.002316995058208704, 0.0023267746437340975, 0.002363078761845827, 0.002299943473190069, 0.002353376941755414, 0.002507471712306142, 0.0022354661487042904, 0.0023493252228945494, 0.0022244704887270927, 0.002255938248708844, 0.002414579037576914, 0.0021245547104626894, 0.0020282554905861616, 0.00196848320774734, 0.002059312304481864, 0.002030907664448023, 0.0022481530904769897, 0.001975087448954582, 0.0020172663498669863, 0.0019389971857890487, 0.002047746442258358, 0.001997870858758688, 0.0020268249791115522, 0.0019812663085758686, 0.002022791188210249, 0.0018684901297092438, 0.001738180872052908, 0.0020566703751683235, 0.001943503157235682, 0.001962525537237525, 0.0019107836997136474, 0.0019099651835858822, 0.0016228724271059036, 0.0019914747681468725, 0.0016894224099814892, 0.0020516531076282263, 0.0018577693263068795, 0.0018983851186931133, 0.001874752575531602, 0.0018620694754645228, 0.001769796246662736, 0.0018090972444042563, 0.0017773956060409546, 0.0017123171128332615, 0.0015606353990733624, 0.0015922975726425648, 0.0017149510094895959, 0.0016022310592234135, 0.0015732287429273129, 0.001771157025359571, 0.0016943480586633086, 0.0017101021949201822, 0.0017224698094651103, 0.0014310210244730115, 0.0016543559031561017, 0.0014955264050513506, 0.0015784607967361808, 0.0014307787641882896, 0.0016558447387069464, 0.0014762845821678638, 0.0014735531294718385, 0.0016390534583479166, 0.001573437824845314, 0.0016339258290827274, 0.0014749474357813597, 0.0015580456238240004, 0.0013743698364123702, 0.0014997395919635892, 0.0015225058887153864, 0.0014522772980853915, 0.001653610379435122, 0.001659085974097252, 0.001513355178758502, 0.001685904455371201, 0.001832656911574304, 0.0014742008643224835, 0.0015196936437860131, 0.0015127070946618915, 0.0013904910301789641, 0.0016037842724472284, 0.0013198066735640168, 0.001430427422747016, 0.001475465833209455, 0.0015177534660324454, 0.001352163264527917, 0.0013293923111632466, 0.0012703462271019816, 0.001438496052287519, 0.001294751768000424, 0.0013698901748284698, 0.0013552706222981215, 0.001275312271900475, 0.0013816271675750613, 0.0013158160727471113, 0.0013710508355870843, 0.0014183670282363892, 0.0013127733254805207, 0.0013445480726659298, 0.0012402713764458895, 0.001283846446312964, 0.0011364591773599386, 0.0012439551064744592, 0.0011836984194815159, 0.0012886702315881848, 0.001280297408811748, 0.0011843818938359618, 0.0011667301878333092, 0.001291409833356738, 0.0013699779519811273, 0.0013581534149125218, 0.0013477279571816325, 0.0013922767248004675, 0.0013857934391126037, 0.0012947501381859183, 0.0013316303957253695, 0.0013285365421324968, 0.0016240064287558198, 0.0014786948449909687, 0.0013580750674009323, 0.0015031964285299182, 0.0015834150835871696]}, {\"line\": {\"color\": \"#8D4004\", \"width\": 3}, \"name\": \"val-loss\", \"type\": \"scatter\", \"x\": [1, 2, 3, 4, 5, 6, 7, 8, 9, 10, 11, 12, 13, 14, 15, 16, 17, 18, 19, 20, 21, 22, 23, 24, 25, 26, 27, 28, 29, 30, 31, 32, 33, 34, 35, 36, 37, 38, 39, 40, 41, 42, 43, 44, 45, 46, 47, 48, 49, 50, 51, 52, 53, 54, 55, 56, 57, 58, 59, 60, 61, 62, 63, 64, 65, 66, 67, 68, 69, 70, 71, 72, 73, 74, 75, 76, 77, 78, 79, 80, 81, 82, 83, 84, 85, 86, 87, 88, 89, 90, 91, 92, 93, 94, 95, 96, 97, 98, 99, 100, 101, 102, 103, 104, 105, 106, 107, 108, 109, 110, 111, 112, 113, 114, 115, 116, 117, 118, 119, 120, 121, 122, 123, 124, 125, 126, 127, 128, 129, 130, 131, 132, 133, 134, 135, 136, 137, 138, 139, 140, 141, 142, 143, 144, 145, 146, 147, 148, 149], \"y\": [0.005308817140758038, 0.004356571938842535, 0.008029168471693993, 0.0027114381082355976, 0.001352961640805006, 0.0014229125808924437, 0.0012560993200168014, 0.0008662634063512087, 0.000900910294149071, 0.0009076439309865236, 0.0008315987070091069, 0.0012256813934072852, 0.0008304009097628295, 0.0011524619767442346, 0.0007711926591582596, 0.001036125235259533, 0.000707743689417839, 0.0007567827706225216, 0.0007361232419498265, 0.0007373389671556652, 0.0007191448239609599, 0.0007313761161640286, 0.0010885260999202728, 0.0006235408363863826, 0.0008877634536474943, 0.0009264915715903044, 0.0006955186254344881, 0.0015438297996297479, 0.0007616964285261929, 0.0006873730453662574, 0.00058227707631886, 0.0005039529060013592, 0.0005542260478250682, 0.0007269302732311189, 0.0007622053963132203, 0.0004917182377539575, 0.0005274739232845604, 0.000568502873647958, 0.0006238400237634778, 0.00047087547136470675, 0.000496132590342313, 0.0005233456613495946, 0.000933347677346319, 0.0004451385175343603, 0.0004884358495473862, 0.0005137415719218552, 0.0010729400673881173, 0.00047651425120420754, 0.0005536582903005183, 0.0004627704620361328, 0.00043954039574600756, 0.00042721102363429964, 0.0005829959409311414, 0.0004357011348474771, 0.0005191946984268725, 0.0005184744368307292, 0.0007204700377769768, 0.0004969820729456842, 0.00131850759498775, 0.00063151033828035, 0.0006432607769966125, 0.0005160830332897604, 0.0004495441389735788, 0.0004882860812358558, 0.0005826936103403568, 0.00048021224210970104, 0.0005275013973005116, 0.0004698844568338245, 0.00045506085734814405, 0.0005624134209938347, 0.0004708789347205311, 0.0004275381506886333, 0.0005398164503276348, 0.0009772233897820115, 0.0007275965763255954, 0.0008436969947069883, 0.0004564901173580438, 0.0005428935983218253, 0.00046140403719618917, 0.00045791565207764506, 0.00042808044236153364, 0.00043924004421569407, 0.0006191155407577753, 0.0006850969512015581, 0.0004662534629460424, 0.000449125625891611, 0.0008845279808156192, 0.0008057570084929466, 0.00048634858103469014, 0.0011875903001055121, 0.0010925312526524067, 0.00043000164441764355, 0.0005989722558297217, 0.0005403875838965178, 0.0004590146418195218, 0.001005718600936234, 0.0007850579568184912, 0.00043156088213436306, 0.0005571574438363314, 0.0007329047075472772, 0.0007571682799607515, 0.0006751169566996396, 0.0006322478293441236, 0.0006142777274362743, 0.0005228450172580779, 0.0004360924649517983, 0.00046608230331912637, 0.000763563031796366, 0.00046787410974502563, 0.0005081621930003166, 0.0007636892842128873, 0.00047541764797642827, 0.0005217544385232031, 0.0004368086520116776, 0.0005914185312576592, 0.0005268006934784353, 0.0005653240368701518, 0.0005025608115829527, 0.00046926949289627373, 0.0005662158946506679, 0.00045518155093304813, 0.0007725215400569141, 0.0006098360754549503, 0.0004798823792953044, 0.0004247559991199523, 0.000495468033477664, 0.0004769395454786718, 0.00048221886390820146, 0.0004892632132396102, 0.0005062047857791185, 0.0005713961436413229, 0.0005708076641894877, 0.000564979447517544, 0.0004590143507812172, 0.0006339144892990589, 0.0009060793090611696, 0.0005446981522254646, 0.0008428678847849369, 0.0006148585816845298, 0.0014497803058475256, 0.000579571642447263, 0.000601018953602761, 0.0006920128362253308, 0.0005359654896892607, 0.0007587231229990721, 0.0004897787584923208, 0.0008468759479001164, 0.0006499862065538764, 0.0005456400103867054]}],\n",
              "                        {\"height\": 500, \"template\": {\"data\": {\"bar\": [{\"error_x\": {\"color\": \"#2a3f5f\"}, \"error_y\": {\"color\": \"#2a3f5f\"}, \"marker\": {\"line\": {\"color\": \"white\", \"width\": 0.5}}, \"type\": \"bar\"}], \"barpolar\": [{\"marker\": {\"line\": {\"color\": \"white\", \"width\": 0.5}}, \"type\": \"barpolar\"}], \"carpet\": [{\"aaxis\": {\"endlinecolor\": \"#2a3f5f\", \"gridcolor\": \"#C8D4E3\", \"linecolor\": \"#C8D4E3\", \"minorgridcolor\": \"#C8D4E3\", \"startlinecolor\": \"#2a3f5f\"}, \"baxis\": {\"endlinecolor\": \"#2a3f5f\", \"gridcolor\": \"#C8D4E3\", \"linecolor\": \"#C8D4E3\", \"minorgridcolor\": \"#C8D4E3\", \"startlinecolor\": \"#2a3f5f\"}, \"type\": \"carpet\"}], \"choropleth\": [{\"colorbar\": {\"outlinewidth\": 0, \"ticks\": \"\"}, \"type\": \"choropleth\"}], \"contour\": [{\"colorbar\": {\"outlinewidth\": 0, \"ticks\": \"\"}, \"colorscale\": [[0.0, \"#0d0887\"], [0.1111111111111111, \"#46039f\"], [0.2222222222222222, \"#7201a8\"], [0.3333333333333333, \"#9c179e\"], [0.4444444444444444, \"#bd3786\"], [0.5555555555555556, \"#d8576b\"], [0.6666666666666666, \"#ed7953\"], [0.7777777777777778, \"#fb9f3a\"], [0.8888888888888888, \"#fdca26\"], [1.0, \"#f0f921\"]], \"type\": \"contour\"}], \"contourcarpet\": [{\"colorbar\": {\"outlinewidth\": 0, \"ticks\": \"\"}, \"type\": \"contourcarpet\"}], \"heatmap\": [{\"colorbar\": {\"outlinewidth\": 0, \"ticks\": \"\"}, \"colorscale\": [[0.0, \"#0d0887\"], [0.1111111111111111, \"#46039f\"], [0.2222222222222222, \"#7201a8\"], [0.3333333333333333, \"#9c179e\"], [0.4444444444444444, \"#bd3786\"], [0.5555555555555556, \"#d8576b\"], [0.6666666666666666, \"#ed7953\"], [0.7777777777777778, \"#fb9f3a\"], [0.8888888888888888, \"#fdca26\"], [1.0, \"#f0f921\"]], \"type\": \"heatmap\"}], \"heatmapgl\": [{\"colorbar\": {\"outlinewidth\": 0, \"ticks\": \"\"}, \"colorscale\": [[0.0, \"#0d0887\"], [0.1111111111111111, \"#46039f\"], [0.2222222222222222, \"#7201a8\"], [0.3333333333333333, \"#9c179e\"], [0.4444444444444444, \"#bd3786\"], [0.5555555555555556, \"#d8576b\"], [0.6666666666666666, \"#ed7953\"], [0.7777777777777778, \"#fb9f3a\"], [0.8888888888888888, \"#fdca26\"], [1.0, \"#f0f921\"]], \"type\": \"heatmapgl\"}], \"histogram\": [{\"marker\": {\"colorbar\": {\"outlinewidth\": 0, \"ticks\": \"\"}}, \"type\": \"histogram\"}], \"histogram2d\": [{\"colorbar\": {\"outlinewidth\": 0, \"ticks\": \"\"}, \"colorscale\": [[0.0, \"#0d0887\"], [0.1111111111111111, \"#46039f\"], [0.2222222222222222, \"#7201a8\"], [0.3333333333333333, \"#9c179e\"], [0.4444444444444444, \"#bd3786\"], [0.5555555555555556, \"#d8576b\"], [0.6666666666666666, \"#ed7953\"], [0.7777777777777778, \"#fb9f3a\"], [0.8888888888888888, \"#fdca26\"], [1.0, \"#f0f921\"]], \"type\": \"histogram2d\"}], \"histogram2dcontour\": [{\"colorbar\": {\"outlinewidth\": 0, \"ticks\": \"\"}, \"colorscale\": [[0.0, \"#0d0887\"], [0.1111111111111111, \"#46039f\"], [0.2222222222222222, \"#7201a8\"], [0.3333333333333333, \"#9c179e\"], [0.4444444444444444, \"#bd3786\"], [0.5555555555555556, \"#d8576b\"], [0.6666666666666666, \"#ed7953\"], [0.7777777777777778, \"#fb9f3a\"], [0.8888888888888888, \"#fdca26\"], [1.0, \"#f0f921\"]], \"type\": \"histogram2dcontour\"}], \"mesh3d\": [{\"colorbar\": {\"outlinewidth\": 0, \"ticks\": \"\"}, \"type\": \"mesh3d\"}], \"parcoords\": [{\"line\": {\"colorbar\": {\"outlinewidth\": 0, \"ticks\": \"\"}}, \"type\": \"parcoords\"}], \"pie\": [{\"automargin\": true, \"type\": \"pie\"}], \"scatter\": [{\"marker\": {\"colorbar\": {\"outlinewidth\": 0, \"ticks\": \"\"}}, \"type\": \"scatter\"}], \"scatter3d\": [{\"line\": {\"colorbar\": {\"outlinewidth\": 0, \"ticks\": \"\"}}, \"marker\": {\"colorbar\": {\"outlinewidth\": 0, \"ticks\": \"\"}}, \"type\": \"scatter3d\"}], \"scattercarpet\": [{\"marker\": {\"colorbar\": {\"outlinewidth\": 0, \"ticks\": \"\"}}, \"type\": \"scattercarpet\"}], \"scattergeo\": [{\"marker\": {\"colorbar\": {\"outlinewidth\": 0, \"ticks\": \"\"}}, \"type\": \"scattergeo\"}], \"scattergl\": [{\"marker\": {\"colorbar\": {\"outlinewidth\": 0, \"ticks\": \"\"}}, \"type\": \"scattergl\"}], \"scattermapbox\": [{\"marker\": {\"colorbar\": {\"outlinewidth\": 0, \"ticks\": \"\"}}, \"type\": \"scattermapbox\"}], \"scatterpolar\": [{\"marker\": {\"colorbar\": {\"outlinewidth\": 0, \"ticks\": \"\"}}, \"type\": \"scatterpolar\"}], \"scatterpolargl\": [{\"marker\": {\"colorbar\": {\"outlinewidth\": 0, \"ticks\": \"\"}}, \"type\": \"scatterpolargl\"}], \"scatterternary\": [{\"marker\": {\"colorbar\": {\"outlinewidth\": 0, \"ticks\": \"\"}}, \"type\": \"scatterternary\"}], \"surface\": [{\"colorbar\": {\"outlinewidth\": 0, \"ticks\": \"\"}, \"colorscale\": [[0.0, \"#0d0887\"], [0.1111111111111111, \"#46039f\"], [0.2222222222222222, \"#7201a8\"], [0.3333333333333333, \"#9c179e\"], [0.4444444444444444, \"#bd3786\"], [0.5555555555555556, \"#d8576b\"], [0.6666666666666666, \"#ed7953\"], [0.7777777777777778, \"#fb9f3a\"], [0.8888888888888888, \"#fdca26\"], [1.0, \"#f0f921\"]], \"type\": \"surface\"}], \"table\": [{\"cells\": {\"fill\": {\"color\": \"#EBF0F8\"}, \"line\": {\"color\": \"white\"}}, \"header\": {\"fill\": {\"color\": \"#C8D4E3\"}, \"line\": {\"color\": \"white\"}}, \"type\": \"table\"}]}, \"layout\": {\"annotationdefaults\": {\"arrowcolor\": \"#2a3f5f\", \"arrowhead\": 0, \"arrowwidth\": 1}, \"coloraxis\": {\"colorbar\": {\"outlinewidth\": 0, \"ticks\": \"\"}}, \"colorscale\": {\"diverging\": [[0, \"#8e0152\"], [0.1, \"#c51b7d\"], [0.2, \"#de77ae\"], [0.3, \"#f1b6da\"], [0.4, \"#fde0ef\"], [0.5, \"#f7f7f7\"], [0.6, \"#e6f5d0\"], [0.7, \"#b8e186\"], [0.8, \"#7fbc41\"], [0.9, \"#4d9221\"], [1, \"#276419\"]], \"sequential\": [[0.0, \"#0d0887\"], [0.1111111111111111, \"#46039f\"], [0.2222222222222222, \"#7201a8\"], [0.3333333333333333, \"#9c179e\"], [0.4444444444444444, \"#bd3786\"], [0.5555555555555556, \"#d8576b\"], [0.6666666666666666, \"#ed7953\"], [0.7777777777777778, \"#fb9f3a\"], [0.8888888888888888, \"#fdca26\"], [1.0, \"#f0f921\"]], \"sequentialminus\": [[0.0, \"#0d0887\"], [0.1111111111111111, \"#46039f\"], [0.2222222222222222, \"#7201a8\"], [0.3333333333333333, \"#9c179e\"], [0.4444444444444444, \"#bd3786\"], [0.5555555555555556, \"#d8576b\"], [0.6666666666666666, \"#ed7953\"], [0.7777777777777778, \"#fb9f3a\"], [0.8888888888888888, \"#fdca26\"], [1.0, \"#f0f921\"]]}, \"colorway\": [\"#636efa\", \"#EF553B\", \"#00cc96\", \"#ab63fa\", \"#FFA15A\", \"#19d3f3\", \"#FF6692\", \"#B6E880\", \"#FF97FF\", \"#FECB52\"], \"font\": {\"color\": \"#2a3f5f\"}, \"geo\": {\"bgcolor\": \"white\", \"lakecolor\": \"white\", \"landcolor\": \"white\", \"showlakes\": true, \"showland\": true, \"subunitcolor\": \"#C8D4E3\"}, \"hoverlabel\": {\"align\": \"left\"}, \"hovermode\": \"closest\", \"mapbox\": {\"style\": \"light\"}, \"paper_bgcolor\": \"white\", \"plot_bgcolor\": \"white\", \"polar\": {\"angularaxis\": {\"gridcolor\": \"#EBF0F8\", \"linecolor\": \"#EBF0F8\", \"ticks\": \"\"}, \"bgcolor\": \"white\", \"radialaxis\": {\"gridcolor\": \"#EBF0F8\", \"linecolor\": \"#EBF0F8\", \"ticks\": \"\"}}, \"scene\": {\"xaxis\": {\"backgroundcolor\": \"white\", \"gridcolor\": \"#DFE8F3\", \"gridwidth\": 2, \"linecolor\": \"#EBF0F8\", \"showbackground\": true, \"ticks\": \"\", \"zerolinecolor\": \"#EBF0F8\"}, \"yaxis\": {\"backgroundcolor\": \"white\", \"gridcolor\": \"#DFE8F3\", \"gridwidth\": 2, \"linecolor\": \"#EBF0F8\", \"showbackground\": true, \"ticks\": \"\", \"zerolinecolor\": \"#EBF0F8\"}, \"zaxis\": {\"backgroundcolor\": \"white\", \"gridcolor\": \"#DFE8F3\", \"gridwidth\": 2, \"linecolor\": \"#EBF0F8\", \"showbackground\": true, \"ticks\": \"\", \"zerolinecolor\": \"#EBF0F8\"}}, \"shapedefaults\": {\"line\": {\"color\": \"#2a3f5f\"}}, \"ternary\": {\"aaxis\": {\"gridcolor\": \"#DFE8F3\", \"linecolor\": \"#A2B1C6\", \"ticks\": \"\"}, \"baxis\": {\"gridcolor\": \"#DFE8F3\", \"linecolor\": \"#A2B1C6\", \"ticks\": \"\"}, \"bgcolor\": \"white\", \"caxis\": {\"gridcolor\": \"#DFE8F3\", \"linecolor\": \"#A2B1C6\", \"ticks\": \"\"}}, \"title\": {\"x\": 0.05}, \"xaxis\": {\"automargin\": true, \"gridcolor\": \"#EBF0F8\", \"linecolor\": \"#EBF0F8\", \"ticks\": \"\", \"title\": {\"standoff\": 15}, \"zerolinecolor\": \"#EBF0F8\", \"zerolinewidth\": 2}, \"yaxis\": {\"automargin\": true, \"gridcolor\": \"#EBF0F8\", \"linecolor\": \"#EBF0F8\", \"ticks\": \"\", \"title\": {\"standoff\": 15}, \"zerolinecolor\": \"#EBF0F8\", \"zerolinewidth\": 2}}}, \"title\": {\"text\": \"Training Metrics\"}, \"width\": 500, \"xaxis\": {\"title\": {\"text\": \"epochs\"}}, \"yaxis\": {\"title\": {\"text\": \"loss\"}}},\n",
              "                        {\"responsive\": true}\n",
              "                    ).then(function(){\n",
              "                            \n",
              "var gd = document.getElementById('fc673825-398a-4254-98bd-f1958b7a5167');\n",
              "var x = new MutationObserver(function (mutations, observer) {{\n",
              "        var display = window.getComputedStyle(gd).display;\n",
              "        if (!display || display === 'none') {{\n",
              "            console.log([gd, 'removed!']);\n",
              "            Plotly.purge(gd);\n",
              "            observer.disconnect();\n",
              "        }}\n",
              "}});\n",
              "\n",
              "// Listen for the removal of the full notebook cells\n",
              "var notebookContainer = gd.closest('#notebook-container');\n",
              "if (notebookContainer) {{\n",
              "    x.observe(notebookContainer, {childList: true});\n",
              "}}\n",
              "\n",
              "// Listen for the clearing of the current output cell\n",
              "var outputEl = gd.closest('.output');\n",
              "if (outputEl) {{\n",
              "    x.observe(outputEl, {childList: true});\n",
              "}}\n",
              "\n",
              "                        })\n",
              "                };\n",
              "                \n",
              "            </script>\n",
              "        </div>\n",
              "</body>\n",
              "</html>"
            ]
          },
          "metadata": {}
        },
        {
          "output_type": "display_data",
          "data": {
            "text/html": [
              "<html>\n",
              "<head><meta charset=\"utf-8\" /></head>\n",
              "<body>\n",
              "    <div>\n",
              "            <script src=\"https://cdnjs.cloudflare.com/ajax/libs/mathjax/2.7.5/MathJax.js?config=TeX-AMS-MML_SVG\"></script><script type=\"text/javascript\">if (window.MathJax) {MathJax.Hub.Config({SVG: {font: \"STIX-Web\"}});}</script>\n",
              "                <script type=\"text/javascript\">window.PlotlyConfig = {MathJaxConfig: 'local'};</script>\n",
              "        <script src=\"https://cdn.plot.ly/plotly-latest.min.js\"></script>    \n",
              "            <div id=\"ca3a2d77-cb71-42ec-84a7-9e646e277188\" class=\"plotly-graph-div\" style=\"height:500px; width:500px;\"></div>\n",
              "            <script type=\"text/javascript\">\n",
              "                \n",
              "                    window.PLOTLYENV=window.PLOTLYENV || {};\n",
              "                    \n",
              "                if (document.getElementById(\"ca3a2d77-cb71-42ec-84a7-9e646e277188\")) {\n",
              "                    Plotly.newPlot(\n",
              "                        'ca3a2d77-cb71-42ec-84a7-9e646e277188',\n",
              "                        [{\"fill\": \"tozeroy\", \"line\": {\"color\": \"#ccc\"}, \"mode\": \"lines\", \"name\": \"Test Data\", \"type\": \"scatter\", \"x\": [194, 195, 196, 197, 198, 199, 200, 201, 202, 203, 204, 205, 206, 207, 208, 209, 210, 211, 212, 213, 214, 215, 216, 217, 218, 219, 220, 221, 222, 223, 224, 225, 226, 227, 228, 229, 230, 231, 232, 233, 234, 235, 236, 237, 238, 239, 240, 241, 242, 243, 244, 245, 246, 247, 248, 249, 250, 251, 252, 253], \"y\": [9.02385239359426, 9.006786189926157, 8.978887392790833, 8.996565052087297, 9.028384348366833, 8.987196820661973, 8.969683168911736, 8.979541342119836, 8.848315428004907, 8.831990823838982, 8.820817508288771, 8.858376323094912, 8.836522203744025, 8.795733605950735, 8.823206220552741, 8.827141031647356, 8.910585718290132, 8.859931469616097, 8.824679361751352, 8.843730332018332, 8.836374025058198, 8.871648473727763, 8.980298636117293, 8.964915753421138, 9.005773206234908, 9.04426217458337, 9.051696278536586, 9.092522585709254, 9.074523030693355, 9.094435683313913, 9.090430075303626, 9.060371768398038, 9.009104013022379, 8.972535745400856, 9.021599455108044, 9.016873613331937, 9.016755622903517, 9.120087382998621, 9.122145113604912, 9.161150127785412, 9.084551026076431, 9.131718071712912, 9.140034171589182, 9.20029003612268, 9.280034330977173, 9.349637036693434, 9.354683110821878, 9.349145334853365, 9.313465390771821, 9.2938935262005, 9.245223808112174, 9.272043940931523, 9.237022224228951, 9.162348988696335, 9.181271949478836, 9.22768802753783, 9.195226734166134, 9.259130536145614, 9.331317546298607, 9.320808243341967]}, {\"fill\": \"tozeroy\", \"line\": {\"color\": \"#ccc\"}, \"mode\": \"lines+markers\", \"name\": \"Actual Price\", \"type\": \"scatter\", \"x\": [254, 255, 256], \"y\": [9.02385239359426, 9.006786189926157, 8.978887392790833]}, {\"line\": {\"color\": \"orange\"}, \"mode\": \"lines+markers\", \"name\": \"Predicted Price\", \"type\": \"scatter\", \"x\": [254, 255, 256], \"y\": [9.351851463317871, 9.34156322479248, 9.35227108001709]}],\n",
              "                        {\"height\": 500, \"template\": {\"data\": {\"bar\": [{\"error_x\": {\"color\": \"#2a3f5f\"}, \"error_y\": {\"color\": \"#2a3f5f\"}, \"marker\": {\"line\": {\"color\": \"white\", \"width\": 0.5}}, \"type\": \"bar\"}], \"barpolar\": [{\"marker\": {\"line\": {\"color\": \"white\", \"width\": 0.5}}, \"type\": \"barpolar\"}], \"carpet\": [{\"aaxis\": {\"endlinecolor\": \"#2a3f5f\", \"gridcolor\": \"#C8D4E3\", \"linecolor\": \"#C8D4E3\", \"minorgridcolor\": \"#C8D4E3\", \"startlinecolor\": \"#2a3f5f\"}, \"baxis\": {\"endlinecolor\": \"#2a3f5f\", \"gridcolor\": \"#C8D4E3\", \"linecolor\": \"#C8D4E3\", \"minorgridcolor\": \"#C8D4E3\", \"startlinecolor\": \"#2a3f5f\"}, \"type\": \"carpet\"}], \"choropleth\": [{\"colorbar\": {\"outlinewidth\": 0, \"ticks\": \"\"}, \"type\": \"choropleth\"}], \"contour\": [{\"colorbar\": {\"outlinewidth\": 0, \"ticks\": \"\"}, \"colorscale\": [[0.0, \"#0d0887\"], [0.1111111111111111, \"#46039f\"], [0.2222222222222222, \"#7201a8\"], [0.3333333333333333, \"#9c179e\"], [0.4444444444444444, \"#bd3786\"], [0.5555555555555556, \"#d8576b\"], [0.6666666666666666, \"#ed7953\"], [0.7777777777777778, \"#fb9f3a\"], [0.8888888888888888, \"#fdca26\"], [1.0, \"#f0f921\"]], \"type\": \"contour\"}], \"contourcarpet\": [{\"colorbar\": {\"outlinewidth\": 0, \"ticks\": \"\"}, \"type\": \"contourcarpet\"}], \"heatmap\": [{\"colorbar\": {\"outlinewidth\": 0, \"ticks\": \"\"}, \"colorscale\": [[0.0, \"#0d0887\"], [0.1111111111111111, \"#46039f\"], [0.2222222222222222, \"#7201a8\"], [0.3333333333333333, \"#9c179e\"], [0.4444444444444444, \"#bd3786\"], [0.5555555555555556, \"#d8576b\"], [0.6666666666666666, \"#ed7953\"], [0.7777777777777778, \"#fb9f3a\"], [0.8888888888888888, \"#fdca26\"], [1.0, \"#f0f921\"]], \"type\": \"heatmap\"}], \"heatmapgl\": [{\"colorbar\": {\"outlinewidth\": 0, \"ticks\": \"\"}, \"colorscale\": [[0.0, \"#0d0887\"], [0.1111111111111111, \"#46039f\"], [0.2222222222222222, \"#7201a8\"], [0.3333333333333333, \"#9c179e\"], [0.4444444444444444, \"#bd3786\"], [0.5555555555555556, \"#d8576b\"], [0.6666666666666666, \"#ed7953\"], [0.7777777777777778, \"#fb9f3a\"], [0.8888888888888888, \"#fdca26\"], [1.0, \"#f0f921\"]], \"type\": \"heatmapgl\"}], \"histogram\": [{\"marker\": {\"colorbar\": {\"outlinewidth\": 0, \"ticks\": \"\"}}, \"type\": \"histogram\"}], \"histogram2d\": [{\"colorbar\": {\"outlinewidth\": 0, \"ticks\": \"\"}, \"colorscale\": [[0.0, \"#0d0887\"], [0.1111111111111111, \"#46039f\"], [0.2222222222222222, \"#7201a8\"], [0.3333333333333333, \"#9c179e\"], [0.4444444444444444, \"#bd3786\"], [0.5555555555555556, \"#d8576b\"], [0.6666666666666666, \"#ed7953\"], [0.7777777777777778, \"#fb9f3a\"], [0.8888888888888888, \"#fdca26\"], [1.0, \"#f0f921\"]], \"type\": \"histogram2d\"}], \"histogram2dcontour\": [{\"colorbar\": {\"outlinewidth\": 0, \"ticks\": \"\"}, \"colorscale\": [[0.0, \"#0d0887\"], [0.1111111111111111, \"#46039f\"], [0.2222222222222222, \"#7201a8\"], [0.3333333333333333, \"#9c179e\"], [0.4444444444444444, \"#bd3786\"], [0.5555555555555556, \"#d8576b\"], [0.6666666666666666, \"#ed7953\"], [0.7777777777777778, \"#fb9f3a\"], [0.8888888888888888, \"#fdca26\"], [1.0, \"#f0f921\"]], \"type\": \"histogram2dcontour\"}], \"mesh3d\": [{\"colorbar\": {\"outlinewidth\": 0, \"ticks\": \"\"}, \"type\": \"mesh3d\"}], \"parcoords\": [{\"line\": {\"colorbar\": {\"outlinewidth\": 0, \"ticks\": \"\"}}, \"type\": \"parcoords\"}], \"pie\": [{\"automargin\": true, \"type\": \"pie\"}], \"scatter\": [{\"marker\": {\"colorbar\": {\"outlinewidth\": 0, \"ticks\": \"\"}}, \"type\": \"scatter\"}], \"scatter3d\": [{\"line\": {\"colorbar\": {\"outlinewidth\": 0, \"ticks\": \"\"}}, \"marker\": {\"colorbar\": {\"outlinewidth\": 0, \"ticks\": \"\"}}, \"type\": \"scatter3d\"}], \"scattercarpet\": [{\"marker\": {\"colorbar\": {\"outlinewidth\": 0, \"ticks\": \"\"}}, \"type\": \"scattercarpet\"}], \"scattergeo\": [{\"marker\": {\"colorbar\": {\"outlinewidth\": 0, \"ticks\": \"\"}}, \"type\": \"scattergeo\"}], \"scattergl\": [{\"marker\": {\"colorbar\": {\"outlinewidth\": 0, \"ticks\": \"\"}}, \"type\": \"scattergl\"}], \"scattermapbox\": [{\"marker\": {\"colorbar\": {\"outlinewidth\": 0, \"ticks\": \"\"}}, \"type\": \"scattermapbox\"}], \"scatterpolar\": [{\"marker\": {\"colorbar\": {\"outlinewidth\": 0, \"ticks\": \"\"}}, \"type\": \"scatterpolar\"}], \"scatterpolargl\": [{\"marker\": {\"colorbar\": {\"outlinewidth\": 0, \"ticks\": \"\"}}, \"type\": \"scatterpolargl\"}], \"scatterternary\": [{\"marker\": {\"colorbar\": {\"outlinewidth\": 0, \"ticks\": \"\"}}, \"type\": \"scatterternary\"}], \"surface\": [{\"colorbar\": {\"outlinewidth\": 0, \"ticks\": \"\"}, \"colorscale\": [[0.0, \"#0d0887\"], [0.1111111111111111, \"#46039f\"], [0.2222222222222222, \"#7201a8\"], [0.3333333333333333, \"#9c179e\"], [0.4444444444444444, \"#bd3786\"], [0.5555555555555556, \"#d8576b\"], [0.6666666666666666, \"#ed7953\"], [0.7777777777777778, \"#fb9f3a\"], [0.8888888888888888, \"#fdca26\"], [1.0, \"#f0f921\"]], \"type\": \"surface\"}], \"table\": [{\"cells\": {\"fill\": {\"color\": \"#EBF0F8\"}, \"line\": {\"color\": \"white\"}}, \"header\": {\"fill\": {\"color\": \"#C8D4E3\"}, \"line\": {\"color\": \"white\"}}, \"type\": \"table\"}]}, \"layout\": {\"annotationdefaults\": {\"arrowcolor\": \"#2a3f5f\", \"arrowhead\": 0, \"arrowwidth\": 1}, \"coloraxis\": {\"colorbar\": {\"outlinewidth\": 0, \"ticks\": \"\"}}, \"colorscale\": {\"diverging\": [[0, \"#8e0152\"], [0.1, \"#c51b7d\"], [0.2, \"#de77ae\"], [0.3, \"#f1b6da\"], [0.4, \"#fde0ef\"], [0.5, \"#f7f7f7\"], [0.6, \"#e6f5d0\"], [0.7, \"#b8e186\"], [0.8, \"#7fbc41\"], [0.9, \"#4d9221\"], [1, \"#276419\"]], \"sequential\": [[0.0, \"#0d0887\"], [0.1111111111111111, \"#46039f\"], [0.2222222222222222, \"#7201a8\"], [0.3333333333333333, \"#9c179e\"], [0.4444444444444444, \"#bd3786\"], [0.5555555555555556, \"#d8576b\"], [0.6666666666666666, \"#ed7953\"], [0.7777777777777778, \"#fb9f3a\"], [0.8888888888888888, \"#fdca26\"], [1.0, \"#f0f921\"]], \"sequentialminus\": [[0.0, \"#0d0887\"], [0.1111111111111111, \"#46039f\"], [0.2222222222222222, \"#7201a8\"], [0.3333333333333333, \"#9c179e\"], [0.4444444444444444, \"#bd3786\"], [0.5555555555555556, \"#d8576b\"], [0.6666666666666666, \"#ed7953\"], [0.7777777777777778, \"#fb9f3a\"], [0.8888888888888888, \"#fdca26\"], [1.0, \"#f0f921\"]]}, \"colorway\": [\"#636efa\", \"#EF553B\", \"#00cc96\", \"#ab63fa\", \"#FFA15A\", \"#19d3f3\", \"#FF6692\", \"#B6E880\", \"#FF97FF\", \"#FECB52\"], \"font\": {\"color\": \"#2a3f5f\"}, \"geo\": {\"bgcolor\": \"white\", \"lakecolor\": \"white\", \"landcolor\": \"white\", \"showlakes\": true, \"showland\": true, \"subunitcolor\": \"#C8D4E3\"}, \"hoverlabel\": {\"align\": \"left\"}, \"hovermode\": \"closest\", \"mapbox\": {\"style\": \"light\"}, \"paper_bgcolor\": \"white\", \"plot_bgcolor\": \"white\", \"polar\": {\"angularaxis\": {\"gridcolor\": \"#EBF0F8\", \"linecolor\": \"#EBF0F8\", \"ticks\": \"\"}, \"bgcolor\": \"white\", \"radialaxis\": {\"gridcolor\": \"#EBF0F8\", \"linecolor\": \"#EBF0F8\", \"ticks\": \"\"}}, \"scene\": {\"xaxis\": {\"backgroundcolor\": \"white\", \"gridcolor\": \"#DFE8F3\", \"gridwidth\": 2, \"linecolor\": \"#EBF0F8\", \"showbackground\": true, \"ticks\": \"\", \"zerolinecolor\": \"#EBF0F8\"}, \"yaxis\": {\"backgroundcolor\": \"white\", \"gridcolor\": \"#DFE8F3\", \"gridwidth\": 2, \"linecolor\": \"#EBF0F8\", \"showbackground\": true, \"ticks\": \"\", \"zerolinecolor\": \"#EBF0F8\"}, \"zaxis\": {\"backgroundcolor\": \"white\", \"gridcolor\": \"#DFE8F3\", \"gridwidth\": 2, \"linecolor\": \"#EBF0F8\", \"showbackground\": true, \"ticks\": \"\", \"zerolinecolor\": \"#EBF0F8\"}}, \"shapedefaults\": {\"line\": {\"color\": \"#2a3f5f\"}}, \"ternary\": {\"aaxis\": {\"gridcolor\": \"#DFE8F3\", \"linecolor\": \"#A2B1C6\", \"ticks\": \"\"}, \"baxis\": {\"gridcolor\": \"#DFE8F3\", \"linecolor\": \"#A2B1C6\", \"ticks\": \"\"}, \"bgcolor\": \"white\", \"caxis\": {\"gridcolor\": \"#DFE8F3\", \"linecolor\": \"#A2B1C6\", \"ticks\": \"\"}}, \"title\": {\"x\": 0.05}, \"xaxis\": {\"automargin\": true, \"gridcolor\": \"#EBF0F8\", \"linecolor\": \"#EBF0F8\", \"ticks\": \"\", \"title\": {\"standoff\": 15}, \"zerolinecolor\": \"#EBF0F8\", \"zerolinewidth\": 2}, \"yaxis\": {\"automargin\": true, \"gridcolor\": \"#EBF0F8\", \"linecolor\": \"#EBF0F8\", \"ticks\": \"\", \"title\": {\"standoff\": 15}, \"zerolinecolor\": \"#EBF0F8\", \"zerolinewidth\": 2}}}, \"title\": {\"text\": \"Actual vs Predicted Price\"}, \"width\": 500, \"xaxis\": {\"title\": {\"text\": \"Batch\"}}, \"yaxis\": {\"title\": {\"text\": \"Price\"}}},\n",
              "                        {\"responsive\": true}\n",
              "                    ).then(function(){\n",
              "                            \n",
              "var gd = document.getElementById('ca3a2d77-cb71-42ec-84a7-9e646e277188');\n",
              "var x = new MutationObserver(function (mutations, observer) {{\n",
              "        var display = window.getComputedStyle(gd).display;\n",
              "        if (!display || display === 'none') {{\n",
              "            console.log([gd, 'removed!']);\n",
              "            Plotly.purge(gd);\n",
              "            observer.disconnect();\n",
              "        }}\n",
              "}});\n",
              "\n",
              "// Listen for the removal of the full notebook cells\n",
              "var notebookContainer = gd.closest('#notebook-container');\n",
              "if (notebookContainer) {{\n",
              "    x.observe(notebookContainer, {childList: true});\n",
              "}}\n",
              "\n",
              "// Listen for the clearing of the current output cell\n",
              "var outputEl = gd.closest('.output');\n",
              "if (outputEl) {{\n",
              "    x.observe(outputEl, {childList: true});\n",
              "}}\n",
              "\n",
              "                        })\n",
              "                };\n",
              "                \n",
              "            </script>\n",
              "        </div>\n",
              "</body>\n",
              "</html>"
            ]
          },
          "metadata": {}
        },
        {
          "output_type": "stream",
          "name": "stderr",
          "text": [
            "WARNING:absl:Found untraced functions such as lstm_cell_layer_call_and_return_conditional_losses, lstm_cell_layer_call_fn, lstm_cell_1_layer_call_and_return_conditional_losses, lstm_cell_1_layer_call_fn, lstm_cell_2_layer_call_and_return_conditional_losses while saving (showing 5 of 15). These functions will not be directly callable after loading.\n"
          ]
        },
        {
          "output_type": "stream",
          "name": "stdout",
          "text": [
            "INFO:tensorflow:Assets written to: /content/drive/MyDrive/Colab Notebooks/capstone2/data/BTC_model_optimal/assets\n"
          ]
        },
        {
          "output_type": "stream",
          "name": "stderr",
          "text": [
            "INFO:tensorflow:Assets written to: /content/drive/MyDrive/Colab Notebooks/capstone2/data/BTC_model_optimal/assets\n"
          ]
        }
      ]
    }
  ]
}